{
 "cells": [
  {
   "cell_type": "markdown",
   "metadata": {},
   "source": [
    "# Test site effects of the subtypes\n",
    "Take ABIDE and test for site effects"
   ]
  },
  {
   "cell_type": "code",
   "execution_count": 1,
   "metadata": {
    "collapsed": true
   },
   "outputs": [],
   "source": [
    "# Imports\n",
    "import os\n",
    "import glob\n",
    "import scipy\n",
    "import numpy as np\n",
    "import pandas as pd\n",
    "import nibabel as nib\n",
    "import statsmodels.api as sm\n",
    "from scipy import stats as st\n",
    "from scipy import cluster as scl\n",
    "from matplotlib import pyplot as plt\n",
    "from statsmodels import stats as stm\n",
    "from statsmodels.sandbox import stats as sts\n",
    "from statsmodels.sandbox.stats import multicomp as smi"
   ]
  },
  {
   "cell_type": "code",
   "execution_count": 2,
   "metadata": {
    "collapsed": true
   },
   "outputs": [],
   "source": [
    "%matplotlib inline"
   ]
  },
  {
   "cell_type": "markdown",
   "metadata": {},
   "source": [
    "## Set up the paths"
   ]
  },
  {
   "cell_type": "code",
   "execution_count": 3,
   "metadata": {
    "collapsed": true
   },
   "outputs": [],
   "source": [
    "# Paths\n",
    "scale = 12\n",
    "subtypes = 5\n",
    "name = 'n308_sample'\n",
    "mtp_list= ['rmap_part', 'dual_regression', 'stability_maps']\n",
    "\n",
    "prior_path = '/data1/cambridge/template/template_cambridge_basc_multiscale_sym_scale{:03d}.nii.gz'.format(scale)\n",
    "pheno_path = '/data1/abide/Pheno/unconstrained_2box_308_sample.csv'\n",
    "in_path = '/data1/subtypes/serial_preps/'\n",
    "\n",
    "mask_path = '/data1/abide/Mask/mask_data_specific.nii.gz'"
   ]
  },
  {
   "cell_type": "markdown",
   "metadata": {},
   "source": [
    "## Build the subtypes"
   ]
  },
  {
   "cell_type": "code",
   "execution_count": 4,
   "metadata": {
    "collapsed": true
   },
   "outputs": [],
   "source": [
    "# Get the mask\n",
    "m_img = nib.load(mask_path)\n",
    "mask_data = m_img.get_data()\n",
    "mask = mask_data != 0"
   ]
  },
  {
   "cell_type": "code",
   "execution_count": 5,
   "metadata": {
    "collapsed": true
   },
   "outputs": [],
   "source": [
    "# Get the phenotype data\n",
    "pheno = pd.read_csv(pheno_path)"
   ]
  },
  {
   "cell_type": "markdown",
   "metadata": {},
   "source": [
    "## Prepare GLM"
   ]
  },
  {
   "cell_type": "code",
   "execution_count": 6,
   "metadata": {
    "collapsed": true
   },
   "outputs": [],
   "source": [
    "# Generate the model matrix\n",
    "factors = ['SEX', 'AGE_AT_SCAN', 'FD_scrubbed']\n",
    "# Make dummy variables for the site factor\n",
    "site_factor = pd.get_dummies(pheno['SITE_ID'])\n",
    "# Turn the first site into the intercept\n",
    "site_factor = site_factor.rename(columns={site_factor.keys()[0]: 'INTERCEPT'})\n",
    "site_factor['INTERCEPT'] = 1\n",
    "# Get the other variables\n",
    "other_factors = pheno.ix[:,factors]\n",
    "other_factors['AGE_AT_SCAN'] = other_factors['AGE_AT_SCAN']-np.mean(other_factors['AGE_AT_SCAN'].values)\n",
    "# Put them back together\n",
    "glm_pheno = pd.concat([site_factor, other_factors], axis=1)"
   ]
  },
  {
   "cell_type": "code",
   "execution_count": 7,
   "metadata": {
    "collapsed": true
   },
   "outputs": [],
   "source": [
    "comp_list = list()\n",
    "for mtp in mtp_list:\n",
    "    netstack_path = os.path.join(in_path, 'netstack_dmn_{}_{}_scale_{:03d}.npy'.format(mtp, name, scale))\n",
    "    corrmat_path = os.path.join(in_path, 'correlation_matrix_{}_{}_scale_{:03d}.npy'.format(mtp, name, scale))\n",
    "    \n",
    "    # Load the serialized netstack\n",
    "    netstack = np.load(netstack_path)\n",
    "    corr_mat = np.load(corrmat_path)\n",
    "    \n",
    "    scale = netstack.shape[0]\n",
    "    n_sub = netstack.shape[2]\n",
    "    n_vox = netstack.shape[1]\n",
    "    \n",
    "    link_store = np.zeros((n_sub-1,4,scale))\n",
    "    part_store = np.zeros((scale, n_sub))\n",
    "    sbt_store = np.zeros((scale, subtypes, n_vox))\n",
    "    weight_store = np.zeros((scale, subtypes, n_sub))\n",
    "    \n",
    "    # Iterate through the networks\n",
    "    for net_id in range(scale):\n",
    "        # Compute linkage with Ward's criterion\n",
    "        link_mat = scl.hierarchy.linkage(corr_mat[net_id, ...] , method='ward')\n",
    "        link_store[..., net_id] = link_mat\n",
    "        # Partition the linkage to get a given number of subtypes\n",
    "        part_sub = scl.hierarchy.fcluster(link_mat, subtypes, criterion='maxclust')\n",
    "        part_store[net_id, :] = part_sub\n",
    "\n",
    "        sub_stack = np.zeros((n_vox, subtypes))\n",
    "        for s_id in range(subtypes):\n",
    "            sbt = np.mean(netstack[net_id, :, part_sub==s_id+1],0)\n",
    "            sub_stack[:,s_id] = sbt\n",
    "            sbt_store[net_id, s_id, :] = sbt\n",
    "\n",
    "        # Init store - Compute the weights\n",
    "        for s_id in range(subtypes):\n",
    "            type_map = sub_stack[:, s_id]\n",
    "            weight_store[net_id, s_id, :] = np.array([np.corrcoef(type_map, netstack[net_id, :, x])[0,1] for x in range(n_sub)])\n",
    "            \n",
    "    # Compute effect sizes\n",
    "    r2_store = np.zeros((scale, subtypes))\n",
    "    for net_id in range(scale):\n",
    "        # Loop through the subtypes\n",
    "        for s_id in range(subtypes):\n",
    "            # Full model\n",
    "            full_model = sm.OLS(weight_store[net_id, s_id, :], glm_pheno)\n",
    "            full_results = full_model.fit()\n",
    "            SSR = np.sum(np.square(full_results.resid.values))\n",
    "            # Restricted model\n",
    "            rest_model = sm.OLS(weight_store[net_id, s_id, :], glm_pheno.ix[:,factors[0]:])\n",
    "            rest_results = rest_model.fit()\n",
    "            # Save the p-values\n",
    "            SST = np.sum(np.square(rest_results.resid.values))\n",
    "            # Find the improvement of the sum of squares from including sites\n",
    "            SSM = SST - SSR\n",
    "            r2 = SSM / SST\n",
    "            r2_store[net_id, s_id] = r2\n",
    "    comp_list.append(r2_store)"
   ]
  },
  {
   "cell_type": "code",
   "execution_count": 8,
   "metadata": {
    "collapsed": false
   },
   "outputs": [
    {
     "data": {
      "image/png": "[encoded data removed]",
      "text/plain": [
       "<matplotlib.figure.Figure at 0x7f36243862d0>"
      ]
     },
     "metadata": {},
     "output_type": "display_data"
    }
   ],
   "source": [
    "# Visualize the results\n",
    "fig = plt.figure(figsize=(12,4))\n",
    "for m_id, m_name in enumerate(mtp_list):\n",
    "    res = comp_list[m_id]\n",
    "    ax = fig.add_subplot(1,3,m_id+1)\n",
    "    ax.violinplot(res.flatten())\n",
    "    ax.set_ylim([0, 1])\n",
    "    ax.set_title(m_name)"
   ]
  },
  {
   "cell_type": "markdown",
   "metadata": {},
   "source": [
    "# Do a descriptive analysis of site differences\n",
    "Take a look at the distribution of:\n",
    "\n",
    "1. subtype weights across the sites\n",
    "* Subjects across sites\n",
    "* ASD and TDC cases across sites\n",
    "* Motion and sex across sites"
   ]
  },
  {
   "cell_type": "code",
   "execution_count": 28,
   "metadata": {
    "collapsed": false
   },
   "outputs": [
    {
     "data": {
      "text/html": [
       "<div>\n",
       "<table border=\"1\" class=\"dataframe\">\n",
       "  <thead>\n",
       "    <tr style=\"text-align: right;\">\n",
       "      <th></th>\n",
       "      <th>INTERCEPT</th>\n",
       "      <th>MAX_MUN</th>\n",
       "      <th>NYU</th>\n",
       "      <th>OHSU</th>\n",
       "      <th>OLIN</th>\n",
       "      <th>PITT</th>\n",
       "      <th>SDSU</th>\n",
       "      <th>UCLA_1</th>\n",
       "      <th>UCLA_2</th>\n",
       "      <th>USM</th>\n",
       "      <th>SEX</th>\n",
       "      <th>AGE_AT_SCAN</th>\n",
       "      <th>FD_scrubbed</th>\n",
       "    </tr>\n",
       "  </thead>\n",
       "  <tbody>\n",
       "    <tr>\n",
       "      <th>0</th>\n",
       "      <td>1</td>\n",
       "      <td>0</td>\n",
       "      <td>0</td>\n",
       "      <td>0</td>\n",
       "      <td>0</td>\n",
       "      <td>0</td>\n",
       "      <td>0</td>\n",
       "      <td>0</td>\n",
       "      <td>0</td>\n",
       "      <td>0</td>\n",
       "      <td>2</td>\n",
       "      <td>-0.417629</td>\n",
       "      <td>0.169546</td>\n",
       "    </tr>\n",
       "    <tr>\n",
       "      <th>1</th>\n",
       "      <td>1</td>\n",
       "      <td>0</td>\n",
       "      <td>0</td>\n",
       "      <td>0</td>\n",
       "      <td>0</td>\n",
       "      <td>0</td>\n",
       "      <td>0</td>\n",
       "      <td>0</td>\n",
       "      <td>0</td>\n",
       "      <td>0</td>\n",
       "      <td>2</td>\n",
       "      <td>-0.417629</td>\n",
       "      <td>0.196809</td>\n",
       "    </tr>\n",
       "    <tr>\n",
       "      <th>2</th>\n",
       "      <td>1</td>\n",
       "      <td>0</td>\n",
       "      <td>0</td>\n",
       "      <td>0</td>\n",
       "      <td>0</td>\n",
       "      <td>0</td>\n",
       "      <td>0</td>\n",
       "      <td>0</td>\n",
       "      <td>0</td>\n",
       "      <td>0</td>\n",
       "      <td>1</td>\n",
       "      <td>0.882371</td>\n",
       "      <td>0.199631</td>\n",
       "    </tr>\n",
       "    <tr>\n",
       "      <th>3</th>\n",
       "      <td>1</td>\n",
       "      <td>0</td>\n",
       "      <td>0</td>\n",
       "      <td>0</td>\n",
       "      <td>0</td>\n",
       "      <td>0</td>\n",
       "      <td>0</td>\n",
       "      <td>0</td>\n",
       "      <td>0</td>\n",
       "      <td>0</td>\n",
       "      <td>1</td>\n",
       "      <td>-0.017629</td>\n",
       "      <td>0.240001</td>\n",
       "    </tr>\n",
       "    <tr>\n",
       "      <th>4</th>\n",
       "      <td>1</td>\n",
       "      <td>0</td>\n",
       "      <td>0</td>\n",
       "      <td>0</td>\n",
       "      <td>0</td>\n",
       "      <td>0</td>\n",
       "      <td>0</td>\n",
       "      <td>0</td>\n",
       "      <td>0</td>\n",
       "      <td>0</td>\n",
       "      <td>1</td>\n",
       "      <td>2.382371</td>\n",
       "      <td>0.184871</td>\n",
       "    </tr>\n",
       "  </tbody>\n",
       "</table>\n",
       "</div>"
      ],
      "text/plain": [
       "   INTERCEPT  MAX_MUN  NYU  OHSU  OLIN  PITT  SDSU  UCLA_1  UCLA_2  USM  SEX  \\\n",
       "0          1        0    0     0     0     0     0       0       0    0    2   \n",
       "1          1        0    0     0     0     0     0       0       0    0    2   \n",
       "2          1        0    0     0     0     0     0       0       0    0    1   \n",
       "3          1        0    0     0     0     0     0       0       0    0    1   \n",
       "4          1        0    0     0     0     0     0       0       0    0    1   \n",
       "\n",
       "   AGE_AT_SCAN  FD_scrubbed  \n",
       "0    -0.417629     0.169546  \n",
       "1    -0.417629     0.196809  \n",
       "2     0.882371     0.199631  \n",
       "3    -0.017629     0.240001  \n",
       "4     2.382371     0.184871  "
      ]
     },
     "execution_count": 28,
     "metadata": {},
     "output_type": "execute_result"
    }
   ],
   "source": [
    "glm_pheno.head()"
   ]
  },
  {
   "cell_type": "code",
   "execution_count": 9,
   "metadata": {
    "collapsed": true
   },
   "outputs": [],
   "source": [
    "pgp = pheno.groupby('SITE_ID')"
   ]
  },
  {
   "cell_type": "code",
   "execution_count": 38,
   "metadata": {
    "collapsed": false
   },
   "outputs": [],
   "source": [
    "a = pgp.FD_scrubbed.value_counts()"
   ]
  }
 ],
 "metadata": {
  "kernelspec": {
   "display_name": "Python 2",
   "language": "python",
   "name": "python2"
  },
  "language_info": {
   "codemirror_mode": {
    "name": "ipython",
    "version": 2
   },
   "file_extension": ".py",
   "mimetype": "text/x-python",
   "name": "python",
   "nbconvert_exporter": "python",
   "pygments_lexer": "ipython2",
   "version": "2.7.10+"
  }
 },
 "nbformat": 4,
 "nbformat_minor": 0
}
