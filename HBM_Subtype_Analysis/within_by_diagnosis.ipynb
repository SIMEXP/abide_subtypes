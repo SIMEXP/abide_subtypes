{
 "cells": [
  {
   "cell_type": "markdown",
   "metadata": {},
   "source": [
    "# Z-ify the difference maps"
   ]
  },
  {
   "cell_type": "code",
   "execution_count": 11,
   "metadata": {
    "collapsed": true
   },
   "outputs": [],
   "source": [
    "import os\n",
    "import numpy as np\n",
    "import pandas as pd\n",
    "import seaborn as sb\n",
    "import nibabel as nib\n",
    "import nilearn as nil\n",
    "from scipy import io as sio\n",
    "from matplotlib import gridspec\n",
    "from nilearn import plotting as nlp\n",
    "from matplotlib import pyplot as plt"
   ]
  },
  {
   "cell_type": "code",
   "execution_count": 2,
   "metadata": {
    "collapsed": true
   },
   "outputs": [],
   "source": [
    "%matplotlib inline"
   ]
  },
  {
   "cell_type": "code",
   "execution_count": 3,
   "metadata": {
    "collapsed": true
   },
   "outputs": [],
   "source": [
    "# Paths\n",
    "# Let's start with the full sample, maybe data, mean subtype at scale 7. We look at everything\n",
    "pri_path = '/data1/cambridge/template/template_cambridge_basc_multiscale_sym_scale007.nii.gz'\n",
    "res_path = '/data1/guilimin/abide/subtype/sc7/full_maybe/network_{}/'\n",
    "mod_path = '/data1/guilimin/abide/pheno/sc7/model_full_maybe_sc7.csv'\n",
    "mas_path = '/data1/guilimin/abide/masks/template_mask.nii.gz'\n",
    "out_path = '/home/surchs/GDrive/PhD/Conferences/HBM2016/Poster/Figures/Subtypes/'\n",
    "#sbt_effects = ((1,2),(1,5),(2,5),(3,1),(3,2),(6,1),(6,5))"
   ]
  },
  {
   "cell_type": "code",
   "execution_count": 4,
   "metadata": {
    "collapsed": true
   },
   "outputs": [],
   "source": [
    "mod = pd.read_csv(mod_path)\n",
    "mod.DX_GROUP.replace({1:'Patient', 2:'Control'}, inplace=True)"
   ]
  },
  {
   "cell_type": "code",
   "execution_count": 5,
   "metadata": {
    "collapsed": false
   },
   "outputs": [],
   "source": [
    "pat_ind = (mod.DX_GROUP=='Patient').values\n",
    "ctr_ind = (mod.DX_GROUP=='Control').values"
   ]
  },
  {
   "cell_type": "code",
   "execution_count": 6,
   "metadata": {
    "collapsed": true
   },
   "outputs": [],
   "source": [
    "m_img = nib.load(mas_path)\n",
    "mask = m_img.get_data().astype(bool)\n",
    "m_vec = np.reshape(mask, np.prod(mask.shape), order='F')"
   ]
  },
  {
   "cell_type": "code",
   "execution_count": 7,
   "metadata": {
    "collapsed": true
   },
   "outputs": [],
   "source": [
    "p_img = nib.load(pri_path)\n",
    "prior = p_img.get_data()\n",
    "p_vec = prior[mask]"
   ]
  },
  {
   "cell_type": "code",
   "execution_count": 14,
   "metadata": {
    "collapsed": false
   },
   "outputs": [],
   "source": [
    "net = np.array([])\n",
    "diag = np.array([])\n",
    "within = np.array([])\n",
    "for network in np.arange(7)+1:\n",
    "    ns = sio.loadmat('/data1/guilimin/abide/subtype/sc7/full_maybe_noreg/network_{0}/network_{0}_stack.mat'.format(network))\n",
    "    stack = ns['stack']\n",
    "    \n",
    "    tmp_pat = np.zeros_like(m_vec, dtype=float)\n",
    "    tmp_pat[m_vec] = np.mean(stack[pat_ind, :],0)\n",
    "    tmp_pat = np.reshape(tmp_pat, mask.shape, order='F')\n",
    "    \n",
    "    pat_img = nib.Nifti1Image(tmp_pat, header=m_img.get_header(), affine=m_img.get_affine())\n",
    "    pat_name = 'net_{}_patient_map.nii.gz'.format(network)\n",
    "    #nib.save(pat_img, os.path.join(out_path, pat_name))\n",
    "    \n",
    "    tmp_ctr = np.zeros_like(m_vec, dtype=float)\n",
    "    tmp_ctr[m_vec] = np.mean(stack[ctr_ind, :],0)\n",
    "    tmp_ctr = np.reshape(tmp_ctr, mask.shape, order='F')\n",
    "    \n",
    "    ctr_img = nib.Nifti1Image(tmp_ctr, header=m_img.get_header(), affine=m_img.get_affine())\n",
    "    ctr_name = 'net_{}_control_map.nii.gz'.format(network)\n",
    "    #nib.save(ctr_img, os.path.join(out_path, ctr_name))\n",
    "        \n",
    "    n_vec_pat = tmp_pat[mask]\n",
    "    n_vec_ctr = tmp_ctr[mask]\n",
    "    \n",
    "    within_pat = n_vec_pat[p_vec==network]\n",
    "    within_ctr = n_vec_ctr[p_vec==network]\n",
    "    \n",
    "    within = np.concatenate((within, within_pat))\n",
    "    diag = np.concatenate((diag, np.ones_like(within_pat)))\n",
    "    net = np.concatenate((net, np.ones_like(within_pat)*network))\n",
    "                         \n",
    "    within = np.concatenate((within, within_ctr))\n",
    "    diag = np.concatenate((diag, np.zeros_like(within_ctr)))\n",
    "    net = np.concatenate((net, np.ones_like(within_ctr)*network))\n",
    "\n",
    "df = pd.DataFrame(data={'within':within, 'Diagnose':diag, 'Network':net})\n",
    "df.Diagnose.replace({0:'Control', 1:'Patient'}, inplace=True)"
   ]
  },
  {
   "cell_type": "code",
   "execution_count": 15,
   "metadata": {
    "collapsed": false
   },
   "outputs": [
    {
     "data": {
      "image/png": "[encoded data removed]",
      "text/plain": [
       "<matplotlib.figure.Figure at 0x7f90eb922128>"
      ]
     },
     "metadata": {},
     "output_type": "display_data"
    }
   ],
   "source": [
    "ax = sb.barplot(x=\"Network\", y=\"within\", hue=\"Diagnose\", data=df)"
   ]
  },
  {
   "cell_type": "code",
   "execution_count": null,
   "metadata": {
    "collapsed": true
   },
   "outputs": [],
   "source": []
  }
 ],
 "metadata": {
  "kernelspec": {
   "display_name": "Python 3",
   "language": "python",
   "name": "python3"
  }
 },
 "nbformat": 4,
 "nbformat_minor": 0
}
