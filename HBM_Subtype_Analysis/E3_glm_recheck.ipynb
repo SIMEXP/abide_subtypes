{
 "cells": [
  {
   "cell_type": "markdown",
   "metadata": {},
   "source": [
    "Run the GLM on the Matlab stuff and see what I get"
   ]
  },
  {
   "cell_type": "code",
   "execution_count": 1,
   "metadata": {
    "collapsed": true
   },
   "outputs": [],
   "source": [
    "# Imports\n",
    "import os\n",
    "import numpy as np\n",
    "import pandas as pd\n",
    "from scipy import io as sio\n",
    "import statsmodels.api as sm\n",
    "from matplotlib import pyplot as plt"
   ]
  },
  {
   "cell_type": "code",
   "execution_count": 2,
   "metadata": {
    "collapsed": true
   },
   "outputs": [],
   "source": [
    "%matplotlib inline"
   ]
  },
  {
   "cell_type": "code",
   "execution_count": 68,
   "metadata": {
    "collapsed": true
   },
   "outputs": [],
   "source": [
    "w_path = '/data1/guilimin/abide/subtype/sc7/full_maybe/sbt_weights_net_6.csv'\n",
    "m_path = '/data1/guilimin/abide/pheno/sc7/model_full_maybe_sc7.csv'"
   ]
  },
  {
   "cell_type": "code",
   "execution_count": 69,
   "metadata": {
    "collapsed": true
   },
   "outputs": [],
   "source": [
    "# Model\n",
    "model = pd.read_csv(m_path)\n",
    "# Control = 0, ASD = 1\n",
    "model.DX_GROUP = (model.DX_GROUP-2)*-1"
   ]
  },
  {
   "cell_type": "code",
   "execution_count": 70,
   "metadata": {
    "collapsed": false
   },
   "outputs": [
    {
     "name": "stderr",
     "output_type": "stream",
     "text": [
      "/usr/local/lib/python3.5/dist-packages/ipykernel/__main__.py:8: FutureWarning: currently extract(expand=None) means expand=False (return Index/Series/DataFrame) but in a future version of pandas this will be changed to expand=True (return DataFrame)\n"
     ]
    }
   ],
   "source": [
    "# Weights\n",
    "weights = pd.read_csv(w_path)\n",
    "# Give subject column a name\n",
    "weights.rename(columns={' ':'SUB_ID'}, inplace=True)\n",
    "# Drop whitespace \n",
    "weights.columns = weights.columns.str.strip(' ')\n",
    "# Get back to normal names\n",
    "weights.SUB_ID = weights.SUB_ID.str.extract('(?<=sub_)(\\d+)').astype(int)"
   ]
  },
  {
   "cell_type": "code",
   "execution_count": 71,
   "metadata": {
    "collapsed": false
   },
   "outputs": [
    {
     "data": {
      "text/plain": [
       "1    284\n",
       "0    284\n",
       "Name: DX_GROUP, dtype: int64"
      ]
     },
     "execution_count": 71,
     "metadata": {},
     "output_type": "execute_result"
    }
   ],
   "source": [
    "model.DX_GROUP.value_counts()"
   ]
  },
  {
   "cell_type": "code",
   "execution_count": 72,
   "metadata": {
    "collapsed": false
   },
   "outputs": [],
   "source": [
    "# Bring both of them together\n",
    "merged = pd.merge(model, weights, on='SUB_ID', how='inner')"
   ]
  },
  {
   "cell_type": "code",
   "execution_count": 79,
   "metadata": {
    "collapsed": false
   },
   "outputs": [
    {
     "name": "stderr",
     "output_type": "stream",
     "text": [
      "/usr/local/lib/python3.5/dist-packages/ipykernel/__main__.py:6: SettingWithCopyWarning: \n",
      "A value is trying to be set on a copy of a slice from a DataFrame.\n",
      "Try using .loc[row_indexer,col_indexer] = value instead\n",
      "\n",
      "See the caveats in the documentation: http://pandas.pydata.org/pandas-docs/stable/indexing.html#indexing-view-versus-copy\n"
     ]
    }
   ],
   "source": [
    "# Get the matrices\n",
    "sbt_name = 'sub1'\n",
    "y = merged[[sbt_name]]\n",
    "x = merged[['DX_GROUP']]\n",
    "#x.rename(columns={'dummie_KKI':'Intercept'}, inplace=True)\n",
    "x['Intercept'] = np.ones(x.shape[0])"
   ]
  },
  {
   "cell_type": "code",
   "execution_count": 80,
   "metadata": {
    "collapsed": false
   },
   "outputs": [],
   "source": [
    "# ['Intercept', 'DX_GROUP', 'FD_scrubbed', 'AGE_AT_SCAN']\n",
    "m = sm.OLS(y, x)\n",
    "results = m.fit()"
   ]
  },
  {
   "cell_type": "code",
   "execution_count": 81,
   "metadata": {
    "collapsed": false
   },
   "outputs": [
    {
     "name": "stdout",
     "output_type": "stream",
     "text": [
      "                            OLS Regression Results                            \n",
      "==============================================================================\n",
      "Dep. Variable:                   sub1   R-squared:                       0.014\n",
      "Model:                            OLS   Adj. R-squared:                  0.012\n",
      "Method:                 Least Squares   F-statistic:                     8.119\n",
      "Date:                Thu, 23 Jun 2016   Prob (F-statistic):            0.00454\n",
      "Time:                        23:08:02   Log-Likelihood:                 179.46\n",
      "No. Observations:                 568   AIC:                            -354.9\n",
      "Df Residuals:                     566   BIC:                            -346.2\n",
      "Df Model:                           1                                         \n",
      "Covariance Type:            nonrobust                                         \n",
      "==============================================================================\n",
      "                 coef    std err          t      P>|t|      [95.0% Conf. Int.]\n",
      "------------------------------------------------------------------------------\n",
      "DX_GROUP      -0.0423      0.015     -2.849      0.005        -0.071    -0.013\n",
      "Intercept      0.0149      0.010      1.424      0.155        -0.006     0.036\n",
      "==============================================================================\n",
      "Omnibus:                        0.134   Durbin-Watson:                   2.172\n",
      "Prob(Omnibus):                  0.935   Jarque-Bera (JB):                0.229\n",
      "Skew:                          -0.013   Prob(JB):                        0.892\n",
      "Kurtosis:                       2.905   Cond. No.                         2.62\n",
      "==============================================================================\n",
      "\n",
      "Warnings:\n",
      "[1] Standard Errors assume that the covariance matrix of the errors is correctly specified.\n"
     ]
    }
   ],
   "source": [
    "print(results.summary())"
   ]
  },
  {
   "cell_type": "code",
   "execution_count": 82,
   "metadata": {
    "collapsed": false
   },
   "outputs": [
    {
     "data": {
      "text/plain": [
       "-0.23954356833625337"
      ]
     },
     "execution_count": 82,
     "metadata": {},
     "output_type": "execute_result"
    }
   ],
   "source": [
    "patients = merged[merged.DX_GROUP==1][sbt_name]\n",
    "controls = merged[merged.DX_GROUP==0][sbt_name]\n",
    "pat_std = np.std(patients)\n",
    "ctr_std = np.std(controls)\n",
    "n_pat = len(patients)\n",
    "n_ctr = len(controls)\n",
    "pooled_std = np.sqrt(((n_pat-1)*np.square(pat_std) + (n_ctr-1)*np.square(ctr_std))/(n_pat + n_ctr - 2))\n",
    "\n",
    "(np.mean(patients) - np.mean(controls)) / pooled_std"
   ]
  },
  {
   "cell_type": "code",
   "execution_count": 83,
   "metadata": {
    "collapsed": false
   },
   "outputs": [
    {
     "data": {
      "text/plain": [
       "0.11892183794476077"
      ]
     },
     "execution_count": 83,
     "metadata": {},
     "output_type": "execute_result"
    }
   ],
   "source": [
    "np.sqrt(results.rsquared)"
   ]
  },
  {
   "cell_type": "code",
   "execution_count": 91,
   "metadata": {
    "collapsed": false
   },
   "outputs": [
    {
     "data": {
      "text/plain": [
       "array([[ 1.        , -0.11892184],\n",
       "       [-0.11892184,  1.        ]])"
      ]
     },
     "execution_count": 91,
     "metadata": {},
     "output_type": "execute_result"
    }
   ],
   "source": [
    "# Try the correlation\n",
    "np.corrcoef(merged.DX_GROUP, merged.sub1)"
   ]
  },
  {
   "cell_type": "code",
   "execution_count": 78,
   "metadata": {
    "collapsed": false
   },
   "outputs": [
    {
     "data": {
      "image/png": "[encoded data removed]",
      "text/plain": [
       "<matplotlib.figure.Figure at 0x7fad7143b908>"
      ]
     },
     "metadata": {},
     "output_type": "display_data"
    }
   ],
   "source": [
    "tmp = plt.boxplot([patients, controls])"
   ]
  },
  {
   "cell_type": "code",
   "execution_count": null,
   "metadata": {
    "collapsed": true
   },
   "outputs": [],
   "source": []
  }
 ],
 "metadata": {
  "kernelspec": {
   "display_name": "Python 3",
   "language": "python",
   "name": "python3"
  },
  "language_info": {
   "codemirror_mode": {
    "name": "ipython",
    "version": 3
   },
   "file_extension": ".py",
   "mimetype": "text/x-python",
   "name": "python",
   "nbconvert_exporter": "python",
   "pygments_lexer": "ipython3",
   "version": "3.5.1+"
  }
 },
 "nbformat": 4,
 "nbformat_minor": 0
}
