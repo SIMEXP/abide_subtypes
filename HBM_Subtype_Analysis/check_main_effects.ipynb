{
 "cells": [
  {
   "cell_type": "markdown",
   "metadata": {},
   "source": [
    "- check the direction of main effects by comparing mean differences\n",
    "- repeat the GLM analysis and compare with findings form pipeline (p_value, T...)\n",
    "- run a t-test between the two groups and to determine the significance of the difference\n",
    "- compute an effect size for the difference"
   ]
  },
  {
   "cell_type": "code",
   "execution_count": 31,
   "metadata": {
    "collapsed": true
   },
   "outputs": [],
   "source": [
    "import os\n",
    "import numpy as np\n",
    "import pandas as pd\n",
    "import nibabel as nib\n",
    "import nilearn as nil\n",
    "from scipy import io as sio\n",
    "from matplotlib import gridspec\n",
    "from nilearn import plotting as nlp\n",
    "from matplotlib import pyplot as plt\n",
    "import statsmodels.formula.api as smf"
   ]
  },
  {
   "cell_type": "code",
   "execution_count": 2,
   "metadata": {
    "collapsed": true
   },
   "outputs": [],
   "source": [
    "%matplotlib inline"
   ]
  },
  {
   "cell_type": "code",
   "execution_count": 3,
   "metadata": {
    "collapsed": true
   },
   "outputs": [],
   "source": [
    "sbt_effects = ((1,2),(1,5),(2,5),(3,1),(3,2),(6,1),(6,5))"
   ]
  },
  {
   "cell_type": "code",
   "execution_count": 9,
   "metadata": {
    "collapsed": true
   },
   "outputs": [],
   "source": [
    "base_path = '/data1/guilimin/abide/subtype/sc7/full_maybe/'\n",
    "mod_path = '/data1/guilimin/abide/pheno/sc7/model_full_maybe_sc7.csv'"
   ]
  },
  {
   "cell_type": "code",
   "execution_count": 10,
   "metadata": {
    "collapsed": true
   },
   "outputs": [],
   "source": [
    "model = pd.read_csv(mod_path)"
   ]
  },
  {
   "cell_type": "code",
   "execution_count": 36,
   "metadata": {
    "collapsed": false
   },
   "outputs": [
    {
     "data": {
      "text/plain": [
       "(568, 20)"
      ]
     },
     "execution_count": 36,
     "metadata": {},
     "output_type": "execute_result"
    }
   ],
   "source": [
    "model.shape"
   ]
  },
  {
   "cell_type": "code",
   "execution_count": 37,
   "metadata": {
    "collapsed": false
   },
   "outputs": [
    {
     "data": {
      "text/plain": [
       "16.512765845070422"
      ]
     },
     "execution_count": 37,
     "metadata": {},
     "output_type": "execute_result"
    }
   ],
   "source": [
    "np.mean(model.AGE_AT_SCAN)"
   ]
  },
  {
   "cell_type": "code",
   "execution_count": 38,
   "metadata": {
    "collapsed": false
   },
   "outputs": [
    {
     "data": {
      "text/plain": [
       "7.199480288893878"
      ]
     },
     "execution_count": 38,
     "metadata": {},
     "output_type": "execute_result"
    }
   ],
   "source": [
    "np.std(model.AGE_AT_SCAN)"
   ]
  },
  {
   "cell_type": "code",
   "execution_count": 11,
   "metadata": {
    "collapsed": false
   },
   "outputs": [
    {
     "data": {
      "text/plain": [
       "2    284\n",
       "1    284\n",
       "Name: DX_GROUP, dtype: int64"
      ]
     },
     "execution_count": 11,
     "metadata": {},
     "output_type": "execute_result"
    }
   ],
   "source": [
    "test = pd.read_csv('/data1/guilimin/abide/pheno/merged_abide_full_maybe.csv')\n",
    "test.DX_GROUP.value_counts()"
   ]
  },
  {
   "cell_type": "code",
   "execution_count": 28,
   "metadata": {
    "collapsed": false
   },
   "outputs": [
    {
     "name": "stdout",
     "output_type": "stream",
     "text": [
      "net 1 sbt 2 negative (0.0480)\n",
      "net 1 sbt 5 positive (-0.0401)\n",
      "net 2 sbt 5 negative (0.0603)\n",
      "net 3 sbt 1 negative (0.0451)\n",
      "net 3 sbt 2 positive (-0.0525)\n",
      "net 6 sbt 1 positive (-0.0423)\n",
      "net 6 sbt 5 negative (0.0518)\n"
     ]
    },
    {
     "name": "stderr",
     "output_type": "stream",
     "text": [
      "/usr/local/lib/python3.5/dist-packages/ipykernel/__main__.py:9: FutureWarning: currently extract(expand=None) means expand=False (return Index/Series/DataFrame) but in a future version of pandas this will be changed to expand=True (return DataFrame)\n"
     ]
    }
   ],
   "source": [
    "out_path = '/data1/guilimin/abide/subtype/sc7/full_maybe/'\n",
    "for s_id, eff in enumerate(sbt_effects):\n",
    "    network, subtype = eff\n",
    "    sub_name = 'sub{}'.format(subtype)\n",
    "    w_tmp = 'sbt_weights_net_{}.csv'\n",
    "    weights = pd.read_csv(os.path.join(base_path, w_tmp.format(network)))\n",
    "    weights.rename(columns={' ':'SUB_ID'}, inplace=True)\n",
    "    weights.columns = weights.columns.str.strip(' ')\n",
    "    weights.SUB_ID = weights.SUB_ID.str.extract('(?<=sub_)(\\d+)').astype(int)\n",
    "    merged = pd.merge(model, weights, on='SUB_ID', how='inner')\n",
    "    # Relabel the controls and patients\n",
    "    merged.DX_GROUP.replace({1:'patients', 2:'controls'}, inplace=True)\n",
    "    \n",
    "    # Test the direction of the effect:\n",
    "    a = np.mean(merged[merged.DX_GROUP == 'patients'][sub_name].values) - np.mean(merged[merged.DX_GROUP == 'controls'][sub_name].values)\n",
    "    if a > 0:\n",
    "        print('net {} sbt {} negative ({:.4f})'.format(network, subtype, a))\n",
    "    else:\n",
    "        print('net {} sbt {} positive ({:.4f})'.format(network, subtype, a))"
   ]
  },
  {
   "cell_type": "markdown",
   "metadata": {},
   "source": [
    "Ok, the directions of the effects match the reports. Now for the significance of the findings"
   ]
  },
  {
   "cell_type": "code",
   "execution_count": 35,
   "metadata": {
    "collapsed": false,
    "scrolled": false
   },
   "outputs": [
    {
     "name": "stderr",
     "output_type": "stream",
     "text": [
      "/usr/local/lib/python3.5/dist-packages/ipykernel/__main__.py:9: FutureWarning: currently extract(expand=None) means expand=False (return Index/Series/DataFrame) but in a future version of pandas this will be changed to expand=True (return DataFrame)\n"
     ]
    },
    {
     "name": "stdout",
     "output_type": "stream",
     "text": [
      "net 1 sbt sub2\n",
      "                  Results: Ordinary least squares\n",
      "====================================================================\n",
      "Model:                OLS              Adj. R-squared:     0.020    \n",
      "Dependent Variable:   sub2             AIC:                -460.0200\n",
      "Date:                 2016-06-25 12:54 BIC:                -451.3358\n",
      "No. Observations:     568              Log-Likelihood:     232.01   \n",
      "Df Model:             1                F-statistic:        12.63    \n",
      "Df Residuals:         566              Prob (F-statistic): 0.000412 \n",
      "R-squared:            0.022            Scale:              0.025958 \n",
      "--------------------------------------------------------------------\n",
      "                      Coef.  Std.Err.    t    P>|t|   [0.025  0.975]\n",
      "--------------------------------------------------------------------\n",
      "Intercept            -0.0226   0.0096 -2.3660 0.0183 -0.0414 -0.0038\n",
      "DX_GROUP[T.patients]  0.0480   0.0135  3.5536 0.0004  0.0215  0.0746\n",
      "--------------------------------------------------------------------\n",
      "Omnibus:               6.234         Durbin-Watson:            1.953\n",
      "Prob(Omnibus):         0.044         Jarque-Bera (JB):         6.293\n",
      "Skew:                  0.257         Prob(JB):                 0.043\n",
      "Kurtosis:              2.967         Condition No.:            3    \n",
      "====================================================================\n",
      "\n",
      "net 1 sbt sub5\n",
      "                  Results: Ordinary least squares\n",
      "====================================================================\n",
      "Model:                OLS              Adj. R-squared:     0.019    \n",
      "Dependent Variable:   sub5             AIC:                -638.4180\n",
      "Date:                 2016-06-25 12:54 BIC:                -629.7338\n",
      "No. Observations:     568              Log-Likelihood:     321.21   \n",
      "Df Model:             1                F-statistic:        12.05    \n",
      "Df Residuals:         566              Prob (F-statistic): 0.000556 \n",
      "R-squared:            0.021            Scale:              0.018961 \n",
      "--------------------------------------------------------------------\n",
      "                      Coef.  Std.Err.    t    P>|t|   [0.025  0.975]\n",
      "--------------------------------------------------------------------\n",
      "Intercept             0.0193   0.0082  2.3581 0.0187  0.0032  0.0353\n",
      "DX_GROUP[T.patients] -0.0401   0.0116 -3.4719 0.0006 -0.0628 -0.0174\n",
      "--------------------------------------------------------------------\n",
      "Omnibus:               10.039        Durbin-Watson:           1.956 \n",
      "Prob(Omnibus):         0.007         Jarque-Bera (JB):        10.091\n",
      "Skew:                  0.322         Prob(JB):                0.006 \n",
      "Kurtosis:              3.112         Condition No.:           3     \n",
      "====================================================================\n",
      "\n",
      "net 2 sbt sub5\n",
      "                  Results: Ordinary least squares\n",
      "====================================================================\n",
      "Model:                OLS              Adj. R-squared:     0.043    \n",
      "Dependent Variable:   sub5             AIC:                -624.1387\n",
      "Date:                 2016-06-25 12:54 BIC:                -615.4545\n",
      "No. Observations:     568              Log-Likelihood:     314.07   \n",
      "Df Model:             1                F-statistic:        26.55    \n",
      "Df Residuals:         566              Prob (F-statistic): 3.55e-07 \n",
      "R-squared:            0.045            Scale:              0.019444 \n",
      "--------------------------------------------------------------------\n",
      "                      Coef.  Std.Err.    t    P>|t|   [0.025  0.975]\n",
      "--------------------------------------------------------------------\n",
      "Intercept            -0.0334   0.0083 -4.0414 0.0001 -0.0497 -0.0172\n",
      "DX_GROUP[T.patients]  0.0603   0.0117  5.1531 0.0000  0.0373  0.0833\n",
      "--------------------------------------------------------------------\n",
      "Omnibus:                14.424        Durbin-Watson:           1.958\n",
      "Prob(Omnibus):          0.001         Jarque-Bera (JB):        7.955\n",
      "Skew:                   0.074         Prob(JB):                0.019\n",
      "Kurtosis:               2.439         Condition No.:           3    \n",
      "====================================================================\n",
      "\n",
      "net 3 sbt sub1\n",
      "                  Results: Ordinary least squares\n",
      "===================================================================\n",
      "Model:               OLS              Adj. R-squared:     0.014    \n",
      "Dependent Variable:  sub1             AIC:                -324.8356\n",
      "Date:                2016-06-25 12:54 BIC:                -316.1514\n",
      "No. Observations:    568              Log-Likelihood:     164.42   \n",
      "Df Model:            1                F-statistic:        8.778    \n",
      "Df Residuals:        566              Prob (F-statistic): 0.00318  \n",
      "R-squared:           0.015            Scale:              0.032933 \n",
      "-------------------------------------------------------------------\n",
      "                      Coef.  Std.Err.    t    P>|t|   [0.025 0.975]\n",
      "-------------------------------------------------------------------\n",
      "Intercept            -0.0088   0.0108 -0.8188 0.4133 -0.0300 0.0123\n",
      "DX_GROUP[T.patients]  0.0451   0.0152  2.9628 0.0032  0.0152 0.0750\n",
      "-------------------------------------------------------------------\n",
      "Omnibus:              14.622        Durbin-Watson:           2.034 \n",
      "Prob(Omnibus):        0.001         Jarque-Bera (JB):        15.380\n",
      "Skew:                 -0.402        Prob(JB):                0.000 \n",
      "Kurtosis:             2.935         Condition No.:           3     \n",
      "===================================================================\n",
      "\n",
      "net 3 sbt sub2\n",
      "                  Results: Ordinary least squares\n",
      "====================================================================\n",
      "Model:               OLS               Adj. R-squared:      0.012   \n",
      "Dependent Variable:  sub2              AIC:                 -99.1005\n",
      "Date:                2016-06-25 12:54  BIC:                 -90.4162\n",
      "No. Observations:    568               Log-Likelihood:      51.550  \n",
      "Df Model:            1                 F-statistic:         8.000   \n",
      "Df Residuals:        566               Prob (F-statistic):  0.00484 \n",
      "R-squared:           0.014             Scale:               0.049003\n",
      "--------------------------------------------------------------------\n",
      "                      Coef.  Std.Err.    t    P>|t|   [0.025  0.975]\n",
      "--------------------------------------------------------------------\n",
      "Intercept             0.0128   0.0131  0.9771 0.3290 -0.0130  0.0386\n",
      "DX_GROUP[T.patients] -0.0525   0.0186 -2.8284 0.0048 -0.0890 -0.0161\n",
      "--------------------------------------------------------------------\n",
      "Omnibus:               44.101        Durbin-Watson:           2.036 \n",
      "Prob(Omnibus):         0.000         Jarque-Bera (JB):        52.824\n",
      "Skew:                  0.744         Prob(JB):                0.000 \n",
      "Kurtosis:              3.126         Condition No.:           3     \n",
      "====================================================================\n",
      "\n",
      "net 6 sbt sub1\n",
      "                  Results: Ordinary least squares\n",
      "====================================================================\n",
      "Model:                OLS              Adj. R-squared:     0.012    \n",
      "Dependent Variable:   sub1             AIC:                -354.9106\n",
      "Date:                 2016-06-25 12:54 BIC:                -346.2264\n",
      "No. Observations:     568              Log-Likelihood:     179.46   \n",
      "Df Model:             1                F-statistic:        8.119    \n",
      "Df Residuals:         566              Prob (F-statistic): 0.00454  \n",
      "R-squared:            0.014            Scale:              0.031234 \n",
      "--------------------------------------------------------------------\n",
      "                      Coef.  Std.Err.    t    P>|t|   [0.025  0.975]\n",
      "--------------------------------------------------------------------\n",
      "Intercept             0.0149   0.0105  1.4236 0.1551 -0.0057  0.0355\n",
      "DX_GROUP[T.patients] -0.0423   0.0148 -2.8495 0.0045 -0.0714 -0.0131\n",
      "--------------------------------------------------------------------\n",
      "Omnibus:                0.134         Durbin-Watson:           2.172\n",
      "Prob(Omnibus):          0.935         Jarque-Bera (JB):        0.229\n",
      "Skew:                   -0.013        Prob(JB):                0.892\n",
      "Kurtosis:               2.905         Condition No.:           3    \n",
      "====================================================================\n",
      "\n",
      "net 6 sbt sub5\n",
      "                  Results: Ordinary least squares\n",
      "===================================================================\n",
      "Model:               OLS              Adj. R-squared:     0.016    \n",
      "Dependent Variable:  sub5             AIC:                -249.3417\n",
      "Date:                2016-06-25 12:54 BIC:                -240.6575\n",
      "No. Observations:    568              Log-Likelihood:     126.67   \n",
      "Df Model:            1                F-statistic:        10.11    \n",
      "Df Residuals:        566              Prob (F-statistic): 0.00156  \n",
      "R-squared:           0.018            Scale:              0.037614 \n",
      "-------------------------------------------------------------------\n",
      "                      Coef.  Std.Err.    t    P>|t|   [0.025 0.975]\n",
      "-------------------------------------------------------------------\n",
      "Intercept            -0.0156   0.0115 -1.3557 0.1757 -0.0382 0.0070\n",
      "DX_GROUP[T.patients]  0.0517   0.0163  3.1796 0.0016  0.0198 0.0837\n",
      "-------------------------------------------------------------------\n",
      "Omnibus:               18.186        Durbin-Watson:           2.131\n",
      "Prob(Omnibus):         0.000         Jarque-Bera (JB):        9.734\n",
      "Skew:                  0.115         Prob(JB):                0.008\n",
      "Kurtosis:              2.402         Condition No.:           3    \n",
      "===================================================================\n",
      "\n"
     ]
    }
   ],
   "source": [
    "out_path = '/data1/guilimin/abide/subtype/sc7/full_maybe/'\n",
    "for s_id, eff in enumerate(sbt_effects):\n",
    "    network, subtype = eff\n",
    "    sub_name = 'sub{}'.format(subtype)\n",
    "    w_tmp = 'sbt_weights_net_{}.csv'\n",
    "    weights = pd.read_csv(os.path.join(base_path, w_tmp.format(network)))\n",
    "    weights.rename(columns={' ':'SUB_ID'}, inplace=True)\n",
    "    weights.columns = weights.columns.str.strip(' ')\n",
    "    weights.SUB_ID = weights.SUB_ID.str.extract('(?<=sub_)(\\d+)').astype(int)\n",
    "    merged = pd.merge(model, weights, on='SUB_ID', how='inner')\n",
    "    # Relabel the controls and patients\n",
    "    merged.DX_GROUP.replace({1:'patients', 2:'controls'}, inplace=True)\n",
    "    \n",
    "    smresults = smf.ols('{} ~ DX_GROUP'.format(sub_name), merged).fit()\n",
    "    print('net {} sbt {}'.format(network, sub_name))\n",
    "    print(smresults.summary2())"
   ]
  },
  {
   "cell_type": "markdown",
   "metadata": {},
   "source": [
    "Ok, same results here as well (apart for the fact that this model used the patients as the reference and thus has inverted signs). Fucking hell it's hot here."
   ]
  },
  {
   "cell_type": "code",
   "execution_count": null,
   "metadata": {
    "collapsed": true
   },
   "outputs": [],
   "source": [
    "out_path = '/data1/guilimin/abide/subtype/sc7/full_maybe/'\n",
    "for s_id, eff in enumerate(sbt_effects):\n",
    "    network, subtype = eff\n",
    "    sub_name = 'sub{}'.format(subtype)\n",
    "    w_tmp = 'sbt_weights_net_{}.csv'\n",
    "    weights = pd.read_csv(os.path.join(base_path, w_tmp.format(network)))\n",
    "    weights.rename(columns={' ':'SUB_ID'}, inplace=True)\n",
    "    weights.columns = weights.columns.str.strip(' ')\n",
    "    weights.SUB_ID = weights.SUB_ID.str.extract('(?<=sub_)(\\d+)').astype(int)\n",
    "    merged = pd.merge(model, weights, on='SUB_ID', how='inner')\n",
    "    # Relabel the controls and patients\n",
    "    merged.DX_GROUP.replace({1:'patients', 2:'controls'}, inplace=True)\n",
    "    \n",
    "    smresults = smf.ols('{} ~ DX_GROUP'.format(sub_name), merged).fit()\n",
    "    print('net {} sbt {}'.format(network, sub_name))\n",
    "    print(smresults.summary2())"
   ]
  }
 ],
 "metadata": {
  "kernelspec": {
   "display_name": "Python 3",
   "language": "python",
   "name": "python3"
  },
  "language_info": {
   "codemirror_mode": {
    "name": "ipython",
    "version": 3
   },
   "file_extension": ".py",
   "mimetype": "text/x-python",
   "name": "python",
   "nbconvert_exporter": "python",
   "pygments_lexer": "ipython3",
   "version": "3.5.1+"
  }
 },
 "nbformat": 4,
 "nbformat_minor": 0
}
