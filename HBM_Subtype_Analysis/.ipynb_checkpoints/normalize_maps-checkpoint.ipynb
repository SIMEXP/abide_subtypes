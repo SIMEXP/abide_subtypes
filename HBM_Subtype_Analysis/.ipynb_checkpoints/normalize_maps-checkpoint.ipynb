{
 "cells": [
  {
   "cell_type": "markdown",
   "metadata": {},
   "source": [
    "# Z-ify the difference maps"
   ]
  },
  {
   "cell_type": "code",
   "execution_count": 1,
   "metadata": {
    "collapsed": true
   },
   "outputs": [],
   "source": [
    "import os\n",
    "import numpy as np\n",
    "import pandas as pd\n",
    "import nibabel as nib\n",
    "import nilearn as nil\n",
    "from scipy import io as sio\n",
    "from matplotlib import gridspec\n",
    "from nilearn import plotting as nlp\n",
    "from matplotlib import pyplot as plt"
   ]
  },
  {
   "cell_type": "code",
   "execution_count": 2,
   "metadata": {
    "collapsed": true
   },
   "outputs": [],
   "source": [
    "%matplotlib inline"
   ]
  },
  {
   "cell_type": "code",
   "execution_count": 3,
   "metadata": {
    "collapsed": true
   },
   "outputs": [],
   "source": [
    "# Paths\n",
    "# Let's start with the full sample, maybe data, mean subtype at scale 7. We look at everything\n",
    "pri_path = '/data1/cambridge/template/template_cambridge_basc_multiscale_sym_scale007.nii.gz'\n",
    "res_path = '/data1/guilimin/abide/subtype/sc7/full_maybe/network_{}/'\n",
    "mod_path = '/data1/guilimin/abide/pheno/sc7/model_full_maybe_sc7.csv'\n",
    "mas_path = '/data1/guilimin/abide/masks/template_mask.nii.gz'\n",
    "sbt_effects = ((1,2),(1,5),(2,5),(3,1),(3,2),(6,1),(6,5))"
   ]
  },
  {
   "cell_type": "code",
   "execution_count": 4,
   "metadata": {
    "collapsed": true
   },
   "outputs": [],
   "source": [
    "m_img = nib.load(mas_path)\n",
    "mask = m_img.get_data().astype(bool)"
   ]
  },
  {
   "cell_type": "code",
   "execution_count": 6,
   "metadata": {
    "collapsed": true
   },
   "outputs": [],
   "source": [
    "net, sbt = sbt_effects[0]\n",
    "ns = sio.loadmat('/data1/guilimin/abide/subtype/sc7/full_maybe/network_{0}/network_{0}_stack.mat'.format(net))\n",
    "sbt = sio.loadmat('/data1/guilimin/abide/subtype/sc7/full_maybe/network_{0}/network_{0}_subtype.mat'.format(net))\n",
    "stack = ns['stack']\n",
    "part = sbt['part'].flatten()"
   ]
  },
  {
   "cell_type": "code",
   "execution_count": 11,
   "metadata": {
    "collapsed": false
   },
   "outputs": [],
   "source": [
    "tmp = np.zeros_like(mask, dtype=float)\n",
    "tmp[mask] = np.mean(stack[part==1,:])"
   ]
  },
  {
   "cell_type": "code",
   "execution_count": null,
   "metadata": {
    "collapsed": true
   },
   "outputs": [],
   "source": []
  },
  {
   "cell_type": "code",
   "execution_count": null,
   "metadata": {
    "collapsed": true
   },
   "outputs": [],
   "source": [
    "out_path = '/data1/guilimin/abide/subtype/sc7/full_maybe/'\n",
    "for s_id, eff in enumerate(sbt_effects):\n",
    "    net, sbt = eff\n",
    "    ns = sio.loadmat('/data1/guilimin/abide/subtype/sc7/full_maybe/network_{0}/network_{0}_stack.mat'.format(net))\n",
    "    sbt = sio.loadmat('/data1/guilimin/abide/subtype/sc7/full_maybe/network_{0}/network_{0}_subtype.mat'.format(net))\n",
    "    stack = ns['stack']\n",
    "    part = sbt['part'].flatten()\n",
    "    \n",
    "    tmp = np.zeros_like(mask, dtype=float)\n",
    "    tmp[mask] = np.mean(stack[part==1,:])\n",
    "    # get the subtype\n",
    "    submap = res[..., sbt-1]\n",
    "    s_img = nib.Nifti1Image(submap, header=res_img.get_header(), affine=res_img.get_affine())\n",
    "    s_name = 'net_{}_sbt_{}_map_norm.nii.gz'.format(net, sbt)\n",
    "    nib.save(s_img, os.path.join(out_path, s_name))"
   ]
  }
 ],
 "metadata": {
  "kernelspec": {
   "display_name": "Python 3",
   "language": "python",
   "name": "python3"
  },
  "language_info": {
   "codemirror_mode": {
    "name": "ipython",
    "version": 3
   },
   "file_extension": ".py",
   "mimetype": "text/x-python",
   "name": "python",
   "nbconvert_exporter": "python",
   "pygments_lexer": "ipython3",
   "version": "3.5.1+"
  }
 },
 "nbformat": 4,
 "nbformat_minor": 0
}
