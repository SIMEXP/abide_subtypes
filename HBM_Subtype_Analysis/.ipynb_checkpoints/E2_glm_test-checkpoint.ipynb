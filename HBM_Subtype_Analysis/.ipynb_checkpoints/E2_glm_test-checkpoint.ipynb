{
 "cells": [
  {
   "cell_type": "markdown",
   "metadata": {},
   "source": [
    "The goal here is to replicate the findings of the Matlab GLM and make sure I'm not shooting myself in the foot somewhere"
   ]
  },
  {
   "cell_type": "code",
   "execution_count": 31,
   "metadata": {
    "collapsed": true
   },
   "outputs": [],
   "source": [
    "# Imports\n",
    "import os\n",
    "import numpy as np\n",
    "import pandas as pd\n",
    "from scipy import io as sio\n",
    "from matplotlib import pyplot as plt"
   ]
  },
  {
   "cell_type": "code",
   "execution_count": 46,
   "metadata": {
    "collapsed": true
   },
   "outputs": [],
   "source": [
    "%matplotlib inline"
   ]
  },
  {
   "cell_type": "code",
   "execution_count": 52,
   "metadata": {
    "collapsed": true
   },
   "outputs": [],
   "source": [
    "# Paths\n",
    "in_path = '/data1/guilimin/abide/subtype/sc7/full_maybe//'\n",
    "in_pheno = '/data1/guilimin/abide/pheno/model_full_maybe_sc7.csv'"
   ]
  },
  {
   "cell_type": "code",
   "execution_count": 53,
   "metadata": {
    "collapsed": true
   },
   "outputs": [],
   "source": [
    "pheno = pd.read_csv(in_pheno)"
   ]
  },
  {
   "cell_type": "code",
   "execution_count": 54,
   "metadata": {
    "collapsed": false
   },
   "outputs": [
    {
     "name": "stdout",
     "output_type": "stream",
     "text": [
      "/data1/guilimin/abide/subtype/sc7/ados_maybe\n"
     ]
    }
   ],
   "source": [
    "cd /data1/guilimin/abide/subtype/sc7/ados_maybe/"
   ]
  },
  {
   "cell_type": "code",
   "execution_count": 55,
   "metadata": {
    "collapsed": false
   },
   "outputs": [
    {
     "name": "stdout",
     "output_type": "stream",
     "text": [
      "association_stats.mat      \u001b[0m\u001b[01;34mlogs\u001b[0m/                  sbt_weights_net_2.csv\r\n",
      "association_summary.csv    \u001b[01;34mnetwork_1\u001b[0m/             sbt_weights_net_3.csv\r\n",
      "fig_sbt_weights_net_1.pdf  \u001b[01;34mnetwork_2\u001b[0m/             sbt_weights_net_4.csv\r\n",
      "fig_sbt_weights_net_2.pdf  \u001b[01;34mnetwork_3\u001b[0m/             sbt_weights_net_5.csv\r\n",
      "fig_sbt_weights_net_3.pdf  \u001b[01;34mnetwork_4\u001b[0m/             sbt_weights_net_6.csv\r\n",
      "fig_sbt_weights_net_4.pdf  \u001b[01;34mnetwork_5\u001b[0m/             sbt_weights_net_7.csv\r\n",
      "fig_sbt_weights_net_5.pdf  \u001b[01;34mnetwork_6\u001b[0m/             subtype_weights.mat\r\n",
      "fig_sbt_weights_net_6.pdf  \u001b[01;34mnetwork_7\u001b[0m/\r\n",
      "fig_sbt_weights_net_7.pdf  sbt_weights_net_1.csv\r\n"
     ]
    }
   ],
   "source": [
    "ls"
   ]
  },
  {
   "cell_type": "code",
   "execution_count": 56,
   "metadata": {
    "collapsed": false
   },
   "outputs": [],
   "source": [
    "a = sio.loadmat(os.path.join(in_path, 'subtype_weights.mat'))"
   ]
  },
  {
   "cell_type": "code",
   "execution_count": 57,
   "metadata": {
    "collapsed": false
   },
   "outputs": [],
   "source": [
    "x = np.array(a['weight_mat'])"
   ]
  },
  {
   "cell_type": "code",
   "execution_count": 58,
   "metadata": {
    "collapsed": false
   },
   "outputs": [
    {
     "data": {
      "text/plain": [
       "(568, 5, 7)"
      ]
     },
     "execution_count": 58,
     "metadata": {},
     "output_type": "execute_result"
    }
   ],
   "source": [
    "x.shape"
   ]
  },
  {
   "cell_type": "code",
   "execution_count": 59,
   "metadata": {
    "collapsed": false
   },
   "outputs": [],
   "source": [
    "pat_ind = np.where(pheno.DX_GROUP==1)\n",
    "ctr_ind = np.where(pheno.DX_GROUP==2)"
   ]
  },
  {
   "cell_type": "code",
   "execution_count": 60,
   "metadata": {
    "collapsed": false
   },
   "outputs": [
    {
     "data": {
      "text/plain": [
       "2    284\n",
       "1    284\n",
       "Name: DX_GROUP, dtype: int64"
      ]
     },
     "execution_count": 60,
     "metadata": {},
     "output_type": "execute_result"
    }
   ],
   "source": [
    "pheno.DX_GROUP.value_counts()"
   ]
  },
  {
   "cell_type": "code",
   "execution_count": 61,
   "metadata": {
    "collapsed": false
   },
   "outputs": [],
   "source": [
    "pat = x[pat_ind, 1, 1]\n",
    "ctr = x[ctr_ind, 1, 1]"
   ]
  },
  {
   "cell_type": "code",
   "execution_count": 69,
   "metadata": {
    "collapsed": false
   },
   "outputs": [],
   "source": [
    "conc = np.concatenate((pat, ctr),axis=0)"
   ]
  },
  {
   "cell_type": "code",
   "execution_count": null,
   "metadata": {
    "collapsed": true
   },
   "outputs": [],
   "source": [
    "pat_x = np.random.normal(1, 0.04, len(pat))\n",
    "ax_mot.plot(pat_x, pat, '.k')\n",
    "ctr_x = np.random.normal(1, 0.04, len(ctr))\n",
    "ax_mot.plot(ctr_x, ctr, '.k')\n",
    "\n",
    "# Motion\n",
    "        y_mot = x['FD_scrubbed'].values\n",
    "        x_mot = np.random.normal(i, 0.04, len(y_mot))\n",
    "        ax_mot.plot(x_mot, y_mot, '.k')"
   ]
  },
  {
   "cell_type": "code",
   "execution_count": 71,
   "metadata": {
    "collapsed": false
   },
   "outputs": [
    {
     "data": {
      "image/png": "[encoded data removed]",
      "text/plain": [
       "<matplotlib.figure.Figure at 0x7f1ccc34cfd0>"
      ]
     },
     "metadata": {},
     "output_type": "display_data"
    }
   ],
   "source": [
    "tmp = plt.boxplot(conc.T)"
   ]
  },
  {
   "cell_type": "code",
   "execution_count": null,
   "metadata": {
    "collapsed": true
   },
   "outputs": [],
   "source": []
  }
 ],
 "metadata": {
  "kernelspec": {
   "display_name": "Python 3",
   "language": "python",
   "name": "python3"
  },
  "language_info": {
   "codemirror_mode": {
    "name": "ipython",
    "version": 3
   },
   "file_extension": ".py",
   "mimetype": "text/x-python",
   "name": "python",
   "nbconvert_exporter": "python",
   "pygments_lexer": "ipython3",
   "version": "3.5.1+"
  }
 },
 "nbformat": 4,
 "nbformat_minor": 0
}
