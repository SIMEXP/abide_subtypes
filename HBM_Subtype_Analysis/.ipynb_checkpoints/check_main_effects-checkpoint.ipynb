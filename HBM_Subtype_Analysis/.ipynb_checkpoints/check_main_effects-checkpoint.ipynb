{
 "cells": [
  {
   "cell_type": "markdown",
   "metadata": {},
   "source": [
    "- check the direction of main effects by comparing mean differences\n",
    "- repeat the GLM analysis and compare with findings form pipeline (p_value, T...)\n",
    "- run a t-test between the two groups and to determine the significance of the difference\n",
    "- compute an effect size for the difference"
   ]
  },
  {
   "cell_type": "code",
   "execution_count": 1,
   "metadata": {
    "collapsed": true
   },
   "outputs": [],
   "source": [
    "import os\n",
    "import numpy as np\n",
    "import pandas as pd\n",
    "import nibabel as nib\n",
    "import nilearn as nil\n",
    "from scipy import io as sio\n",
    "from matplotlib import gridspec\n",
    "from nilearn import plotting as nlp\n",
    "from matplotlib import pyplot as plt"
   ]
  },
  {
   "cell_type": "code",
   "execution_count": 2,
   "metadata": {
    "collapsed": true
   },
   "outputs": [],
   "source": [
    "%matplotlib inline"
   ]
  },
  {
   "cell_type": "code",
   "execution_count": 3,
   "metadata": {
    "collapsed": true
   },
   "outputs": [],
   "source": [
    "sbt_effects = ((1,2),(1,5),(2,5),(3,1),(3,2),(6,1),(6,5))"
   ]
  },
  {
   "cell_type": "code",
   "execution_count": 9,
   "metadata": {
    "collapsed": true
   },
   "outputs": [],
   "source": [
    "base_path = '/data1/guilimin/abide/subtype/sc7/full_maybe/'\n",
    "mod_path = '/data1/guilimin/abide/pheno/sc7/model_full_maybe_sc7.csv'"
   ]
  },
  {
   "cell_type": "code",
   "execution_count": 10,
   "metadata": {
    "collapsed": true
   },
   "outputs": [],
   "source": [
    "model = pd.read_csv(mod_path)"
   ]
  },
  {
   "cell_type": "code",
   "execution_count": 11,
   "metadata": {
    "collapsed": false
   },
   "outputs": [
    {
     "data": {
      "text/plain": [
       "2    284\n",
       "1    284\n",
       "Name: DX_GROUP, dtype: int64"
      ]
     },
     "execution_count": 11,
     "metadata": {},
     "output_type": "execute_result"
    }
   ],
   "source": [
    "test = pd.read_csv('/data1/guilimin/abide/pheno/merged_abide_full_maybe.csv')\n",
    "test.DX_GROUP.value_counts()"
   ]
  },
  {
   "cell_type": "code",
   "execution_count": 28,
   "metadata": {
    "collapsed": false
   },
   "outputs": [
    {
     "name": "stdout",
     "output_type": "stream",
     "text": [
      "net 1 sbt 2 negative (0.0480)\n",
      "net 1 sbt 5 positive (-0.0401)\n",
      "net 2 sbt 5 negative (0.0603)\n",
      "net 3 sbt 1 negative (0.0451)\n",
      "net 3 sbt 2 positive (-0.0525)\n",
      "net 6 sbt 1 positive (-0.0423)\n",
      "net 6 sbt 5 negative (0.0518)\n"
     ]
    },
    {
     "name": "stderr",
     "output_type": "stream",
     "text": [
      "/usr/local/lib/python3.5/dist-packages/ipykernel/__main__.py:9: FutureWarning: currently extract(expand=None) means expand=False (return Index/Series/DataFrame) but in a future version of pandas this will be changed to expand=True (return DataFrame)\n"
     ]
    }
   ],
   "source": [
    "out_path = '/data1/guilimin/abide/subtype/sc7/full_maybe/'\n",
    "for s_id, eff in enumerate(sbt_effects):\n",
    "    network, subtype = eff\n",
    "    sub_name = 'sub{}'.format(subtype)\n",
    "    w_tmp = 'sbt_weights_net_{}.csv'\n",
    "    weights = pd.read_csv(os.path.join(base_path, w_tmp.format(network)))\n",
    "    weights.rename(columns={' ':'SUB_ID'}, inplace=True)\n",
    "    weights.columns = weights.columns.str.strip(' ')\n",
    "    weights.SUB_ID = weights.SUB_ID.str.extract('(?<=sub_)(\\d+)').astype(int)\n",
    "    merged = pd.merge(model, weights, on='SUB_ID', how='inner')\n",
    "    # Relabel the controls and patients\n",
    "    merged.DX_GROUP.replace({1:'patients', 2:'controls'}, inplace=True)\n",
    "    \n",
    "    # Test the direction of the effect:\n",
    "    a = np.mean(merged[merged.DX_GROUP == 'patients'][sub_name].values) - np.mean(merged[merged.DX_GROUP == 'controls'][sub_name].values)\n",
    "    if a > 0:\n",
    "        print('net {} sbt {} negative ({:.4f})'.format(network, subtype, a))\n",
    "    else:\n",
    "        print('net {} sbt {} positive ({:.4f})'.format(network, subtype, a))"
   ]
  },
  {
   "cell_type": "markdown",
   "metadata": {},
   "source": [
    "Ok, the directions of the effects match the reports. Now for the significance of the findings"
   ]
  },
  {
   "cell_type": "code",
   "execution_count": null,
   "metadata": {
    "collapsed": true
   },
   "outputs": [],
   "source": []
  }
 ],
 "metadata": {
  "kernelspec": {
   "display_name": "Python 3",
   "language": "python",
   "name": "python3"
  },
  "language_info": {
   "codemirror_mode": {
    "name": "ipython",
    "version": 3
   },
   "file_extension": ".py",
   "mimetype": "text/x-python",
   "name": "python",
   "nbconvert_exporter": "python",
   "pygments_lexer": "ipython3",
   "version": "3.5.1+"
  }
 },
 "nbformat": 4,
 "nbformat_minor": 0
}
