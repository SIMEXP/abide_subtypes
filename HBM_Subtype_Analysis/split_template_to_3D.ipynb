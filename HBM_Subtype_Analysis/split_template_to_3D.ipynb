{
 "cells": [
  {
   "cell_type": "code",
   "execution_count": 1,
   "metadata": {
    "collapsed": true
   },
   "outputs": [],
   "source": [
    "import os\n",
    "import numpy as np\n",
    "import pandas as pd\n",
    "import nibabel as nib\n",
    "import nilearn as nil\n",
    "from scipy import io as sio\n",
    "from matplotlib import gridspec\n",
    "from nilearn import plotting as nlp\n",
    "from matplotlib import pyplot as plt"
   ]
  },
  {
   "cell_type": "code",
   "execution_count": null,
   "metadata": {
    "collapsed": true
   },
   "outputs": [],
   "source": []
  },
  {
   "cell_type": "code",
   "execution_count": 6,
   "metadata": {
    "collapsed": true
   },
   "outputs": [],
   "source": [
    "# Paths\n",
    "mask_path = '/data1/guilimin/abide/masks/template_cambridge_basc_multiscale_sym_scale007.nii.gz'\n",
    "out_path = '/data1/cambridge/template/scale7/'"
   ]
  },
  {
   "cell_type": "code",
   "execution_count": 5,
   "metadata": {
    "collapsed": true
   },
   "outputs": [],
   "source": [
    "t_img = nib.load(mask_path)\n",
    "template = t_img.get_data()"
   ]
  },
  {
   "cell_type": "code",
   "execution_count": 8,
   "metadata": {
    "collapsed": false
   },
   "outputs": [],
   "source": [
    "for sc in np.arange(7)+1:\n",
    "    tmp_c = np.zeros_like(template)\n",
    "    tmp_b = np.zeros_like(template)\n",
    "    tmp_c[template==sc] = sc\n",
    "    tmp_b[template==sc] = 1\n",
    "    \n",
    "    c_out = 'network_{}_continuous.nii.gz'.format(sc)\n",
    "    b_out = 'network_{}_binary.nii.gz'.format(sc)\n",
    "    \n",
    "    c_img = nib.Nifti1Image(tmp_c, header=t_img.get_header(), affine=t_img.get_affine())\n",
    "    b_img = nib.Nifti1Image(tmp_b, header=t_img.get_header(), affine=t_img.get_affine())\n",
    "    \n",
    "    nib.save(c_img, os.path.join(out_path, c_out))\n",
    "    nib.save(b_img, os.path.join(out_path, b_out))"
   ]
  }
 ],
 "metadata": {
  "kernelspec": {
   "display_name": "Python 3",
   "language": "python",
   "name": "python3"
  },
  "language_info": {
   "codemirror_mode": {
    "name": "ipython",
    "version": 3
   },
   "file_extension": ".py",
   "mimetype": "text/x-python",
   "name": "python",
   "nbconvert_exporter": "python",
   "pygments_lexer": "ipython3",
   "version": "3.5.1+"
  }
 },
 "nbformat": 4,
 "nbformat_minor": 0
}
