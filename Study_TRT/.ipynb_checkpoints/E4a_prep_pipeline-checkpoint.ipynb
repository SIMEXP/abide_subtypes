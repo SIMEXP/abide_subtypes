{
 "cells": [
  {
   "cell_type": "markdown",
   "metadata": {},
   "source": [
    "# Replicability of Subtype Weights\n",
    "This script is used to set up the pipeline to create subtype maps on the full ABIDE sample. Since we don't care about any association test (only want the subtype maps) we will put some dummy association test in the pipeline (the pipeline is not yet able to run without doing some association test)."
   ]
  },
  {
   "cell_type": "code",
   "execution_count": 1,
   "metadata": {
    "collapsed": true
   },
   "outputs": [],
   "source": [
    "# Imports\n",
    "import os\n",
    "import numpy as np\n",
    "import pandas as pd\n",
    "from scipy import io as sio"
   ]
  },
  {
   "cell_type": "code",
   "execution_count": 2,
   "metadata": {
    "collapsed": false
   },
   "outputs": [],
   "source": [
    "# Variable names\n",
    "regress_vars = ['FD_scrubbed']\n",
    "model_vars = ['SUB_ID', 'FD_scrubbed']\n",
    "nb_subtypes = 5\n",
    "coi = 'FD_scrubbed'\n",
    "procs = 6\n",
    "scale = 7\n",
    "\n",
    "model_name = 'model_qc_maybe_full_subtpye_sc{}.csv'.format(scale)\n",
    "mat_name = 'model_qc_maybe_full_subtpye_sc{}.mat'.format(scale)\n",
    "\n",
    "# Paths\n",
    "root = '/data1/guilimin/data/abide/'\n",
    "pheno_in = os.path.join(root, 'pheno/merged_abide_full_maybe.csv')\n",
    "\n",
    "# Fixed stuff\n",
    "pipe_folder = os.path.join(root, 'paper/sc{}/subtype_full/'.format(scale))\n",
    "mask_path = os.path.join(root, 'masks/template_mask.nii.gz')\n",
    "f_tmp = 'netstack_fmri_{:07}_session_{}_run{}.nii.gz'\n",
    "model_dir = os.path.join(root, 'pheno', 'sc{}'.format(scale))"
   ]
  },
  {
   "cell_type": "code",
   "execution_count": 3,
   "metadata": {
    "collapsed": true
   },
   "outputs": [],
   "source": [
    "if not os.path.isdir(model_dir):\n",
    "    os.makedirs(model_dir)\n",
    "if not coi in model_vars:\n",
    "    model_vars.append(coi)"
   ]
  },
  {
   "cell_type": "code",
   "execution_count": 4,
   "metadata": {
    "collapsed": false
   },
   "outputs": [],
   "source": [
    "pheno = pd.read_csv(pheno_in)"
   ]
  },
  {
   "cell_type": "code",
   "execution_count": 5,
   "metadata": {
    "collapsed": false
   },
   "outputs": [],
   "source": [
    "data_dict = dict()\n",
    "path_list = list()\n",
    "sub_list = list()\n",
    "pop_ind = list()\n",
    "for i, r in pheno.iterrows():\n",
    "    sub_name = 'sub_{}'.format(r.SUB_ID)\n",
    "    rel_path = os.path.join('netstack', 'sca_z', 'sc{}'.format(scale),\n",
    "                            f_tmp.format(r.SUB_ID,\n",
    "                                         r.session,\n",
    "                                         r.run))\n",
    "    \n",
    "    in_path = os.path.join(root, rel_path)\n",
    "    # Check path locally\n",
    "    if not os.path.isfile(in_path):\n",
    "        print('Something wrong with {}'.format(in_path))\n",
    "        pop_ind.append(i)\n",
    "    else:\n",
    "        data_dict[sub_name] = in_path\n",
    "        path_list.append(in_path)\n",
    "        sub_list.append(sub_name)\n",
    "        \n",
    "path_array = np.array(path_list, dtype=object)\n",
    "sub_array = np.array(sub_list, dtype=object)"
   ]
  },
  {
   "cell_type": "code",
   "execution_count": 6,
   "metadata": {
    "collapsed": true
   },
   "outputs": [],
   "source": [
    "# Get rid of those guys\n",
    "pheno.drop(pheno.index[pop_ind], inplace=True)\n",
    "# Make dummies for site\n",
    "dummies = pd.get_dummies(pheno['SITE_ID'], prefix='dummie')\n",
    "# Drop the first site again so we can add an intercept\n",
    "dummies.drop(dummies.columns[0], axis=1, inplace=True)\n",
    "# Get dummie names\n",
    "dummie_names = list(dummies.columns)\n",
    "\n",
    "# Select and reorder the columns I need to run\n",
    "ordered_pheno = pheno[model_vars]\n",
    "# Add the dummie stuff to it\n",
    "model = pd.merge(ordered_pheno, dummies, left_index=True, right_index=True)\n",
    "# Add the dummies to the regressors\n",
    "regressors = regress_vars + dummie_names"
   ]
  },
  {
   "cell_type": "code",
   "execution_count": 7,
   "metadata": {
    "collapsed": true
   },
   "outputs": [],
   "source": [
    "# Save the model locally\n",
    "model.to_csv(os.path.join(model_dir, model_name), index=False)"
   ]
  },
  {
   "cell_type": "code",
   "execution_count": 8,
   "metadata": {
    "collapsed": false
   },
   "outputs": [],
   "source": [
    "# Set up the files_in\n",
    "file_dict = dict()\n",
    "#file_dict['data'] = data_dict\n",
    "file_dict['mask'] = mask_path\n",
    "file_dict['model'] = os.path.join(root, 'pheno', 'sc{}'.format(scale), model_name)"
   ]
  },
  {
   "cell_type": "code",
   "execution_count": 9,
   "metadata": {
    "collapsed": true
   },
   "outputs": [],
   "source": [
    "# Set up the opt\n",
    "opt_dict = dict()\n",
    "opt_dict['folder_out'] = pipe_folder\n",
    "opt_dict['scale'] = scale\n",
    "opt_dict['stack'] = {'regress_conf': np.array(regressors,dtype=object)}\n",
    "opt_dict['subtype'] = {'nb_subtype':nb_subtypes, 'sub_map_type':'mean'}# Set up psom options\n",
    "psom_dict = dict()\n",
    "psom_dict['path_logs'] = os.path.join(pipe_folder, 'logs')\n",
    "psom_dict['max_queued'] = procs\n",
    "\n",
    "# Make the regressor thingee\n",
    "cont_dict = dict()\n",
    "#for regr in regressors:\n",
    "#    cont_dict[regr] = 0\n",
    "# Add the thing I am interested in \n",
    "cont_dict[coi] = 1\n",
    "\n",
    "# Add this\n",
    "opt_dict['association'] = {'contrast':cont_dict, 'fdr':0.05}\n",
    "# Set test to true\n",
    "opt_dict['flag_test'] = True\n",
    "# No figures, octave is too stupid for figures\n",
    "opt_dict['flag_visu'] = False\n",
    "opt_dict['flag_chi2'] = False"
   ]
  },
  {
   "cell_type": "code",
   "execution_count": 10,
   "metadata": {
    "collapsed": true
   },
   "outputs": [],
   "source": [
    "# Set up psom options\n",
    "psom_dict = dict()\n",
    "psom_dict['path_logs'] = os.path.join(pipe_folder, 'logs')\n",
    "psom_dict['max_queued'] = procs"
   ]
  },
  {
   "cell_type": "code",
   "execution_count": 11,
   "metadata": {
    "collapsed": true
   },
   "outputs": [],
   "source": [
    "# Save the whole shebang\n",
    "mat_dict = dict()\n",
    "mat_dict['files_in'] = file_dict\n",
    "mat_dict['opt'] = opt_dict\n",
    "mat_dict['opt_psom'] = psom_dict\n",
    "mat_dict['paths'] = path_array\n",
    "mat_dict['subs'] = sub_array\n",
    "sio.savemat(os.path.join(model_dir, mat_name), mat_dict)"
   ]
  }
 ],
 "metadata": {
  "kernelspec": {
   "display_name": "Python 3",
   "language": "python",
   "name": "python3"
  },
  "language_info": {
   "codemirror_mode": {
    "name": "ipython",
    "version": 3
   },
   "file_extension": ".py",
   "mimetype": "text/x-python",
   "name": "python",
   "nbconvert_exporter": "python",
   "pygments_lexer": "ipython3",
   "version": "3.5.2+"
  }
 },
 "nbformat": 4,
 "nbformat_minor": 1
}
