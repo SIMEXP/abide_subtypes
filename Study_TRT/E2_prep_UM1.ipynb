{
 "cells": [
  {
   "cell_type": "markdown",
   "metadata": {},
   "source": [
    "# Prepare UM1 sample for E2\n",
    "I want a sample of the UM1 data from CoRR to run my retest analysis on.\n",
    "\n"
   ]
  },
  {
   "cell_type": "code",
   "execution_count": 1,
   "metadata": {
    "collapsed": true
   },
   "outputs": [],
   "source": [
    "# Imports\n",
    "import pandas as pd"
   ]
  },
  {
   "cell_type": "code",
   "execution_count": 2,
   "metadata": {
    "collapsed": true
   },
   "outputs": [],
   "source": [
    "# Paths\n",
    "pheno_in = '/home/surchs/GDrive/Projects/Subtypes/TRT/stopad_model_16_6_21_moreapoe.csv'\n",
    "pheno_out = '/home/surchs/GDrive/Projects/Subtypes/TRT/prevent_AD_good.csv'\n",
    "motion_in = '/home/surchs/GDrive/Projects/Subtypes/TRT/qc_scrubbing_group.csv'\n",
    "qc_in = '/home/surchs/GDrive/Projects/Subtypes/TRT/rs-fMRI_NIAK_preprocessing_QC_DR2.csv'\n",
    "full_out = '/home/surchs/GDrive/Projects/Subtypes/TRT/full_prevent_AD_merged.csv'\n",
    "\n",
    "pass_out = '/home/surchs/GDrive/Projects/Subtypes/TRT/pAD_base_pass_PRE.csv'"
   ]
  },
  {
   "cell_type": "code",
   "execution_count": 3,
   "metadata": {
    "collapsed": false
   },
   "outputs": [],
   "source": [
    "# Read the phenotype file\n",
    "pheno = pd.read_table(pheno_in)"
   ]
  },
  {
   "cell_type": "code",
   "execution_count": 4,
   "metadata": {
    "collapsed": true
   },
   "outputs": [],
   "source": [
    "# Rename the subject column to something useful\n",
    "pheno.rename(columns={'Unnamed: 0':'SubID'}, inplace=True)"
   ]
  },
  {
   "cell_type": "code",
   "execution_count": 5,
   "metadata": {
    "collapsed": false
   },
   "outputs": [
    {
     "name": "stderr",
     "output_type": "stream",
     "text": [
      "/usr/local/lib/python3.5/dist-packages/ipykernel/__main__.py:3: SettingWithCopyWarning: \n",
      "A value is trying to be set on a copy of a slice from a DataFrame\n",
      "\n",
      "See the caveats in the documentation: http://pandas.pydata.org/pandas-docs/stable/indexing.html#indexing-view-versus-copy\n",
      "  app.launch_new_instance()\n"
     ]
    }
   ],
   "source": [
    "# Make an extra column to encode the treatment group\n",
    "pheno['Group'] = 'PRE'\n",
    "pheno.Group[pheno.SubID.str.contains('NAP')] = 'NAP'"
   ]
  },
  {
   "cell_type": "code",
   "execution_count": 6,
   "metadata": {
    "collapsed": false
   },
   "outputs": [
    {
     "data": {
      "text/plain": [
       "NAP    188\n",
       "PRE    104\n",
       "Name: Group, dtype: int64"
      ]
     },
     "execution_count": 6,
     "metadata": {},
     "output_type": "execute_result"
    }
   ],
   "source": [
    "# Take a look at the counts\n",
    "pheno.Group.value_counts()"
   ]
  },
  {
   "cell_type": "code",
   "execution_count": 7,
   "metadata": {
    "collapsed": true
   },
   "outputs": [],
   "source": [
    "pheno.to_csv(pheno_out, index=False)"
   ]
  },
  {
   "cell_type": "code",
   "execution_count": 8,
   "metadata": {
    "collapsed": true
   },
   "outputs": [],
   "source": [
    "# Get QC information\n",
    "qc = pd.read_csv(qc_in)\n",
    "qc['rest_pass'] = qc['Resting_session_QC_status']=='pass'\n",
    "qc['SubID'] = qc['preprocess_id']"
   ]
  },
  {
   "cell_type": "code",
   "execution_count": 9,
   "metadata": {
    "collapsed": false
   },
   "outputs": [],
   "source": [
    "# Get the motion information\n",
    "motion = pd.read_csv(motion_in)\n",
    "motion.rename(columns={' ':'SubID'}, inplace=True)"
   ]
  },
  {
   "cell_type": "code",
   "execution_count": 10,
   "metadata": {
    "collapsed": false
   },
   "outputs": [],
   "source": [
    "full = pheno.merge(qc, on='SubID', how='inner')\n",
    "full.to_csv(full_out, index=False)"
   ]
  },
  {
   "cell_type": "code",
   "execution_count": 11,
   "metadata": {
    "collapsed": false
   },
   "outputs": [],
   "source": [
    "# Now get the non-treated individuals that pass QC\n",
    "tmp = full[full['rest_pass']]\n",
    "tmp = tmp[tmp.Group=='PRE']\n",
    "passers = tmp[tmp.MRI_Visit=='Pass']\n",
    "passers.to_csv(pass_out, index=False)"
   ]
  },
  {
   "cell_type": "code",
   "execution_count": 19,
   "metadata": {
    "collapsed": false
   },
   "outputs": [
    {
     "data": {
      "text/plain": [
       "Index(['SubID', 'Gender ', 'Age_months', 'Tau ', 'Beta ', 'pTau ', 'vol_rHC ',\n",
       "       'vol_lHC ', 'fd_mean ', 'qc', 'apoe_bin', 'tEAO', 'parage', 'Group',\n",
       "       'PSCID', 'CandID', 'SubprojectID', 'Visit_label', 'Visit',\n",
       "       'MRI_Acquisition_Date', 'MRI_Visit', 'MRI_Pending',\n",
       "       'Visit_level_comment', 'preprocess_id', 'T1_file',\n",
       "       'T1_intensity_corrected', 'NU', 'xcorr_anat', 'xcorr_func',\n",
       "       'FD_scrubbed1', 'FD_scrubbed2', 'Mean_FD', 'frames_OK1', 'frames_OK2 ',\n",
       "       'Resting_session_QC_status', 'NIAK_comment', 'Unnamed: 22',\n",
       "       'Unnamed: 23', 'rest_pass'],\n",
       "      dtype='object')"
      ]
     },
     "execution_count": 19,
     "metadata": {},
     "output_type": "execute_result"
    }
   ],
   "source": [
    "full.columns"
   ]
  },
  {
   "cell_type": "code",
   "execution_count": 21,
   "metadata": {
    "collapsed": false
   },
   "outputs": [
    {
     "data": {
      "text/plain": [
       "0      s108583NAP\n",
       "1      s113451NAP\n",
       "2      s115095PRE\n",
       "3      s117603PRE\n",
       "4      s122650PRE\n",
       "5      s125043NAP\n",
       "6      s139940PRE\n",
       "7      s141584NAP\n",
       "8      s156906NAP\n",
       "9      s159332PRE\n",
       "10     s164071NAP\n",
       "11     s164879NAP\n",
       "12     s165177NAP\n",
       "13     s170612NAP\n",
       "14     s179044NAP\n",
       "15     s182051PRE\n",
       "16     s182763PRE\n",
       "17     s191856NAP\n",
       "18     s195980PRE\n",
       "19     s196834PRE\n",
       "20     s196878NAP\n",
       "21     s197681PRE\n",
       "22     s199569NAP\n",
       "23     s202177NAP\n",
       "24     s203712PRE\n",
       "25     s206939NAP\n",
       "26     s207358PRE\n",
       "27     s210743NAP\n",
       "28     s211391NAP\n",
       "29     s213764NAP\n",
       "          ...    \n",
       "262    s976083NAP\n",
       "263    s976111NAP\n",
       "264    s978946NAP\n",
       "265    s981116PRE\n",
       "266    s996215NAP\n",
       "267    s996554NAP\n",
       "268    s999145NAP\n",
       "269    s999919NAP\n",
       "270    s212386NAP\n",
       "271    s939893NAP\n",
       "272    s382393NAP\n",
       "273    s293357NAP\n",
       "274    s953894NAP\n",
       "275    s474049NAP\n",
       "276    s865106PRE\n",
       "277    s374617NAP\n",
       "278    s457566NAP\n",
       "279    s925267PRE\n",
       "280    s140960NAP\n",
       "281    s667167NAP\n",
       "282    s758274NAP\n",
       "283    s253863NAP\n",
       "284    s156450NAP\n",
       "285    s878709NAP\n",
       "286    s704508NAP\n",
       "287    s355531NAP\n",
       "288    s422116NAP\n",
       "289    s727207NAP\n",
       "290    s650513PRE\n",
       "291    s108647PRE\n",
       "Name: SubID, dtype: object"
      ]
     },
     "execution_count": 21,
     "metadata": {},
     "output_type": "execute_result"
    }
   ],
   "source": [
    "full.SubID"
   ]
  },
  {
   "cell_type": "code",
   "execution_count": null,
   "metadata": {
    "collapsed": true
   },
   "outputs": [],
   "source": []
  }
 ],
 "metadata": {
  "kernelspec": {
   "display_name": "Python 3",
   "language": "python",
   "name": "python3"
  },
  "language_info": {
   "codemirror_mode": {
    "name": "ipython",
    "version": 3
   },
   "file_extension": ".py",
   "mimetype": "text/x-python",
   "name": "python",
   "nbconvert_exporter": "python",
   "pygments_lexer": "ipython3",
   "version": "3.5.2+"
  }
 },
 "nbformat": 4,
 "nbformat_minor": 1
}
