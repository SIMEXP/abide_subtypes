{
 "cells": [
  {
   "cell_type": "code",
   "execution_count": 287,
   "metadata": {
    "collapsed": true
   },
   "outputs": [],
   "source": [
    "# Imports\n",
    "import numpy as np\n",
    "from scipy import io as sio\n",
    "from sklearn import metrics as skm\n",
    "from matplotlib import pyplot as plt\n",
    "from statsmodels.stats import inter_rater as sir"
   ]
  },
  {
   "cell_type": "code",
   "execution_count": 288,
   "metadata": {
    "collapsed": true
   },
   "outputs": [],
   "source": [
    "%matplotlib inline"
   ]
  },
  {
   "cell_type": "code",
   "execution_count": 304,
   "metadata": {
    "collapsed": true
   },
   "outputs": [],
   "source": [
    "network = 3\n",
    "path_1 = '/data1/guilimin/data/preventAD/subtype_TRT/subtype/sc7/pre/base_r1/network_{0}/network_{0}_subtype.mat'.format(network)\n",
    "path_2 = '/data1/guilimin/data/preventAD/subtype_TRT/subtype/sc7/pre/base_r2/network_{0}/network_{0}_subtype.mat'.format(network)"
   ]
  },
  {
   "cell_type": "code",
   "execution_count": 305,
   "metadata": {
    "collapsed": false
   },
   "outputs": [],
   "source": [
    "part_1 = sio.loadmat(path_1)['part']\n",
    "sord_1 = sio.loadmat(path_1)['subj_order'].astype(int).flatten()-1\n",
    "part_2 = sio.loadmat(path_2)['part']\n",
    "sord_2 = sio.loadmat(path_2)['subj_order'].astype(int).flatten()-1"
   ]
  },
  {
   "cell_type": "code",
   "execution_count": 306,
   "metadata": {
    "collapsed": false
   },
   "outputs": [
    {
     "data": {
      "text/plain": [
       "0.09371298134613729"
      ]
     },
     "execution_count": 306,
     "metadata": {},
     "output_type": "execute_result"
    }
   ],
   "source": [
    "skm.adjusted_rand_score(part_1.flatten(), part_2.flatten())"
   ]
  },
  {
   "cell_type": "code",
   "execution_count": 307,
   "metadata": {
    "collapsed": false
   },
   "outputs": [
    {
     "data": {
      "text/plain": [
       "array([ 5.,  5.,  4.,  5.,  2.,  5.,  2.,  2.,  5.,  5.,  5.,  2.,  3.,\n",
       "        4.,  4.,  3.,  4.,  5.,  4.,  1.,  5.,  1.,  5.,  1.,  2.,  4.,\n",
       "        5.,  5.,  3.,  4.,  4.,  4.,  1.,  5.,  5.,  4.,  5.,  1.,  4.,\n",
       "        4.,  1.,  1.,  4.,  4.,  5.,  5.,  5.,  3.,  5.,  5.,  4.,  4.,\n",
       "        1.,  4.,  1.,  3.,  4.,  4.,  4.,  4.,  3.,  5.,  2.,  4.,  5.,\n",
       "        5.,  3.,  5.,  5.,  5.,  5.,  3.,  5.,  2.,  2.,  5.,  4.,  3.,\n",
       "        5.,  1.,  2.,  3.,  4.,  4.,  5.,  3.,  4.])"
      ]
     },
     "execution_count": 307,
     "metadata": {},
     "output_type": "execute_result"
    }
   ],
   "source": [
    "part_1.flatten()"
   ]
  },
  {
   "cell_type": "code",
   "execution_count": 291,
   "metadata": {
    "collapsed": true
   },
   "outputs": [],
   "source": [
    "mat_1 = np.zeros((87,87))\n",
    "mat_2 = np.zeros((87,87))"
   ]
  },
  {
   "cell_type": "code",
   "execution_count": 292,
   "metadata": {
    "collapsed": false
   },
   "outputs": [],
   "source": [
    "for x in range(87):\n",
    "    for y in range(87):\n",
    "        if part_1[x] == part_1[y]:\n",
    "            mat_1[x,y] = 1\n",
    "        if part_2[x] == part_2[y]:\n",
    "            mat_2[x, y] = 1"
   ]
  },
  {
   "cell_type": "code",
   "execution_count": 293,
   "metadata": {
    "collapsed": false
   },
   "outputs": [
    {
     "name": "stdout",
     "output_type": "stream",
     "text": [
      "0.0897466879504\n"
     ]
    }
   ],
   "source": [
    "# Take the lower traingle of the matrix and compare\n",
    "mlt = np.tril(np.ones((87,87)),-1).astype(bool)\n",
    "lt_1 = mat_1[mlt]\n",
    "lt_2 = mat_2[mlt]\n",
    "conc = np.concatenate((lt_1[..., None], lt_2[..., None]),1)\n",
    "ctab = sir.to_table(conc)\n",
    "kappa = sir.cohens_kappa(ctab[0], return_results=False)\n",
    "print(kappa)"
   ]
  },
  {
   "cell_type": "code",
   "execution_count": 294,
   "metadata": {
    "collapsed": false
   },
   "outputs": [
    {
     "data": {
      "text/plain": [
       "0.04663016967076518"
      ]
     },
     "execution_count": 294,
     "metadata": {},
     "output_type": "execute_result"
    }
   ],
   "source": [
    "skm.adjusted_rand_score(lt_1, lt_2)"
   ]
  },
  {
   "cell_type": "code",
   "execution_count": 295,
   "metadata": {
    "collapsed": false
   },
   "outputs": [
    {
     "data": {
      "image/png": "[encoded data removed]",
      "text/plain": [
       "<matplotlib.figure.Figure at 0x7f3365a82940>"
      ]
     },
     "metadata": {},
     "output_type": "display_data"
    }
   ],
   "source": [
    "a = [np.corrcoef(mat_1[x,:], mat_2[x,:])[0,1] for x in range(87)]\n",
    "tmp = plt.hist(a)"
   ]
  },
  {
   "cell_type": "code",
   "execution_count": null,
   "metadata": {
    "collapsed": true
   },
   "outputs": [],
   "source": []
  },
  {
   "cell_type": "code",
   "execution_count": null,
   "metadata": {
    "collapsed": false
   },
   "outputs": [],
   "source": []
  },
  {
   "cell_type": "code",
   "execution_count": null,
   "metadata": {
    "collapsed": true
   },
   "outputs": [],
   "source": []
  }
 ],
 "metadata": {
  "kernelspec": {
   "display_name": "Python 3",
   "language": "python",
   "name": "python3"
  },
  "language_info": {
   "codemirror_mode": {
    "name": "ipython",
    "version": 3
   },
   "file_extension": ".py",
   "mimetype": "text/x-python",
   "name": "python",
   "nbconvert_exporter": "python",
   "pygments_lexer": "ipython3",
   "version": "3.5.2+"
  }
 },
 "nbformat": 4,
 "nbformat_minor": 1
}
