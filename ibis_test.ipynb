{
 "cells": [
  {
   "cell_type": "markdown",
   "metadata": {},
   "source": [
    "# IBIS sample test"
   ]
  },
  {
   "cell_type": "code",
   "execution_count": 1,
   "metadata": {
    "collapsed": true
   },
   "outputs": [],
   "source": [
    "# Imports\n",
    "import os\n",
    "import sys\n",
    "import glob\n",
    "import numpy as np\n",
    "import pandas as pd\n",
    "import nibabel as nib\n",
    "import brainbox as bb\n",
    "from multiprocessing import Pool"
   ]
  },
  {
   "cell_type": "code",
   "execution_count": 2,
   "metadata": {
    "collapsed": true
   },
   "outputs": [],
   "source": [
    "in_path = '/home/surchs/GDrive/PhD/Proposal/Other/all_data_longitudinal.csv'"
   ]
  },
  {
   "cell_type": "code",
   "execution_count": 3,
   "metadata": {
    "collapsed": false
   },
   "outputs": [
    {
     "name": "stderr",
     "output_type": "stream",
     "text": [
      "/usr/local/lib/python2.7/dist-packages/IPython/core/interactiveshell.py:2723: DtypeWarning: Columns (20,21,79,82,122,123,136,137,160,195,253,296,297,310,311,314,332,369,378,427,470,471,475,484,485,488,492,493,497,498,501,502,505,507,509,510,511,512,514,515,518,519,520,521,522,528,529,542,543,546,566,586,587,591,600,601,610,620,647,658,698,706,707,708,712,713,714,715,718,719,722,760,761,765,775,778) have mixed types. Specify dtype option on import or set low_memory=False.\n",
      "  interactivity=interactivity, compiler=compiler, result=result)\n"
     ]
    }
   ],
   "source": [
    "ibis = pd.read_csv(in_path)"
   ]
  },
  {
   "cell_type": "code",
   "execution_count": 8,
   "metadata": {
    "collapsed": false
   },
   "outputs": [],
   "source": [
    "a = list(ibis.columns)"
   ]
  },
  {
   "cell_type": "code",
   "execution_count": 16,
   "metadata": {
    "collapsed": false,
    "scrolled": false
   },
   "outputs": [
    {
     "data": {
      "text/plain": [
       "['Identifier',\n",
       " 'SCREENING_demographics,CandID',\n",
       " 'SCREENING_demographics,CEF',\n",
       " 'SCREENING_demographics,Age_difference',\n",
       " 'SCREENING_demographics,CandID.1',\n",
       " 'SCREENING_demographics,CEF.1',\n",
       " 'SCREENING_demographics,CEF_comment',\n",
       " 'SCREENING_demographics,CEF_reason',\n",
       " 'SCREENING_demographics,Cohort',\n",
       " 'SCREENING_demographics,Comment',\n",
       " 'SCREENING_demographics,Current_stage',\n",
       " 'SCREENING_demographics,EDC',\n",
       " 'SCREENING_demographics,Failure',\n",
       " 'SCREENING_demographics,Family_CandID1',\n",
       " 'SCREENING_demographics,Family_CandID2',\n",
       " 'SCREENING_demographics,FamilyID',\n",
       " 'SCREENING_demographics,Gender',\n",
       " 'SCREENING_demographics,Gender_proband',\n",
       " 'SCREENING_demographics,Project',\n",
       " 'SCREENING_demographics,PSCID',\n",
       " 'SCREENING_demographics,Relationship_type_Family1',\n",
       " 'SCREENING_demographics,Relationship_type_Family2',\n",
       " 'SCREENING_demographics,Site',\n",
       " 'SCREENING_demographics,Status',\n",
       " 'SCREENING_demographics,Status_comments',\n",
       " 'SCREENING_demographics,Status_reason',\n",
       " 'SCREENING_demographics,Visit_label',\n",
       " 'SCREENING_mri_parameter_form,Administration',\n",
       " 'SCREENING_mri_parameter_form,BOLD_child_awake',\n",
       " 'SCREENING_mri_parameter_form,BOLD_Comments',\n",
       " 'SCREENING_mri_parameter_form,BOLD_Comments_status',\n",
       " 'SCREENING_mri_parameter_form,BOLD_number_attempts',\n",
       " 'SCREENING_mri_parameter_form,BOLD_Number_Complete_Runs',\n",
       " 'SCREENING_mri_parameter_form,BOLD_Scan_done',\n",
       " 'SCREENING_mri_parameter_form,BOLD_Scan_done_date',\n",
       " 'SCREENING_mri_parameter_form,Candidate_Age',\n",
       " 'SCREENING_mri_parameter_form,Data_entry',\n",
       " 'SCREENING_mri_parameter_form,Date_taken',\n",
       " 'SCREENING_mri_parameter_form,medication',\n",
       " 'SCREENING_mri_parameter_form,medication_specify',\n",
       " 'SCREENING_mri_parameter_form,normalization',\n",
       " 'SCREENING_mri_parameter_form,Scanner_Type',\n",
       " 'SCREENING_mri_parameter_form,Scanner_Type_other',\n",
       " 'SCREENING_mri_parameter_form,sedation',\n",
       " 'SCREENING_mri_parameter_form,session_attempts',\n",
       " 'SCREENING_mri_parameter_form,T1_Scan_done',\n",
       " 'SCREENING_mri_parameter_form,T1_Scan_done_date',\n",
       " 'SCREENING_mri_parameter_form,T2_Scan_done',\n",
       " 'SCREENING_mri_parameter_form,T2_Scan_done_date',\n",
       " 'SCREENING_mri_parameter_form,Window_Difference',\n",
       " 'SCREENING_mri_data,_t1w',\n",
       " 'SCREENING_mri_data,_t2w',\n",
       " 'SCREENING_mri_data,ScannerID_t1w',\n",
       " 'SCREENING_mri_data,ScannerID_t2w',\n",
       " 'SCREENING_mri_data,QCComment',\n",
       " 'SCREENING_mri_data,Selected_t1w',\n",
       " 'SCREENING_mri_data,Selected_t2w',\n",
       " 'SCREENING_mri_data,t1w_QCStatus',\n",
       " 'SCREENING_mri_data,t2w_QCStatus',\n",
       " 'V03_demographics,CandID',\n",
       " 'V03_demographics,CEF',\n",
       " 'V03_demographics,Age_difference',\n",
       " 'V03_demographics,CandID.1',\n",
       " 'V03_demographics,CEF.1',\n",
       " 'V03_demographics,CEF_comment',\n",
       " 'V03_demographics,CEF_reason',\n",
       " 'V03_demographics,Cohort',\n",
       " 'V03_demographics,Comment',\n",
       " 'V03_demographics,Current_stage',\n",
       " 'V03_demographics,EDC',\n",
       " 'V03_demographics,Failure',\n",
       " 'V03_demographics,Family_CandID1',\n",
       " 'V03_demographics,Family_CandID2',\n",
       " 'V03_demographics,FamilyID',\n",
       " 'V03_demographics,Gender',\n",
       " 'V03_demographics,Gender_proband',\n",
       " 'V03_demographics,Project',\n",
       " 'V03_demographics,PSCID',\n",
       " 'V03_demographics,Relationship_type_Family1',\n",
       " 'V03_demographics,Relationship_type_Family2',\n",
       " 'V03_demographics,Site',\n",
       " 'V03_demographics,Status',\n",
       " 'V03_demographics,Status_comments',\n",
       " 'V03_demographics,Status_reason',\n",
       " 'V03_demographics,Visit_label',\n",
       " 'V03_mri_parameter_form,Administration',\n",
       " 'V03_mri_parameter_form,BOLD_child_awake',\n",
       " 'V03_mri_parameter_form,BOLD_Comments',\n",
       " 'V03_mri_parameter_form,BOLD_Comments_status',\n",
       " 'V03_mri_parameter_form,BOLD_number_attempts',\n",
       " 'V03_mri_parameter_form,BOLD_Number_Complete_Runs',\n",
       " 'V03_mri_parameter_form,BOLD_Scan_done',\n",
       " 'V03_mri_parameter_form,BOLD_Scan_done_date',\n",
       " 'V03_mri_parameter_form,Candidate_Age',\n",
       " 'V03_mri_parameter_form,Data_entry',\n",
       " 'V03_mri_parameter_form,Date_taken',\n",
       " 'V03_mri_parameter_form,medication',\n",
       " 'V03_mri_parameter_form,medication_specify',\n",
       " 'V03_mri_parameter_form,normalization',\n",
       " 'V03_mri_parameter_form,Scanner_Type',\n",
       " 'V03_mri_parameter_form,Scanner_Type_other',\n",
       " 'V03_mri_parameter_form,sedation',\n",
       " 'V03_mri_parameter_form,session_attempts',\n",
       " 'V03_mri_parameter_form,T1_Scan_done',\n",
       " 'V03_mri_parameter_form,T1_Scan_done_date',\n",
       " 'V03_mri_parameter_form,T2_Scan_done',\n",
       " 'V03_mri_parameter_form,T2_Scan_done_date',\n",
       " 'V03_mri_parameter_form,Window_Difference',\n",
       " 'V03_mri_data,_t1w',\n",
       " 'V03_mri_data,_t2w',\n",
       " 'V03_mri_data,ScannerID_t1w',\n",
       " 'V03_mri_data,ScannerID_t2w',\n",
       " 'V03_mri_data,QCComment',\n",
       " 'V03_mri_data,Selected_t1w',\n",
       " 'V03_mri_data,Selected_t2w',\n",
       " 'V03_mri_data,t1w_QCStatus',\n",
       " 'V03_mri_data,t2w_QCStatus',\n",
       " 'V06_demographics,CandID',\n",
       " 'V06_demographics,CEF',\n",
       " 'V06_demographics,Age_difference',\n",
       " 'V06_demographics,CandID.1',\n",
       " 'V06_demographics,CEF.1',\n",
       " 'V06_demographics,CEF_comment',\n",
       " 'V06_demographics,CEF_reason',\n",
       " 'V06_demographics,Cohort',\n",
       " 'V06_demographics,Comment',\n",
       " 'V06_demographics,Current_stage',\n",
       " 'V06_demographics,EDC',\n",
       " 'V06_demographics,Failure',\n",
       " 'V06_demographics,Family_CandID1',\n",
       " 'V06_demographics,Family_CandID2',\n",
       " 'V06_demographics,FamilyID',\n",
       " 'V06_demographics,Gender',\n",
       " 'V06_demographics,Gender_proband',\n",
       " 'V06_demographics,Project',\n",
       " 'V06_demographics,PSCID',\n",
       " 'V06_demographics,Relationship_type_Family1',\n",
       " 'V06_demographics,Relationship_type_Family2',\n",
       " 'V06_demographics,Site',\n",
       " 'V06_demographics,Status',\n",
       " 'V06_demographics,Status_comments',\n",
       " 'V06_demographics,Status_reason',\n",
       " 'V06_demographics,Visit_label',\n",
       " 'V06_mri_parameter_form,Administration',\n",
       " 'V06_mri_parameter_form,BOLD_child_awake',\n",
       " 'V06_mri_parameter_form,BOLD_Comments',\n",
       " 'V06_mri_parameter_form,BOLD_Comments_status',\n",
       " 'V06_mri_parameter_form,BOLD_number_attempts',\n",
       " 'V06_mri_parameter_form,BOLD_Number_Complete_Runs',\n",
       " 'V06_mri_parameter_form,BOLD_Scan_done',\n",
       " 'V06_mri_parameter_form,BOLD_Scan_done_date',\n",
       " 'V06_mri_parameter_form,Candidate_Age',\n",
       " 'V06_mri_parameter_form,Data_entry',\n",
       " 'V06_mri_parameter_form,Date_taken',\n",
       " 'V06_mri_parameter_form,medication',\n",
       " 'V06_mri_parameter_form,medication_specify',\n",
       " 'V06_mri_parameter_form,normalization',\n",
       " 'V06_mri_parameter_form,Scanner_Type',\n",
       " 'V06_mri_parameter_form,Scanner_Type_other',\n",
       " 'V06_mri_parameter_form,sedation',\n",
       " 'V06_mri_parameter_form,session_attempts',\n",
       " 'V06_mri_parameter_form,T1_Scan_done',\n",
       " 'V06_mri_parameter_form,T1_Scan_done_date',\n",
       " 'V06_mri_parameter_form,T2_Scan_done',\n",
       " 'V06_mri_parameter_form,T2_Scan_done_date',\n",
       " 'V06_mri_parameter_form,Window_Difference',\n",
       " 'V06_mri_data,_t1w',\n",
       " 'V06_mri_data,_t2w',\n",
       " 'V06_mri_data,ScannerID_t1w',\n",
       " 'V06_mri_data,ScannerID_t2w',\n",
       " 'V06_mri_data,QCComment',\n",
       " 'V06_mri_data,Selected_t1w',\n",
       " 'V06_mri_data,Selected_t2w',\n",
       " 'V06_mri_data,t1w_QCStatus',\n",
       " 'V06_mri_data,t2w_QCStatus',\n",
       " 'V09_demographics,CandID',\n",
       " 'V09_demographics,CEF',\n",
       " 'V09_demographics,Age_difference',\n",
       " 'V09_demographics,CandID.1',\n",
       " 'V09_demographics,CEF.1',\n",
       " 'V09_demographics,CEF_comment',\n",
       " 'V09_demographics,CEF_reason',\n",
       " 'V09_demographics,Cohort',\n",
       " 'V09_demographics,Comment',\n",
       " 'V09_demographics,Current_stage',\n",
       " 'V09_demographics,EDC',\n",
       " 'V09_demographics,Failure',\n",
       " 'V09_demographics,Family_CandID1',\n",
       " 'V09_demographics,Family_CandID2',\n",
       " 'V09_demographics,FamilyID',\n",
       " 'V09_demographics,Gender',\n",
       " 'V09_demographics,Gender_proband',\n",
       " 'V09_demographics,Project',\n",
       " 'V09_demographics,PSCID',\n",
       " 'V09_demographics,Relationship_type_Family1',\n",
       " 'V09_demographics,Relationship_type_Family2',\n",
       " 'V09_demographics,Site',\n",
       " 'V09_demographics,Status',\n",
       " 'V09_demographics,Status_comments',\n",
       " 'V09_demographics,Status_reason',\n",
       " 'V09_demographics,Visit_label',\n",
       " 'V09_mri_parameter_form,Administration',\n",
       " 'V09_mri_parameter_form,BOLD_child_awake',\n",
       " 'V09_mri_parameter_form,BOLD_Comments',\n",
       " 'V09_mri_parameter_form,BOLD_Comments_status',\n",
       " 'V09_mri_parameter_form,BOLD_number_attempts',\n",
       " 'V09_mri_parameter_form,BOLD_Number_Complete_Runs',\n",
       " 'V09_mri_parameter_form,BOLD_Scan_done',\n",
       " 'V09_mri_parameter_form,BOLD_Scan_done_date',\n",
       " 'V09_mri_parameter_form,Candidate_Age',\n",
       " 'V09_mri_parameter_form,Data_entry',\n",
       " 'V09_mri_parameter_form,Date_taken',\n",
       " 'V09_mri_parameter_form,medication',\n",
       " 'V09_mri_parameter_form,medication_specify',\n",
       " 'V09_mri_parameter_form,normalization',\n",
       " 'V09_mri_parameter_form,Scanner_Type',\n",
       " 'V09_mri_parameter_form,Scanner_Type_other',\n",
       " 'V09_mri_parameter_form,sedation',\n",
       " 'V09_mri_parameter_form,session_attempts',\n",
       " 'V09_mri_parameter_form,T1_Scan_done',\n",
       " 'V09_mri_parameter_form,T1_Scan_done_date',\n",
       " 'V09_mri_parameter_form,T2_Scan_done',\n",
       " 'V09_mri_parameter_form,T2_Scan_done_date',\n",
       " 'V09_mri_parameter_form,Window_Difference',\n",
       " 'V09_mri_data,_t1w',\n",
       " 'V09_mri_data,_t2w',\n",
       " 'V09_mri_data,ScannerID_t1w',\n",
       " 'V09_mri_data,ScannerID_t2w',\n",
       " 'V09_mri_data,QCComment',\n",
       " 'V09_mri_data,Selected_t1w',\n",
       " 'V09_mri_data,Selected_t2w',\n",
       " 'V09_mri_data,t1w_QCStatus',\n",
       " 'V09_mri_data,t2w_QCStatus',\n",
       " 'V09LENA_demographics,CandID',\n",
       " 'V09LENA_demographics,CEF',\n",
       " 'V09LENA_demographics,Age_difference',\n",
       " 'V09LENA_demographics,CandID.1',\n",
       " 'V09LENA_demographics,CEF.1',\n",
       " 'V09LENA_demographics,CEF_comment',\n",
       " 'V09LENA_demographics,CEF_reason',\n",
       " 'V09LENA_demographics,Cohort',\n",
       " 'V09LENA_demographics,Comment',\n",
       " 'V09LENA_demographics,Current_stage',\n",
       " 'V09LENA_demographics,EDC',\n",
       " 'V09LENA_demographics,Failure',\n",
       " 'V09LENA_demographics,Family_CandID1',\n",
       " 'V09LENA_demographics,Family_CandID2',\n",
       " 'V09LENA_demographics,FamilyID',\n",
       " 'V09LENA_demographics,Gender',\n",
       " 'V09LENA_demographics,Gender_proband',\n",
       " 'V09LENA_demographics,Project',\n",
       " 'V09LENA_demographics,PSCID',\n",
       " 'V09LENA_demographics,Relationship_type_Family1',\n",
       " 'V09LENA_demographics,Relationship_type_Family2',\n",
       " 'V09LENA_demographics,Site',\n",
       " 'V09LENA_demographics,Status',\n",
       " 'V09LENA_demographics,Status_comments',\n",
       " 'V09LENA_demographics,Status_reason',\n",
       " 'V09LENA_demographics,Visit_label',\n",
       " 'V09LENA_mri_parameter_form,Administration',\n",
       " 'V09LENA_mri_parameter_form,BOLD_child_awake',\n",
       " 'V09LENA_mri_parameter_form,BOLD_Comments',\n",
       " 'V09LENA_mri_parameter_form,BOLD_Comments_status',\n",
       " 'V09LENA_mri_parameter_form,BOLD_number_attempts',\n",
       " 'V09LENA_mri_parameter_form,BOLD_Number_Complete_Runs',\n",
       " 'V09LENA_mri_parameter_form,BOLD_Scan_done',\n",
       " 'V09LENA_mri_parameter_form,BOLD_Scan_done_date',\n",
       " 'V09LENA_mri_parameter_form,Candidate_Age',\n",
       " 'V09LENA_mri_parameter_form,Data_entry',\n",
       " 'V09LENA_mri_parameter_form,Date_taken',\n",
       " 'V09LENA_mri_parameter_form,medication',\n",
       " 'V09LENA_mri_parameter_form,medication_specify',\n",
       " 'V09LENA_mri_parameter_form,normalization',\n",
       " 'V09LENA_mri_parameter_form,Scanner_Type',\n",
       " 'V09LENA_mri_parameter_form,Scanner_Type_other',\n",
       " 'V09LENA_mri_parameter_form,sedation',\n",
       " 'V09LENA_mri_parameter_form,session_attempts',\n",
       " 'V09LENA_mri_parameter_form,T1_Scan_done',\n",
       " 'V09LENA_mri_parameter_form,T1_Scan_done_date',\n",
       " 'V09LENA_mri_parameter_form,T2_Scan_done',\n",
       " 'V09LENA_mri_parameter_form,T2_Scan_done_date',\n",
       " 'V09LENA_mri_parameter_form,Window_Difference',\n",
       " 'V09LENA_mri_data,_t1w',\n",
       " 'V09LENA_mri_data,_t2w',\n",
       " 'V09LENA_mri_data,ScannerID_t1w',\n",
       " 'V09LENA_mri_data,ScannerID_t2w',\n",
       " 'V09LENA_mri_data,QCComment',\n",
       " 'V09LENA_mri_data,Selected_t1w',\n",
       " 'V09LENA_mri_data,Selected_t2w',\n",
       " 'V09LENA_mri_data,t1w_QCStatus',\n",
       " 'V09LENA_mri_data,t2w_QCStatus',\n",
       " 'V12_demographics,CandID',\n",
       " 'V12_demographics,CEF',\n",
       " 'V12_demographics,Age_difference',\n",
       " 'V12_demographics,CandID.1',\n",
       " 'V12_demographics,CEF.1',\n",
       " 'V12_demographics,CEF_comment',\n",
       " 'V12_demographics,CEF_reason',\n",
       " 'V12_demographics,Cohort',\n",
       " 'V12_demographics,Comment',\n",
       " 'V12_demographics,Current_stage',\n",
       " 'V12_demographics,EDC',\n",
       " 'V12_demographics,Failure',\n",
       " 'V12_demographics,Family_CandID1',\n",
       " 'V12_demographics,Family_CandID2',\n",
       " 'V12_demographics,FamilyID',\n",
       " 'V12_demographics,Gender',\n",
       " 'V12_demographics,Gender_proband',\n",
       " 'V12_demographics,Project',\n",
       " 'V12_demographics,PSCID',\n",
       " 'V12_demographics,Relationship_type_Family1',\n",
       " 'V12_demographics,Relationship_type_Family2',\n",
       " 'V12_demographics,Site',\n",
       " 'V12_demographics,Status',\n",
       " 'V12_demographics,Status_comments',\n",
       " 'V12_demographics,Status_reason',\n",
       " 'V12_demographics,Visit_label',\n",
       " 'V12_mri_parameter_form,Administration',\n",
       " 'V12_mri_parameter_form,BOLD_child_awake',\n",
       " 'V12_mri_parameter_form,BOLD_Comments',\n",
       " 'V12_mri_parameter_form,BOLD_Comments_status',\n",
       " 'V12_mri_parameter_form,BOLD_number_attempts',\n",
       " 'V12_mri_parameter_form,BOLD_Number_Complete_Runs',\n",
       " 'V12_mri_parameter_form,BOLD_Scan_done',\n",
       " 'V12_mri_parameter_form,BOLD_Scan_done_date',\n",
       " 'V12_mri_parameter_form,Candidate_Age',\n",
       " 'V12_mri_parameter_form,Data_entry',\n",
       " 'V12_mri_parameter_form,Date_taken',\n",
       " 'V12_mri_parameter_form,medication',\n",
       " 'V12_mri_parameter_form,medication_specify',\n",
       " 'V12_mri_parameter_form,normalization',\n",
       " 'V12_mri_parameter_form,Scanner_Type',\n",
       " 'V12_mri_parameter_form,Scanner_Type_other',\n",
       " 'V12_mri_parameter_form,sedation',\n",
       " 'V12_mri_parameter_form,session_attempts',\n",
       " 'V12_mri_parameter_form,T1_Scan_done',\n",
       " 'V12_mri_parameter_form,T1_Scan_done_date',\n",
       " 'V12_mri_parameter_form,T2_Scan_done',\n",
       " 'V12_mri_parameter_form,T2_Scan_done_date',\n",
       " 'V12_mri_parameter_form,Window_Difference',\n",
       " 'V12_mri_data,_t1w',\n",
       " 'V12_mri_data,_t2w',\n",
       " 'V12_mri_data,ScannerID_t1w',\n",
       " 'V12_mri_data,ScannerID_t2w',\n",
       " 'V12_mri_data,QCComment',\n",
       " 'V12_mri_data,Selected_t1w',\n",
       " 'V12_mri_data,Selected_t2w',\n",
       " 'V12_mri_data,t1w_QCStatus',\n",
       " 'V12_mri_data,t2w_QCStatus',\n",
       " 'V15_demographics,CandID',\n",
       " 'V15_demographics,CEF',\n",
       " 'V15_demographics,Age_difference',\n",
       " 'V15_demographics,CandID.1',\n",
       " 'V15_demographics,CEF.1',\n",
       " 'V15_demographics,CEF_comment',\n",
       " 'V15_demographics,CEF_reason',\n",
       " 'V15_demographics,Cohort',\n",
       " 'V15_demographics,Comment',\n",
       " 'V15_demographics,Current_stage',\n",
       " 'V15_demographics,EDC',\n",
       " 'V15_demographics,Failure',\n",
       " 'V15_demographics,Family_CandID1',\n",
       " 'V15_demographics,Family_CandID2',\n",
       " 'V15_demographics,FamilyID',\n",
       " 'V15_demographics,Gender',\n",
       " 'V15_demographics,Gender_proband',\n",
       " 'V15_demographics,Project',\n",
       " 'V15_demographics,PSCID',\n",
       " 'V15_demographics,Relationship_type_Family1',\n",
       " 'V15_demographics,Relationship_type_Family2',\n",
       " 'V15_demographics,Site',\n",
       " 'V15_demographics,Status',\n",
       " 'V15_demographics,Status_comments',\n",
       " 'V15_demographics,Status_reason',\n",
       " 'V15_demographics,Visit_label',\n",
       " 'V15_mri_parameter_form,Administration',\n",
       " 'V15_mri_parameter_form,BOLD_child_awake',\n",
       " 'V15_mri_parameter_form,BOLD_Comments',\n",
       " 'V15_mri_parameter_form,BOLD_Comments_status',\n",
       " 'V15_mri_parameter_form,BOLD_number_attempts',\n",
       " 'V15_mri_parameter_form,BOLD_Number_Complete_Runs',\n",
       " 'V15_mri_parameter_form,BOLD_Scan_done',\n",
       " 'V15_mri_parameter_form,BOLD_Scan_done_date',\n",
       " 'V15_mri_parameter_form,Candidate_Age',\n",
       " 'V15_mri_parameter_form,Data_entry',\n",
       " 'V15_mri_parameter_form,Date_taken',\n",
       " 'V15_mri_parameter_form,medication',\n",
       " 'V15_mri_parameter_form,medication_specify',\n",
       " 'V15_mri_parameter_form,normalization',\n",
       " 'V15_mri_parameter_form,Scanner_Type',\n",
       " 'V15_mri_parameter_form,Scanner_Type_other',\n",
       " 'V15_mri_parameter_form,sedation',\n",
       " 'V15_mri_parameter_form,session_attempts',\n",
       " 'V15_mri_parameter_form,T1_Scan_done',\n",
       " 'V15_mri_parameter_form,T1_Scan_done_date',\n",
       " 'V15_mri_parameter_form,T2_Scan_done',\n",
       " 'V15_mri_parameter_form,T2_Scan_done_date',\n",
       " 'V15_mri_parameter_form,Window_Difference',\n",
       " 'V15_mri_data,_t1w',\n",
       " 'V15_mri_data,_t2w',\n",
       " 'V15_mri_data,ScannerID_t1w',\n",
       " 'V15_mri_data,ScannerID_t2w',\n",
       " 'V15_mri_data,QCComment',\n",
       " 'V15_mri_data,Selected_t1w',\n",
       " 'V15_mri_data,Selected_t2w',\n",
       " 'V15_mri_data,t1w_QCStatus',\n",
       " 'V15_mri_data,t2w_QCStatus',\n",
       " 'V15LENA_demographics,CandID',\n",
       " 'V15LENA_demographics,CEF',\n",
       " 'V15LENA_demographics,Age_difference',\n",
       " 'V15LENA_demographics,CandID.1',\n",
       " 'V15LENA_demographics,CEF.1',\n",
       " 'V15LENA_demographics,CEF_comment',\n",
       " 'V15LENA_demographics,CEF_reason',\n",
       " 'V15LENA_demographics,Cohort',\n",
       " 'V15LENA_demographics,Comment',\n",
       " 'V15LENA_demographics,Current_stage',\n",
       " 'V15LENA_demographics,EDC',\n",
       " 'V15LENA_demographics,Failure',\n",
       " 'V15LENA_demographics,Family_CandID1',\n",
       " 'V15LENA_demographics,Family_CandID2',\n",
       " 'V15LENA_demographics,FamilyID',\n",
       " 'V15LENA_demographics,Gender',\n",
       " 'V15LENA_demographics,Gender_proband',\n",
       " 'V15LENA_demographics,Project',\n",
       " 'V15LENA_demographics,PSCID',\n",
       " 'V15LENA_demographics,Relationship_type_Family1',\n",
       " 'V15LENA_demographics,Relationship_type_Family2',\n",
       " 'V15LENA_demographics,Site',\n",
       " 'V15LENA_demographics,Status',\n",
       " 'V15LENA_demographics,Status_comments',\n",
       " 'V15LENA_demographics,Status_reason',\n",
       " 'V15LENA_demographics,Visit_label',\n",
       " 'V15LENA_mri_parameter_form,Administration',\n",
       " 'V15LENA_mri_parameter_form,BOLD_child_awake',\n",
       " 'V15LENA_mri_parameter_form,BOLD_Comments',\n",
       " 'V15LENA_mri_parameter_form,BOLD_Comments_status',\n",
       " 'V15LENA_mri_parameter_form,BOLD_number_attempts',\n",
       " 'V15LENA_mri_parameter_form,BOLD_Number_Complete_Runs',\n",
       " 'V15LENA_mri_parameter_form,BOLD_Scan_done',\n",
       " 'V15LENA_mri_parameter_form,BOLD_Scan_done_date',\n",
       " 'V15LENA_mri_parameter_form,Candidate_Age',\n",
       " 'V15LENA_mri_parameter_form,Data_entry',\n",
       " 'V15LENA_mri_parameter_form,Date_taken',\n",
       " 'V15LENA_mri_parameter_form,medication',\n",
       " 'V15LENA_mri_parameter_form,medication_specify',\n",
       " 'V15LENA_mri_parameter_form,normalization',\n",
       " 'V15LENA_mri_parameter_form,Scanner_Type',\n",
       " 'V15LENA_mri_parameter_form,Scanner_Type_other',\n",
       " 'V15LENA_mri_parameter_form,sedation',\n",
       " 'V15LENA_mri_parameter_form,session_attempts',\n",
       " 'V15LENA_mri_parameter_form,T1_Scan_done',\n",
       " 'V15LENA_mri_parameter_form,T1_Scan_done_date',\n",
       " 'V15LENA_mri_parameter_form,T2_Scan_done',\n",
       " 'V15LENA_mri_parameter_form,T2_Scan_done_date',\n",
       " 'V15LENA_mri_parameter_form,Window_Difference',\n",
       " 'V15LENA_mri_data,_t1w',\n",
       " 'V15LENA_mri_data,_t2w',\n",
       " 'V15LENA_mri_data,ScannerID_t1w',\n",
       " 'V15LENA_mri_data,ScannerID_t2w',\n",
       " 'V15LENA_mri_data,QCComment',\n",
       " 'V15LENA_mri_data,Selected_t1w',\n",
       " 'V15LENA_mri_data,Selected_t2w',\n",
       " 'V15LENA_mri_data,t1w_QCStatus',\n",
       " 'V15LENA_mri_data,t2w_QCStatus',\n",
       " 'V18_demographics,CandID',\n",
       " 'V18_demographics,CEF',\n",
       " 'V18_demographics,Age_difference',\n",
       " 'V18_demographics,CandID.1',\n",
       " 'V18_demographics,CEF.1',\n",
       " 'V18_demographics,CEF_comment',\n",
       " 'V18_demographics,CEF_reason',\n",
       " 'V18_demographics,Cohort',\n",
       " 'V18_demographics,Comment',\n",
       " 'V18_demographics,Current_stage',\n",
       " 'V18_demographics,EDC',\n",
       " 'V18_demographics,Failure',\n",
       " 'V18_demographics,Family_CandID1',\n",
       " 'V18_demographics,Family_CandID2',\n",
       " 'V18_demographics,FamilyID',\n",
       " 'V18_demographics,Gender',\n",
       " 'V18_demographics,Gender_proband',\n",
       " 'V18_demographics,Project',\n",
       " 'V18_demographics,PSCID',\n",
       " 'V18_demographics,Relationship_type_Family1',\n",
       " 'V18_demographics,Relationship_type_Family2',\n",
       " 'V18_demographics,Site',\n",
       " 'V18_demographics,Status',\n",
       " 'V18_demographics,Status_comments',\n",
       " 'V18_demographics,Status_reason',\n",
       " 'V18_demographics,Visit_label',\n",
       " 'V18_mri_parameter_form,Administration',\n",
       " 'V18_mri_parameter_form,BOLD_child_awake',\n",
       " 'V18_mri_parameter_form,BOLD_Comments',\n",
       " 'V18_mri_parameter_form,BOLD_Comments_status',\n",
       " 'V18_mri_parameter_form,BOLD_number_attempts',\n",
       " 'V18_mri_parameter_form,BOLD_Number_Complete_Runs',\n",
       " 'V18_mri_parameter_form,BOLD_Scan_done',\n",
       " 'V18_mri_parameter_form,BOLD_Scan_done_date',\n",
       " 'V18_mri_parameter_form,Candidate_Age',\n",
       " 'V18_mri_parameter_form,Data_entry',\n",
       " 'V18_mri_parameter_form,Date_taken',\n",
       " 'V18_mri_parameter_form,medication',\n",
       " 'V18_mri_parameter_form,medication_specify',\n",
       " 'V18_mri_parameter_form,normalization',\n",
       " 'V18_mri_parameter_form,Scanner_Type',\n",
       " 'V18_mri_parameter_form,Scanner_Type_other',\n",
       " 'V18_mri_parameter_form,sedation',\n",
       " 'V18_mri_parameter_form,session_attempts',\n",
       " 'V18_mri_parameter_form,T1_Scan_done',\n",
       " 'V18_mri_parameter_form,T1_Scan_done_date',\n",
       " 'V18_mri_parameter_form,T2_Scan_done',\n",
       " 'V18_mri_parameter_form,T2_Scan_done_date',\n",
       " 'V18_mri_parameter_form,Window_Difference',\n",
       " 'V18_mri_data,_t1w',\n",
       " 'V18_mri_data,_t2w',\n",
       " 'V18_mri_data,ScannerID_t1w',\n",
       " 'V18_mri_data,ScannerID_t2w',\n",
       " 'V18_mri_data,QCComment',\n",
       " 'V18_mri_data,Selected_t1w',\n",
       " 'V18_mri_data,Selected_t2w',\n",
       " 'V18_mri_data,t1w_QCStatus',\n",
       " 'V18_mri_data,t2w_QCStatus',\n",
       " 'V24_demographics,CandID',\n",
       " 'V24_demographics,CEF',\n",
       " 'V24_demographics,Age_difference',\n",
       " 'V24_demographics,CandID.1',\n",
       " 'V24_demographics,CEF.1',\n",
       " 'V24_demographics,CEF_comment',\n",
       " 'V24_demographics,CEF_reason',\n",
       " 'V24_demographics,Cohort',\n",
       " 'V24_demographics,Comment',\n",
       " 'V24_demographics,Current_stage',\n",
       " 'V24_demographics,EDC',\n",
       " 'V24_demographics,Failure',\n",
       " 'V24_demographics,Family_CandID1',\n",
       " 'V24_demographics,Family_CandID2',\n",
       " 'V24_demographics,FamilyID',\n",
       " 'V24_demographics,Gender',\n",
       " 'V24_demographics,Gender_proband',\n",
       " 'V24_demographics,Project',\n",
       " 'V24_demographics,PSCID',\n",
       " 'V24_demographics,Relationship_type_Family1',\n",
       " 'V24_demographics,Relationship_type_Family2',\n",
       " 'V24_demographics,Site',\n",
       " 'V24_demographics,Status',\n",
       " 'V24_demographics,Status_comments',\n",
       " 'V24_demographics,Status_reason',\n",
       " 'V24_demographics,Visit_label',\n",
       " 'V24_mri_parameter_form,Administration',\n",
       " 'V24_mri_parameter_form,BOLD_child_awake',\n",
       " 'V24_mri_parameter_form,BOLD_Comments',\n",
       " 'V24_mri_parameter_form,BOLD_Comments_status',\n",
       " 'V24_mri_parameter_form,BOLD_number_attempts',\n",
       " 'V24_mri_parameter_form,BOLD_Number_Complete_Runs',\n",
       " 'V24_mri_parameter_form,BOLD_Scan_done',\n",
       " 'V24_mri_parameter_form,BOLD_Scan_done_date',\n",
       " 'V24_mri_parameter_form,Candidate_Age',\n",
       " 'V24_mri_parameter_form,Data_entry',\n",
       " 'V24_mri_parameter_form,Date_taken',\n",
       " 'V24_mri_parameter_form,medication',\n",
       " 'V24_mri_parameter_form,medication_specify',\n",
       " 'V24_mri_parameter_form,normalization',\n",
       " 'V24_mri_parameter_form,Scanner_Type',\n",
       " 'V24_mri_parameter_form,Scanner_Type_other',\n",
       " 'V24_mri_parameter_form,sedation',\n",
       " 'V24_mri_parameter_form,session_attempts',\n",
       " 'V24_mri_parameter_form,T1_Scan_done',\n",
       " 'V24_mri_parameter_form,T1_Scan_done_date',\n",
       " 'V24_mri_parameter_form,T2_Scan_done',\n",
       " 'V24_mri_parameter_form,T2_Scan_done_date',\n",
       " 'V24_mri_parameter_form,Window_Difference',\n",
       " 'V24_mri_data,_t1w',\n",
       " 'V24_mri_data,_t2w',\n",
       " 'V24_mri_data,ScannerID_t1w',\n",
       " 'V24_mri_data,ScannerID_t2w',\n",
       " 'V24_mri_data,QCComment',\n",
       " 'V24_mri_data,Selected_t1w',\n",
       " 'V24_mri_data,Selected_t2w',\n",
       " 'V24_mri_data,t1w_QCStatus',\n",
       " 'V24_mri_data,t2w_QCStatus',\n",
       " 'V36_demographics,CandID',\n",
       " 'V36_demographics,CEF',\n",
       " 'V36_demographics,Age_difference',\n",
       " 'V36_demographics,CandID.1',\n",
       " 'V36_demographics,CEF.1',\n",
       " 'V36_demographics,CEF_comment',\n",
       " 'V36_demographics,CEF_reason',\n",
       " 'V36_demographics,Cohort',\n",
       " 'V36_demographics,Comment',\n",
       " 'V36_demographics,Current_stage',\n",
       " 'V36_demographics,EDC',\n",
       " 'V36_demographics,Failure',\n",
       " 'V36_demographics,Family_CandID1',\n",
       " 'V36_demographics,Family_CandID2',\n",
       " 'V36_demographics,FamilyID',\n",
       " 'V36_demographics,Gender',\n",
       " 'V36_demographics,Gender_proband',\n",
       " 'V36_demographics,Project',\n",
       " 'V36_demographics,PSCID',\n",
       " 'V36_demographics,Relationship_type_Family1',\n",
       " 'V36_demographics,Relationship_type_Family2',\n",
       " 'V36_demographics,Site',\n",
       " 'V36_demographics,Status',\n",
       " 'V36_demographics,Status_comments',\n",
       " 'V36_demographics,Status_reason',\n",
       " 'V36_demographics,Visit_label',\n",
       " 'V36_mri_parameter_form,Administration',\n",
       " 'V36_mri_parameter_form,BOLD_child_awake',\n",
       " 'V36_mri_parameter_form,BOLD_Comments',\n",
       " 'V36_mri_parameter_form,BOLD_Comments_status',\n",
       " 'V36_mri_parameter_form,BOLD_number_attempts',\n",
       " 'V36_mri_parameter_form,BOLD_Number_Complete_Runs',\n",
       " 'V36_mri_parameter_form,BOLD_Scan_done',\n",
       " 'V36_mri_parameter_form,BOLD_Scan_done_date',\n",
       " 'V36_mri_parameter_form,Candidate_Age',\n",
       " 'V36_mri_parameter_form,Data_entry',\n",
       " 'V36_mri_parameter_form,Date_taken',\n",
       " 'V36_mri_parameter_form,medication',\n",
       " 'V36_mri_parameter_form,medication_specify',\n",
       " 'V36_mri_parameter_form,normalization',\n",
       " 'V36_mri_parameter_form,Scanner_Type',\n",
       " 'V36_mri_parameter_form,Scanner_Type_other',\n",
       " 'V36_mri_parameter_form,sedation',\n",
       " 'V36_mri_parameter_form,session_attempts',\n",
       " 'V36_mri_parameter_form,T1_Scan_done',\n",
       " 'V36_mri_parameter_form,T1_Scan_done_date',\n",
       " 'V36_mri_parameter_form,T2_Scan_done',\n",
       " 'V36_mri_parameter_form,T2_Scan_done_date',\n",
       " 'V36_mri_parameter_form,Window_Difference',\n",
       " 'V36_mri_data,_t1w',\n",
       " 'V36_mri_data,_t2w',\n",
       " 'V36_mri_data,ScannerID_t1w',\n",
       " 'V36_mri_data,ScannerID_t2w',\n",
       " 'V36_mri_data,QCComment',\n",
       " 'V36_mri_data,Selected_t1w',\n",
       " 'V36_mri_data,Selected_t2w',\n",
       " 'V36_mri_data,t1w_QCStatus',\n",
       " 'V36_mri_data,t2w_QCStatus',\n",
       " 'V37PLUS_demographics,CandID',\n",
       " 'V37PLUS_demographics,CEF',\n",
       " 'V37PLUS_demographics,Age_difference',\n",
       " 'V37PLUS_demographics,CandID.1',\n",
       " 'V37PLUS_demographics,CEF.1',\n",
       " 'V37PLUS_demographics,CEF_comment',\n",
       " 'V37PLUS_demographics,CEF_reason',\n",
       " 'V37PLUS_demographics,Cohort',\n",
       " 'V37PLUS_demographics,Comment',\n",
       " 'V37PLUS_demographics,Current_stage',\n",
       " 'V37PLUS_demographics,EDC',\n",
       " 'V37PLUS_demographics,Failure',\n",
       " 'V37PLUS_demographics,Family_CandID1',\n",
       " 'V37PLUS_demographics,Family_CandID2',\n",
       " 'V37PLUS_demographics,FamilyID',\n",
       " 'V37PLUS_demographics,Gender',\n",
       " 'V37PLUS_demographics,Gender_proband',\n",
       " 'V37PLUS_demographics,Project',\n",
       " 'V37PLUS_demographics,PSCID',\n",
       " 'V37PLUS_demographics,Relationship_type_Family1',\n",
       " 'V37PLUS_demographics,Relationship_type_Family2',\n",
       " 'V37PLUS_demographics,Site',\n",
       " 'V37PLUS_demographics,Status',\n",
       " 'V37PLUS_demographics,Status_comments',\n",
       " 'V37PLUS_demographics,Status_reason',\n",
       " 'V37PLUS_demographics,Visit_label',\n",
       " 'V37PLUS_mri_parameter_form,Administration',\n",
       " 'V37PLUS_mri_parameter_form,BOLD_child_awake',\n",
       " 'V37PLUS_mri_parameter_form,BOLD_Comments',\n",
       " 'V37PLUS_mri_parameter_form,BOLD_Comments_status',\n",
       " 'V37PLUS_mri_parameter_form,BOLD_number_attempts',\n",
       " 'V37PLUS_mri_parameter_form,BOLD_Number_Complete_Runs',\n",
       " 'V37PLUS_mri_parameter_form,BOLD_Scan_done',\n",
       " 'V37PLUS_mri_parameter_form,BOLD_Scan_done_date',\n",
       " 'V37PLUS_mri_parameter_form,Candidate_Age',\n",
       " 'V37PLUS_mri_parameter_form,Data_entry',\n",
       " 'V37PLUS_mri_parameter_form,Date_taken',\n",
       " 'V37PLUS_mri_parameter_form,medication',\n",
       " 'V37PLUS_mri_parameter_form,medication_specify',\n",
       " 'V37PLUS_mri_parameter_form,normalization',\n",
       " 'V37PLUS_mri_parameter_form,Scanner_Type',\n",
       " 'V37PLUS_mri_parameter_form,Scanner_Type_other',\n",
       " 'V37PLUS_mri_parameter_form,sedation',\n",
       " 'V37PLUS_mri_parameter_form,session_attempts',\n",
       " 'V37PLUS_mri_parameter_form,T1_Scan_done',\n",
       " 'V37PLUS_mri_parameter_form,T1_Scan_done_date',\n",
       " 'V37PLUS_mri_parameter_form,T2_Scan_done',\n",
       " 'V37PLUS_mri_parameter_form,T2_Scan_done_date',\n",
       " 'V37PLUS_mri_parameter_form,Window_Difference',\n",
       " 'V37PLUS_mri_data,_t1w',\n",
       " 'V37PLUS_mri_data,_t2w',\n",
       " 'V37PLUS_mri_data,ScannerID_t1w',\n",
       " 'V37PLUS_mri_data,ScannerID_t2w',\n",
       " 'V37PLUS_mri_data,QCComment',\n",
       " 'V37PLUS_mri_data,Selected_t1w',\n",
       " 'V37PLUS_mri_data,Selected_t2w',\n",
       " 'V37PLUS_mri_data,t1w_QCStatus',\n",
       " 'V37PLUS_mri_data,t2w_QCStatus',\n",
       " 'V9_demographics,CandID',\n",
       " 'V9_demographics,CEF',\n",
       " 'V9_demographics,Age_difference',\n",
       " 'V9_demographics,CandID.1',\n",
       " 'V9_demographics,CEF.1',\n",
       " 'V9_demographics,CEF_comment',\n",
       " 'V9_demographics,CEF_reason',\n",
       " 'V9_demographics,Cohort',\n",
       " 'V9_demographics,Comment',\n",
       " 'V9_demographics,Current_stage',\n",
       " 'V9_demographics,EDC',\n",
       " 'V9_demographics,Failure',\n",
       " 'V9_demographics,Family_CandID1',\n",
       " 'V9_demographics,Family_CandID2',\n",
       " 'V9_demographics,FamilyID',\n",
       " 'V9_demographics,Gender',\n",
       " 'V9_demographics,Gender_proband',\n",
       " 'V9_demographics,Project',\n",
       " 'V9_demographics,PSCID',\n",
       " 'V9_demographics,Relationship_type_Family1',\n",
       " 'V9_demographics,Relationship_type_Family2',\n",
       " 'V9_demographics,Site',\n",
       " 'V9_demographics,Status',\n",
       " 'V9_demographics,Status_comments',\n",
       " 'V9_demographics,Status_reason',\n",
       " 'V9_demographics,Visit_label',\n",
       " 'V9_mri_parameter_form,Administration',\n",
       " 'V9_mri_parameter_form,BOLD_child_awake',\n",
       " 'V9_mri_parameter_form,BOLD_Comments',\n",
       " 'V9_mri_parameter_form,BOLD_Comments_status',\n",
       " 'V9_mri_parameter_form,BOLD_number_attempts',\n",
       " 'V9_mri_parameter_form,BOLD_Number_Complete_Runs',\n",
       " 'V9_mri_parameter_form,BOLD_Scan_done',\n",
       " 'V9_mri_parameter_form,BOLD_Scan_done_date',\n",
       " 'V9_mri_parameter_form,Candidate_Age',\n",
       " 'V9_mri_parameter_form,Data_entry',\n",
       " 'V9_mri_parameter_form,Date_taken',\n",
       " 'V9_mri_parameter_form,medication',\n",
       " 'V9_mri_parameter_form,medication_specify',\n",
       " 'V9_mri_parameter_form,normalization',\n",
       " 'V9_mri_parameter_form,Scanner_Type',\n",
       " 'V9_mri_parameter_form,Scanner_Type_other',\n",
       " 'V9_mri_parameter_form,sedation',\n",
       " 'V9_mri_parameter_form,session_attempts',\n",
       " 'V9_mri_parameter_form,T1_Scan_done',\n",
       " 'V9_mri_parameter_form,T1_Scan_done_date',\n",
       " 'V9_mri_parameter_form,T2_Scan_done',\n",
       " 'V9_mri_parameter_form,T2_Scan_done_date',\n",
       " 'V9_mri_parameter_form,Window_Difference',\n",
       " 'V9_mri_data,_t1w',\n",
       " 'V9_mri_data,_t2w',\n",
       " 'V9_mri_data,ScannerID_t1w',\n",
       " 'V9_mri_data,ScannerID_t2w',\n",
       " 'V9_mri_data,QCComment',\n",
       " 'V9_mri_data,Selected_t1w',\n",
       " 'V9_mri_data,Selected_t2w',\n",
       " 'V9_mri_data,t1w_QCStatus',\n",
       " 'V9_mri_data,t2w_QCStatus',\n",
       " 'VSUPPLEMENT_demographics,CandID',\n",
       " 'VSUPPLEMENT_demographics,CEF',\n",
       " 'VSUPPLEMENT_demographics,Age_difference',\n",
       " 'VSUPPLEMENT_demographics,CandID.1',\n",
       " 'VSUPPLEMENT_demographics,CEF.1',\n",
       " 'VSUPPLEMENT_demographics,CEF_comment',\n",
       " 'VSUPPLEMENT_demographics,CEF_reason',\n",
       " 'VSUPPLEMENT_demographics,Cohort',\n",
       " 'VSUPPLEMENT_demographics,Comment',\n",
       " 'VSUPPLEMENT_demographics,Current_stage',\n",
       " 'VSUPPLEMENT_demographics,EDC',\n",
       " 'VSUPPLEMENT_demographics,Failure',\n",
       " 'VSUPPLEMENT_demographics,Family_CandID1',\n",
       " 'VSUPPLEMENT_demographics,Family_CandID2',\n",
       " 'VSUPPLEMENT_demographics,FamilyID',\n",
       " 'VSUPPLEMENT_demographics,Gender',\n",
       " 'VSUPPLEMENT_demographics,Gender_proband',\n",
       " 'VSUPPLEMENT_demographics,Project',\n",
       " 'VSUPPLEMENT_demographics,PSCID',\n",
       " 'VSUPPLEMENT_demographics,Relationship_type_Family1',\n",
       " 'VSUPPLEMENT_demographics,Relationship_type_Family2',\n",
       " 'VSUPPLEMENT_demographics,Site',\n",
       " 'VSUPPLEMENT_demographics,Status',\n",
       " 'VSUPPLEMENT_demographics,Status_comments',\n",
       " 'VSUPPLEMENT_demographics,Status_reason',\n",
       " 'VSUPPLEMENT_demographics,Visit_label',\n",
       " 'VSUPPLEMENT_mri_parameter_form,Administration',\n",
       " 'VSUPPLEMENT_mri_parameter_form,BOLD_child_awake',\n",
       " 'VSUPPLEMENT_mri_parameter_form,BOLD_Comments',\n",
       " 'VSUPPLEMENT_mri_parameter_form,BOLD_Comments_status',\n",
       " 'VSUPPLEMENT_mri_parameter_form,BOLD_number_attempts',\n",
       " 'VSUPPLEMENT_mri_parameter_form,BOLD_Number_Complete_Runs',\n",
       " 'VSUPPLEMENT_mri_parameter_form,BOLD_Scan_done',\n",
       " 'VSUPPLEMENT_mri_parameter_form,BOLD_Scan_done_date',\n",
       " 'VSUPPLEMENT_mri_parameter_form,Candidate_Age',\n",
       " 'VSUPPLEMENT_mri_parameter_form,Data_entry',\n",
       " 'VSUPPLEMENT_mri_parameter_form,Date_taken',\n",
       " 'VSUPPLEMENT_mri_parameter_form,medication',\n",
       " 'VSUPPLEMENT_mri_parameter_form,medication_specify',\n",
       " 'VSUPPLEMENT_mri_parameter_form,normalization',\n",
       " 'VSUPPLEMENT_mri_parameter_form,Scanner_Type',\n",
       " 'VSUPPLEMENT_mri_parameter_form,Scanner_Type_other',\n",
       " 'VSUPPLEMENT_mri_parameter_form,sedation',\n",
       " 'VSUPPLEMENT_mri_parameter_form,session_attempts',\n",
       " 'VSUPPLEMENT_mri_parameter_form,T1_Scan_done',\n",
       " 'VSUPPLEMENT_mri_parameter_form,T1_Scan_done_date',\n",
       " 'VSUPPLEMENT_mri_parameter_form,T2_Scan_done',\n",
       " 'VSUPPLEMENT_mri_parameter_form,T2_Scan_done_date',\n",
       " 'VSUPPLEMENT_mri_parameter_form,Window_Difference',\n",
       " 'VSUPPLEMENT_mri_data,_t1w',\n",
       " 'VSUPPLEMENT_mri_data,_t2w',\n",
       " 'VSUPPLEMENT_mri_data,ScannerID_t1w',\n",
       " 'VSUPPLEMENT_mri_data,ScannerID_t2w',\n",
       " 'VSUPPLEMENT_mri_data,QCComment',\n",
       " 'VSUPPLEMENT_mri_data,Selected_t1w',\n",
       " 'VSUPPLEMENT_mri_data,Selected_t2w',\n",
       " 'VSUPPLEMENT_mri_data,t1w_QCStatus',\n",
       " 'VSUPPLEMENT_mri_data,t2w_QCStatus']"
      ]
     },
     "execution_count": 16,
     "metadata": {},
     "output_type": "execute_result"
    }
   ],
   "source": [
    "a"
   ]
  },
  {
   "cell_type": "code",
   "execution_count": 28,
   "metadata": {
    "collapsed": false
   },
   "outputs": [],
   "source": [
    "use = ['SCREENING_demographics,CandID','SCREENING_demographics,Gender',\n",
    "       'V03_mri_parameter_form,BOLD_Scan_done','V03_mri_parameter_form,T1_Scan_done','V03_demographics,Cohort',\n",
    "       'V06_mri_parameter_form,BOLD_Scan_done','V06_mri_parameter_form,T1_Scan_done','V06_demographics,Cohort',\n",
    "       'V09_mri_parameter_form,BOLD_Scan_done','V09_mri_parameter_form,T1_Scan_done','V09_demographics,Cohort',\n",
    "       'V12_mri_parameter_form,BOLD_Scan_done','V12_mri_parameter_form,T1_Scan_done','V12_demographics,Cohort',\n",
    "       'V15_mri_parameter_form,BOLD_Scan_done','V15_mri_parameter_form,T1_Scan_done','V15_demographics,Cohort',\n",
    "       'V18_mri_parameter_form,BOLD_Scan_done','V18_mri_parameter_form,T1_Scan_done','V18_demographics,Cohort',\n",
    "       'V24_mri_parameter_form,BOLD_Scan_done','V24_mri_parameter_form,T1_Scan_done','V24_demographics,Cohort',\n",
    "       'V36_mri_parameter_form,BOLD_Scan_done','V36_mri_parameter_form,T1_Scan_done','V36_demographics,Cohort']"
   ]
  },
  {
   "cell_type": "code",
   "execution_count": 29,
   "metadata": {
    "collapsed": false,
    "scrolled": false
   },
   "outputs": [],
   "source": [
    "new = ibis[use]"
   ]
  },
  {
   "cell_type": "code",
   "execution_count": 30,
   "metadata": {
    "collapsed": true
   },
   "outputs": [],
   "source": [
    "new.to_csv('/home/surchs/GDrive/PhD/Proposal/Other/clean_all_data_longitudinal.csv')"
   ]
  },
  {
   "cell_type": "code",
   "execution_count": 78,
   "metadata": {
    "collapsed": true
   },
   "outputs": [],
   "source": [
    "months = [3,6,9,12,15,18,24,36]"
   ]
  },
  {
   "cell_type": "code",
   "execution_count": 55,
   "metadata": {
    "collapsed": false
   },
   "outputs": [
    {
     "name": "stdout",
     "output_type": "stream",
     "text": [
      "03\n"
     ]
    }
   ],
   "source": [
    "print('{:02d}'.format())"
   ]
  },
  {
   "cell_type": "code",
   "execution_count": 79,
   "metadata": {
    "collapsed": false
   },
   "outputs": [
    {
     "name": "stdout",
     "output_type": "stream",
     "text": [
      "Month : 03\n",
      "    ht:47\n",
      "    hb:28\n",
      "    lt:23\n",
      "    lb:14\n",
      "Month : 06\n",
      "    ht:334\n",
      "    hb:135\n",
      "    lt:174\n",
      "    lb:77\n",
      "Month : 09\n",
      "    ht:27\n",
      "    hb:15\n",
      "    lt:13\n",
      "    lb:6\n",
      "Month : 12\n",
      "    ht:361\n",
      "    hb:154\n",
      "    lt:140\n",
      "    lb:61\n",
      "Month : 15\n",
      "    ht:15\n",
      "    hb:7\n",
      "    lt:10\n",
      "    lb:7\n",
      "Month : 18\n",
      "    ht:1\n",
      "    hb:0.0\n",
      "    lt:0\n",
      "    lb:0.0\n",
      "Month : 24\n",
      "    ht:295\n",
      "    hb:172\n",
      "    lt:94\n",
      "    lb:49\n",
      "Month : 36\n",
      "    ht:18\n",
      "    hb:15\n",
      "    lt:2\n",
      "    lb:1\n"
     ]
    }
   ],
   "source": [
    "new = new.fillna('nix')\n",
    "for month in months:\n",
    "    b_name = 'V{:02d}_mri_parameter_form,BOLD_Scan_done'.format(month)\n",
    "    t_name = 'V{:02d}_mri_parameter_form,T1_Scan_done'.format(month)\n",
    "    d_name = 'V{:02d}_demographics,Cohort'.format(month)\n",
    "    \n",
    "    bold_ind = [dumbcheck(x, 'Complete') for x in new[b_name]]\n",
    "    t1_ind = [dumbcheck(x, 'Complete') for x in new[t_name]]\n",
    "    \n",
    "    h_bold = np.sum(['month' in x or 'High' in x for x in new[d_name][bold_ind]])\n",
    "    h_t1 = np.sum(['month' in x or 'High' in x for x in new[d_name][t1_ind]])\n",
    "\n",
    "    l_bold = np.sum(['Control' in x or 'Low' in x for x in new[d_name][bold_ind]])\n",
    "    l_t1 = np.sum(['Control' in x or 'Low' in x for x in new[d_name][t1_ind]])\n",
    "    \n",
    "    print('Month : {:02d}\\n    ht:{}\\n    hb:{}\\n    lt:{}\\n    lb:{}'.format(month, h_t1, h_bold, l_t1, l_bold))"
   ]
  },
  {
   "cell_type": "code",
   "execution_count": 74,
   "metadata": {
    "collapsed": true
   },
   "outputs": [],
   "source": [
    "def dumbcheck(rein, check):\n",
    "    raus = False\n",
    "    if isinstance(rein, basestring):\n",
    "        raus = check in rein\n",
    "    return raus"
   ]
  },
  {
   "cell_type": "code",
   "execution_count": 73,
   "metadata": {
    "collapsed": false
   },
   "outputs": [
    {
     "data": {
      "text/plain": [
       "False"
      ]
     },
     "execution_count": 73,
     "metadata": {},
     "output_type": "execute_result"
    }
   ],
   "source": [
    "'Complete' in 'hallo'"
   ]
  },
  {
   "cell_type": "code",
   "execution_count": 60,
   "metadata": {
    "collapsed": false
   },
   "outputs": [
    {
     "data": {
      "text/plain": [
       "'V06_mri_parameter_form,BOLD_Scan_done'"
      ]
     },
     "execution_count": 60,
     "metadata": {},
     "output_type": "execute_result"
    }
   ],
   "source": [
    "b_name"
   ]
  },
  {
   "cell_type": "code",
   "execution_count": 35,
   "metadata": {
    "collapsed": false
   },
   "outputs": [],
   "source": [
    "bold_ind = ['Complete' in x for x in new['V03_mri_parameter_form,BOLD_Scan_done']]"
   ]
  },
  {
   "cell_type": "code",
   "execution_count": 40,
   "metadata": {
    "collapsed": false
   },
   "outputs": [],
   "source": [
    "t1_ind = ['Complete' in x for x in new['V03_mri_parameter_form,T1_Scan_done']]"
   ]
  },
  {
   "cell_type": "code",
   "execution_count": 42,
   "metadata": {
    "collapsed": false
   },
   "outputs": [
    {
     "data": {
      "text/plain": [
       "array(['6 month recruit', '0', 'Control', 'IBIS2 High Risk',\n",
       "       'IBIS2 Low Risk', '6 month recruits FRX', '12 month recruit',\n",
       "       'Relative'], dtype=object)"
      ]
     },
     "execution_count": 42,
     "metadata": {},
     "output_type": "execute_result"
    }
   ],
   "source": [
    "new['V06_demographics,Cohort'].unique()"
   ]
  },
  {
   "cell_type": "code",
   "execution_count": 44,
   "metadata": {
    "collapsed": false,
    "scrolled": true
   },
   "outputs": [],
   "source": [
    "high_ind = ['month' in x or 'High' in x for x in new['V03_demographics,Cohort']]"
   ]
  },
  {
   "cell_type": "code",
   "execution_count": 45,
   "metadata": {
    "collapsed": true
   },
   "outputs": [],
   "source": [
    "low_ind = ['Control' in x or 'Low' in x for x in new['V03_demographics,Cohort']]"
   ]
  },
  {
   "cell_type": "code",
   "execution_count": 46,
   "metadata": {
    "collapsed": false
   },
   "outputs": [
    {
     "data": {
      "text/plain": [
       "31"
      ]
     },
     "execution_count": 46,
     "metadata": {},
     "output_type": "execute_result"
    }
   ],
   "source": [
    "np.sum(low_ind)"
   ]
  },
  {
   "cell_type": "code",
   "execution_count": 47,
   "metadata": {
    "collapsed": false
   },
   "outputs": [
    {
     "data": {
      "text/plain": [
       "62"
      ]
     },
     "execution_count": 47,
     "metadata": {},
     "output_type": "execute_result"
    }
   ],
   "source": [
    "np.sum(high_ind)"
   ]
  },
  {
   "cell_type": "code",
   "execution_count": 50,
   "metadata": {
    "collapsed": false
   },
   "outputs": [],
   "source": [
    "h_bold = np.sum(['month' in x or 'High' in x for x in new['V03_demographics,Cohort'][bold_ind]])\n",
    "h_t1 = np.sum(['month' in x or 'High' in x for x in new['V03_demographics,Cohort'][t1_ind]])\n",
    "\n",
    "l_bold = np.sum(['Control' in x or 'Low' in x for x in new['V03_demographics,Cohort'][bold_ind]])\n",
    "l_t1 = np.sum(['Control' in x or 'Low' in x for x in new['V03_demographics,Cohort'][t1_ind]])"
   ]
  },
  {
   "cell_type": "code",
   "execution_count": 51,
   "metadata": {
    "collapsed": false
   },
   "outputs": [
    {
     "data": {
      "text/plain": [
       "28"
      ]
     },
     "execution_count": 51,
     "metadata": {},
     "output_type": "execute_result"
    }
   ],
   "source": [
    "h_bold"
   ]
  },
  {
   "cell_type": "code",
   "execution_count": 52,
   "metadata": {
    "collapsed": false
   },
   "outputs": [
    {
     "data": {
      "text/plain": [
       "47"
      ]
     },
     "execution_count": 52,
     "metadata": {},
     "output_type": "execute_result"
    }
   ],
   "source": [
    "h_t1"
   ]
  },
  {
   "cell_type": "code",
   "execution_count": 53,
   "metadata": {
    "collapsed": false
   },
   "outputs": [
    {
     "data": {
      "text/plain": [
       "14"
      ]
     },
     "execution_count": 53,
     "metadata": {},
     "output_type": "execute_result"
    }
   ],
   "source": [
    "l_bold"
   ]
  },
  {
   "cell_type": "code",
   "execution_count": 54,
   "metadata": {
    "collapsed": false
   },
   "outputs": [
    {
     "data": {
      "text/plain": [
       "23"
      ]
     },
     "execution_count": 54,
     "metadata": {},
     "output_type": "execute_result"
    }
   ],
   "source": [
    "l_t1"
   ]
  },
  {
   "cell_type": "code",
   "execution_count": null,
   "metadata": {
    "collapsed": true
   },
   "outputs": [],
   "source": []
  }
 ],
 "metadata": {
  "kernelspec": {
   "display_name": "Python 2",
   "language": "python",
   "name": "python2"
  },
  "language_info": {
   "codemirror_mode": {
    "name": "ipython",
    "version": 2
   },
   "file_extension": ".py",
   "mimetype": "text/x-python",
   "name": "python",
   "nbconvert_exporter": "python",
   "pygments_lexer": "ipython2",
   "version": "2.7.11+"
  }
 },
 "nbformat": 4,
 "nbformat_minor": 0
}
