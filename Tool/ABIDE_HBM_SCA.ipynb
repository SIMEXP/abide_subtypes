{
 "cells": [
  {
   "cell_type": "markdown",
   "metadata": {},
   "source": [
    "# Make SCA and network stacks"
   ]
  },
  {
   "cell_type": "code",
   "execution_count": 1,
   "metadata": {
    "collapsed": true
   },
   "outputs": [],
   "source": [
    "# Imports\n",
    "import os\n",
    "import glob\n",
    "import numpy as np\n",
    "import pandas as pd\n",
    "import nibabel as nib\n",
    "import multiprocessing as mp"
   ]
  },
  {
   "cell_type": "code",
   "execution_count": 2,
   "metadata": {
    "collapsed": true
   },
   "outputs": [],
   "source": [
    "# Paths\n",
    "in_data = '/data1/guilimin/abide/abide_release_gsc0_lp01/'\n",
    "abide_ref_path = '/data1/abide/Pheno/psm/abide_qc_maybe.csv'\n",
    "in_pheno = '/data1/abide/Pheno/psm/abide_full_maybe.csv'\n",
    "out_data = '/data1/guilimin/abide/sca/sc12'\n",
    "net_mask = '/data1/cambridge/template/template_cambridge_basc_multiscale_sym_scale012.nii.gz'\n",
    "brain_mask = '/data1/cambridge/template/template_mask.nii.gz'\n",
    "f_tmp = '{}/fmri_{:07}_session_{}_run{}.nii.gz'"
   ]
  },
  {
   "cell_type": "code",
   "execution_count": 3,
   "metadata": {
    "collapsed": false
   },
   "outputs": [],
   "source": [
    "# Get the mask\n",
    "n_img = nib.load(net_mask)\n",
    "net = n_img.get_data()\n",
    "m_img = nib.load(brain_mask)\n",
    "mask = m_img.get_data().astype(bool)"
   ]
  },
  {
   "cell_type": "code",
   "execution_count": 4,
   "metadata": {
    "collapsed": false
   },
   "outputs": [],
   "source": [
    "# Get the pheno file\n",
    "ref = pd.read_csv(abide_ref_path)\n",
    "pheno = pd.read_csv(in_pheno)\n",
    "pheno = pheno[['SUB_ID', 'distance', 'weights']]\n",
    "merged = pd.merge(ref, pheno, on='SUB_ID', how='inner')"
   ]
  },
  {
   "cell_type": "code",
   "execution_count": 5,
   "metadata": {
    "collapsed": true
   },
   "outputs": [],
   "source": [
    "sites = ['Pitt', 'Olin', 'OHSU', 'SDSU', 'Trinity', 'UM_1', 'UM_2', 'USM', 'Yale', 'CMU_a', 'CMU_b',\n",
    "        'Leuven_1', 'Leuven_2', 'KKI', 'NYU', 'Stanford', 'UCLA_1', 'UCLA_2',\n",
    "         'Max_Mun', 'Caltech', 'SBL']"
   ]
  },
  {
   "cell_type": "code",
   "execution_count": 6,
   "metadata": {
    "collapsed": false
   },
   "outputs": [],
   "source": [
    "u_sites = list(merged.SITE_ID.unique())\n",
    "l_sites = [x.lower() for x in u_sites]\n",
    "# Get the index matches between all sites and these sites\n",
    "s_ind = [(si, l_sites.index(site.lower())) if site.lower() in l_sites else (np.nan, np.nan) for si, site in enumerate(sites)]"
   ]
  },
  {
   "cell_type": "code",
   "execution_count": 7,
   "metadata": {
    "collapsed": false
   },
   "outputs": [],
   "source": [
    "# Make a dictionary\n",
    "name_dict = dict()\n",
    "for s in s_ind:\n",
    "    if not any(np.isnan(s)):\n",
    "        i_all, i_loc = s\n",
    "        name_dict[u_sites[i_loc]] = sites[i_all]"
   ]
  },
  {
   "cell_type": "code",
   "execution_count": 8,
   "metadata": {
    "collapsed": false
   },
   "outputs": [],
   "source": [
    "# Use the name dict to replace the site names\n",
    "merged.SITE_ID.replace(name_dict, inplace=True)"
   ]
  },
  {
   "cell_type": "code",
   "execution_count": 9,
   "metadata": {
    "collapsed": false,
    "scrolled": false
   },
   "outputs": [],
   "source": [
    "# Make some paths\n",
    "file_paths = [os.path.join(in_data,f_tmp.format(row.SITE_ID, row.SUB_ID, row.session, row.run)) for index, row in merged.iterrows()]"
   ]
  },
  {
   "cell_type": "code",
   "execution_count": 10,
   "metadata": {
    "collapsed": false
   },
   "outputs": [],
   "source": [
    "# Test the paths\n",
    "for fp in file_paths:\n",
    "    if not os.path.isfile(fp) and not os.path.islink(fp):\n",
    "        print('Something wrong with {}'.format(fp))"
   ]
  },
  {
   "cell_type": "markdown",
   "metadata": {},
   "source": [
    "Looks like we got everything, good. Let's make some maps"
   ]
  },
  {
   "cell_type": "code",
   "execution_count": 4,
   "metadata": {
    "collapsed": false
   },
   "outputs": [
    {
     "data": {
      "text/plain": [
       "1.4722194895832204"
      ]
     },
     "execution_count": 4,
     "metadata": {},
     "output_type": "execute_result"
    }
   ],
   "source": [
    "0.5*np.log((1+0.9)/(1-0.9))"
   ]
  },
  {
   "cell_type": "code",
   "execution_count": 5,
   "metadata": {
    "collapsed": true
   },
   "outputs": [],
   "source": [
    "import sys"
   ]
  },
  {
   "cell_type": "code",
   "execution_count": 10,
   "metadata": {
    "collapsed": true
   },
   "outputs": [],
   "source": [
    "a = '/data1/guilimin/abide/script'\n",
    "b = 'abide/pheno/abide_qc_maybe.csv'"
   ]
  },
  {
   "cell_type": "code",
   "execution_count": 11,
   "metadata": {
    "collapsed": false
   },
   "outputs": [
    {
     "data": {
      "text/plain": [
       "'/data1/guilimin/abide/script/abide/pheno/abide_qc_maybe.csv'"
      ]
     },
     "execution_count": 11,
     "metadata": {},
     "output_type": "execute_result"
    }
   ],
   "source": [
    "os.path.join(a,b)"
   ]
  },
  {
   "cell_type": "code",
   "execution_count": null,
   "metadata": {
    "collapsed": true
   },
   "outputs": [],
   "source": [
    "if not os.path.isdir()"
   ]
  },
  {
   "cell_type": "code",
   "execution_count": null,
   "metadata": {
    "collapsed": true
   },
   "outputs": [],
   "source": [
    "os.makedirs"
   ]
  },
  {
   "cell_type": "code",
   "execution_count": null,
   "metadata": {
    "collapsed": true
   },
   "outputs": [],
   "source": []
  },
  {
   "cell_type": "code",
   "execution_count": 7,
   "metadata": {
    "collapsed": false
   },
   "outputs": [
    {
     "data": {
      "text/plain": [
       "'/usr/local/lib/python3.5/dist-packages/ipykernel/__main__.py'"
      ]
     },
     "execution_count": 7,
     "metadata": {},
     "output_type": "execute_result"
    }
   ],
   "source": [
    "sys.argv[0]"
   ]
  },
  {
   "cell_type": "code",
   "execution_count": null,
   "metadata": {
    "collapsed": true
   },
   "outputs": [],
   "source": [
    "def run_stuff(args):\n",
    "    sub_path, net_mask, brain_mask, out_data = args\n",
    "    \n",
    "    # Check if anything should be done\n",
    "    out_path = os.path.join(out_data, 'netstack_{}'.format(os.path.basename(sub_path)))\n",
    "    if os.path.isfile(out_path):\n",
    "        return 'Exists already: {}'.format(out_path)\n",
    "    \n",
    "    # Get the mask\n",
    "    n_img = nib.load(net_mask)\n",
    "    net = n_img.get_data()\n",
    "    m_img = nib.load(brain_mask)\n",
    "    mask = m_img.get_data().astype(bool)\n",
    "\n",
    "    # Get the subject\n",
    "    f_img = nib.load(sub_path)\n",
    "    vol = f_img.get_data()\n",
    "    # Vectorize it\n",
    "    vec = vol[mask, ...]\n",
    "    \n",
    "    # Vectorize it\n",
    "    vec_vol = vol[mask, ...]\n",
    "    vec_net = net[mask]\n",
    "    # Get the number of voxels\n",
    "    n_vox = np.sum(mask)\n",
    "    nets = np.unique(net[net!=0])\n",
    "    n_net = len(nets)\n",
    "    \n",
    "    seed_maps = np.zeros((n_vox, n_net))\n",
    "    for n_id, n_val in enumerate(nets):\n",
    "        # Get the average signal in the ROI\n",
    "        net_mean = np.mean(vec_vol[vec_net==n_val],0)\n",
    "        # Compute the correlation vector\n",
    "        corr_vec = np.array([0.5*np.log((1+np.corrcoef(i, net_mean)[1][0])/(1-np.corrcoef(i, net_mean)[1][0])) for i in vec_vol])\n",
    "        seed_maps[:, n_id] = corr_vec\n",
    "\n",
    "    # Generate the network stack\n",
    "    template = np.zeros((mask.shape + (n_net,)))\n",
    "    template[mask, ...] = seed_maps\n",
    "    img = nib.Nifti1Image(template, header=n_img.get_header(), affine=n_img.get_affine())\n",
    "    # Save the template\n",
    "    nib.save(img, out_path)\n",
    "    \n",
    "    return 'Created new: {}'.format(out_path)"
   ]
  },
  {
   "cell_type": "code",
   "execution_count": null,
   "metadata": {
    "collapsed": false
   },
   "outputs": [],
   "source": [
    "# Set up some workers\n",
    "args = [(fp, net_mask, brain_mask, out_data) for fp in file_paths]\n",
    "pool = mp.Pool(3)\n",
    "m = pool.map(run_stuff, args)"
   ]
  },
  {
   "cell_type": "code",
   "execution_count": null,
   "metadata": {
    "collapsed": false
   },
   "outputs": [],
   "source": [
    "for i in m:\n",
    "    print(i)"
   ]
  }
 ],
 "metadata": {
  "kernelspec": {
   "display_name": "Python 3",
   "language": "python",
   "name": "python3"
  },
  "language_info": {
   "codemirror_mode": {
    "name": "ipython",
    "version": 3
   },
   "file_extension": ".py",
   "mimetype": "text/x-python",
   "name": "python",
   "nbconvert_exporter": "python",
   "pygments_lexer": "ipython3",
   "version": "3.5.2+"
  }
 },
 "nbformat": 4,
 "nbformat_minor": 0
}
