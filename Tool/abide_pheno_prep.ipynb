{
 "cells": [
  {
   "cell_type": "markdown",
   "metadata": {},
   "source": [
    "# Prepare the full ABIDE pheno dataset\n",
    "This includes:\n",
    "\n",
    "- adding the motion parameters from niak preprocessing\n",
    "- adding the corrected ADOS severity scores from Budha\n",
    "- removing any duplicates\n",
    "- removing any entries for which there are no files on disk\n",
    "- replace any -9999 or -999 value with NaN"
   ]
  },
  {
   "cell_type": "code",
   "execution_count": 1,
   "metadata": {
    "collapsed": true
   },
   "outputs": [],
   "source": [
    "import os\n",
    "import re\n",
    "import glob\n",
    "import numpy as np\n",
    "import pandas as pd\n",
    "from scipy import io as sio"
   ]
  },
  {
   "cell_type": "code",
   "execution_count": 2,
   "metadata": {
    "collapsed": true
   },
   "outputs": [],
   "source": [
    "# Set up\n",
    "pheno_path = '/data1/abide/Pheno/Phenotypic_V1_0b.csv'\n",
    "motion_path = '/data1/abide/Pheno/qc_motion_all_abide.csv'\n",
    "ados_path = '/data1/abide/Pheno/ADOS_Budha.mat'\n",
    "data_path = '/data1/abide/Out/Scores/sc07/time/stability_maps'\n",
    "data_template = '*_fmri_{:07d}_session_1_run1_stability_maps.nii.gz'\n",
    "out_path = '/data1/abide/Pheno/full_merged_pheno.csv'"
   ]
  },
  {
   "cell_type": "code",
   "execution_count": 3,
   "metadata": {
    "collapsed": false,
    "scrolled": false
   },
   "outputs": [],
   "source": [
    "# Prepare the motion data\n",
    "motion = pd.read_csv(motion_path)\n",
    "# Rename the subID column\n",
    "colnames = motion.columns.values\n",
    "colnames[0] = 'SUB_ID'\n",
    "motion.columns = colnames\n",
    "# Some subjects have additional runs, but we only care about the first run\n",
    "motion = motion[np.array(['_session_1_run1' in x for x in motion['SUB_ID'].values])]\n",
    "# of the remaining cases, change the name of the subject ID\n",
    "motion['SUB_ID'] = [int(re.search('(?<=X)[0-9]*',row['SUB_ID']).group()) for index, row in motion.iterrows()]"
   ]
  },
  {
   "cell_type": "code",
   "execution_count": 4,
   "metadata": {
    "collapsed": true
   },
   "outputs": [],
   "source": [
    "# Load the pheno file\n",
    "pheno = pd.read_csv(pheno_path)\n",
    "# Merge it with the motion data, keeping only matching\n",
    "pheno = pheno.merge(motion, on='SUB_ID')"
   ]
  },
  {
   "cell_type": "code",
   "execution_count": 5,
   "metadata": {
    "collapsed": false
   },
   "outputs": [],
   "source": [
    "# Remove anything that doesn't point to an existing file\n",
    "is_there = [not not glob.glob(os.path.join(data_path, \n",
    "                                           data_template.format(row['SUB_ID']))) for index, row in pheno.iterrows()]\n",
    "pheno = pheno[is_there]"
   ]
  },
  {
   "cell_type": "code",
   "execution_count": 6,
   "metadata": {
    "collapsed": false
   },
   "outputs": [],
   "source": [
    "# Load the ADOS file\n",
    "tmp = sio.loadmat(ados_path)\n",
    "ados_sc = np.array(tmp['ados_social_comm_severity']).flatten()\n",
    "ados_rb = np.array(tmp['ados_stereo_behav_severity']).flatten()\n",
    "ados_sub = np.array(tmp['subj_ID']).flatten()\n",
    "# Add a new column to the pheno file\n",
    "pheno['ADOS_SOCOM_SEV'] = np.nan\n",
    "pheno['ADOS_STBEH_SEV'] = np.nan\n",
    "# Add the ados values to pheno\n",
    "for sub_id, sub in enumerate(ados_sub):\n",
    "    match_id  = np.where(pheno['SUB_ID']==sub)[0]\n",
    "    pheno.ix[match_id, 'ADOS_SOCOM_SEV'] = ados_sc[sub_id]\n",
    "    pheno.ix[match_id, 'ADOS_STBEH_SEV'] = ados_rb[sub_id]"
   ]
  },
  {
   "cell_type": "code",
   "execution_count": 7,
   "metadata": {
    "collapsed": false
   },
   "outputs": [],
   "source": [
    "# Replace missing values with nan\n",
    "pheno = pheno.replace('-9999', np.nan)\n",
    "pheno = pheno.replace('-999', np.nan)"
   ]
  },
  {
   "cell_type": "code",
   "execution_count": 8,
   "metadata": {
    "collapsed": false
   },
   "outputs": [],
   "source": [
    "pheno.to_csv(out_path, index=False)"
   ]
  }
 ],
 "metadata": {
  "kernelspec": {
   "display_name": "Python 2",
   "language": "python",
   "name": "python2"
  },
  "language_info": {
   "codemirror_mode": {
    "name": "ipython",
    "version": 2
   },
   "file_extension": ".py",
   "mimetype": "text/x-python",
   "name": "python",
   "nbconvert_exporter": "python",
   "pygments_lexer": "ipython2",
   "version": "2.7.11+"
  }
 },
 "nbformat": 4,
 "nbformat_minor": 0
}
