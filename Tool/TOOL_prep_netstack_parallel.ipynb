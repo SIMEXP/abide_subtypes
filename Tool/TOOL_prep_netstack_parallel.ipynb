{
 "cells": [
  {
   "cell_type": "markdown",
   "metadata": {},
   "source": [
    "Take the netstack and linkage out of the rest of the pipeline and instead pickle things to disk for speed reasons."
   ]
  },
  {
   "cell_type": "code",
   "execution_count": 21,
   "metadata": {
    "collapsed": false
   },
   "outputs": [],
   "source": [
    "# Imports\n",
    "import os\n",
    "import sys\n",
    "import glob\n",
    "import numpy as np\n",
    "import pandas as pd\n",
    "import nibabel as nib\n",
    "import brainbox as bb\n",
    "from multiprocessing import Pool"
   ]
  },
  {
   "cell_type": "code",
   "execution_count": 22,
   "metadata": {
    "collapsed": false
   },
   "outputs": [],
   "source": [
    "# Dummy variables\n",
    "pheno_list = [\n",
    "              '/data1/abide/Pheno/combined_406.csv',\n",
    "              '/data1/abide/Pheno/site_balanced_279.csv',\n",
    "              '/data1/abide/Pheno/site_and_age_balanced_194.csv',\n",
    "              '/data1/abide/Pheno/site_full_balanced_236.csv',\n",
    "              '/data1/abide/Pheno/site_cross_balanced_288.csv'\n",
    "              ]\n",
    "sample_names = [\n",
    "                'combined_406_sample',\n",
    "                'site_279_sample',\n",
    "                'site_age_194_sample',\n",
    "                'site_236_within',\n",
    "                'site_288_cross'\n",
    "                ]\n",
    "scale_list = [7, 12, 20, 36, 64]\n",
    "mtp_list = [\n",
    "            'rmap_part', \n",
    "            'dual_regression',\n",
    "            'stability_maps'\n",
    "            ]\n",
    "warn = True\n",
    "# Select things\n",
    "phen_id = 4\n",
    "sc_id = 3\n",
    "mtp_id = 0\n",
    "# Translate into variables\n",
    "scale = scale_list[sc_id]\n",
    "mtp = mtp_list[mtp_id]\n",
    "name = sample_names[phen_id]\n",
    "pheno_path = pheno_list[phen_id]\n",
    "\n",
    "# Input paths\n",
    "tpl = '*_fmri_{:07d}_session_1_run1_{}.nii.gz'\n",
    "prior_path = '/data1/cambridge/template/template_cambridge_basc_multiscale_sym_scale{:03d}.nii.gz'.format(scale)\n",
    "data_path = '/data1/abide/Out/Scores/sc{:02d}/time'.format(scale)\n",
    "mask_path = '/data1/abide/Mask/mask_data_specific.nii.gz'\n",
    "\n",
    "# Output paths\n",
    "out_path = '/data1/subtypes/serial_preps'\n",
    "out_default = '{}_{}_scale_{:03d}'.format(mtp, name, scale)\n",
    "\n",
    "net_raw_name = 'netstack_raw_{}.npy'.format(out_default)\n",
    "net_demean_name = 'netstack_dmn_{}.npy'.format(out_default)\n",
    "sim_mat_name = 'correlation_matrix_{}.npy'.format(out_default)\n",
    "net_raw_path = os.path.join(out_path, net_raw_name)\n",
    "net_demean_path = os.path.join(out_path, net_demean_name)\n",
    "sim_mat_path = os.path.join(out_path, sim_mat_name)\n",
    "# See if output path exists\n",
    "if not os.path.isdir(out_path):\n",
    "    print('Creating new output path {}'.format(out_path))\n",
    "    os.makedirs(out_path)"
   ]
  },
  {
   "cell_type": "code",
   "execution_count": 23,
   "metadata": {
    "collapsed": true
   },
   "outputs": [],
   "source": [
    "# Get the mask\n",
    "m_img = nib.load(mask_path)\n",
    "mask_data = m_img.get_data()\n",
    "mask = mask_data != 0"
   ]
  },
  {
   "cell_type": "code",
   "execution_count": 24,
   "metadata": {
    "collapsed": false
   },
   "outputs": [],
   "source": [
    "# Get the phenotype\n",
    "pheno = pd.read_csv(pheno_path)\n",
    "# Grab the corresponding file paths - should be sure that they exist\n",
    "path_list = [glob.glob(os.path.join(data_path, mtp, tpl.format(r['SUB_ID'], mtp)))[0] for i, r in pheno.iterrows()]"
   ]
  },
  {
   "cell_type": "code",
   "execution_count": 25,
   "metadata": {
    "collapsed": false
   },
   "outputs": [],
   "source": [
    "for i, r in pheno.iterrows():\n",
    "    if not glob.glob(os.path.join(data_path, mtp, tpl.format(r['SUB_ID'], mtp))):\n",
    "        print('{} not here'.format(tpl.format(r['SUB_ID'])))"
   ]
  },
  {
   "cell_type": "code",
   "execution_count": 26,
   "metadata": {
    "collapsed": false
   },
   "outputs": [],
   "source": [
    "# Get the prior\n",
    "p_img = nib.load(prior_path)\n",
    "prior = p_img.get_data()"
   ]
  },
  {
   "cell_type": "code",
   "execution_count": 27,
   "metadata": {
    "collapsed": true
   },
   "outputs": [],
   "source": [
    "# Get the number of voxels and subjects\n",
    "n_vox = np.sum(mask)\n",
    "n_sub = len(path_list)"
   ]
  },
  {
   "cell_type": "code",
   "execution_count": 28,
   "metadata": {
    "collapsed": false
   },
   "outputs": [
    {
     "name": "stdout",
     "output_type": "stream",
     "text": [
      " 100.0 % done 0.00 seconds to go. One step takes 0.32128 and we ran for 92.97 s so far"
     ]
    }
   ],
   "source": [
    "# Storage\n",
    "netstack_raw = np.zeros((scale, n_vox, n_sub))\n",
    "netstack_demean = np.zeros((scale, n_vox, n_sub))\n",
    "\n",
    "# Get the scores maps into a voxel by subject array\n",
    "net_stack = np.zeros((n_vox, n_sub))\n",
    "# Iterate files\n",
    "timer = bb.tools.Counter(n_sub)\n",
    "for sub_id in range(n_sub):\n",
    "    timer.tic()\n",
    "    s_path = path_list[sub_id]\n",
    "    # Getting data\n",
    "    netstack_raw[..., sub_id] = nib.load(s_path).get_data()[mask].T\n",
    "    timer.toc()\n",
    "    timer.progress()\n",
    "    \n",
    "# Save the netstack\n",
    "np.save(net_raw_path, netstack_raw)\n",
    "\n",
    "# Take the grand average\n",
    "grand_average = np.mean(netstack_raw, 2)\n",
    "# Demean the netstack\n",
    "netstack_demean = netstack_raw - np.tile(grand_average[..., None], (1,1,n_sub))\n",
    "\n",
    "# Save the demeaned netstack\n",
    "np.save(net_demean_path, netstack_demean)"
   ]
  },
  {
   "cell_type": "code",
   "execution_count": 29,
   "metadata": {
    "collapsed": true
   },
   "outputs": [],
   "source": [
    "def make_corr(stack):\n",
    "    # Just make the corr mat\n",
    "    corr_mat = np.corrcoef(stack, rowvar=0)\n",
    "    return corr_mat"
   ]
  },
  {
   "cell_type": "code",
   "execution_count": 30,
   "metadata": {
    "collapsed": false
   },
   "outputs": [],
   "source": [
    "# Build the correlation matrices\n",
    "sim_mat = np.zeros((scale, n_sub, n_sub))\n",
    "pool = Pool(processes=6)\n",
    "args = list()\n",
    "\n",
    "# Build the arg list\n",
    "for net_id in range(scale):\n",
    "    args.append(netstack_demean[net_id, ...])    \n",
    "results = pool.map(make_corr, args)\n",
    "# Stitch the results together\n",
    "for net_id, result in enumerate(results):\n",
    "    sim_mat[net_id, ...] = result\n",
    "\n",
    "# Serialize and save the output\n",
    "np.save(sim_mat_path, sim_mat)"
   ]
  }
 ],
 "metadata": {
  "kernelspec": {
   "display_name": "Python 2",
   "language": "python",
   "name": "python2"
  },
  "language_info": {
   "codemirror_mode": {
    "name": "ipython",
    "version": 2
   },
   "file_extension": ".py",
   "mimetype": "text/x-python",
   "name": "python",
   "nbconvert_exporter": "python",
   "pygments_lexer": "ipython2",
   "version": "2.7.12+"
  }
 },
 "nbformat": 4,
 "nbformat_minor": 0
}
