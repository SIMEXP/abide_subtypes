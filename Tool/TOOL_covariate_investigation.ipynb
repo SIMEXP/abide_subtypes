{
 "cells": [
  {
   "cell_type": "markdown",
   "metadata": {},
   "source": [
    "# See how many cases we find for each covariate\n",
    "The purpose of this notebook is to find how many cases of the covariates of interest we can find"
   ]
  },
  {
   "cell_type": "code",
   "execution_count": 1,
   "metadata": {
    "collapsed": false
   },
   "outputs": [],
   "source": [
    "import os\n",
    "import numpy as np\n",
    "import pandas as pd"
   ]
  },
  {
   "cell_type": "code",
   "execution_count": 2,
   "metadata": {
    "collapsed": false
   },
   "outputs": [],
   "source": [
    "% matplotlib notebook"
   ]
  },
  {
   "cell_type": "code",
   "execution_count": 3,
   "metadata": {
    "collapsed": true
   },
   "outputs": [],
   "source": [
    "# Paths\n",
    "pheno_path_0 = '/data1/abide/Pheno/existing_pheno.csv'\n",
    "pheno_path_1 = '/data1/abide/Pheno/unconstrained_3box_189_sample.csv'\n",
    "pheno_path_2 = '/data1/abide/Pheno/unconstrained_2box_308_sample.csv'\n",
    "pheno_path_3 = '/data1/abide/Pheno/nyu_pheno.csv'\n",
    "# Load them\n",
    "pheno_0 = pd.read_csv(pheno_path_0)\n",
    "pheno_1 = pd.read_csv(pheno_path_1)\n",
    "pheno_2 = pd.read_csv(pheno_path_2)\n",
    "pheno_3 = pd.read_csv(pheno_path_3)"
   ]
  },
  {
   "cell_type": "code",
   "execution_count": 4,
   "metadata": {
    "collapsed": false
   },
   "outputs": [
    {
     "data": {
      "text/plain": [
       "['SITE_ID',\n",
       " 'SUB_ID',\n",
       " 'DX_GROUP',\n",
       " 'DSM_IV_TR',\n",
       " 'AGE_AT_SCAN',\n",
       " 'SEX',\n",
       " 'HANDEDNESS_CATEGORY',\n",
       " 'HANDEDNESS_SCORES',\n",
       " 'FIQ',\n",
       " 'VIQ',\n",
       " 'PIQ',\n",
       " 'FIQ_TEST_TYPE',\n",
       " 'VIQ_TEST_TYPE',\n",
       " 'PIQ_TEST_TYPE',\n",
       " 'ADI_R_SOCIAL_TOTAL_A',\n",
       " 'ADI_R_VERBAL_TOTAL_BV',\n",
       " 'ADI_RRB_TOTAL_C',\n",
       " 'ADI_R_ONSET_TOTAL_D',\n",
       " 'ADI_R_RSRCH_RELIABLE',\n",
       " 'ADOS_MODULE',\n",
       " 'ADOS_TOTAL',\n",
       " 'ADOS_COMM',\n",
       " 'ADOS_SOCIAL',\n",
       " 'ADOS_STEREO_BEHAV',\n",
       " 'ADOS_RSRCH_RELIABLE',\n",
       " 'ADOS_GOTHAM_SOCAFFECT',\n",
       " 'ADOS_GOTHAM_RRB',\n",
       " 'ADOS_GOTHAM_TOTAL',\n",
       " 'ADOS_GOTHAM_SEVERITY',\n",
       " 'SRS_VERSION',\n",
       " 'SRS_RAW_TOTAL',\n",
       " 'SRS_AWARENESS',\n",
       " 'SRS_COGNITION',\n",
       " 'SRS_COMMUNICATION',\n",
       " 'SRS_MOTIVATION',\n",
       " 'SRS_MANNERISMS',\n",
       " 'SCQ_TOTAL',\n",
       " 'AQ_TOTAL',\n",
       " 'COMORBIDITY',\n",
       " 'CURRENT_MED_STATUS',\n",
       " 'MEDICATION_NAME',\n",
       " 'OFF_STIMULANTS_AT_SCAN',\n",
       " 'VINELAND_RECEPTIVE_V_SCALED',\n",
       " 'VINELAND_EXPRESSIVE_V_SCALED',\n",
       " 'VINELAND_WRITTEN_V_SCALED',\n",
       " 'VINELAND_COMMUNICATION_STANDARD',\n",
       " 'VINELAND_PERSONAL_V_SCALED',\n",
       " 'VINELAND_DOMESTIC_V_SCALED',\n",
       " 'VINELAND_COMMUNITY_V_SCALED',\n",
       " 'VINELAND_DAILYLVNG_STANDARD',\n",
       " 'VINELAND_INTERPERSONAL_V_SCALED',\n",
       " 'VINELAND_PLAY_V_SCALED',\n",
       " 'VINELAND_COPING_V_SCALED',\n",
       " 'VINELAND_SOCIAL_STANDARD',\n",
       " 'VINELAND_SUM_SCORES',\n",
       " 'VINELAND_ABC_STANDARD',\n",
       " 'VINELAND_INFORMANT',\n",
       " 'WISC_IV_VCI',\n",
       " 'WISC_IV_PRI',\n",
       " 'WISC_IV_WMI',\n",
       " 'WISC_IV_PSI',\n",
       " 'WISC_IV_SIM_SCALED',\n",
       " 'WISC_IV_VOCAB_SCALED',\n",
       " 'WISC_IV_INFO_SCALED',\n",
       " 'WISC_IV_BLK_DSN_SCALED',\n",
       " 'WISC_IV_PIC_CON_SCALED',\n",
       " 'WISC_IV_MATRIX_SCALED',\n",
       " 'WISC_IV_DIGIT_SPAN_SCALED',\n",
       " 'WISC_IV_LET_NUM_SCALED',\n",
       " 'WISC_IV_CODING_SCALED',\n",
       " 'WISC_IV_SYM_SCALED',\n",
       " 'EYE_STATUS_AT_SCAN',\n",
       " 'AGE_AT_MPRAGE',\n",
       " 'BMI',\n",
       " 'frames_scrubbed ',\n",
       " 'frames_OK ',\n",
       " 'FD ',\n",
       " 'FD_scrubbed']"
      ]
     },
     "execution_count": 4,
     "metadata": {},
     "output_type": "execute_result"
    }
   ],
   "source": [
    "list(pheno_0.columns)"
   ]
  },
  {
   "cell_type": "markdown",
   "metadata": {},
   "source": [
    "Here are a list of some covariates that might be interesting:\n",
    "- FIQ\n",
    "- VIQ\n",
    "- PIQ\n",
    "- ADI_R_SOCIAL_TOTAL_A\n",
    "- ADI_R_VERBAL_TOTAL_BV\n",
    "- ADI_RRB_TOTAL_C\n",
    "- BMI\n",
    "\n",
    "Let's find out how many cases we get for each"
   ]
  },
  {
   "cell_type": "code",
   "execution_count": 5,
   "metadata": {
    "collapsed": true
   },
   "outputs": [],
   "source": [
    "# Replace -9999 with nan\n",
    "pheno_0 = pheno_0.replace(-9999, np.nan)\n",
    "pheno_1 = pheno_1.replace(-9999, np.nan)\n",
    "pheno_2 = pheno_2.replace(-9999, np.nan)\n",
    "pheno_3 = pheno_3.replace(-9999, np.nan)"
   ]
  },
  {
   "cell_type": "code",
   "execution_count": 6,
   "metadata": {
    "collapsed": false
   },
   "outputs": [],
   "source": [
    "# Go through the covariates and print out how many there are\n",
    "cov_list = ['FIQ', 'VIQ', 'PIQ', 'ADI_R_SOCIAL_TOTAL_A',\n",
    "            'ADI_R_VERBAL_TOTAL_BV', 'ADI_RRB_TOTAL_C', \n",
    "            'VINELAND_ABC_STANDARD', 'ADOS_TOTAL', 'SRS_RAW_TOTAL', 'DX_GROUP']"
   ]
  },
  {
   "cell_type": "code",
   "execution_count": 7,
   "metadata": {
    "collapsed": false
   },
   "outputs": [
    {
     "name": "stdout",
     "output_type": "stream",
     "text": [
      "For pheno 0 with 823 total subjects:\n",
      "\n",
      "756 for FIQ\n",
      "628 for VIQ\n",
      "647 for PIQ\n",
      "257 for ADI_R_SOCIAL_TOTAL_A\n",
      "258 for ADI_R_VERBAL_TOTAL_BV\n",
      "257 for ADI_RRB_TOTAL_C\n",
      "112 for VINELAND_ABC_STANDARD\n",
      "382 for ADOS_TOTAL\n",
      "284 for SRS_RAW_TOTAL\n",
      "823 for DX_GROUP\n"
     ]
    }
   ],
   "source": [
    "print('For pheno 0 with {} total subjects:\\n'.format(len(pheno_0)))\n",
    "for cov in cov_list:\n",
    "    print('{1} for {0}'.format(cov, np.sum(pd.notnull(pheno_0[cov]))))"
   ]
  },
  {
   "cell_type": "code",
   "execution_count": 8,
   "metadata": {
    "collapsed": false
   },
   "outputs": [
    {
     "name": "stdout",
     "output_type": "stream",
     "text": [
      "For pheno 1 with 189 total subjects:\n",
      "\n",
      "171 for FIQ\n",
      "168 for VIQ\n",
      "168 for PIQ\n",
      "67 for ADI_R_SOCIAL_TOTAL_A\n",
      "68 for ADI_R_VERBAL_TOTAL_BV\n",
      "68 for ADI_RRB_TOTAL_C\n",
      "53 for VINELAND_ABC_STANDARD\n",
      "86 for ADOS_TOTAL\n",
      "95 for SRS_RAW_TOTAL\n",
      "189 for DX_GROUP\n"
     ]
    }
   ],
   "source": [
    "print('For pheno 1 with {} total subjects:\\n'.format(len(pheno_1)))\n",
    "for cov in cov_list:\n",
    "    print('{1} for {0}'.format(cov, np.sum(pd.notnull(pheno_1[cov]))))"
   ]
  },
  {
   "cell_type": "code",
   "execution_count": 9,
   "metadata": {
    "collapsed": false
   },
   "outputs": [
    {
     "name": "stdout",
     "output_type": "stream",
     "text": [
      "For pheno 2 with 308 total subjects:\n",
      "\n",
      "276 for FIQ\n",
      "276 for VIQ\n",
      "277 for PIQ\n",
      "103 for ADI_R_SOCIAL_TOTAL_A\n",
      "104 for ADI_R_VERBAL_TOTAL_BV\n",
      "104 for ADI_RRB_TOTAL_C\n",
      "53 for VINELAND_ABC_STANDARD\n",
      "136 for ADOS_TOTAL\n",
      "132 for SRS_RAW_TOTAL\n",
      "308 for DX_GROUP\n"
     ]
    }
   ],
   "source": [
    "print('For pheno 2 with {} total subjects:\\n'.format(len(pheno_2)))\n",
    "for cov in cov_list:\n",
    "    print('{1} for {0}'.format(cov, np.sum(pd.notnull(pheno_2[cov]))))"
   ]
  },
  {
   "cell_type": "code",
   "execution_count": null,
   "metadata": {
    "collapsed": true
   },
   "outputs": [],
   "source": []
  }
 ],
 "metadata": {
  "kernelspec": {
   "display_name": "Python 3",
   "language": "python",
   "name": "python3"
  },
  "language_info": {
   "codemirror_mode": {
    "name": "ipython",
    "version": 3
   },
   "file_extension": ".py",
   "mimetype": "text/x-python",
   "name": "python",
   "nbconvert_exporter": "python",
   "pygments_lexer": "ipython3",
   "version": "3.5.0+"
  }
 },
 "nbformat": 4,
 "nbformat_minor": 0
}
