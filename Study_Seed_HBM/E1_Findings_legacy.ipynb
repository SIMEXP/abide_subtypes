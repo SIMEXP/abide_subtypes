{
 "cells": [
  {
   "cell_type": "markdown",
   "metadata": {},
   "source": [
    "# Experiment 1 - Findings\n",
    "List the findings for seed maps at the scale levels and for the covariates of \n",
    "- Diagnosis\n",
    "- ADOS severity\n",
    "- VIQ\n",
    "- VIQ/PIQ ratio"
   ]
  },
  {
   "cell_type": "code",
   "execution_count": 1,
   "metadata": {
    "collapsed": false
   },
   "outputs": [],
   "source": [
    "# Imports\n",
    "import os\n",
    "import glob\n",
    "import numpy as np\n",
    "import pandas as pd\n",
    "import nibabel as nib\n",
    "import brainbox as bb\n",
    "import nilearn as nil\n",
    "import statsmodels.api as sm\n",
    "from scipy import stats as st\n",
    "from matplotlib import gridspec\n",
    "from scipy import cluster as scl\n",
    "from nilearn import plotting as nlp\n",
    "from matplotlib import pyplot as plt\n",
    "from sklearn import linear_model as slin\n",
    "from statsmodels.sandbox import stats as sts\n",
    "from matplotlib.colors import LinearSegmentedColormap\n",
    "from statsmodels.sandbox.stats import multicomp as smi"
   ]
  },
  {
   "cell_type": "code",
   "execution_count": 2,
   "metadata": {
    "collapsed": false
   },
   "outputs": [],
   "source": [
    "%matplotlib inline"
   ]
  },
  {
   "cell_type": "markdown",
   "metadata": {},
   "source": [
    "# Paths"
   ]
  },
  {
   "cell_type": "code",
   "execution_count": 3,
   "metadata": {
    "collapsed": false
   },
   "outputs": [],
   "source": [
    "# Variables\n",
    "scale_list = np.array([7, 12, 20, 36, 64])\n",
    "#cov_list = ['DX_GROUP', 'ADOS_SOCOM_SEV', 'VIQ', 'VPR', 'EYE_STATUS_AT_SCAN']\n",
    "cov_list = ['DX_GROUP']\n",
    "#sc_id = [0,1,2,3]\n",
    "sc_id = [0]\n",
    "# Make variables\n",
    "scales = scale_list[sc_id]\n",
    "mtp = 'rmap_part'\n",
    "name = 'site_279_sample'\n",
    "pheno_path = '/data1/abide/Pheno/site_balanced_279.csv'\n",
    "# Fixed values\n",
    "mask_path = '/data1/abide/Mask/mask_data_specific.nii.gz'\n",
    "in_path = '/data1/subtypes/serial_preps/'"
   ]
  },
  {
   "cell_type": "code",
   "execution_count": 4,
   "metadata": {
    "collapsed": false
   },
   "outputs": [],
   "source": [
    "# Get the mask\n",
    "m_img = nib.load(mask_path)\n",
    "mask_data = m_img.get_data()\n",
    "mask = mask_data != 0"
   ]
  },
  {
   "cell_type": "code",
   "execution_count": 5,
   "metadata": {
    "collapsed": false
   },
   "outputs": [],
   "source": [
    "# Get the phenotype data\n",
    "pheno = pd.read_csv(pheno_path)\n",
    "pheno['VPR'] = pheno['VIQ'].values / pheno['PIQ'].values"
   ]
  },
  {
   "cell_type": "markdown",
   "metadata": {},
   "source": [
    "# Scale iteration"
   ]
  },
  {
   "cell_type": "code",
   "execution_count": 6,
   "metadata": {
    "collapsed": false,
    "scrolled": false
   },
   "outputs": [
    {
     "name": "stdout",
     "output_type": "stream",
     "text": [
      "\n",
      "\n",
      "SCALE 7 for rmap_part with site_279_sample\n",
      "\n",
      "    5 findings for DX_GROUP ([array([0, 3]), array([2, 0]), array([2, 3]), array([2, 4]), array([5, 3])])\n"
     ]
    }
   ],
   "source": [
    "for scale in scales:\n",
    "    print('\\n\\nSCALE {} for {} with {}'.format(scale, mtp, name))\n",
    "    # Scale stuff\n",
    "    netstack_path = os.path.join(in_path, 'netstack_dmn_{}_{}_scale_{:03d}.npy'.format(mtp, name, scale))\n",
    "    netraw_path = os.path.join(in_path, 'netstack_raw_{}_{}_scale_{:03d}.npy'.format(mtp, name, scale))\n",
    "    corrmat_path = os.path.join(in_path, 'correlation_matrix_{}_{}_scale_{:03d}.npy'.format(mtp, name, scale))\n",
    "    prior_path = '/data1/cambridge/template/template_cambridge_basc_multiscale_sym_scale{:03d}.nii.gz'.format(scale)\n",
    "    \n",
    "    # Get the prior\n",
    "    p_img = nib.load(prior_path)\n",
    "    prior = p_img.get_data()\n",
    "    \n",
    "    # Turn the priors into an image\n",
    "    prior = nib.load(prior_path)\n",
    "    prior_data = prior.get_data()\n",
    "    prior_temp = np.zeros((prior_data.shape + (scale,)))\n",
    "    for sc_id in range(scale):\n",
    "        tmp = np.zeros_like(prior_data)\n",
    "        tmp[prior_data==sc_id+1] = sc_id + 1\n",
    "        prior_temp[..., sc_id] = tmp\n",
    "    prior_img = nib.Nifti1Image(prior_temp, affine=m_img.get_affine(), header=m_img.get_header())\n",
    "    \n",
    "    # Load the serialized netstack\n",
    "    netstack = np.load(netstack_path)\n",
    "    corr_mat = np.load(corrmat_path)\n",
    "    \n",
    "    subtypes = 5\n",
    "\n",
    "    n_sub = netstack.shape[2]\n",
    "    n_vox = netstack.shape[1]\n",
    "\n",
    "    # Make the grand average\n",
    "    gdavg = np.zeros(mask.shape + (scale,))\n",
    "\n",
    "    scale = netstack.shape[0]\n",
    "    n_sub = netstack.shape[2]\n",
    "    n_vox = netstack.shape[1]\n",
    "\n",
    "    link_store = np.zeros((n_sub-1,4,scale))\n",
    "    part_store = np.zeros((scale, n_sub))\n",
    "    sbt_store = np.zeros((scale, subtypes, n_vox))\n",
    "    weight_store = np.zeros((scale, subtypes, n_sub))\n",
    "\n",
    "    # Iterate through the networks\n",
    "    for net_id in range(scale):\n",
    "        # Compute linkage with Ward's criterion\n",
    "        link_mat = scl.hierarchy.linkage(corr_mat[net_id, ...] , method='ward')\n",
    "        link_store[..., net_id] = link_mat\n",
    "        # Partition the linkage to get a given number of subtypes\n",
    "        part_sub = scl.hierarchy.fcluster(link_mat, subtypes, criterion='maxclust')\n",
    "        part_store[net_id, :] = part_sub\n",
    "\n",
    "        sub_stack = np.zeros((n_vox, subtypes))\n",
    "        for s_id in range(subtypes):\n",
    "            sbt = np.mean(netstack[net_id, :, part_sub==s_id+1],0)\n",
    "            sub_stack[:,s_id] = sbt\n",
    "            sbt_store[net_id, s_id, :] = sbt\n",
    "\n",
    "        # Init store - Compute the weights\n",
    "        for s_id in range(subtypes):\n",
    "            type_map = sub_stack[:, s_id]\n",
    "            weight_store[net_id, s_id, :] = np.array([np.corrcoef(type_map, netstack[net_id, :, x])[0,1] for x in range(n_sub)])\n",
    "\n",
    "        # Init store - Compute the weights\n",
    "        for s_id in range(subtypes):\n",
    "            type_map = sub_stack[:, s_id]\n",
    "            weight_store[net_id, s_id, :] = np.array([np.corrcoef(type_map, netstack[net_id, :, x])[0,1] for x in range(n_sub)])\n",
    "\n",
    "    for cov in cov_list:\n",
    "        cov_index = pd.notnull(pheno.replace(-9999, np.nan)[cov])\n",
    "        cov_pheno = pheno[cov_index]\n",
    "        # Generate the model matrix\n",
    "        factors = [cov, 'SEX', 'AGE_AT_SCAN', 'FD_scrubbed']\n",
    "        # Make dummy variables for the site factor\n",
    "        site_factor = pd.get_dummies(cov_pheno['SITE_ID'])\n",
    "        # Turn the first site into the intercept\n",
    "        site_factor = site_factor.rename(columns={site_factor.keys()[0]: 'INTERCEPT'})\n",
    "        site_factor['INTERCEPT'] = 1\n",
    "        # Get the other variables\n",
    "        other_factors = cov_pheno.ix[:,factors]\n",
    "        # Turn diagnosis into [0,1] vector\n",
    "        #other_factors['DX_GROUP'] = other_factors['DX_GROUP'].values - 1\n",
    "        # Demean age\n",
    "        other_factors['AGE_AT_SCAN'] = other_factors['AGE_AT_SCAN']-np.mean(other_factors['AGE_AT_SCAN'].values)\n",
    "        # Demean the covariate\n",
    "        other_factors[cov] = other_factors[cov]-np.mean(other_factors[cov].values)\n",
    "        # Put them back together\n",
    "        glm_pheno = pd.concat([site_factor, other_factors], axis=1)\n",
    "        cov_weight = weight_store[..., cov_index.values]\n",
    "        res_store = list()\n",
    "        pval_store = np.zeros((scale, subtypes))\n",
    "        for net_id in range(scale):\n",
    "            res_list = list()\n",
    "            # Loop through the subtypes\n",
    "            for s_id in range(subtypes):\n",
    "                model = sm.OLS(cov_weight[net_id, s_id, :], glm_pheno)\n",
    "                results = model.fit()\n",
    "                # Save the p-values\n",
    "                pval_store[net_id, s_id] = results.pvalues[cov]\n",
    "                res_list.append(results)\n",
    "            res_store.append(res_list)\n",
    "        # Now look at the mask of p-values passing FDR Correction\n",
    "        pval_vec = np.reshape(pval_store, np.prod(pval_store.shape))\n",
    "        pcorr_vec = smi.multipletests(pval_vec.flatten(), alpha=0.05, method='fdr_bh')\n",
    "        # Do a bonferroni correction too\n",
    "        bonfcrit = 0.05 / np.prod(pval_store.shape)\n",
    "        bonfvec = pval_vec < bonfcrit\n",
    "        bonfthresh = np.reshape(bonfvec, pval_store.shape)\n",
    "\n",
    "        # pcorr_vec = sts.multicomp.fdrcorrection0(pval_vec, 0.05)\n",
    "        # Find the hits\n",
    "        if np.sum(pcorr_vec[0]) > 0:\n",
    "        #if bonfthresh.any():\n",
    "            pcorr_store = np.reshape(pcorr_vec[0], pval_store.shape)\n",
    "            hits = np.argwhere(pcorr_store!=0)\n",
    "            print('\\n    {} findings for {} ({})'.format(np.sum(pcorr_vec[0]), cov, list(hits)))\n",
    "        else:\n",
    "            print('\\n    {} findings for {}'.format(np.sum(pcorr_vec[0]), cov))"
   ]
  },
  {
   "cell_type": "code",
   "execution_count": 7,
   "metadata": {
    "collapsed": false
   },
   "outputs": [
    {
     "data": {
      "text/plain": [
       "(7, 5, 279)"
      ]
     },
     "execution_count": 7,
     "metadata": {},
     "output_type": "execute_result"
    }
   ],
   "source": [
    "weight_store.shape"
   ]
  },
  {
   "cell_type": "code",
   "execution_count": 18,
   "metadata": {
    "collapsed": true
   },
   "outputs": [],
   "source": [
    "x = cov_weight[net_id, s_id, :]\n",
    "Y = glm_pheno"
   ]
  },
  {
   "cell_type": "code",
   "execution_count": 24,
   "metadata": {
    "collapsed": false
   },
   "outputs": [],
   "source": [
    "p = '/data1/abide/legacy_test/test'"
   ]
  },
  {
   "cell_type": "code",
   "execution_count": 27,
   "metadata": {
    "collapsed": false
   },
   "outputs": [],
   "source": [
    "np.savetxt(os.path.join(p, 'x.csv'), x, delimiter=\",\")\n",
    "Y.to_csv(os.path.join(p, 'Y.csv'), index=False)"
   ]
  },
  {
   "cell_type": "code",
   "execution_count": 31,
   "metadata": {
    "collapsed": true
   },
   "outputs": [],
   "source": [
    "model = sm.OLS(x, Y)\n",
    "results = model.fit()"
   ]
  },
  {
   "cell_type": "code",
   "execution_count": 32,
   "metadata": {
    "collapsed": false
   },
   "outputs": [
    {
     "name": "stdout",
     "output_type": "stream",
     "text": [
      "                            OLS Regression Results                            \n",
      "==============================================================================\n",
      "Dep. Variable:                      y   R-squared:                       0.191\n",
      "Model:                            OLS   Adj. R-squared:                  0.167\n",
      "Method:                 Least Squares   F-statistic:                     7.952\n",
      "Date:                Fri, 17 Jun 2016   Prob (F-statistic):           1.29e-09\n",
      "Time:                        23:26:13   Log-Likelihood:                 108.62\n",
      "No. Observations:                 279   AIC:                            -199.2\n",
      "Df Residuals:                     270   BIC:                            -166.6\n",
      "Df Model:                           8                                         \n",
      "Covariance Type:            nonrobust                                         \n",
      "===============================================================================\n",
      "                  coef    std err          t      P>|t|      [95.0% Conf. Int.]\n",
      "-------------------------------------------------------------------------------\n",
      "INTERCEPT      -0.0881      0.054     -1.618      0.107        -0.195     0.019\n",
      "PITT            0.1348      0.034      4.018      0.000         0.069     0.201\n",
      "UCLA_1          0.0794      0.036      2.185      0.030         0.008     0.151\n",
      "UCLA_2          0.1021      0.061      1.664      0.097        -0.019     0.223\n",
      "USM             0.0045      0.027      0.167      0.868        -0.049     0.058\n",
      "DX_GROUP        0.0380      0.020      1.868      0.063        -0.002     0.078\n",
      "SEX            -0.0784      0.032     -2.476      0.014        -0.141    -0.016\n",
      "AGE_AT_SCAN     0.0035      0.002      2.209      0.028         0.000     0.007\n",
      "FD_scrubbed     0.7300      0.212      3.442      0.001         0.312     1.148\n",
      "==============================================================================\n",
      "Omnibus:                       22.338   Durbin-Watson:                   2.104\n",
      "Prob(Omnibus):                  0.000   Jarque-Bera (JB):               25.786\n",
      "Skew:                           0.663   Prob(JB):                     2.52e-06\n",
      "Kurtosis:                       3.678   Cond. No.                         154.\n",
      "==============================================================================\n",
      "\n",
      "Warnings:\n",
      "[1] Standard Errors assume that the covariance matrix of the errors is correctly specified.\n"
     ]
    }
   ],
   "source": [
    "print(results.summary())"
   ]
  },
  {
   "cell_type": "code",
   "execution_count": 7,
   "metadata": {
    "collapsed": false
   },
   "outputs": [
    {
     "data": {
      "text/plain": [
       "array([7])"
      ]
     },
     "execution_count": 7,
     "metadata": {},
     "output_type": "execute_result"
    }
   ],
   "source": [
    "scales"
   ]
  },
  {
   "cell_type": "code",
   "execution_count": 8,
   "metadata": {
    "collapsed": false
   },
   "outputs": [
    {
     "data": {
      "text/plain": [
       "(array([0, 0, 2]), array([1, 3, 0]))"
      ]
     },
     "execution_count": 8,
     "metadata": {},
     "output_type": "execute_result"
    }
   ],
   "source": [
    "np.where(pcorr_store)"
   ]
  },
  {
   "cell_type": "code",
   "execution_count": 9,
   "metadata": {
    "collapsed": false
   },
   "outputs": [
    {
     "data": {
      "text/plain": [
       "(7, 45309, 279)"
      ]
     },
     "execution_count": 9,
     "metadata": {},
     "output_type": "execute_result"
    }
   ],
   "source": [
    "netstack.shape"
   ]
  },
  {
   "cell_type": "code",
   "execution_count": 8,
   "metadata": {
    "collapsed": true
   },
   "outputs": [],
   "source": [
    "from scipy import io as sio"
   ]
  },
  {
   "cell_type": "code",
   "execution_count": 9,
   "metadata": {
    "collapsed": true
   },
   "outputs": [],
   "source": [
    "cw = sio.loadmat('/data1/abide/legacy_test/subtype/sc7/diag_reg_maybe/subtype_weights.mat')"
   ]
  },
  {
   "cell_type": "code",
   "execution_count": 10,
   "metadata": {
    "collapsed": false
   },
   "outputs": [],
   "source": [
    "comp_weights = np.array(cw['weight_mat'])"
   ]
  },
  {
   "cell_type": "code",
   "execution_count": 15,
   "metadata": {
    "collapsed": false
   },
   "outputs": [
    {
     "data": {
      "text/plain": [
       "(7, 5, 279)"
      ]
     },
     "execution_count": 15,
     "metadata": {},
     "output_type": "execute_result"
    }
   ],
   "source": [
    "weight_store.shape"
   ]
  },
  {
   "cell_type": "code",
   "execution_count": 47,
   "metadata": {
    "collapsed": false
   },
   "outputs": [],
   "source": []
  },
  {
   "cell_type": "code",
   "execution_count": 12,
   "metadata": {
    "collapsed": false
   },
   "outputs": [],
   "source": [
    "cws = comp_weights.T"
   ]
  },
  {
   "cell_type": "code",
   "execution_count": 132,
   "metadata": {
    "collapsed": false
   },
   "outputs": [
    {
     "data": {
      "text/plain": [
       "(7, 5, 279)"
      ]
     },
     "execution_count": 132,
     "metadata": {},
     "output_type": "execute_result"
    }
   ],
   "source": [
    "weight_store.shape"
   ]
  },
  {
   "cell_type": "code",
   "execution_count": 137,
   "metadata": {
    "collapsed": false,
    "scrolled": true
   },
   "outputs": [
    {
     "data": {
      "text/plain": [
       "0.11255952256023211"
      ]
     },
     "execution_count": 137,
     "metadata": {},
     "output_type": "execute_result"
    }
   ],
   "source": [
    "weight_store[0,4,0]"
   ]
  },
  {
   "cell_type": "code",
   "execution_count": 147,
   "metadata": {
    "collapsed": false
   },
   "outputs": [
    {
     "data": {
      "text/plain": [
       "(278, 4, 7)"
      ]
     },
     "execution_count": 147,
     "metadata": {},
     "output_type": "execute_result"
    }
   ],
   "source": [
    "link_store.shape"
   ]
  },
  {
   "cell_type": "code",
   "execution_count": 149,
   "metadata": {
    "collapsed": false
   },
   "outputs": [],
   "source": [
    "leaves = scl.hierarchy.dendrogram(link_store[:, :, 0], get_leaves=True, no_plot=True)['leaves']"
   ]
  },
  {
   "cell_type": "code",
   "execution_count": 153,
   "metadata": {
    "collapsed": false
   },
   "outputs": [
    {
     "data": {
      "text/plain": [
       "279"
      ]
     },
     "execution_count": 153,
     "metadata": {},
     "output_type": "execute_result"
    }
   ],
   "source": [
    "len(leaves)"
   ]
  },
  {
   "cell_type": "code",
   "execution_count": 156,
   "metadata": {
    "collapsed": true
   },
   "outputs": [
    {
     "data": {
      "text/plain": [
       "[23,\n",
       " 116,\n",
       " 224,\n",
       " 24,\n",
       " 25,\n",
       " 252,\n",
       " 278,\n",
       " 232,\n",
       " 35,\n",
       " 174,\n",
       " 89,\n",
       " 37,\n",
       " 213,\n",
       " 75,\n",
       " 130,\n",
       " 85,\n",
       " 150,\n",
       " 187,\n",
       " 20,\n",
       " 250,\n",
       " 253,\n",
       " 9,\n",
       " 112,\n",
       " 34,\n",
       " 159,\n",
       " 124,\n",
       " 225,\n",
       " 78,\n",
       " 207,\n",
       " 47,\n",
       " 90,\n",
       " 239,\n",
       " 273,\n",
       " 256,\n",
       " 257,\n",
       " 164,\n",
       " 44,\n",
       " 131,\n",
       " 146,\n",
       " 190,\n",
       " 167,\n",
       " 260,\n",
       " 55,\n",
       " 41,\n",
       " 158,\n",
       " 70,\n",
       " 118,\n",
       " 166,\n",
       " 189,\n",
       " 42,\n",
       " 83,\n",
       " 209,\n",
       " 161,\n",
       " 103,\n",
       " 114,\n",
       " 99,\n",
       " 194,\n",
       " 157,\n",
       " 184,\n",
       " 38,\n",
       " 148,\n",
       " 74,\n",
       " 63,\n",
       " 169,\n",
       " 172,\n",
       " 48,\n",
       " 67,\n",
       " 220,\n",
       " 248,\n",
       " 5,\n",
       " 6,\n",
       " 96,\n",
       " 151,\n",
       " 12,\n",
       " 262,\n",
       " 162,\n",
       " 182,\n",
       " 270,\n",
       " 272,\n",
       " 73,\n",
       " 81,\n",
       " 132,\n",
       " 149,\n",
       " 113,\n",
       " 127,\n",
       " 79,\n",
       " 106,\n",
       " 91,\n",
       " 98,\n",
       " 229,\n",
       " 126,\n",
       " 245,\n",
       " 77,\n",
       " 233,\n",
       " 234,\n",
       " 235,\n",
       " 69,\n",
       " 125,\n",
       " 80,\n",
       " 180,\n",
       " 154,\n",
       " 155,\n",
       " 57,\n",
       " 156,\n",
       " 87,\n",
       " 95,\n",
       " 128,\n",
       " 61,\n",
       " 188,\n",
       " 51,\n",
       " 60,\n",
       " 192,\n",
       " 139,\n",
       " 144,\n",
       " 88,\n",
       " 133,\n",
       " 140,\n",
       " 205,\n",
       " 92,\n",
       " 160,\n",
       " 115,\n",
       " 107,\n",
       " 104,\n",
       " 152,\n",
       " 163,\n",
       " 176,\n",
       " 228,\n",
       " 40,\n",
       " 237,\n",
       " 143,\n",
       " 39,\n",
       " 137,\n",
       " 120,\n",
       " 136,\n",
       " 36,\n",
       " 193,\n",
       " 196,\n",
       " 49,\n",
       " 58,\n",
       " 219,\n",
       " 238,\n",
       " 145,\n",
       " 153,\n",
       " 110,\n",
       " 119,\n",
       " 177,\n",
       " 93,\n",
       " 165,\n",
       " 4,\n",
       " 240,\n",
       " 247,\n",
       " 261,\n",
       " 17,\n",
       " 53,\n",
       " 11,\n",
       " 242,\n",
       " 10,\n",
       " 221,\n",
       " 27,\n",
       " 241,\n",
       " 2,\n",
       " 276,\n",
       " 62,\n",
       " 71,\n",
       " 26,\n",
       " 246,\n",
       " 13,\n",
       " 268,\n",
       " 274,\n",
       " 21,\n",
       " 263,\n",
       " 259,\n",
       " 19,\n",
       " 56,\n",
       " 66,\n",
       " 100,\n",
       " 186,\n",
       " 138,\n",
       " 8,\n",
       " 29,\n",
       " 31,\n",
       " 266,\n",
       " 14,\n",
       " 15,\n",
       " 254,\n",
       " 16,\n",
       " 3,\n",
       " 28,\n",
       " 33,\n",
       " 264,\n",
       " 59,\n",
       " 22,\n",
       " 32,\n",
       " 117,\n",
       " 82,\n",
       " 212,\n",
       " 102,\n",
       " 105,\n",
       " 65,\n",
       " 271,\n",
       " 50,\n",
       " 147,\n",
       " 122,\n",
       " 84,\n",
       " 142,\n",
       " 214,\n",
       " 217,\n",
       " 198,\n",
       " 200,\n",
       " 211,\n",
       " 195,\n",
       " 201,\n",
       " 30,\n",
       " 170,\n",
       " 178,\n",
       " 255,\n",
       " 129,\n",
       " 191,\n",
       " 0,\n",
       " 109,\n",
       " 18,\n",
       " 269,\n",
       " 7,\n",
       " 43,\n",
       " 45,\n",
       " 121,\n",
       " 94,\n",
       " 171,\n",
       " 202,\n",
       " 210,\n",
       " 265,\n",
       " 203,\n",
       " 258,\n",
       " 183,\n",
       " 1,\n",
       " 267,\n",
       " 244,\n",
       " 251,\n",
       " 54,\n",
       " 231,\n",
       " 181,\n",
       " 185,\n",
       " 68,\n",
       " 226,\n",
       " 52,\n",
       " 230,\n",
       " 275,\n",
       " 216,\n",
       " 277,\n",
       " 123,\n",
       " 134,\n",
       " 168,\n",
       " 199,\n",
       " 227,\n",
       " 76,\n",
       " 97,\n",
       " 236,\n",
       " 108,\n",
       " 46,\n",
       " 141,\n",
       " 222,\n",
       " 223,\n",
       " 204,\n",
       " 135,\n",
       " 173,\n",
       " 101,\n",
       " 206,\n",
       " 243,\n",
       " 64,\n",
       " 218,\n",
       " 215,\n",
       " 249,\n",
       " 197,\n",
       " 208,\n",
       " 175,\n",
       " 179,\n",
       " 72,\n",
       " 86,\n",
       " 111]"
      ]
     },
     "execution_count": 156,
     "metadata": {},
     "output_type": "execute_result"
    }
   ],
   "source": [
    "leaves"
   ]
  },
  {
   "cell_type": "code",
   "execution_count": 151,
   "metadata": {
    "collapsed": false
   },
   "outputs": [
    {
     "data": {
      "text/plain": [
       "(7, 5, 279)"
      ]
     },
     "execution_count": 151,
     "metadata": {},
     "output_type": "execute_result"
    }
   ],
   "source": [
    "weight_store.shape"
   ]
  },
  {
   "cell_type": "code",
   "execution_count": 155,
   "metadata": {
    "collapsed": false
   },
   "outputs": [
    {
     "data": {
      "text/plain": [
       "<matplotlib.image.AxesImage at 0x7f4bf77fa3c8>"
      ]
     },
     "execution_count": 155,
     "metadata": {},
     "output_type": "execute_result"
    },
    {
     "data": {
      "image/png": "[encoded data removed]",
      "text/plain": [
       "<matplotlib.figure.Figure at 0x7f4bf77fa780>"
      ]
     },
     "metadata": {},
     "output_type": "display_data"
    }
   ],
   "source": [
    "f = plt.figure(figsize=(10,5))\n",
    "ax = f.add_subplot(111)\n",
    "ax.matshow(weight_store[0,:, np.array(leaves)], aspect='auto')"
   ]
  },
  {
   "cell_type": "code",
   "execution_count": 157,
   "metadata": {
    "collapsed": false
   },
   "outputs": [
    {
     "data": {
      "text/plain": [
       "(7, 5, 45309)"
      ]
     },
     "execution_count": 157,
     "metadata": {},
     "output_type": "execute_result"
    }
   ],
   "source": [
    "sbt_store.shape"
   ]
  },
  {
   "cell_type": "code",
   "execution_count": 158,
   "metadata": {
    "collapsed": true
   },
   "outputs": [],
   "source": [
    "m_img = nib.load('/data1/abide/Mask/mask_data_specific.nii.gz')\n",
    "mask = m_img.get_data().astype(bool)\n",
    "for i in range(5):\n",
    "    vol = np.zeros_like(mask, dtype=float)\n",
    "    vol[mask] = sbt_store[0, i, :]\n",
    "\n",
    "    sbt_img = nib.Nifti1Image(vol, header=m_img.get_header(), affine=m_img.get_affine())\n",
    "    nib.save(sbt_img, '/data1/abide/legacy_test/net1_sbt{}.nii.gz'.format(i))"
   ]
  },
  {
   "cell_type": "code",
   "execution_count": 16,
   "metadata": {
    "collapsed": false
   },
   "outputs": [
    {
     "data": {
      "text/plain": [
       "(7, 5, 279)"
      ]
     },
     "execution_count": 16,
     "metadata": {},
     "output_type": "execute_result"
    }
   ],
   "source": [
    "cws.shape"
   ]
  },
  {
   "cell_type": "code",
   "execution_count": 17,
   "metadata": {
    "collapsed": false
   },
   "outputs": [
    {
     "data": {
      "text/plain": [
       "array([[ 0.42272675,  0.24414086,  0.40144423],\n",
       "       [-0.01223953,  0.07561443, -0.05657315],\n",
       "       [-0.15065592, -0.01142983, -0.21538653],\n",
       "       [ 0.01507455, -0.11389723,  0.03564303],\n",
       "       [-0.15889201, -0.13051144, -0.05281404]])"
      ]
     },
     "execution_count": 17,
     "metadata": {},
     "output_type": "execute_result"
    }
   ],
   "source": [
    "cws[1,:,0:3]"
   ]
  },
  {
   "cell_type": "code",
   "execution_count": 23,
   "metadata": {
    "collapsed": false
   },
   "outputs": [
    {
     "data": {
      "text/plain": [
       "0.87634150678708145"
      ]
     },
     "execution_count": 23,
     "metadata": {},
     "output_type": "execute_result"
    }
   ],
   "source": [
    "np.corrcoef(weight_store[1,3,:], cws[1,4,:])[0,1]"
   ]
  },
  {
   "cell_type": "code",
   "execution_count": 49,
   "metadata": {
    "collapsed": false
   },
   "outputs": [
    {
     "data": {
      "text/plain": [
       "(53, 64, 52, 7)"
      ]
     },
     "execution_count": 49,
     "metadata": {},
     "output_type": "execute_result"
    }
   ],
   "source": [
    "gdavg.shape"
   ]
  },
  {
   "cell_type": "code",
   "execution_count": 125,
   "metadata": {
    "collapsed": false
   },
   "outputs": [
    {
     "data": {
      "text/plain": [
       "5.0"
      ]
     },
     "execution_count": 125,
     "metadata": {},
     "output_type": "execute_result"
    }
   ],
   "source": [
    "part_store[0,1]"
   ]
  },
  {
   "cell_type": "markdown",
   "metadata": {},
   "source": [
    "## Global Average"
   ]
  },
  {
   "cell_type": "code",
   "execution_count": 97,
   "metadata": {
    "collapsed": false
   },
   "outputs": [],
   "source": [
    "nss1 = nsm1['stack']"
   ]
  },
  {
   "cell_type": "code",
   "execution_count": 99,
   "metadata": {
    "collapsed": false
   },
   "outputs": [
    {
     "data": {
      "text/plain": [
       "(279, 45309)"
      ]
     },
     "execution_count": 99,
     "metadata": {},
     "output_type": "execute_result"
    }
   ],
   "source": [
    "nss1.shape"
   ]
  },
  {
   "cell_type": "code",
   "execution_count": 100,
   "metadata": {
    "collapsed": false
   },
   "outputs": [
    {
     "data": {
      "text/plain": [
       "array([ 0.21343951,  0.32465902,  0.54649699])"
      ]
     },
     "execution_count": 100,
     "metadata": {},
     "output_type": "execute_result"
    }
   ],
   "source": [
    "nss1[0:3,0]"
   ]
  },
  {
   "cell_type": "code",
   "execution_count": 85,
   "metadata": {
    "collapsed": false
   },
   "outputs": [
    {
     "data": {
      "text/plain": [
       "(279, 45309)"
      ]
     },
     "execution_count": 85,
     "metadata": {},
     "output_type": "execute_result"
    }
   ],
   "source": [
    "nss1.shape"
   ]
  },
  {
   "cell_type": "code",
   "execution_count": 86,
   "metadata": {
    "collapsed": true
   },
   "outputs": [],
   "source": [
    "netraw = np.load(netraw_path)"
   ]
  },
  {
   "cell_type": "code",
   "execution_count": 110,
   "metadata": {
    "collapsed": false
   },
   "outputs": [],
   "source": [
    "nts1 = netraw[0,...]"
   ]
  },
  {
   "cell_type": "code",
   "execution_count": 119,
   "metadata": {
    "collapsed": false
   },
   "outputs": [
    {
     "data": {
      "text/plain": [
       "(45309, 279)"
      ]
     },
     "execution_count": 119,
     "metadata": {},
     "output_type": "execute_result"
    }
   ],
   "source": [
    "nts1.shape"
   ]
  },
  {
   "cell_type": "code",
   "execution_count": 118,
   "metadata": {
    "collapsed": false
   },
   "outputs": [
    {
     "data": {
      "text/plain": [
       "0.15577008169489245"
      ]
     },
     "execution_count": 118,
     "metadata": {},
     "output_type": "execute_result"
    }
   ],
   "source": [
    "np.mean(nts1,0)[1]"
   ]
  },
  {
   "cell_type": "code",
   "execution_count": 121,
   "metadata": {
    "collapsed": false
   },
   "outputs": [],
   "source": [
    "# Ok, get the first guy out\n",
    "guy1 = '/data1/abide/legacy_test/old1.nii.gz'\n",
    "m_img = nib.load('/data1/abide/Mask/mask_data_specific.nii.gz')\n",
    "mask = m_img.get_data().astype(bool)\n",
    "old_1 = np.zeros_like(mask, dtype=float)\n",
    "old_1[mask] = nts1[:,0]\n",
    "\n",
    "old_img = nib.Nifti1Image(old_1, header=m_img.get_header(), affine=m_img.get_affine())\n",
    "nib.save(old_img, guy1)"
   ]
  },
  {
   "cell_type": "code",
   "execution_count": 111,
   "metadata": {
    "collapsed": false
   },
   "outputs": [
    {
     "data": {
      "text/plain": [
       "(45309, 279)"
      ]
     },
     "execution_count": 111,
     "metadata": {},
     "output_type": "execute_result"
    }
   ],
   "source": [
    "nts1.shape"
   ]
  },
  {
   "cell_type": "code",
   "execution_count": 89,
   "metadata": {
    "collapsed": false
   },
   "outputs": [
    {
     "data": {
      "text/plain": [
       "array([ 0.24811591,  0.23284709,  0.26083346])"
      ]
     },
     "execution_count": 89,
     "metadata": {},
     "output_type": "execute_result"
    }
   ],
   "source": [
    "np.mean(nts1,0)[:3]"
   ]
  },
  {
   "cell_type": "code",
   "execution_count": 90,
   "metadata": {
    "collapsed": false
   },
   "outputs": [
    {
     "data": {
      "text/plain": [
       "array([ 0.34559671,  0.34687526,  0.34986084])"
      ]
     },
     "execution_count": 90,
     "metadata": {},
     "output_type": "execute_result"
    }
   ],
   "source": [
    "np.mean(nss1,0)[:3]"
   ]
  },
  {
   "cell_type": "code",
   "execution_count": 107,
   "metadata": {
    "collapsed": false
   },
   "outputs": [
    {
     "data": {
      "text/plain": [
       "-0.01270546274656013"
      ]
     },
     "execution_count": 107,
     "metadata": {},
     "output_type": "execute_result"
    }
   ],
   "source": [
    "np.corrcoef(np.mean(nts1,0), np.mean(nss1,0))[0,1]"
   ]
  },
  {
   "cell_type": "code",
   "execution_count": 104,
   "metadata": {
    "collapsed": true
   },
   "outputs": [],
   "source": [
    "old_raw = '/data1/abide/legacy_test/old_raw.nii.gz'\n",
    "new_raw = '/data1/abide/legacy_test/new_raw.nii.gz'\n",
    "old = np.mean(nts1,0)\n",
    "new = np.mean(nss1,0)"
   ]
  },
  {
   "cell_type": "code",
   "execution_count": 105,
   "metadata": {
    "collapsed": false
   },
   "outputs": [
    {
     "data": {
      "text/plain": [
       "(45309,)"
      ]
     },
     "execution_count": 105,
     "metadata": {},
     "output_type": "execute_result"
    }
   ],
   "source": [
    "old.shape"
   ]
  },
  {
   "cell_type": "code",
   "execution_count": 106,
   "metadata": {
    "collapsed": false
   },
   "outputs": [
    {
     "data": {
      "text/plain": [
       "(45309,)"
      ]
     },
     "execution_count": 106,
     "metadata": {},
     "output_type": "execute_result"
    }
   ],
   "source": [
    "new.shape"
   ]
  },
  {
   "cell_type": "code",
   "execution_count": 122,
   "metadata": {
    "collapsed": false
   },
   "outputs": [
    {
     "data": {
      "text/plain": [
       "'/data1/subtypes/serial_preps/netstack_dmn_rmap_part_site_279_sample_scale_007.npy'"
      ]
     },
     "execution_count": 122,
     "metadata": {},
     "output_type": "execute_result"
    }
   ],
   "source": [
    "netstack_path"
   ]
  },
  {
   "cell_type": "code",
   "execution_count": 81,
   "metadata": {
    "collapsed": false
   },
   "outputs": [],
   "source": [
    "old_v = np.zeros_like(mask, dtype=float)\n",
    "old_v[mask] = old\n",
    "new_v = np.zeros_like(mask, dtype=float)\n",
    "new_v[mask] = new"
   ]
  },
  {
   "cell_type": "code",
   "execution_count": 82,
   "metadata": {
    "collapsed": true
   },
   "outputs": [],
   "source": [
    "old_i = nib.Nifti1Image(old_v, header=m_img.get_header(), affine=m_img.get_affine())\n",
    "new_i = nib.Nifti1Image(new_v, header=m_img.get_header(), affine=m_img.get_affine())\n",
    "\n",
    "nib.save(old_i, old_raw)\n",
    "nib.save(new_i, new_raw)"
   ]
  },
  {
   "cell_type": "code",
   "execution_count": null,
   "metadata": {
    "collapsed": true
   },
   "outputs": [],
   "source": []
  }
 ],
 "metadata": {
  "kernelspec": {
   "display_name": "Python 3",
   "language": "python",
   "name": "python3"
  },
  "language_info": {
   "codemirror_mode": {
    "name": "ipython",
    "version": 3
   },
   "file_extension": ".py",
   "mimetype": "text/x-python",
   "name": "python",
   "nbconvert_exporter": "python",
   "pygments_lexer": "ipython3",
   "version": "3.5.1+"
  }
 },
 "nbformat": 4,
 "nbformat_minor": 0
}
