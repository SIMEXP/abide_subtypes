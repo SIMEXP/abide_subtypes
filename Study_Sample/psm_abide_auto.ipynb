{
 "cells": [
  {
   "cell_type": "markdown",
   "metadata": {},
   "source": [
    "# PSM Matching for ABIDE\n",
    "Here are the samples I want\n",
    "1) full sample, w site: diagnosis ratio 1, age,  motion\n",
    "\n",
    "2) ADOS sample, w site: age, motion\n",
    "\n",
    "3) SRS sample, w site: diagnosis ratio 1, age, motion\n",
    "\n",
    "4) full sample, w site: diagnosis ratio 1, age, motion, FIQ\n",
    "\n",
    "5) ? maybe FIQ on the other ones as well, depending on how nice that goes"
   ]
  },
  {
   "cell_type": "code",
   "execution_count": 1,
   "metadata": {
    "collapsed": false
   },
   "outputs": [
    {
     "name": "stderr",
     "output_type": "stream",
     "text": [
      "Loading required package: MASS\n"
     ]
    }
   ],
   "source": [
    "library(MatchIt)"
   ]
  },
  {
   "cell_type": "code",
   "execution_count": 2,
   "metadata": {
    "collapsed": true
   },
   "outputs": [],
   "source": [
    "# Set up the input paths\n",
    "qc_maybe = '/data1/abide/Pheno/psm/abide_qc_maybe.csv'\n",
    "qc_pass = '/data1/abide/Pheno/psm/abide_qc_pass.csv'\n",
    "\n",
    "# Set up the output paths\n",
    "abide_full_maybe = '/data1/abide/Pheno/psm/abide_full_maybe.csv'\n",
    "abide_ados_maybe = '/data1/abide/Pheno/psm/abide_ados_maybe.csv'\n",
    "abide_srs_maybe = '/data1/abide/Pheno/psm/abide_srs_maybe.csv'\n",
    "abide_fiq_maybe = '/data1/abide/Pheno/psm/abide_fiq_maybe.csv'\n",
    "\n",
    "abide_full_pass = '/data1/abide/Pheno/psm/abide_full_pass.csv'\n",
    "abide_ados_pass = '/data1/abide/Pheno/psm/abide_ados_pass.csv'\n",
    "abide_srs_pass = '/data1/abide/Pheno/psm/abide_srs_pass.csv'\n",
    "abide_fiq_pass = '/data1/abide/Pheno/psm/abide_fiq_pass.csv'\n",
    "\n",
    "# Set up the config paths\n",
    "caliper_maybe = '/home/surchs/GDrive/PhD/Pheno/assignments/abide_calipers_maybe.csv'\n",
    "caliper_pass = '/home/surchs/GDrive/PhD/Pheno/assignments/abide_calipers_pass.csv'"
   ]
  },
  {
   "cell_type": "markdown",
   "metadata": {},
   "source": [
    "## QC Maybe"
   ]
  },
  {
   "cell_type": "code",
   "execution_count": 3,
   "metadata": {
    "collapsed": false
   },
   "outputs": [],
   "source": [
    "# Read the data\n",
    "data = read.csv(qc_maybe)\n",
    "# Remap the values of the diagnosis column\n",
    "# This will change the meaning, now ASD = 1, TDC = 0\n",
    "data$DX_GROUP[data$DX_GROUP == 2] <- 0\n",
    "# Make a subset for only male participants\n",
    "data_male = subset(data, SEX==1)\n",
    "# Make a copy for non-nan values for FIQ and SRS\n",
    "data_fiq = data_male[!is.na(data_male$FIQ),]\n",
    "data_srs = data_male[!is.na(data_male$SRS_RAW_TOTAL),]\n",
    "data_ados = data_male[!is.na(data_male$ADOS_sb_sev),]\n",
    "# Load the caliper dataframe\n",
    "caliper = read.csv(caliper_maybe)"
   ]
  },
  {
   "cell_type": "code",
   "execution_count": 4,
   "metadata": {
    "collapsed": false
   },
   "outputs": [
    {
     "name": "stderr",
     "output_type": "stream",
     "text": [
      "Warning message:\n",
      "In matchit2nearest(structure(c(1, 1, 1, 1, 1, 1, 1, 1, 1, 1, 1, : Fewer control than treated units and matching without replacement.  Not all treated units will receive a match.  Treated units will be matched in the order specified by m.order: largestWarning message:\n",
      "In matchit2nearest(structure(c(0, 0, 0, 0, 0, 0, 0, 0, 0, 0, 0, : Fewer control than treated units and matching without replacement.  Not all treated units will receive a match.  Treated units will be matched in the order specified by m.order: largestWarning message:\n",
      "In matchit2nearest(structure(c(1, 1, 1, 1, 1, 1, 1, 1, 1, 1, 1, : Fewer control than treated units and matching without replacement.  Not all treated units will receive a match.  Treated units will be matched in the order specified by m.order: largestWarning message:\n",
      "In matchit2nearest(structure(c(0, 0, 0, 0, 0, 0, 0, 0, 0, 0, 0, : Fewer control than treated units and matching without replacement.  Not all treated units will receive a match.  Treated units will be matched in the order specified by m.order: largestWarning message:\n",
      "In matchit2nearest(structure(c(0, 0, 0, 0, 0, 0, 0, 0, 0, 0, 0, : Fewer control than treated units and matching without replacement.  Not all treated units will receive a match.  Treated units will be matched in the order specified by m.order: largestWarning message:\n",
      "In matchit2nearest(structure(c(1, 1, 1, 1, 1, 1, 1, 1, 1, 1, 1, : Fewer control than treated units and matching without replacement.  Not all treated units will receive a match.  Treated units will be matched in the order specified by m.order: largestWarning message:\n",
      "In matchit2nearest(structure(c(1, 1, 1, 1, 1, 1, 1, 1, 1, 1, 1, : Fewer control than treated units and matching without replacement.  Not all treated units will receive a match.  Treated units will be matched in the order specified by m.order: largest"
     ]
    }
   ],
   "source": [
    "# Full sample\n",
    "tmp = caliper[!is.na(caliper$Full),]\n",
    "for (ind in seq_along(tmp$Sites)){\n",
    "    \n",
    "    site = tmp$Sites[ind]\n",
    "    cal = tmp$Full[ind]\n",
    "    \n",
    "    covariates = c('SITE_ID','SUB_ID', 'DX_GROUP', 'AGE_AT_SCAN', 'FD_scrubbed', 'frames_scrubbed')#, 'FIQ')\n",
    "    slice_data = subset(data_male, SITE_ID==site, select=covariates)\n",
    "    matched = matchit(DX_GROUP ~ FD_scrubbed + AGE_AT_SCAN, data=slice_data, method=\"nearest\", caliper=cal, ratio=1)\n",
    "    data_matched = match.data(matched)\n",
    "    \n",
    "    if (ind == 1){\n",
    "        base = data_matched\n",
    "    }\n",
    "    else {\n",
    "        base = merge(base, data_matched, all = TRUE)\n",
    "    }\n",
    "}\n",
    "# Save it\n",
    "write.csv(file=abide_full_maybe, x=base, row.names=FALSE)"
   ]
  },
  {
   "cell_type": "code",
   "execution_count": 5,
   "metadata": {
    "collapsed": false
   },
   "outputs": [
    {
     "name": "stderr",
     "output_type": "stream",
     "text": [
      "Warning message:\n",
      "In matchit2nearest(structure(c(0, 0, 0, 0, 0, 0, 0, 0, 0, 0, 0, : Fewer control than treated units and matching without replacement.  Not all treated units will receive a match.  Treated units will be matched in the order specified by m.order: largestWarning message:\n",
      "In matchit2nearest(structure(c(0, 0, 0, 0, 0, 0, 0, 0, 0, 0, 0, : Fewer control than treated units and matching without replacement.  Not all treated units will receive a match.  Treated units will be matched in the order specified by m.order: largestWarning message:\n",
      "In matchit2nearest(structure(c(1, 1, 1, 1, 1, 1, 1, 1, 1, 1, 1, : Fewer control than treated units and matching without replacement.  Not all treated units will receive a match.  Treated units will be matched in the order specified by m.order: largest"
     ]
    }
   ],
   "source": [
    "# SRS sample\n",
    "tmp = caliper[!is.na(caliper$SRS),]\n",
    "for (ind in seq_along(tmp$Sites)){\n",
    "    \n",
    "    site = tmp$Sites[ind]\n",
    "    cal = tmp$SRS[ind]\n",
    "    \n",
    "    covariates = c('SITE_ID','SUB_ID', 'DX_GROUP', 'AGE_AT_SCAN', 'FD_scrubbed', 'frames_scrubbed')#, 'FIQ')\n",
    "    slice_data = subset(data_srs, SITE_ID==site, select=covariates)\n",
    "    matched = matchit(DX_GROUP ~ FD_scrubbed + AGE_AT_SCAN, data=slice_data, method=\"nearest\", caliper=cal, ratio=1)\n",
    "    data_matched = match.data(matched)\n",
    "    \n",
    "    if (ind == 1){\n",
    "        base = data_matched\n",
    "    }\n",
    "    else {\n",
    "        base = merge(base, data_matched, all = TRUE)\n",
    "    }\n",
    "}\n",
    "# Save it\n",
    "write.csv(file=abide_srs_maybe, x=base, row.names=FALSE)"
   ]
  },
  {
   "cell_type": "code",
   "execution_count": 6,
   "metadata": {
    "collapsed": false
   },
   "outputs": [
    {
     "name": "stderr",
     "output_type": "stream",
     "text": [
      "Warning message:\n",
      "In matchit2nearest(structure(c(1, 1, 1, 1, 1, 1, 1, 1, 1, 1, 1, : Fewer control than treated units and matching without replacement.  Not all treated units will receive a match.  Treated units will be matched in the order specified by m.order: largestWarning message:\n",
      "In matchit2nearest(structure(c(1, 1, 1, 1, 1, 1, 1, 1, 1, 1, 1, : Fewer control than treated units and matching without replacement.  Not all treated units will receive a match.  Treated units will be matched in the order specified by m.order: largestWarning message:\n",
      "In matchit2nearest(structure(c(0, 0, 0, 0, 0, 0, 0, 0, 0, 0, 0, : Fewer control than treated units and matching without replacement.  Not all treated units will receive a match.  Treated units will be matched in the order specified by m.order: largestWarning message:\n",
      "In matchit2nearest(structure(c(0, 0, 0, 0, 0, 0, 0, 0, 0, 0, 0, : Fewer control than treated units and matching without replacement.  Not all treated units will receive a match.  Treated units will be matched in the order specified by m.order: largestWarning message:\n",
      "In matchit2nearest(structure(c(1, 1, 1, 1, 1, 1, 1, 1, 1, 0, 0, : Fewer control than treated units and matching without replacement.  Not all treated units will receive a match.  Treated units will be matched in the order specified by m.order: largestWarning message:\n",
      "In matchit2nearest(structure(c(1, 1, 1, 1, 1, 1, 1, 1, 1, 1, 1, : Fewer control than treated units and matching without replacement.  Not all treated units will receive a match.  Treated units will be matched in the order specified by m.order: largest"
     ]
    }
   ],
   "source": [
    "# FIQ sample\n",
    "tmp = caliper[!is.na(caliper$FIQ),]\n",
    "for (ind in seq_along(tmp$Sites)){\n",
    "    \n",
    "    site = tmp$Sites[ind]\n",
    "    cal = tmp$FIQ[ind]\n",
    "    covariates = c('SITE_ID','SUB_ID', 'DX_GROUP', 'AGE_AT_SCAN', 'FD_scrubbed', 'frames_scrubbed', 'FIQ')\n",
    "    slice_data = subset(data_fiq, SITE_ID==site, select=covariates)\n",
    "    matched = matchit(DX_GROUP ~ FD_scrubbed + AGE_AT_SCAN + FIQ, data=slice_data, method=\"nearest\", caliper=cal, ratio=1)\n",
    "    data_matched = match.data(matched)\n",
    "    \n",
    "    if (ind == 1){\n",
    "        base = data_matched\n",
    "    }\n",
    "    else {\n",
    "        base = merge(base, data_matched, all = TRUE)\n",
    "    }\n",
    "}\n",
    "# Save it\n",
    "write.csv(file=abide_fiq_maybe, x=base, row.names=FALSE)"
   ]
  },
  {
   "cell_type": "markdown",
   "metadata": {},
   "source": [
    "## QC Pass"
   ]
  },
  {
   "cell_type": "code",
   "execution_count": 7,
   "metadata": {
    "collapsed": true
   },
   "outputs": [],
   "source": [
    "# Read the data\n",
    "data = read.csv(qc_pass)\n",
    "# Remap the values of the diagnosis column\n",
    "# This will change the meaning, now ASD = 1, TDC = 0\n",
    "data$DX_GROUP[data$DX_GROUP == 2] <- 0\n",
    "# Make a subset for only male participants\n",
    "data_male = subset(data, SEX==1)\n",
    "# Make a copy for non-nan values for FIQ and SRS\n",
    "data_fiq = data_male[!is.na(data_male$FIQ),]\n",
    "data_srs = data_male[!is.na(data_male$SRS_RAW_TOTAL),]\n",
    "data_ados = data_male[!is.na(data_male$ADOS_sb_sev),]\n",
    "# Load the caliper dataframe\n",
    "caliper = read.csv(caliper_pass, stringsAsFactors=FALSE)"
   ]
  },
  {
   "cell_type": "code",
   "execution_count": 8,
   "metadata": {
    "collapsed": false
   },
   "outputs": [
    {
     "name": "stderr",
     "output_type": "stream",
     "text": [
      "Warning message:\n",
      "In matchit2nearest(structure(c(0, 0, 0, 0, 0, 0, 0, 0, 0, 0, 0, : Fewer control than treated units and matching without replacement.  Not all treated units will receive a match.  Treated units will be matched in the order specified by m.order: largestWarning message:\n",
      "In matchit2nearest(structure(c(1, 1, 1, 1, 1, 1, 1, 1, 1, 1, 1, : Fewer control than treated units and matching without replacement.  Not all treated units will receive a match.  Treated units will be matched in the order specified by m.order: largestWarning message:\n",
      "In matchit2nearest(structure(c(0, 0, 0, 0, 0, 0, 0, 0, 0, 0, 0, : Fewer control than treated units and matching without replacement.  Not all treated units will receive a match.  Treated units will be matched in the order specified by m.order: largestWarning message:\n",
      "In matchit2nearest(structure(c(0, 0, 0, 0, 0, 0, 0, 0, 0, 0, 0, : Fewer control than treated units and matching without replacement.  Not all treated units will receive a match.  Treated units will be matched in the order specified by m.order: largestWarning message:\n",
      "In matchit2nearest(structure(c(1, 1, 1, 1, 1, 1, 1, 1, 1, 1, 1, : Fewer control than treated units and matching without replacement.  Not all treated units will receive a match.  Treated units will be matched in the order specified by m.order: largestWarning message:\n",
      "In matchit2nearest(structure(c(1, 1, 1, 1, 1, 1, 1, 1, 1, 1, 1, : Fewer control than treated units and matching without replacement.  Not all treated units will receive a match.  Treated units will be matched in the order specified by m.order: largestWarning message:\n",
      "In matchit2nearest(structure(c(1, 1, 1, 1, 1, 1, 1, 1, 1, 1, 1, : Fewer control than treated units and matching without replacement.  Not all treated units will receive a match.  Treated units will be matched in the order specified by m.order: largestWarning message:\n",
      "In matchit2nearest(structure(c(1, 1, 1, 1, 1, 0, 1, 1, 1, 1, 1, : Fewer control than treated units and matching without replacement.  Not all treated units will receive a match.  Treated units will be matched in the order specified by m.order: largest"
     ]
    }
   ],
   "source": [
    "# Full sample\n",
    "tmp = caliper[!is.na(caliper$Full),]\n",
    "for (ind in seq_along(tmp$Sites)){\n",
    "    \n",
    "    site = tmp$Sites[ind]\n",
    "    cal = tmp$Full[ind]\n",
    "    \n",
    "    covariates = c('SITE_ID','SUB_ID', 'DX_GROUP', 'AGE_AT_SCAN', 'FD_scrubbed', 'frames_scrubbed')#, 'FIQ')\n",
    "    slice_data = subset(data_male, SITE_ID==site, select=covariates)\n",
    "    matched = matchit(DX_GROUP ~ FD_scrubbed + AGE_AT_SCAN, data=slice_data, method=\"nearest\", caliper=cal, ratio=1)\n",
    "    data_matched = match.data(matched)\n",
    "    \n",
    "    if (ind == 1){\n",
    "        base = data_matched\n",
    "    }\n",
    "    else {\n",
    "        base = merge(base, data_matched, all = TRUE)\n",
    "    }\n",
    "}\n",
    "# Save it\n",
    "write.csv(file=abide_full_pass, x=base, row.names=FALSE)"
   ]
  },
  {
   "cell_type": "code",
   "execution_count": 9,
   "metadata": {
    "collapsed": false
   },
   "outputs": [
    {
     "name": "stderr",
     "output_type": "stream",
     "text": [
      "Warning message:\n",
      "In matchit2nearest(structure(c(0, 0, 0, 0, 0, 0, 0, 0, 0, 0, 0, : Fewer control than treated units and matching without replacement.  Not all treated units will receive a match.  Treated units will be matched in the order specified by m.order: largestWarning message:\n",
      "In matchit2nearest(structure(c(0, 0, 0, 0, 0, 0, 0, 0, 0, 0, 0, : Fewer control than treated units and matching without replacement.  Not all treated units will receive a match.  Treated units will be matched in the order specified by m.order: largestWarning message:\n",
      "In matchit2nearest(structure(c(1, 1, 1, 1, 1, 1, 1, 1, 1, 1, 1, : Fewer control than treated units and matching without replacement.  Not all treated units will receive a match.  Treated units will be matched in the order specified by m.order: largest"
     ]
    }
   ],
   "source": [
    "# SRS sample\n",
    "tmp = caliper[!is.na(caliper$SRS),]\n",
    "for (ind in seq_along(tmp$Sites)){\n",
    "    \n",
    "    site = tmp$Sites[ind]\n",
    "    cal = tmp$SRS[ind]\n",
    "    \n",
    "    covariates = c('SITE_ID','SUB_ID', 'DX_GROUP', 'AGE_AT_SCAN', 'FD_scrubbed', 'frames_scrubbed')#, 'FIQ')\n",
    "    slice_data = subset(data_srs, SITE_ID==site, select=covariates)\n",
    "    matched = matchit(DX_GROUP ~ FD_scrubbed + AGE_AT_SCAN, data=slice_data, method=\"nearest\", caliper=cal, ratio=1)\n",
    "    data_matched = match.data(matched)\n",
    "    \n",
    "    if (ind == 1){\n",
    "        base = data_matched\n",
    "    }\n",
    "    else {\n",
    "        base = merge(base, data_matched, all = TRUE)\n",
    "    }\n",
    "}\n",
    "# Save it\n",
    "write.csv(file=abide_srs_pass, x=base, row.names=FALSE)"
   ]
  },
  {
   "cell_type": "code",
   "execution_count": 10,
   "metadata": {
    "collapsed": false
   },
   "outputs": [
    {
     "name": "stderr",
     "output_type": "stream",
     "text": [
      "Warning message:\n",
      "In matchit2nearest(structure(c(0, 0, 0, 0, 0, 0, 0, 0, 0, 0, 0, : Fewer control than treated units and matching without replacement.  Not all treated units will receive a match.  Treated units will be matched in the order specified by m.order: largestWarning message:\n",
      "In matchit2nearest(structure(c(0, 0, 0, 0, 0, 0, 0, 0, 0, 0, 0, : Fewer control than treated units and matching without replacement.  Not all treated units will receive a match.  Treated units will be matched in the order specified by m.order: largestWarning message:\n",
      "In matchit2nearest(structure(c(0, 0, 0, 0, 0, 0, 0, 0, 0, 0, 0, : Fewer control than treated units and matching without replacement.  Not all treated units will receive a match.  Treated units will be matched in the order specified by m.order: largestWarning message:\n",
      "In matchit2nearest(structure(c(1, 1, 1, 1, 1, 1, 1, 1, 1, 1, 1, : Fewer control than treated units and matching without replacement.  Not all treated units will receive a match.  Treated units will be matched in the order specified by m.order: largestWarning message:\n",
      "In matchit2nearest(structure(c(1, 1, 1, 1, 1, 1, 1, 1, 1, 1, 1, : Fewer control than treated units and matching without replacement.  Not all treated units will receive a match.  Treated units will be matched in the order specified by m.order: largest"
     ]
    }
   ],
   "source": [
    "# FIQ sample\n",
    "tmp = caliper[!is.na(caliper$FIQ),]\n",
    "for (ind in seq_along(tmp$Sites)){\n",
    "    \n",
    "    site = tmp$Sites[ind]\n",
    "    cal = tmp$FIQ[ind]\n",
    "    covariates = c('SITE_ID','SUB_ID', 'DX_GROUP', 'AGE_AT_SCAN', 'FD_scrubbed', 'frames_scrubbed', 'FIQ')\n",
    "    slice_data = subset(data_fiq, SITE_ID==site, select=covariates)\n",
    "    matched = matchit(DX_GROUP ~ FD_scrubbed + AGE_AT_SCAN + FIQ, data=slice_data, method=\"nearest\", caliper=cal, ratio=1)\n",
    "    data_matched = match.data(matched)\n",
    "    \n",
    "    if (ind == 1){\n",
    "        base = data_matched\n",
    "    }\n",
    "    else {\n",
    "        base = merge(base, data_matched, all = TRUE)\n",
    "    }\n",
    "}\n",
    "# Save it\n",
    "write.csv(file=abide_fiq_pass, x=base, row.names=FALSE)"
   ]
  }
 ],
 "metadata": {
  "kernelspec": {
   "display_name": "R",
   "language": "R",
   "name": "ir"
  },
  "language_info": {
   "codemirror_mode": "r",
   "file_extension": ".r",
   "mimetype": "text/x-r-source",
   "name": "R",
   "pygments_lexer": "r",
   "version": "3.3.0"
  }
 },
 "nbformat": 4,
 "nbformat_minor": 0
}
