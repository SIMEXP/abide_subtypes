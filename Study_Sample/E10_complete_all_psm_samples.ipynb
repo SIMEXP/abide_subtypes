{
 "cells": [
  {
   "cell_type": "code",
   "execution_count": 5,
   "metadata": {
    "collapsed": true
   },
   "outputs": [],
   "source": [
    "import os\n",
    "import pandas as pd"
   ]
  },
  {
   "cell_type": "code",
   "execution_count": 6,
   "metadata": {
    "collapsed": true
   },
   "outputs": [],
   "source": [
    "pheno_ref = '/data1/abide/Pheno/psm/abide_qc_maybe.csv'\n",
    "\n",
    "abide_full_maybe = '/data1/abide/Pheno/psm/abide_full_maybe.csv'\n",
    "abide_ados_maybe = '/data1/abide/Pheno/psm/abide_ados_maybe.csv'\n",
    "abide_srs_maybe = '/data1/abide/Pheno/psm/abide_srs_maybe.csv'\n",
    "abide_fiq_maybe = '/data1/abide/Pheno/psm/abide_fiq_maybe.csv'\n",
    "\n",
    "abide_full_pass = '/data1/abide/Pheno/psm/abide_full_pass.csv'\n",
    "abide_ados_pass = '/data1/abide/Pheno/psm/abide_ados_pass.csv'\n",
    "abide_srs_pass = '/data1/abide/Pheno/psm/abide_srs_pass.csv'\n",
    "abide_fiq_pass = '/data1/abide/Pheno/psm/abide_fiq_pass.csv'\n",
    "\n",
    "out_path = '/data1/abide/Pheno/psm_merged'\n",
    "if not os.path.isdir(out_path):\n",
    "    os.makedirs(out_path)\n",
    "\n",
    "phenos = [abide_full_maybe, abide_full_pass,\n",
    "         abide_ados_maybe, abide_ados_pass,\n",
    "         abide_srs_maybe, abide_srs_pass,\n",
    "         abide_fiq_maybe, abide_fiq_pass]"
   ]
  },
  {
   "cell_type": "code",
   "execution_count": 7,
   "metadata": {
    "collapsed": true
   },
   "outputs": [],
   "source": [
    "ref = pd.read_csv(pheno_ref)"
   ]
  },
  {
   "cell_type": "code",
   "execution_count": 8,
   "metadata": {
    "collapsed": false
   },
   "outputs": [],
   "source": [
    "# Start merging stuff\n",
    "\n",
    "for pheno_path in phenos:\n",
    "    pheno = pd.read_csv(pheno_path)\n",
    "    bs_name = 'merged_{}'.format(os.path.basename(pheno_path))\n",
    "    merged = pd.merge(pheno[['SUB_ID']], ref, on='SUB_ID', how='inner')\n",
    "    m_path = os.path.join(out_path, bs_name)\n",
    "    merged.to_csv(m_path, index=False)"
   ]
  }
 ],
 "metadata": {
  "kernelspec": {
   "display_name": "Python 3",
   "language": "python",
   "name": "python3"
  },
  "language_info": {
   "codemirror_mode": {
    "name": "ipython",
    "version": 3
   },
   "file_extension": ".py",
   "mimetype": "text/x-python",
   "name": "python",
   "nbconvert_exporter": "python",
   "pygments_lexer": "ipython3",
   "version": "3.5.1+"
  }
 },
 "nbformat": 4,
 "nbformat_minor": 0
}
