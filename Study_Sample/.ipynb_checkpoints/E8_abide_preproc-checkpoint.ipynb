{
 "cells": [
  {
   "cell_type": "markdown",
   "metadata": {},
   "source": [
    "# ABIDE PREPROC PHENO\n",
    "Ok, this is all messy. Here is what I need to establish:\n",
    "\n",
    "1) abide and abide_preproc pheno are identical regarding Age, Sex, Diagnosis and FIQ of all matched subjects\n",
    "\n",
    "2) abide_preproc and niak_local have the same or at least correlated motion estimates after subject matching\n",
    "\n",
    "3) assess the overlap between the QC results of abide_preproc and niak_local\n",
    "\n",
    "Then make this happen:\n",
    "\n",
    "1) merge abide_preproc with niak_local QC\n",
    "\n",
    "2) merge that with Budha's ADOS severity scores\n",
    "\n",
    "3) run the propensity score matching on that stuff"
   ]
  },
  {
   "cell_type": "code",
   "execution_count": 1,
   "metadata": {
    "collapsed": true
   },
   "outputs": [],
   "source": [
    "import os\n",
    "import numpy as np\n",
    "import pandas as pd\n",
    "import statsmodels.api as sm\n",
    "from scipy import stats as st\n",
    "from matplotlib import pyplot as plt"
   ]
  },
  {
   "cell_type": "code",
   "execution_count": 2,
   "metadata": {
    "collapsed": true
   },
   "outputs": [],
   "source": [
    "%matplotlib inline"
   ]
  },
  {
   "cell_type": "code",
   "execution_count": 3,
   "metadata": {
    "collapsed": true
   },
   "outputs": [],
   "source": [
    "# Set up the paths\n",
    "path_abide_preproc = '/data1/abide/Pheno/new/abide_preprocessed_full_pheno.csv'\n",
    "path_abide_raw = '/data1/abide/Pheno/new/abide_data_full_pheno.csv'\n",
    "path_ados = '/data1/abide/Pheno/old/ados_pheno.csv'\n",
    "tmp_niak_scrubbing = '/data1/abide/Pheno/new/{}_qc_scrubbing_group.csv'\n",
    "tmp_niak_motion = '/data1/abide/Pheno/new/{}_qc_motion_group.csv'\n",
    "tmp_niak_qc = '/data1/abide/Pheno/new/{}_qc_report.csv'\n",
    "qc_maybe_out = '/data1/abide/Pheno/psm/abide_qc_maybe.csv'\n",
    "qc_pass_out = '/data1/abide/Pheno/psm/abide_qc_pass.csv'"
   ]
  },
  {
   "cell_type": "markdown",
   "metadata": {},
   "source": [
    "## Load abide_raw and abide_preproc and compare their values\n",
    "particularly:\n",
    "- age\n",
    "- sex\n",
    "- diagnosis\n",
    "- FIQ"
   ]
  },
  {
   "cell_type": "code",
   "execution_count": 4,
   "metadata": {
    "collapsed": true
   },
   "outputs": [],
   "source": [
    "# Load both pheno frames\n",
    "abide_pre = pd.read_csv(path_abide_preproc)\n",
    "abide_raw = pd.read_csv(path_abide_raw)"
   ]
  },
  {
   "cell_type": "code",
   "execution_count": 5,
   "metadata": {
    "collapsed": false
   },
   "outputs": [],
   "source": [
    "# Match them by the subject id\n",
    "abide_combined = pd.merge(abide_pre, abide_raw, on='SUB_ID', how='outer')"
   ]
  },
  {
   "cell_type": "code",
   "execution_count": 6,
   "metadata": {
    "collapsed": false
   },
   "outputs": [
    {
     "data": {
      "text/html": [
       "<div>\n",
       "<table border=\"1\" class=\"dataframe\">\n",
       "  <thead>\n",
       "    <tr style=\"text-align: right;\">\n",
       "      <th></th>\n",
       "      <th>AGE_AT_SCAN_x</th>\n",
       "      <th>AGE_AT_SCAN_y</th>\n",
       "      <th>DX_GROUP_x</th>\n",
       "      <th>DX_GROUP_y</th>\n",
       "      <th>SEX_x</th>\n",
       "      <th>SEX_y</th>\n",
       "      <th>FIQ_x</th>\n",
       "      <th>FIQ_y</th>\n",
       "    </tr>\n",
       "  </thead>\n",
       "  <tbody>\n",
       "    <tr>\n",
       "      <th>0</th>\n",
       "      <td>16.77</td>\n",
       "      <td>16.77</td>\n",
       "      <td>1</td>\n",
       "      <td>1</td>\n",
       "      <td>1</td>\n",
       "      <td>1</td>\n",
       "      <td>103.0</td>\n",
       "      <td>103.0</td>\n",
       "    </tr>\n",
       "    <tr>\n",
       "      <th>1</th>\n",
       "      <td>24.45</td>\n",
       "      <td>24.45</td>\n",
       "      <td>1</td>\n",
       "      <td>1</td>\n",
       "      <td>1</td>\n",
       "      <td>1</td>\n",
       "      <td>124.0</td>\n",
       "      <td>124.0</td>\n",
       "    </tr>\n",
       "    <tr>\n",
       "      <th>2</th>\n",
       "      <td>19.09</td>\n",
       "      <td>19.09</td>\n",
       "      <td>1</td>\n",
       "      <td>1</td>\n",
       "      <td>1</td>\n",
       "      <td>1</td>\n",
       "      <td>113.0</td>\n",
       "      <td>113.0</td>\n",
       "    </tr>\n",
       "    <tr>\n",
       "      <th>3</th>\n",
       "      <td>13.73</td>\n",
       "      <td>13.73</td>\n",
       "      <td>1</td>\n",
       "      <td>1</td>\n",
       "      <td>2</td>\n",
       "      <td>2</td>\n",
       "      <td>119.0</td>\n",
       "      <td>119.0</td>\n",
       "    </tr>\n",
       "    <tr>\n",
       "      <th>4</th>\n",
       "      <td>13.37</td>\n",
       "      <td>13.37</td>\n",
       "      <td>1</td>\n",
       "      <td>1</td>\n",
       "      <td>1</td>\n",
       "      <td>1</td>\n",
       "      <td>109.0</td>\n",
       "      <td>109.0</td>\n",
       "    </tr>\n",
       "  </tbody>\n",
       "</table>\n",
       "</div>"
      ],
      "text/plain": [
       "   AGE_AT_SCAN_x  AGE_AT_SCAN_y  DX_GROUP_x  DX_GROUP_y  SEX_x  SEX_y  FIQ_x  \\\n",
       "0          16.77          16.77           1           1      1      1  103.0   \n",
       "1          24.45          24.45           1           1      1      1  124.0   \n",
       "2          19.09          19.09           1           1      1      1  113.0   \n",
       "3          13.73          13.73           1           1      2      2  119.0   \n",
       "4          13.37          13.37           1           1      1      1  109.0   \n",
       "\n",
       "   FIQ_y  \n",
       "0  103.0  \n",
       "1  124.0  \n",
       "2  113.0  \n",
       "3  119.0  \n",
       "4  109.0  "
      ]
     },
     "execution_count": 6,
     "metadata": {},
     "output_type": "execute_result"
    }
   ],
   "source": [
    "# Check the columns and see if they are the same\n",
    "abide_combined[['AGE_AT_SCAN_x', 'AGE_AT_SCAN_y', 'DX_GROUP_x', 'DX_GROUP_y', 'SEX_x', 'SEX_y', 'FIQ_x', 'FIQ_y']].head()"
   ]
  },
  {
   "cell_type": "markdown",
   "metadata": {},
   "source": [
    "Alright, looks pretty cool. Let's do it for real"
   ]
  },
  {
   "cell_type": "code",
   "execution_count": 7,
   "metadata": {
    "collapsed": false
   },
   "outputs": [
    {
     "name": "stdout",
     "output_type": "stream",
     "text": [
      "age (True), dx (True), sex(True), fiq(False)\n"
     ]
    }
   ],
   "source": [
    "test_age = all(abide_combined['AGE_AT_SCAN_x'].values == abide_combined['AGE_AT_SCAN_y'])\n",
    "test_dx = all(abide_combined['DX_GROUP_x'].values == abide_combined['DX_GROUP_y'])\n",
    "test_sex = all(abide_combined['SEX_x'].values == abide_combined['SEX_y'])\n",
    "test_fiq = all(abide_combined['FIQ_x'].values == abide_combined['FIQ_y'])\n",
    "print('age ({}), dx ({}), sex({}), fiq({})'.format(test_age, test_dx, test_sex, test_fiq))"
   ]
  },
  {
   "cell_type": "markdown",
   "metadata": {},
   "source": [
    "Aha, aha, what about the FIQ range? Let's check that"
   ]
  },
  {
   "cell_type": "code",
   "execution_count": 8,
   "metadata": {
    "collapsed": false
   },
   "outputs": [
    {
     "data": {
      "text/html": [
       "<div>\n",
       "<table border=\"1\" class=\"dataframe\">\n",
       "  <thead>\n",
       "    <tr style=\"text-align: right;\">\n",
       "      <th></th>\n",
       "      <th>FIQ_x</th>\n",
       "      <th>FIQ_y</th>\n",
       "    </tr>\n",
       "  </thead>\n",
       "  <tbody>\n",
       "    <tr>\n",
       "      <th>553</th>\n",
       "      <td>NaN</td>\n",
       "      <td>NaN</td>\n",
       "    </tr>\n",
       "    <tr>\n",
       "      <th>554</th>\n",
       "      <td>NaN</td>\n",
       "      <td>NaN</td>\n",
       "    </tr>\n",
       "    <tr>\n",
       "      <th>555</th>\n",
       "      <td>NaN</td>\n",
       "      <td>NaN</td>\n",
       "    </tr>\n",
       "    <tr>\n",
       "      <th>556</th>\n",
       "      <td>NaN</td>\n",
       "      <td>NaN</td>\n",
       "    </tr>\n",
       "    <tr>\n",
       "      <th>557</th>\n",
       "      <td>NaN</td>\n",
       "      <td>NaN</td>\n",
       "    </tr>\n",
       "  </tbody>\n",
       "</table>\n",
       "</div>"
      ],
      "text/plain": [
       "     FIQ_x  FIQ_y\n",
       "553    NaN    NaN\n",
       "554    NaN    NaN\n",
       "555    NaN    NaN\n",
       "556    NaN    NaN\n",
       "557    NaN    NaN"
      ]
     },
     "execution_count": 8,
     "metadata": {},
     "output_type": "execute_result"
    }
   ],
   "source": [
    "test_fiq_bool = abide_combined['FIQ_x'].values == abide_combined['FIQ_y']\n",
    "a = [x[0] for x in np.argwhere(~test_fiq_bool)]\n",
    "abide_combined.loc[a][['FIQ_x', 'FIQ_y']].head()"
   ]
  },
  {
   "cell_type": "markdown",
   "metadata": {},
   "source": [
    "Ah ok, all good then. NaN ~= NaN in python. Gotta remember that kids!"
   ]
  },
  {
   "cell_type": "markdown",
   "metadata": {},
   "source": [
    "## ABIDE_preproc and niak_local motion comparison\n",
    "First we have to make a combined local niak qc file"
   ]
  },
  {
   "cell_type": "code",
   "execution_count": 9,
   "metadata": {
    "collapsed": true
   },
   "outputs": [],
   "source": [
    "# Some sites are special wallflowers and need to be titlecase. Yay.\n",
    "sites = ['Pitt', 'Olin', 'OHSU', 'SDSU', 'Trinity', 'UM_1', 'UM_2', 'USM', 'Yale', 'CMU_a', 'CMU_b',\n",
    "        'Leuven_1', 'Leuven_2', 'KKI', 'NYU', 'Stanford', 'UCLA_1', 'UCLA_2',\n",
    "         'MaxMun_a', 'MaxMun_b', 'MaxMun_c', 'MaxMun_d', 'Caltech', 'SBL']"
   ]
  },
  {
   "cell_type": "code",
   "execution_count": 10,
   "metadata": {
    "collapsed": false
   },
   "outputs": [],
   "source": [
    "# And then iterate over them to load the niak_qc_data\n",
    "for s_id, site in enumerate(sites):\n",
    "    #print(tmp_niak_qc.format(site.title()))\n",
    "    tmp_qc = pd.read_csv(tmp_niak_qc.format(site))\n",
    "    tmp_motion = pd.read_csv(tmp_niak_motion.format(site))\n",
    "    tmp_scrub = pd.read_csv(tmp_niak_scrubbing.format(site))\n",
    "    \n",
    "    if s_id == 0:\n",
    "        pheno_qc = tmp_qc\n",
    "        pheno_motion = tmp_motion\n",
    "        pheno_scrub = tmp_scrub\n",
    "    else:\n",
    "        pheno_qc = pd.concat([pheno_qc, tmp_qc])\n",
    "        pheno_motion = pd.concat([pheno_motion, tmp_motion])\n",
    "        pheno_scrub = pd.concat([pheno_scrub, tmp_scrub])"
   ]
  },
  {
   "cell_type": "code",
   "execution_count": 11,
   "metadata": {
    "collapsed": false
   },
   "outputs": [],
   "source": [
    "# Rename the subject column because its like a free for all\n",
    "pheno_motion.rename(columns={' ': 'SUB_ID'}, inplace=True)\n",
    "pheno_qc.rename(columns={'id_subject ': 'SUB_ID'}, inplace=True)\n",
    "pheno_scrub.rename(columns={' ': 'SUB_ID_multi'}, inplace=True)\n",
    "# Get rid of the weird leading characters of the sub ID\n",
    "pheno_motion['SUB_ID'] = pheno_motion['SUB_ID'].str.replace(r'^X00', '').str.strip(' ')\n",
    "pheno_qc['SUB_ID'] = pheno_qc['SUB_ID'].str.replace(r'^X00', '').str.strip(' ')\n",
    "pheno_scrub['SUB_ID'] = pheno_scrub['SUB_ID_multi'].str.extract('((?<=X00)\\d+)', expand=True)\n",
    "# Get the session and run ID so we can later pick the best run for the duplicates\n",
    "pheno_scrub['session'] = pheno_scrub['SUB_ID_multi'].str.extract('((?<=_session_)\\d)', expand=True)\n",
    "pheno_scrub['run'] = pheno_scrub['SUB_ID_multi'].str.extract('((?<=_run)\\d)', expand=True)\n",
    "# Now get rid of the sub_id_multi column, we don't need it anymore\n",
    "pheno_scrub.drop('SUB_ID_multi', axis=1, inplace=True)\n",
    "# Reset the index on the scrub phenotype data\n",
    "pheno_scrub.set_index(np.arange(pheno_scrub.shape[0]), inplace=True)"
   ]
  },
  {
   "cell_type": "code",
   "execution_count": 12,
   "metadata": {
    "collapsed": false
   },
   "outputs": [],
   "source": [
    "# There are some subjects with multiple sessions, we want the ones with the best FD\n",
    "dupl_subs = pheno_scrub[pheno_scrub.duplicated('SUB_ID')]['SUB_ID'].unique()\n",
    "for sub in dupl_subs:\n",
    "    # Find the vector of FD and names\n",
    "    ids = pheno_scrub[pheno_scrub.SUB_ID==sub].index\n",
    "    fd = pheno_scrub[pheno_scrub.SUB_ID==sub].FD_scrubbed.values\n",
    "    #print(' {}'.format(sub))\n",
    "    \n",
    "    # Get the names of the largest FD values\n",
    "    drop_ids = ids[np.argsort(fd)[1:]]\n",
    "    #print(drop_ids)\n",
    "    # And now drop them\n",
    "    pheno_scrub.drop(drop_ids, inplace=True)"
   ]
  },
  {
   "cell_type": "code",
   "execution_count": 13,
   "metadata": {
    "collapsed": true
   },
   "outputs": [],
   "source": [
    "# Now that this is done, we can merge those stupid things\n",
    "tmp = pd.merge(pheno_motion, pheno_qc, on='SUB_ID', how='outer')\n",
    "pheno_niak = pd.merge(tmp, pheno_scrub, on='SUB_ID', how='outer')\n",
    "# Turn the SUB_IDs into integers\n",
    "pheno_niak.SUB_ID = pheno_niak.SUB_ID.astype(int)\n",
    "# And get rid of the god_aweful trailing whitespaces\n",
    "pheno_niak.columns = pheno_niak.columns.str.strip(' ')"
   ]
  },
  {
   "cell_type": "code",
   "execution_count": 14,
   "metadata": {
    "collapsed": true
   },
   "outputs": [],
   "source": [
    "# Alright, now for the comparison with the abide_preproc pheno\n",
    "niak_abide_test = pd.merge(abide_pre, pheno_niak, on='SUB_ID', how='inner')"
   ]
  },
  {
   "cell_type": "code",
   "execution_count": 15,
   "metadata": {
    "collapsed": false
   },
   "outputs": [
    {
     "data": {
      "text/plain": [
       "<matplotlib.text.Text at 0x7f72db679ef0>"
      ]
     },
     "execution_count": 15,
     "metadata": {},
     "output_type": "execute_result"
    },
    {
     "data": {
      "image/png": "[encoded data removed]",
      "text/plain": [
       "<matplotlib.figure.Figure at 0x7f72dd7354e0>"
      ]
     },
     "metadata": {},
     "output_type": "display_data"
    }
   ],
   "source": [
    "# And now compare the FD\n",
    "x = niak_abide_test.func_mean_fd.values\n",
    "Y = niak_abide_test.FD.values\n",
    "mask = (np.isnan(x) | np.isnan(Y))\n",
    "x = x[~mask]\n",
    "Y = Y[~mask]\n",
    "mval = np.max(x)\n",
    "m_y = np.max(Y)\n",
    "\n",
    "rlm_model = sm.RLM(Y, sm.add_constant(x))\n",
    "rlm_results = rlm_model.fit()\n",
    "plot_x = np.linspace(np.min(x)-0.1,np.max(x)+0.1,2)\n",
    "plot_y = np.polyval(rlm_results.params[::-1], plot_x)\n",
    "r = st.pearsonr(x, Y)\n",
    "\n",
    "plt.scatter(x, Y)\n",
    "plt.plot(plot_x, plot_y, 'r', label='r={:.2f} (p={:.3f})'.format(r[0], r[1]))\n",
    "plt.legend(loc=2)\n",
    "plt.xlabel('Niak mean FD')\n",
    "plt.ylabel('CPAC mean FD')\n",
    "plt.title('mean FD comparison')"
   ]
  },
  {
   "cell_type": "markdown",
   "metadata": {},
   "source": [
    "Ok, seems like while they are not the same, they are highly correlated. So I think that's fine for now."
   ]
  },
  {
   "cell_type": "markdown",
   "metadata": {},
   "source": [
    "## QC agreement between niak and abide_preproc\n",
    "Let's take a look at these values, probably need to relabel them"
   ]
  },
  {
   "cell_type": "code",
   "execution_count": 16,
   "metadata": {
    "collapsed": false
   },
   "outputs": [],
   "source": [
    "cols = ['qc_rater_1', 'qc_anat_rater_2', 'qc_func_rater_2', 'qc_anat_rater_3', 'qc_func_rater_3', 'anat', 'func']\n",
    "# Remove trailing whitespace and replace empty with nan\n",
    "niak_abide_test.func = niak_abide_test.func.replace({' ':np.nan}).str.strip(' ')\n",
    "niak_abide_test.anat = niak_abide_test.anat.replace({' ':np.nan}).str.strip(' ')\n",
    "# Replace ok, maybe and fail with [0, 0.5, 1]\n",
    "for col in cols:\n",
    "    niak_abide_test[col] = niak_abide_test[col].replace({'OK':1, 'Maybe':0.5,\n",
    "                                                         'maybe':0.5, 'Fail':0,\n",
    "                                                        'fail':0})"
   ]
  },
  {
   "cell_type": "markdown",
   "metadata": {},
   "source": [
    "Get an idea of the concordance of QC ratings"
   ]
  },
  {
   "cell_type": "code",
   "execution_count": 17,
   "metadata": {
    "collapsed": true
   },
   "outputs": [],
   "source": [
    "from statsmodels.stats import inter_rater as sir"
   ]
  },
  {
   "cell_type": "code",
   "execution_count": 18,
   "metadata": {
    "collapsed": false
   },
   "outputs": [
    {
     "data": {
      "text/plain": [
       "{'alpha': 0.025,\n",
       " 'alpha_ci': '  95',\n",
       " 'distribution_kappa': <scipy.stats._distn_infrastructure.rv_frozen at 0x7f72db63b390>,\n",
       " 'distribution_zero_null': <scipy.stats._distn_infrastructure.rv_frozen at 0x7f72db63bdd8>,\n",
       " 'kappa': 0.73379157887465019,\n",
       " 'kappa_low': 0.65761587600549221,\n",
       " 'kappa_max': 0.75914476183896951,\n",
       " 'kappa_upp': 0.80996728174380817,\n",
       " 'kind': 'Simple',\n",
       " 'pvalue_one_sided': 1.444206623823729e-143,\n",
       " 'pvalue_two_sided': 2.888413247647458e-143,\n",
       " 'std_kappa': 0.038865868694538383,\n",
       " 'std_kappa0': 0.028793036140681006,\n",
       " 'var_kappa': 0.0015105557493810989,\n",
       " 'var_kappa0': 0.00082903893019856253,\n",
       " 'weights': None,\n",
       " 'z_value': 25.485036565417747}"
      ]
     },
     "execution_count": 18,
     "metadata": {},
     "output_type": "execute_result"
    }
   ],
   "source": [
    "ratings = np.concatenate((niak_abide_test.qc_rater_1.values[..., None], niak_abide_test.qc_func_rater_3.values[..., None]),axis=1)\n",
    "val_mask = np.sum(np.isnan(ratings), axis=1, dtype=bool)\n",
    "table = sir.to_table(ratings[~val_mask, :])\n",
    "sir.cohens_kappa(table[0])"
   ]
  },
  {
   "cell_type": "markdown",
   "metadata": {},
   "source": [
    "Well, rater2 and niak have ok-ish alignment. But really there is not enough agreement between them to be happy. And since we know that the niak QC had a kappa of 0.8 I think I'll just go with that."
   ]
  },
  {
   "cell_type": "markdown",
   "metadata": {},
   "source": [
    "# Make things happen now\n",
    "- merge abide_preproc and niak_qc\n",
    "- get Budha's ADOS severity scores\n",
    "- run propensity score matching with that"
   ]
  },
  {
   "cell_type": "code",
   "execution_count": 19,
   "metadata": {
    "collapsed": false
   },
   "outputs": [],
   "source": [
    "# Get rid of the meaningless index columns at the beginning\n",
    "abide_merged = niak_abide_test.drop(['Unnamed: 0', 'Unnamed: 0.1'], axis=1)\n",
    "# Also drop the duplicate SUB_ID column\n",
    "abide_merged.drop(['X', 'subject'], axis=1, inplace=True)"
   ]
  },
  {
   "cell_type": "code",
   "execution_count": 20,
   "metadata": {
    "collapsed": false
   },
   "outputs": [],
   "source": [
    "# Now add the ADOS information\n",
    "pheno_ados = pd.read_csv(path_ados)\n",
    "# Ok, just checked it, this matches with the info in the abide_merged pheno\n",
    "# Let's drop anything we don't need\n",
    "pheno_ados = pheno_ados[['SUB_ID', 'ADOS_sb_sev', 'ADOS_sc_sev']]"
   ]
  },
  {
   "cell_type": "code",
   "execution_count": 21,
   "metadata": {
    "collapsed": true
   },
   "outputs": [],
   "source": [
    "abide_full = pd.merge(abide_merged, pheno_ados, on='SUB_ID', how='outer')"
   ]
  },
  {
   "cell_type": "code",
   "execution_count": 37,
   "metadata": {
    "collapsed": false
   },
   "outputs": [
    {
     "name": "stderr",
     "output_type": "stream",
     "text": [
      "/home/surchs/Venv/serv3/lib/python3.5/site-packages/pandas/core/generic.py:3362: SettingWithCopyWarning: \n",
      "A value is trying to be set on a copy of a slice from a DataFrame\n",
      "\n",
      "See the caveats in the documentation: http://pandas.pydata.org/pandas-docs/stable/indexing.html#indexing-view-versus-copy\n",
      "  limit=limit, regex=regex)\n"
     ]
    }
   ],
   "source": [
    "# Find how many subjects that pass QC have ADOS\n",
    "qc_maybe = abide_full[(abide_full.anat + abide_full.func) > 1]\n",
    "qc_pass = abide_full[abide_full.func == 1]\n",
    "# Replace missing values\n",
    "qc_maybe.replace({-9999.0:np.nan}, inplace=True)\n",
    "qc_pass.replace({-9999.0:np.nan}, inplace=True)"
   ]
  },
  {
   "cell_type": "code",
   "execution_count": 38,
   "metadata": {
    "collapsed": true
   },
   "outputs": [],
   "source": [
    "# Save the stuff\n",
    "qc_maybe.to_csv(qc_maybe_out, index=False)\n",
    "qc_pass.to_csv(qc_pass_out, index=False)"
   ]
  }
 ],
 "metadata": {
  "kernelspec": {
   "display_name": "Python 3",
   "language": "python",
   "name": "python3"
  },
  "language_info": {
   "codemirror_mode": {
    "name": "ipython",
    "version": 3
   },
   "file_extension": ".py",
   "mimetype": "text/x-python",
   "name": "python",
   "nbconvert_exporter": "python",
   "pygments_lexer": "ipython3",
   "version": "3.5.1+"
  }
 },
 "nbformat": 4,
 "nbformat_minor": 0
}
