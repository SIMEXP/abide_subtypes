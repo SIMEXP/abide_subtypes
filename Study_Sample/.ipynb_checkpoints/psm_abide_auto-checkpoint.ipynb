{
 "cells": [
  {
   "cell_type": "markdown",
   "metadata": {},
   "source": [
    "# PSM Matching for ABIDE\n",
    "Here are the samples I want\n",
    "1) full sample, w site: diagnosis ratio 1, age,  motion\n",
    "\n",
    "2) ADOS sample, w site: age, motion\n",
    "\n",
    "3) SRS sample, w site: diagnosis ratio 1, age, motion\n",
    "\n",
    "4) full sample, w site: diagnosis ratio 1, age, motion, FIQ\n",
    "\n",
    "5) ? maybe FIQ on the other ones as well, depending on how nice that goes"
   ]
  },
  {
   "cell_type": "code",
   "execution_count": 1,
   "metadata": {
    "collapsed": false
   },
   "outputs": [
    {
     "name": "stderr",
     "output_type": "stream",
     "text": [
      "Loading required package: MASS\n"
     ]
    }
   ],
   "source": [
    "library(MatchIt)"
   ]
  },
  {
   "cell_type": "code",
   "execution_count": 2,
   "metadata": {
    "collapsed": true
   },
   "outputs": [],
   "source": [
    "# Set up the input paths\n",
    "qc_maybe = '/data1/abide/Pheno/new/abide_qc_maybe.csv'\n",
    "qc_pass = '/data1/abide/Pheno/new/abide_qc_pass.csv'\n",
    "\n",
    "# Set up the output paths\n",
    "abide_full_maybe = '/data1/abide/Pheno/new/abide_full_maybe.csv'\n",
    "abide_ados_maybe = '/data1/abide/Pheno/new/abide_ados_maybe.csv'\n",
    "abide_srs_maybe = '/data1/abide/Pheno/new/abide_srs_maybe.csv'\n",
    "abide_fiq_maybe = '/data1/abide/Pheno/new/abide_fiq_maybe.csv'\n",
    "\n",
    "abide_full_pass = '/data1/abide/Pheno/new/abide_full_pass.csv'\n",
    "abide_ados_pass = '/data1/abide/Pheno/new/abide_ados_pass.csv'\n",
    "abide_srs_pass = '/data1/abide/Pheno/new/abide_srs_pass.csv'\n",
    "abide_fiq_pass = '/data1/abide/Pheno/new/abide_fiq_pass.csv'\n",
    "\n",
    "# Set up the config paths\n",
    "caliper_maybe = '/home/surchs/GDrive/PhD/Pheno/assignments/abide_calipers_maybe.csv'\n",
    "caliper_pass = '/home/surchs/GDrive/PhD/Pheno/assignments/abide_calipers_pass.csv'"
   ]
  },
  {
   "cell_type": "markdown",
   "metadata": {},
   "source": [
    "## QC Maybe"
   ]
  },
  {
   "cell_type": "code",
   "execution_count": 3,
   "metadata": {
    "collapsed": true
   },
   "outputs": [],
   "source": [
    "# Read the data\n",
    "data = read.csv(qc_maybe)\n",
    "# Remap the values of the diagnosis column\n",
    "# This will change the meaning, now ASD = 1, TDC = 0\n",
    "data$DX_GROUP[data$DX_GROUP == 2] <- 0\n",
    "# Make a subset for only male participants\n",
    "data_male = subset(data, SEX==1)\n",
    "# Make a copy for non-nan values for FIQ and SRS\n",
    "data_fiq = data_male[!is.na(data_male$FIQ),]\n",
    "data_srs = data_male[!is.na(data_male$SRS_RAW_TOTAL),]\n",
    "data_ados = data_male[!is.na(data_male$ADOS_sb_sev),]\n",
    "# Load the caliper dataframe\n",
    "caliper = read.csv(caliper_maybe)"
   ]
  },
  {
   "cell_type": "code",
   "execution_count": 4,
   "metadata": {
    "collapsed": false
   },
   "outputs": [
    {
     "name": "stderr",
     "output_type": "stream",
     "text": [
      "Warning message:\n",
      "In matchit2nearest(structure(c(1, 1, 1, 1, 1, 1, 1, 1, 1, 1, 1, : Fewer control than treated units and matching without replacement.  Not all treated units will receive a match.  Treated units will be matched in the order specified by m.order: largestWarning message:\n",
      "In matchit2nearest(structure(c(0, 0, 0, 0, 0, 0, 0, 0, 0, 0, 0, : Fewer control than treated units and matching without replacement.  Not all treated units will receive a match.  Treated units will be matched in the order specified by m.order: largestWarning message:\n",
      "In matchit2nearest(structure(c(1, 1, 1, 1, 1, 1, 1, 1, 1, 1, 1, : Fewer control than treated units and matching without replacement.  Not all treated units will receive a match.  Treated units will be matched in the order specified by m.order: largestWarning message:\n",
      "In matchit2nearest(structure(c(0, 0, 0, 0, 0, 0, 0, 0, 0, 0, 0, : Fewer control than treated units and matching without replacement.  Not all treated units will receive a match.  Treated units will be matched in the order specified by m.order: largestWarning message:\n",
      "In matchit2nearest(structure(c(0, 0, 0, 0, 0, 0, 0, 0, 0, 0, 0, : Fewer control than treated units and matching without replacement.  Not all treated units will receive a match.  Treated units will be matched in the order specified by m.order: largestWarning message:\n",
      "In matchit2nearest(structure(c(1, 1, 1, 1, 1, 1, 1, 1, 1, 1, 1, : Fewer control than treated units and matching without replacement.  Not all treated units will receive a match.  Treated units will be matched in the order specified by m.order: largestWarning message:\n",
      "In matchit2nearest(structure(c(1, 1, 1, 1, 1, 1, 1, 1, 1, 1, 1, : Fewer control than treated units and matching without replacement.  Not all treated units will receive a match.  Treated units will be matched in the order specified by m.order: largest"
     ]
    }
   ],
   "source": [
    "# Full sample\n",
    "tmp = caliper[!is.na(caliper$Full),]\n",
    "for (ind in seq_along(tmp$Sites)){\n",
    "    \n",
    "    site = tmp$Sites[ind]\n",
    "    cal = tmp$Full[ind]\n",
    "    \n",
    "    covariates = c('SITE_ID','SUB_ID', 'DX_GROUP', 'AGE_AT_SCAN', 'FD_scrubbed', 'frames_scrubbed')#, 'FIQ')\n",
    "    slice_data = subset(data_male, SITE_ID==site, select=covariates)\n",
    "    matched = matchit(DX_GROUP ~ FD_scrubbed + AGE_AT_SCAN, data=slice_data, method=\"nearest\", caliper=cal, ratio=1)\n",
    "    data_matched = match.data(matched)\n",
    "    \n",
    "    if (ind == 1){\n",
    "        base = data_matched\n",
    "    }\n",
    "    else {\n",
    "        base = merge(base, data_matched, all = TRUE)\n",
    "    }\n",
    "}\n",
    "# Save it\n",
    "write.csv(file=abide_full_maybe, x=base)"
   ]
  },
  {
   "cell_type": "code",
   "execution_count": 5,
   "metadata": {
    "collapsed": false
   },
   "outputs": [
    {
     "name": "stderr",
     "output_type": "stream",
     "text": [
      "Warning message:\n",
      "In matchit2nearest(structure(c(0, 0, 0, 0, 0, 0, 0, 0, 0, 0, 0, : Fewer control than treated units and matching without replacement.  Not all treated units will receive a match.  Treated units will be matched in the order specified by m.order: largestWarning message:\n",
      "In matchit2nearest(structure(c(0, 0, 0, 0, 0, 0, 0, 0, 0, 0, 0, : Fewer control than treated units and matching without replacement.  Not all treated units will receive a match.  Treated units will be matched in the order specified by m.order: largestWarning message:\n",
      "In matchit2nearest(structure(c(1, 1, 1, 1, 1, 1, 1, 1, 1, 1, 1, : Fewer control than treated units and matching without replacement.  Not all treated units will receive a match.  Treated units will be matched in the order specified by m.order: largest"
     ]
    }
   ],
   "source": [
    "# SRS sample\n",
    "tmp = caliper[!is.na(caliper$SRS),]\n",
    "for (ind in seq_along(tmp$Sites)){\n",
    "    \n",
    "    site = tmp$Sites[ind]\n",
    "    cal = tmp$SRS[ind]\n",
    "    \n",
    "    covariates = c('SITE_ID','SUB_ID', 'DX_GROUP', 'AGE_AT_SCAN', 'FD_scrubbed', 'frames_scrubbed')#, 'FIQ')\n",
    "    slice_data = subset(data_srs, SITE_ID==site, select=covariates)\n",
    "    matched = matchit(DX_GROUP ~ FD_scrubbed + AGE_AT_SCAN, data=slice_data, method=\"nearest\", caliper=cal, ratio=1)\n",
    "    data_matched = match.data(matched)\n",
    "    \n",
    "    if (ind == 1){\n",
    "        base = data_matched\n",
    "    }\n",
    "    else {\n",
    "        base = merge(base, data_matched, all = TRUE)\n",
    "    }\n",
    "}\n",
    "# Save it\n",
    "write.csv(file=abide_srs_maybe, x=base)"
   ]
  },
  {
   "cell_type": "code",
   "execution_count": 7,
   "metadata": {
    "collapsed": false
   },
   "outputs": [
    {
     "name": "stdout",
     "output_type": "stream",
     "text": [
      "[1] \"PITT for 0.20\"\n"
     ]
    },
    {
     "name": "stderr",
     "output_type": "stream",
     "text": [
      "Warning message:\n",
      "In matchit2nearest(structure(c(1, 1, 1, 1, 1, 1, 1, 1, 1, 1, 1, : Fewer control than treated units and matching without replacement.  Not all treated units will receive a match.  Treated units will be matched in the order specified by m.order: largest"
     ]
    },
    {
     "name": "stdout",
     "output_type": "stream",
     "text": [
      "[1] \"OHSU for 0.20\"\n",
      "[1] \"SDSU for 0.40\"\n",
      "[1] \"TRINITY for 0.40\"\n",
      "[1] \"UM_1 for 0.20\"\n"
     ]
    },
    {
     "name": "stderr",
     "output_type": "stream",
     "text": [
      "Warning message:\n",
      "In matchit2nearest(structure(c(1, 1, 1, 1, 1, 1, 1, 1, 1, 1, 1, : Fewer control than treated units and matching without replacement.  Not all treated units will receive a match.  Treated units will be matched in the order specified by m.order: largest"
     ]
    },
    {
     "name": "stdout",
     "output_type": "stream",
     "text": [
      "[1] \"UM_2 for 0.40\"\n",
      "[1] \"USM for 0.20\"\n"
     ]
    },
    {
     "name": "stderr",
     "output_type": "stream",
     "text": [
      "Warning message:\n",
      "In matchit2nearest(structure(c(0, 0, 0, 0, 0, 0, 0, 0, 0, 0, 0, : Fewer control than treated units and matching without replacement.  Not all treated units will receive a match.  Treated units will be matched in the order specified by m.order: largest"
     ]
    },
    {
     "name": "stdout",
     "output_type": "stream",
     "text": [
      "[1] \"YALE for 0.10\"\n"
     ]
    },
    {
     "name": "stderr",
     "output_type": "stream",
     "text": [
      "Warning message:\n",
      "In matchit2nearest(structure(c(0, 0, 0, 0, 0, 0, 0, 0, 0, 0, 0, : Fewer control than treated units and matching without replacement.  Not all treated units will receive a match.  Treated units will be matched in the order specified by m.order: largest"
     ]
    },
    {
     "name": "stdout",
     "output_type": "stream",
     "text": [
      "[1] \"CMU for 0.40\"\n"
     ]
    },
    {
     "name": "stderr",
     "output_type": "stream",
     "text": [
      "Warning message:\n",
      "In matchit2nearest(structure(c(1, 1, 1, 1, 1, 1, 1, 1, 1, 0, 0, : Fewer control than treated units and matching without replacement.  Not all treated units will receive a match.  Treated units will be matched in the order specified by m.order: largest"
     ]
    },
    {
     "name": "stdout",
     "output_type": "stream",
     "text": [
      "[1] \"LEUVEN_1 for 0.10\"\n",
      "[1] \"KKI for 0.10\"\n",
      "[1] \"NYU for 0.40\"\n",
      "[1] \"STANFORD for 0.40\"\n",
      "[1] \"UCLA_1 for 0.40\"\n"
     ]
    },
    {
     "name": "stderr",
     "output_type": "stream",
     "text": [
      "Warning message:\n",
      "In matchit2nearest(structure(c(1, 1, 1, 1, 1, 1, 1, 1, 1, 1, 1, : Fewer control than treated units and matching without replacement.  Not all treated units will receive a match.  Treated units will be matched in the order specified by m.order: largest"
     ]
    },
    {
     "name": "stdout",
     "output_type": "stream",
     "text": [
      "[1] \"MAX_MUN for 0.20\"\n"
     ]
    }
   ],
   "source": [
    "# SRS sample\n",
    "tmp = caliper[!is.na(caliper$FIQ),]\n",
    "for (ind in seq_along(tmp$Sites)){\n",
    "    \n",
    "    site = tmp$Sites[ind]\n",
    "    cal = tmp$FIQ[ind]\n",
    "    covariates = c('SITE_ID','SUB_ID', 'DX_GROUP', 'AGE_AT_SCAN', 'FD_scrubbed', 'frames_scrubbed', 'FIQ')\n",
    "    slice_data = subset(data_fiq, SITE_ID==site, select=covariates)\n",
    "    matched = matchit(DX_GROUP ~ FD_scrubbed + AGE_AT_SCAN + FIQ, data=slice_data, method=\"nearest\", caliper=cal, ratio=1)\n",
    "    data_matched = match.data(matched)\n",
    "    \n",
    "    if (ind == 1){\n",
    "        base = data_matched\n",
    "    }\n",
    "    else {\n",
    "        base = merge(base, data_matched, all = TRUE)\n",
    "    }\n",
    "}\n",
    "# Save it\n",
    "write.csv(file=abide_fiq_maybe, x=base)"
   ]
  },
  {
   "cell_type": "markdown",
   "metadata": {},
   "source": [
    "## QC Pass"
   ]
  },
  {
   "cell_type": "code",
   "execution_count": 9,
   "metadata": {
    "collapsed": true
   },
   "outputs": [],
   "source": [
    "# Read the data\n",
    "data = read.csv(qc_pass)\n",
    "# Remap the values of the diagnosis column\n",
    "# This will change the meaning, now ASD = 1, TDC = 0\n",
    "data$DX_GROUP[data$DX_GROUP == 2] <- 0\n",
    "# Make a subset for only male participants\n",
    "data_male = subset(data, SEX==1)\n",
    "# Make a copy for non-nan values for FIQ and SRS\n",
    "data_fiq = data_male[!is.na(data_male$FIQ),]\n",
    "data_srs = data_male[!is.na(data_male$SRS_RAW_TOTAL),]\n",
    "data_ados = data_male[!is.na(data_male$ADOS_sb_sev),]\n",
    "# Load the caliper dataframe\n",
    "caliper = read.csv(caliper_pass)"
   ]
  },
  {
   "cell_type": "code",
   "execution_count": 10,
   "metadata": {
    "collapsed": false
   },
   "outputs": [
    {
     "ename": "ERROR",
     "evalue": "Error in Ops.factor(SITE_ID, site): level sets of factors are different\n",
     "output_type": "error",
     "traceback": [
      "Error in Ops.factor(SITE_ID, site): level sets of factors are different\nTraceback:\n",
      "1. subset(data_male, SITE_ID == site, select = covariates)   # at line 9 of file <text>",
      "2. subset.data.frame(data_male, SITE_ID == site, select = covariates)",
      "3. eval(e, x, parent.frame())",
      "4. eval(expr, envir, enclos)",
      "5. Ops.factor(SITE_ID, site)",
      "6. stop(\"level sets of factors are different\")"
     ]
    }
   ],
   "source": [
    "# Full sample\n",
    "tmp = caliper[!is.na(caliper$Full),]\n",
    "for (ind in seq_along(tmp$Sites)){\n",
    "    \n",
    "    site = tmp$Sites[ind]\n",
    "    cal = tmp$Full[ind]\n",
    "    \n",
    "    covariates = c('SITE_ID','SUB_ID', 'DX_GROUP', 'AGE_AT_SCAN', 'FD_scrubbed', 'frames_scrubbed')#, 'FIQ')\n",
    "    slice_data = subset(data_male, SITE_ID==site, select=covariates)\n",
    "    matched = matchit(DX_GROUP ~ FD_scrubbed + AGE_AT_SCAN, data=slice_data, method=\"nearest\", caliper=cal, ratio=1)\n",
    "    data_matched = match.data(matched)\n",
    "    \n",
    "    if (ind == 1){\n",
    "        base = data_matched\n",
    "    }\n",
    "    else {\n",
    "        base = merge(base, data_matched, all = TRUE)\n",
    "    }\n",
    "}\n",
    "# Save it\n",
    "write.csv(file=abide_full_pass, x=base)"
   ]
  },
  {
   "cell_type": "code",
   "execution_count": 13,
   "metadata": {
    "collapsed": false
   },
   "outputs": [
    {
     "data": {
      "text/html": [
       "OLIN"
      ],
      "text/latex": [
       "OLIN"
      ],
      "text/markdown": [
       "OLIN"
      ],
      "text/plain": [
       "[1] OLIN\n",
       "20 Levels: CALTECH CMU KKI LEUVEN_1 LEUVEN_2 MAX_MUN NYU OHSU OLIN PITT ... YALE"
      ]
     },
     "metadata": {},
     "output_type": "display_data"
    }
   ],
   "source": [
    "site"
   ]
  },
  {
   "cell_type": "code",
   "execution_count": 18,
   "metadata": {
    "collapsed": false
   },
   "outputs": [
    {
     "data": {
      "text/html": [
       "<ol class=list-inline>\n",
       "\t<li>'SUB_ID'</li>\n",
       "\t<li>'SITE_ID'</li>\n",
       "\t<li>'FILE_ID'</li>\n",
       "\t<li>'DX_GROUP'</li>\n",
       "\t<li>'DSM_IV_TR'</li>\n",
       "\t<li>'AGE_AT_SCAN'</li>\n",
       "\t<li>'SEX'</li>\n",
       "\t<li>'HANDEDNESS_CATEGORY'</li>\n",
       "\t<li>'HANDEDNESS_SCORES'</li>\n",
       "\t<li>'FIQ'</li>\n",
       "\t<li>'VIQ'</li>\n",
       "\t<li>'PIQ'</li>\n",
       "\t<li>'FIQ_TEST_TYPE'</li>\n",
       "\t<li>'VIQ_TEST_TYPE'</li>\n",
       "\t<li>'PIQ_TEST_TYPE'</li>\n",
       "\t<li>'ADI_R_SOCIAL_TOTAL_A'</li>\n",
       "\t<li>'ADI_R_VERBAL_TOTAL_BV'</li>\n",
       "\t<li>'ADI_RRB_TOTAL_C'</li>\n",
       "\t<li>'ADI_R_ONSET_TOTAL_D'</li>\n",
       "\t<li>'ADI_R_RSRCH_RELIABLE'</li>\n",
       "\t<li>'ADOS_MODULE'</li>\n",
       "\t<li>'ADOS_TOTAL'</li>\n",
       "\t<li>'ADOS_COMM'</li>\n",
       "\t<li>'ADOS_SOCIAL'</li>\n",
       "\t<li>'ADOS_STEREO_BEHAV'</li>\n",
       "\t<li>'ADOS_RSRCH_RELIABLE'</li>\n",
       "\t<li>'ADOS_GOTHAM_SOCAFFECT'</li>\n",
       "\t<li>'ADOS_GOTHAM_RRB'</li>\n",
       "\t<li>'ADOS_GOTHAM_TOTAL'</li>\n",
       "\t<li>'ADOS_GOTHAM_SEVERITY'</li>\n",
       "\t<li>'SRS_VERSION'</li>\n",
       "\t<li>'SRS_RAW_TOTAL'</li>\n",
       "\t<li>'SRS_AWARENESS'</li>\n",
       "\t<li>'SRS_COGNITION'</li>\n",
       "\t<li>'SRS_COMMUNICATION'</li>\n",
       "\t<li>'SRS_MOTIVATION'</li>\n",
       "\t<li>'SRS_MANNERISMS'</li>\n",
       "\t<li>'SCQ_TOTAL'</li>\n",
       "\t<li>'AQ_TOTAL'</li>\n",
       "\t<li>'COMORBIDITY'</li>\n",
       "\t<li>'CURRENT_MED_STATUS'</li>\n",
       "\t<li>'MEDICATION_NAME'</li>\n",
       "\t<li>'OFF_STIMULANTS_AT_SCAN'</li>\n",
       "\t<li>'VINELAND_RECEPTIVE_V_SCALED'</li>\n",
       "\t<li>'VINELAND_EXPRESSIVE_V_SCALED'</li>\n",
       "\t<li>'VINELAND_WRITTEN_V_SCALED'</li>\n",
       "\t<li>'VINELAND_COMMUNICATION_STANDARD'</li>\n",
       "\t<li>'VINELAND_PERSONAL_V_SCALED'</li>\n",
       "\t<li>'VINELAND_DOMESTIC_V_SCALED'</li>\n",
       "\t<li>'VINELAND_COMMUNITY_V_SCALED'</li>\n",
       "\t<li>'VINELAND_DAILYLVNG_STANDARD'</li>\n",
       "\t<li>'VINELAND_INTERPERSONAL_V_SCALED'</li>\n",
       "\t<li>'VINELAND_PLAY_V_SCALED'</li>\n",
       "\t<li>'VINELAND_COPING_V_SCALED'</li>\n",
       "\t<li>'VINELAND_SOCIAL_STANDARD'</li>\n",
       "\t<li>'VINELAND_SUM_SCORES'</li>\n",
       "\t<li>'VINELAND_ABC_STANDARD'</li>\n",
       "\t<li>'VINELAND_INFORMANT'</li>\n",
       "\t<li>'WISC_IV_VCI'</li>\n",
       "\t<li>'WISC_IV_PRI'</li>\n",
       "\t<li>'WISC_IV_WMI'</li>\n",
       "\t<li>'WISC_IV_PSI'</li>\n",
       "\t<li>'WISC_IV_SIM_SCALED'</li>\n",
       "\t<li>'WISC_IV_VOCAB_SCALED'</li>\n",
       "\t<li>'WISC_IV_INFO_SCALED'</li>\n",
       "\t<li>'WISC_IV_BLK_DSN_SCALED'</li>\n",
       "\t<li>'WISC_IV_PIC_CON_SCALED'</li>\n",
       "\t<li>'WISC_IV_MATRIX_SCALED'</li>\n",
       "\t<li>'WISC_IV_DIGIT_SPAN_SCALED'</li>\n",
       "\t<li>'WISC_IV_LET_NUM_SCALED'</li>\n",
       "\t<li>'WISC_IV_CODING_SCALED'</li>\n",
       "\t<li>'WISC_IV_SYM_SCALED'</li>\n",
       "\t<li>'EYE_STATUS_AT_SCAN'</li>\n",
       "\t<li>'AGE_AT_MPRAGE'</li>\n",
       "\t<li>'BMI'</li>\n",
       "\t<li>'anat_cnr'</li>\n",
       "\t<li>'anat_efc'</li>\n",
       "\t<li>'anat_fber'</li>\n",
       "\t<li>'anat_fwhm'</li>\n",
       "\t<li>'anat_qi1'</li>\n",
       "\t<li>'anat_snr'</li>\n",
       "\t<li>'func_efc'</li>\n",
       "\t<li>'func_fber'</li>\n",
       "\t<li>'func_fwhm'</li>\n",
       "\t<li>'func_dvars'</li>\n",
       "\t<li>'func_outlier'</li>\n",
       "\t<li>'func_quality'</li>\n",
       "\t<li>'func_mean_fd'</li>\n",
       "\t<li>'func_num_fd'</li>\n",
       "\t<li>'func_perc_fd'</li>\n",
       "\t<li>'func_gsr'</li>\n",
       "\t<li>'qc_rater_1'</li>\n",
       "\t<li>'qc_notes_rater_1'</li>\n",
       "\t<li>'qc_anat_rater_2'</li>\n",
       "\t<li>'qc_anat_notes_rater_2'</li>\n",
       "\t<li>'qc_func_rater_2'</li>\n",
       "\t<li>'qc_func_notes_rater_2'</li>\n",
       "\t<li>'qc_anat_rater_3'</li>\n",
       "\t<li>'qc_anat_notes_rater_3'</li>\n",
       "\t<li>'qc_func_rater_3'</li>\n",
       "\t<li>'qc_func_notes_rater_3'</li>\n",
       "\t<li>'SUB_IN_SMP'</li>\n",
       "\t<li>'max_rotation'</li>\n",
       "\t<li>'max_translation'</li>\n",
       "\t<li>'status'</li>\n",
       "\t<li>'anat'</li>\n",
       "\t<li>'comment_anat'</li>\n",
       "\t<li>'func'</li>\n",
       "\t<li>'comment_func'</li>\n",
       "\t<li>'frames_scrubbed'</li>\n",
       "\t<li>'frames_OK'</li>\n",
       "\t<li>'FD'</li>\n",
       "\t<li>'FD_scrubbed'</li>\n",
       "\t<li>'session'</li>\n",
       "\t<li>'run'</li>\n",
       "\t<li>'ADOS_sb_sev'</li>\n",
       "\t<li>'ADOS_sc_sev'</li>\n",
       "</ol>\n"
      ],
      "text/latex": [
       "\\begin{enumerate*}\n",
       "\\item 'SUB\\_ID'\n",
       "\\item 'SITE\\_ID'\n",
       "\\item 'FILE\\_ID'\n",
       "\\item 'DX\\_GROUP'\n",
       "\\item 'DSM\\_IV\\_TR'\n",
       "\\item 'AGE\\_AT\\_SCAN'\n",
       "\\item 'SEX'\n",
       "\\item 'HANDEDNESS\\_CATEGORY'\n",
       "\\item 'HANDEDNESS\\_SCORES'\n",
       "\\item 'FIQ'\n",
       "\\item 'VIQ'\n",
       "\\item 'PIQ'\n",
       "\\item 'FIQ\\_TEST\\_TYPE'\n",
       "\\item 'VIQ\\_TEST\\_TYPE'\n",
       "\\item 'PIQ\\_TEST\\_TYPE'\n",
       "\\item 'ADI\\_R\\_SOCIAL\\_TOTAL\\_A'\n",
       "\\item 'ADI\\_R\\_VERBAL\\_TOTAL\\_BV'\n",
       "\\item 'ADI\\_RRB\\_TOTAL\\_C'\n",
       "\\item 'ADI\\_R\\_ONSET\\_TOTAL\\_D'\n",
       "\\item 'ADI\\_R\\_RSRCH\\_RELIABLE'\n",
       "\\item 'ADOS\\_MODULE'\n",
       "\\item 'ADOS\\_TOTAL'\n",
       "\\item 'ADOS\\_COMM'\n",
       "\\item 'ADOS\\_SOCIAL'\n",
       "\\item 'ADOS\\_STEREO\\_BEHAV'\n",
       "\\item 'ADOS\\_RSRCH\\_RELIABLE'\n",
       "\\item 'ADOS\\_GOTHAM\\_SOCAFFECT'\n",
       "\\item 'ADOS\\_GOTHAM\\_RRB'\n",
       "\\item 'ADOS\\_GOTHAM\\_TOTAL'\n",
       "\\item 'ADOS\\_GOTHAM\\_SEVERITY'\n",
       "\\item 'SRS\\_VERSION'\n",
       "\\item 'SRS\\_RAW\\_TOTAL'\n",
       "\\item 'SRS\\_AWARENESS'\n",
       "\\item 'SRS\\_COGNITION'\n",
       "\\item 'SRS\\_COMMUNICATION'\n",
       "\\item 'SRS\\_MOTIVATION'\n",
       "\\item 'SRS\\_MANNERISMS'\n",
       "\\item 'SCQ\\_TOTAL'\n",
       "\\item 'AQ\\_TOTAL'\n",
       "\\item 'COMORBIDITY'\n",
       "\\item 'CURRENT\\_MED\\_STATUS'\n",
       "\\item 'MEDICATION\\_NAME'\n",
       "\\item 'OFF\\_STIMULANTS\\_AT\\_SCAN'\n",
       "\\item 'VINELAND\\_RECEPTIVE\\_V\\_SCALED'\n",
       "\\item 'VINELAND\\_EXPRESSIVE\\_V\\_SCALED'\n",
       "\\item 'VINELAND\\_WRITTEN\\_V\\_SCALED'\n",
       "\\item 'VINELAND\\_COMMUNICATION\\_STANDARD'\n",
       "\\item 'VINELAND\\_PERSONAL\\_V\\_SCALED'\n",
       "\\item 'VINELAND\\_DOMESTIC\\_V\\_SCALED'\n",
       "\\item 'VINELAND\\_COMMUNITY\\_V\\_SCALED'\n",
       "\\item 'VINELAND\\_DAILYLVNG\\_STANDARD'\n",
       "\\item 'VINELAND\\_INTERPERSONAL\\_V\\_SCALED'\n",
       "\\item 'VINELAND\\_PLAY\\_V\\_SCALED'\n",
       "\\item 'VINELAND\\_COPING\\_V\\_SCALED'\n",
       "\\item 'VINELAND\\_SOCIAL\\_STANDARD'\n",
       "\\item 'VINELAND\\_SUM\\_SCORES'\n",
       "\\item 'VINELAND\\_ABC\\_STANDARD'\n",
       "\\item 'VINELAND\\_INFORMANT'\n",
       "\\item 'WISC\\_IV\\_VCI'\n",
       "\\item 'WISC\\_IV\\_PRI'\n",
       "\\item 'WISC\\_IV\\_WMI'\n",
       "\\item 'WISC\\_IV\\_PSI'\n",
       "\\item 'WISC\\_IV\\_SIM\\_SCALED'\n",
       "\\item 'WISC\\_IV\\_VOCAB\\_SCALED'\n",
       "\\item 'WISC\\_IV\\_INFO\\_SCALED'\n",
       "\\item 'WISC\\_IV\\_BLK\\_DSN\\_SCALED'\n",
       "\\item 'WISC\\_IV\\_PIC\\_CON\\_SCALED'\n",
       "\\item 'WISC\\_IV\\_MATRIX\\_SCALED'\n",
       "\\item 'WISC\\_IV\\_DIGIT\\_SPAN\\_SCALED'\n",
       "\\item 'WISC\\_IV\\_LET\\_NUM\\_SCALED'\n",
       "\\item 'WISC\\_IV\\_CODING\\_SCALED'\n",
       "\\item 'WISC\\_IV\\_SYM\\_SCALED'\n",
       "\\item 'EYE\\_STATUS\\_AT\\_SCAN'\n",
       "\\item 'AGE\\_AT\\_MPRAGE'\n",
       "\\item 'BMI'\n",
       "\\item 'anat\\_cnr'\n",
       "\\item 'anat\\_efc'\n",
       "\\item 'anat\\_fber'\n",
       "\\item 'anat\\_fwhm'\n",
       "\\item 'anat\\_qi1'\n",
       "\\item 'anat\\_snr'\n",
       "\\item 'func\\_efc'\n",
       "\\item 'func\\_fber'\n",
       "\\item 'func\\_fwhm'\n",
       "\\item 'func\\_dvars'\n",
       "\\item 'func\\_outlier'\n",
       "\\item 'func\\_quality'\n",
       "\\item 'func\\_mean\\_fd'\n",
       "\\item 'func\\_num\\_fd'\n",
       "\\item 'func\\_perc\\_fd'\n",
       "\\item 'func\\_gsr'\n",
       "\\item 'qc\\_rater\\_1'\n",
       "\\item 'qc\\_notes\\_rater\\_1'\n",
       "\\item 'qc\\_anat\\_rater\\_2'\n",
       "\\item 'qc\\_anat\\_notes\\_rater\\_2'\n",
       "\\item 'qc\\_func\\_rater\\_2'\n",
       "\\item 'qc\\_func\\_notes\\_rater\\_2'\n",
       "\\item 'qc\\_anat\\_rater\\_3'\n",
       "\\item 'qc\\_anat\\_notes\\_rater\\_3'\n",
       "\\item 'qc\\_func\\_rater\\_3'\n",
       "\\item 'qc\\_func\\_notes\\_rater\\_3'\n",
       "\\item 'SUB\\_IN\\_SMP'\n",
       "\\item 'max\\_rotation'\n",
       "\\item 'max\\_translation'\n",
       "\\item 'status'\n",
       "\\item 'anat'\n",
       "\\item 'comment\\_anat'\n",
       "\\item 'func'\n",
       "\\item 'comment\\_func'\n",
       "\\item 'frames\\_scrubbed'\n",
       "\\item 'frames\\_OK'\n",
       "\\item 'FD'\n",
       "\\item 'FD\\_scrubbed'\n",
       "\\item 'session'\n",
       "\\item 'run'\n",
       "\\item 'ADOS\\_sb\\_sev'\n",
       "\\item 'ADOS\\_sc\\_sev'\n",
       "\\end{enumerate*}\n"
      ],
      "text/markdown": [
       "1. 'SUB_ID'\n",
       "2. 'SITE_ID'\n",
       "3. 'FILE_ID'\n",
       "4. 'DX_GROUP'\n",
       "5. 'DSM_IV_TR'\n",
       "6. 'AGE_AT_SCAN'\n",
       "7. 'SEX'\n",
       "8. 'HANDEDNESS_CATEGORY'\n",
       "9. 'HANDEDNESS_SCORES'\n",
       "10. 'FIQ'\n",
       "11. 'VIQ'\n",
       "12. 'PIQ'\n",
       "13. 'FIQ_TEST_TYPE'\n",
       "14. 'VIQ_TEST_TYPE'\n",
       "15. 'PIQ_TEST_TYPE'\n",
       "16. 'ADI_R_SOCIAL_TOTAL_A'\n",
       "17. 'ADI_R_VERBAL_TOTAL_BV'\n",
       "18. 'ADI_RRB_TOTAL_C'\n",
       "19. 'ADI_R_ONSET_TOTAL_D'\n",
       "20. 'ADI_R_RSRCH_RELIABLE'\n",
       "21. 'ADOS_MODULE'\n",
       "22. 'ADOS_TOTAL'\n",
       "23. 'ADOS_COMM'\n",
       "24. 'ADOS_SOCIAL'\n",
       "25. 'ADOS_STEREO_BEHAV'\n",
       "26. 'ADOS_RSRCH_RELIABLE'\n",
       "27. 'ADOS_GOTHAM_SOCAFFECT'\n",
       "28. 'ADOS_GOTHAM_RRB'\n",
       "29. 'ADOS_GOTHAM_TOTAL'\n",
       "30. 'ADOS_GOTHAM_SEVERITY'\n",
       "31. 'SRS_VERSION'\n",
       "32. 'SRS_RAW_TOTAL'\n",
       "33. 'SRS_AWARENESS'\n",
       "34. 'SRS_COGNITION'\n",
       "35. 'SRS_COMMUNICATION'\n",
       "36. 'SRS_MOTIVATION'\n",
       "37. 'SRS_MANNERISMS'\n",
       "38. 'SCQ_TOTAL'\n",
       "39. 'AQ_TOTAL'\n",
       "40. 'COMORBIDITY'\n",
       "41. 'CURRENT_MED_STATUS'\n",
       "42. 'MEDICATION_NAME'\n",
       "43. 'OFF_STIMULANTS_AT_SCAN'\n",
       "44. 'VINELAND_RECEPTIVE_V_SCALED'\n",
       "45. 'VINELAND_EXPRESSIVE_V_SCALED'\n",
       "46. 'VINELAND_WRITTEN_V_SCALED'\n",
       "47. 'VINELAND_COMMUNICATION_STANDARD'\n",
       "48. 'VINELAND_PERSONAL_V_SCALED'\n",
       "49. 'VINELAND_DOMESTIC_V_SCALED'\n",
       "50. 'VINELAND_COMMUNITY_V_SCALED'\n",
       "51. 'VINELAND_DAILYLVNG_STANDARD'\n",
       "52. 'VINELAND_INTERPERSONAL_V_SCALED'\n",
       "53. 'VINELAND_PLAY_V_SCALED'\n",
       "54. 'VINELAND_COPING_V_SCALED'\n",
       "55. 'VINELAND_SOCIAL_STANDARD'\n",
       "56. 'VINELAND_SUM_SCORES'\n",
       "57. 'VINELAND_ABC_STANDARD'\n",
       "58. 'VINELAND_INFORMANT'\n",
       "59. 'WISC_IV_VCI'\n",
       "60. 'WISC_IV_PRI'\n",
       "61. 'WISC_IV_WMI'\n",
       "62. 'WISC_IV_PSI'\n",
       "63. 'WISC_IV_SIM_SCALED'\n",
       "64. 'WISC_IV_VOCAB_SCALED'\n",
       "65. 'WISC_IV_INFO_SCALED'\n",
       "66. 'WISC_IV_BLK_DSN_SCALED'\n",
       "67. 'WISC_IV_PIC_CON_SCALED'\n",
       "68. 'WISC_IV_MATRIX_SCALED'\n",
       "69. 'WISC_IV_DIGIT_SPAN_SCALED'\n",
       "70. 'WISC_IV_LET_NUM_SCALED'\n",
       "71. 'WISC_IV_CODING_SCALED'\n",
       "72. 'WISC_IV_SYM_SCALED'\n",
       "73. 'EYE_STATUS_AT_SCAN'\n",
       "74. 'AGE_AT_MPRAGE'\n",
       "75. 'BMI'\n",
       "76. 'anat_cnr'\n",
       "77. 'anat_efc'\n",
       "78. 'anat_fber'\n",
       "79. 'anat_fwhm'\n",
       "80. 'anat_qi1'\n",
       "81. 'anat_snr'\n",
       "82. 'func_efc'\n",
       "83. 'func_fber'\n",
       "84. 'func_fwhm'\n",
       "85. 'func_dvars'\n",
       "86. 'func_outlier'\n",
       "87. 'func_quality'\n",
       "88. 'func_mean_fd'\n",
       "89. 'func_num_fd'\n",
       "90. 'func_perc_fd'\n",
       "91. 'func_gsr'\n",
       "92. 'qc_rater_1'\n",
       "93. 'qc_notes_rater_1'\n",
       "94. 'qc_anat_rater_2'\n",
       "95. 'qc_anat_notes_rater_2'\n",
       "96. 'qc_func_rater_2'\n",
       "97. 'qc_func_notes_rater_2'\n",
       "98. 'qc_anat_rater_3'\n",
       "99. 'qc_anat_notes_rater_3'\n",
       "100. 'qc_func_rater_3'\n",
       "101. 'qc_func_notes_rater_3'\n",
       "102. 'SUB_IN_SMP'\n",
       "103. 'max_rotation'\n",
       "104. 'max_translation'\n",
       "105. 'status'\n",
       "106. 'anat'\n",
       "107. 'comment_anat'\n",
       "108. 'func'\n",
       "109. 'comment_func'\n",
       "110. 'frames_scrubbed'\n",
       "111. 'frames_OK'\n",
       "112. 'FD'\n",
       "113. 'FD_scrubbed'\n",
       "114. 'session'\n",
       "115. 'run'\n",
       "116. 'ADOS_sb_sev'\n",
       "117. 'ADOS_sc_sev'\n",
       "\n",
       "\n"
      ],
      "text/plain": [
       "  [1] \"SUB_ID\"                          \"SITE_ID\"                        \n",
       "  [3] \"FILE_ID\"                         \"DX_GROUP\"                       \n",
       "  [5] \"DSM_IV_TR\"                       \"AGE_AT_SCAN\"                    \n",
       "  [7] \"SEX\"                             \"HANDEDNESS_CATEGORY\"            \n",
       "  [9] \"HANDEDNESS_SCORES\"               \"FIQ\"                            \n",
       " [11] \"VIQ\"                             \"PIQ\"                            \n",
       " [13] \"FIQ_TEST_TYPE\"                   \"VIQ_TEST_TYPE\"                  \n",
       " [15] \"PIQ_TEST_TYPE\"                   \"ADI_R_SOCIAL_TOTAL_A\"           \n",
       " [17] \"ADI_R_VERBAL_TOTAL_BV\"           \"ADI_RRB_TOTAL_C\"                \n",
       " [19] \"ADI_R_ONSET_TOTAL_D\"             \"ADI_R_RSRCH_RELIABLE\"           \n",
       " [21] \"ADOS_MODULE\"                     \"ADOS_TOTAL\"                     \n",
       " [23] \"ADOS_COMM\"                       \"ADOS_SOCIAL\"                    \n",
       " [25] \"ADOS_STEREO_BEHAV\"               \"ADOS_RSRCH_RELIABLE\"            \n",
       " [27] \"ADOS_GOTHAM_SOCAFFECT\"           \"ADOS_GOTHAM_RRB\"                \n",
       " [29] \"ADOS_GOTHAM_TOTAL\"               \"ADOS_GOTHAM_SEVERITY\"           \n",
       " [31] \"SRS_VERSION\"                     \"SRS_RAW_TOTAL\"                  \n",
       " [33] \"SRS_AWARENESS\"                   \"SRS_COGNITION\"                  \n",
       " [35] \"SRS_COMMUNICATION\"               \"SRS_MOTIVATION\"                 \n",
       " [37] \"SRS_MANNERISMS\"                  \"SCQ_TOTAL\"                      \n",
       " [39] \"AQ_TOTAL\"                        \"COMORBIDITY\"                    \n",
       " [41] \"CURRENT_MED_STATUS\"              \"MEDICATION_NAME\"                \n",
       " [43] \"OFF_STIMULANTS_AT_SCAN\"          \"VINELAND_RECEPTIVE_V_SCALED\"    \n",
       " [45] \"VINELAND_EXPRESSIVE_V_SCALED\"    \"VINELAND_WRITTEN_V_SCALED\"      \n",
       " [47] \"VINELAND_COMMUNICATION_STANDARD\" \"VINELAND_PERSONAL_V_SCALED\"     \n",
       " [49] \"VINELAND_DOMESTIC_V_SCALED\"      \"VINELAND_COMMUNITY_V_SCALED\"    \n",
       " [51] \"VINELAND_DAILYLVNG_STANDARD\"     \"VINELAND_INTERPERSONAL_V_SCALED\"\n",
       " [53] \"VINELAND_PLAY_V_SCALED\"          \"VINELAND_COPING_V_SCALED\"       \n",
       " [55] \"VINELAND_SOCIAL_STANDARD\"        \"VINELAND_SUM_SCORES\"            \n",
       " [57] \"VINELAND_ABC_STANDARD\"           \"VINELAND_INFORMANT\"             \n",
       " [59] \"WISC_IV_VCI\"                     \"WISC_IV_PRI\"                    \n",
       " [61] \"WISC_IV_WMI\"                     \"WISC_IV_PSI\"                    \n",
       " [63] \"WISC_IV_SIM_SCALED\"              \"WISC_IV_VOCAB_SCALED\"           \n",
       " [65] \"WISC_IV_INFO_SCALED\"             \"WISC_IV_BLK_DSN_SCALED\"         \n",
       " [67] \"WISC_IV_PIC_CON_SCALED\"          \"WISC_IV_MATRIX_SCALED\"          \n",
       " [69] \"WISC_IV_DIGIT_SPAN_SCALED\"       \"WISC_IV_LET_NUM_SCALED\"         \n",
       " [71] \"WISC_IV_CODING_SCALED\"           \"WISC_IV_SYM_SCALED\"             \n",
       " [73] \"EYE_STATUS_AT_SCAN\"              \"AGE_AT_MPRAGE\"                  \n",
       " [75] \"BMI\"                             \"anat_cnr\"                       \n",
       " [77] \"anat_efc\"                        \"anat_fber\"                      \n",
       " [79] \"anat_fwhm\"                       \"anat_qi1\"                       \n",
       " [81] \"anat_snr\"                        \"func_efc\"                       \n",
       " [83] \"func_fber\"                       \"func_fwhm\"                      \n",
       " [85] \"func_dvars\"                      \"func_outlier\"                   \n",
       " [87] \"func_quality\"                    \"func_mean_fd\"                   \n",
       " [89] \"func_num_fd\"                     \"func_perc_fd\"                   \n",
       " [91] \"func_gsr\"                        \"qc_rater_1\"                     \n",
       " [93] \"qc_notes_rater_1\"                \"qc_anat_rater_2\"                \n",
       " [95] \"qc_anat_notes_rater_2\"           \"qc_func_rater_2\"                \n",
       " [97] \"qc_func_notes_rater_2\"           \"qc_anat_rater_3\"                \n",
       " [99] \"qc_anat_notes_rater_3\"           \"qc_func_rater_3\"                \n",
       "[101] \"qc_func_notes_rater_3\"           \"SUB_IN_SMP\"                     \n",
       "[103] \"max_rotation\"                    \"max_translation\"                \n",
       "[105] \"status\"                          \"anat\"                           \n",
       "[107] \"comment_anat\"                    \"func\"                           \n",
       "[109] \"comment_func\"                    \"frames_scrubbed\"                \n",
       "[111] \"frames_OK\"                       \"FD\"                             \n",
       "[113] \"FD_scrubbed\"                     \"session\"                        \n",
       "[115] \"run\"                             \"ADOS_sb_sev\"                    \n",
       "[117] \"ADOS_sc_sev\"                    "
      ]
     },
     "metadata": {},
     "output_type": "display_data"
    }
   ],
   "source": [
    "names(data_male)"
   ]
  },
  {
   "cell_type": "code",
   "execution_count": 15,
   "metadata": {
    "collapsed": false
   },
   "outputs": [
    {
     "data": {
      "text/plain": [
       "\n",
       " CALTECH      CMU      KKI LEUVEN_1 LEUVEN_2  MAX_MUN      NYU     OHSU \n",
       "       2        8       42       28        0       25      134       28 \n",
       "    OLIN     SDSU STANFORD  TRINITY   UCLA_1   UCLA_2     UM_1     UM_2 \n",
       "      29       29       28       49       63       24       26        3 \n",
       "     USM     YALE \n",
       "      66       37 "
      ]
     },
     "metadata": {},
     "output_type": "display_data"
    }
   ],
   "source": [
    "table(data_male$SITE_ID)"
   ]
  },
  {
   "cell_type": "code",
   "execution_count": 16,
   "metadata": {
    "collapsed": false
   },
   "outputs": [
    {
     "ename": "ERROR",
     "evalue": "Error in Ops.factor(SITE_ID, site): level sets of factors are different\n",
     "output_type": "error",
     "traceback": [
      "Error in Ops.factor(SITE_ID, site): level sets of factors are different\nTraceback:\n",
      "1. subset(data_male, SITE_ID == site, select = covariates)",
      "2. subset.data.frame(data_male, SITE_ID == site, select = covariates)",
      "3. eval(e, x, parent.frame())",
      "4. eval(expr, envir, enclos)",
      "5. Ops.factor(SITE_ID, site)",
      "6. stop(\"level sets of factors are different\")"
     ]
    }
   ],
   "source": [
    "slice_data = subset(data_male, SITE_ID==site, select=covariates)"
   ]
  },
  {
   "cell_type": "code",
   "execution_count": null,
   "metadata": {
    "collapsed": true
   },
   "outputs": [],
   "source": []
  }
 ],
 "metadata": {
  "kernelspec": {
   "display_name": "R",
   "language": "R",
   "name": "ir"
  },
  "language_info": {
   "codemirror_mode": "r",
   "file_extension": ".r",
   "mimetype": "text/x-r-source",
   "name": "R",
   "pygments_lexer": "r",
   "version": "3.3.0"
  }
 },
 "nbformat": 4,
 "nbformat_minor": 0
}
