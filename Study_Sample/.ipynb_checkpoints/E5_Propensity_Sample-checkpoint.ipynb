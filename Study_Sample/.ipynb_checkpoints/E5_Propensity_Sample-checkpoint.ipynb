{
 "cells": [
  {
   "cell_type": "markdown",
   "metadata": {},
   "source": [
    "# Propensity Score Matching for ABIDE"
   ]
  },
  {
   "cell_type": "code",
   "execution_count": 1,
   "metadata": {
    "collapsed": true
   },
   "outputs": [],
   "source": [
    "### Load python libraries\n",
    "import os\n",
    "import numpy as np\n",
    "import pandas as pd\n",
    "import rpy2.robjects as robjects\n",
    "from matplotlib import pyplot as plt"
   ]
  },
  {
   "cell_type": "code",
   "execution_count": 2,
   "metadata": {
    "collapsed": true
   },
   "outputs": [],
   "source": [
    "%matplotlib inline"
   ]
  },
  {
   "cell_type": "code",
   "execution_count": 17,
   "metadata": {
    "collapsed": true
   },
   "outputs": [],
   "source": [
    "pheno_path = '/data1/abide/Pheno/full_merged_pheno.csv'\n",
    "proj_name = 'abide_site'"
   ]
  },
  {
   "cell_type": "code",
   "execution_count": 18,
   "metadata": {
    "collapsed": true
   },
   "outputs": [],
   "source": [
    "pheno = pd.read_csv(pheno_path)"
   ]
  },
  {
   "cell_type": "code",
   "execution_count": 19,
   "metadata": {
    "collapsed": true
   },
   "outputs": [],
   "source": [
    "# Prepare the pheno file\n",
    "include = ['USM', 'PITT', 'NYU', 'UCLA_1', 'UCLA_2']\n",
    "pheno = pheno[pheno['SITE_ID'].isin(include)]"
   ]
  },
  {
   "cell_type": "code",
   "execution_count": 20,
   "metadata": {
    "collapsed": true
   },
   "outputs": [],
   "source": [
    "pheno.to_csv('/data1/abide/Pheno/temp_pheno.csv')"
   ]
  },
  {
   "cell_type": "code",
   "execution_count": 30,
   "metadata": {
    "collapsed": true
   },
   "outputs": [],
   "source": [
    "### Variables to be parsed to R\n",
    "# Working directory\n",
    "work_dir = \"/data1/abide/Pheno/\"\n",
    "# CSV file name\n",
    "CSV_file =  \"full_merged_pheno.csv\"\n",
    "out_name = \"{}_prop.csv\".format(proj_name)\n",
    "# Declare a list of variables that need to be categorical (using the names from CSV; assuming NOSPACE)\n",
    "categories = robjects.StrVector(['SITE_ID', 'SEX', 'DX_GROUP'])\n",
    "# Declare Formula for Mahalanobis distance matching (using the names from CSV)\n",
    "## Format: Disease variable ~  What to Match by 1 + What to Match by 2 + ...\n",
    "## All variables matched by must be NUMERIC\n",
    "Mah_formula = 'DX_GROUP ~ AGE_AT_SCAN + FD_scrubbed' \n",
    "# Declare Caliper Width (as a fraction of the SD of the Propensity Scores)\n",
    "cal_width = 0.5\n",
    "# Declare Formula for PSM distance matching (using the names from CSV)\n",
    "## Format: Disease variable ~  What to Match by 1 + What to Match by 2 + ...\n",
    "PSM_formula = 'DX_GROUP ~ AGE_AT_SCAN + FD_scrubbed + SITE_ID + SEX'"
   ]
  },
  {
   "cell_type": "code",
   "execution_count": 31,
   "metadata": {
    "collapsed": true
   },
   "outputs": [],
   "source": [
    "### Parsing Stuff\n",
    "robjects.globalenv[\"work_dir\"] = work_dir\n",
    "robjects.globalenv[\"CSV_file\"] = CSV_file\n",
    "robjects.globalenv[\"categories\"] = categories\n",
    "robjects.globalenv[\"Mah_formula\"] = Mah_formula\n",
    "robjects.globalenv[\"cal_width\"] = cal_width\n",
    "robjects.globalenv[\"PSM_formula\"] = PSM_formula\n",
    "robjects.globalenv[\"out_name\"] = out_name"
   ]
  },
  {
   "cell_type": "code",
   "execution_count": 32,
   "metadata": {
    "collapsed": false
   },
   "outputs": [
    {
     "data": {
      "text/plain": [
       "rpy2.rinterface.NULL"
      ]
     },
     "execution_count": 32,
     "metadata": {},
     "output_type": "execute_result"
    }
   ],
   "source": [
    "# Run R script\n",
    "## R scripts write a CSV file of the form\n",
    "## matching_*CSV_file*\n",
    "## containing two extra columns;\n",
    "## keep column is 1 to keep and 0 to leave out.\n",
    "robjects.r('''\n",
    "  # Load R Librarires\n",
    "  library(optmatch)\n",
    "  \n",
    "  # Set Working directory\n",
    "  setwd(work_dir)\n",
    "  \n",
    "  # Read CSV\n",
    "  data <- read.csv(CSV_file)\n",
    "  \n",
    "  # Make all categories factors\n",
    "  for (ff in 1:length(categories)) {\n",
    "    data[[categories[ff]]] <- as.factor(data[[categories[ff]]])\n",
    "  }\n",
    "  \n",
    "  # Performs Matching\n",
    "  Matching <- fullmatch(\n",
    "  match_on( as.formula(Mah_formula),\n",
    "           data = data ) + \n",
    "    caliper( match_on( as.formula(PSM_formula), \n",
    "                     data = data ),\n",
    "            width = cal_width ),\n",
    "  data = data )\n",
    "  \n",
    "  # Make a data frame with a column with 1 to keep an observation and 0 to leave out\n",
    "  save_data <- cbind(data,match=Matching)\n",
    "  save_data$keep <- as.numeric(!is.na(save_data$match))\n",
    "  write.csv(save_data,file=paste('matching_',CSV_file,sep=''))\n",
    "''')"
   ]
  },
  {
   "cell_type": "code",
   "execution_count": null,
   "metadata": {
    "collapsed": true
   },
   "outputs": [],
   "source": [
    "# Load the matched pheno file\n",
    "matched = pd.read_csv(os.path.join(work_dir, out_name))\n",
    "# Only keep the matched subjects\n",
    "keep = matched.dropna(subset=['match'])\n",
    "# Save that out\n",
    "keep.to_csv(os.path.join(work_dir, '{}_matched.csv'.format(proj_name)))"
   ]
  },
  {
   "cell_type": "code",
   "execution_count": null,
   "metadata": {
    "collapsed": true
   },
   "outputs": [],
   "source": [
    "# Explore the matched sample\n",
    "patient_idx = keep.DX_GROUP.values == 1\n",
    "control_idx = keep.DX_GROUP.values == 2\n",
    "patients = keep[patient_idx]\n",
    "controls = keep[control_idx]"
   ]
  },
  {
   "cell_type": "code",
   "execution_count": null,
   "metadata": {
    "collapsed": true
   },
   "outputs": [],
   "source": [
    "def plot_sample(ados, ctrl):\n",
    "    ados_grouped = ados.groupby('SITE_ID')\n",
    "    ctrl_grouped = ctrl.groupby('SITE_ID')\n",
    "    site_names = ados_grouped.groups.keys()\n",
    "\n",
    "    ados_ages = [ados_grouped.get_group(st)['AGE_AT_SCAN'].values for st in site_names]\n",
    "    ados_dx = [ados_grouped.get_group(st)['DX_GROUP'].values for st in site_names]\n",
    "\n",
    "    ctrl_ages = [ctrl_grouped.get_group(st)['AGE_AT_SCAN'].values for st in site_names]\n",
    "    ctrl_dx = [ctrl_grouped.get_group(st)['DX_GROUP'].values for st in site_names]\n",
    "\n",
    "\n",
    "    f = plt.figure(figsize=(10,4))\n",
    "    ax = f.add_subplot(111)\n",
    "    y_ados = np.array([])\n",
    "    x_ados = np.array([])\n",
    "    y_ctrl = np.array([])\n",
    "    x_ctrl = np.array([])\n",
    "\n",
    "    for idx, ados_ag in enumerate(ados_ages):\n",
    "        # ados first\n",
    "        l_ages = len(ados_ag)\n",
    "        ind = np.ones((l_ages,))*idx+1\n",
    "        jitter = (np.random.random(l_ages,)*2-1)*0.2\n",
    "        ind += jitter\n",
    "\n",
    "        x_ados = np.append(x_ados, ind)\n",
    "        y_ados = np.append(y_ados, ados_ag)\n",
    "\n",
    "        # now ctrl\n",
    "        ctrl_ag = ctrl_ages[idx]\n",
    "        l_ages = len(ctrl_ag)\n",
    "        ind = np.ones((l_ages,))*idx+1\n",
    "        jitter = (np.random.random(l_ages,)*2-1)*0.2\n",
    "        ind += jitter\n",
    "\n",
    "        x_ctrl = np.append(x_ctrl, ind)\n",
    "        y_ctrl = np.append(y_ctrl, ctrl_ag)\n",
    "\n",
    "    ad = ax.scatter(x_ados, y_ados, c='r', alpha=0.5)\n",
    "    ct = ax.scatter(x_ctrl, y_ctrl, c='y', alpha=0.5)\n",
    "    ax.legend((ad, ct),\n",
    "               ('Patient', 'Control'),\n",
    "               scatterpoints=1,\n",
    "               loc='upper right',\n",
    "               ncol=1,\n",
    "               fontsize=10)\n",
    "    tmp = ax.set_xticks(np.arange(len(site_names))+1)\n",
    "    tmp = ax.set_xticklabels(site_names, rotation=70)\n",
    "    tmp = ax.set_ylabel('Age')\n",
    "    tmp = ax.set_title('Simple Matching ADOS sample')"
   ]
  },
  {
   "cell_type": "code",
   "execution_count": null,
   "metadata": {
    "collapsed": false
   },
   "outputs": [],
   "source": [
    "plot_sample(patients, controls)"
   ]
  },
  {
   "cell_type": "code",
   "execution_count": null,
   "metadata": {
    "collapsed": true
   },
   "outputs": [],
   "source": []
  }
 ],
 "metadata": {
  "kernelspec": {
   "display_name": "Python 2",
   "language": "python",
   "name": "python2"
  },
  "language_info": {
   "codemirror_mode": {
    "name": "ipython",
    "version": 2
   },
   "file_extension": ".py",
   "mimetype": "text/x-python",
   "name": "python",
   "nbconvert_exporter": "python",
   "pygments_lexer": "ipython2",
   "version": "2.7.11+"
  }
 },
 "nbformat": 4,
 "nbformat_minor": 0
}
