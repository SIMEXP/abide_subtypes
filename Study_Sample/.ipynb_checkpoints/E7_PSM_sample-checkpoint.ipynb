{
 "cells": [
  {
   "cell_type": "markdown",
   "metadata": {},
   "source": [
    "# ESM Sample"
   ]
  },
  {
   "cell_type": "code",
   "execution_count": 1,
   "metadata": {
    "collapsed": true
   },
   "outputs": [],
   "source": [
    "# Imports\n",
    "import numpy as np\n",
    "import pandas as pd\n",
    "import rpy2.robjects as robjects\n",
    "from rpy2.robjects import pandas2ri\n",
    "from matplotlib import pyplot as plt"
   ]
  },
  {
   "cell_type": "code",
   "execution_count": 2,
   "metadata": {
    "collapsed": true
   },
   "outputs": [],
   "source": [
    "#Set up\n",
    "%matplotlib inline\n",
    "pandas2ri.activate()"
   ]
  },
  {
   "cell_type": "code",
   "execution_count": 3,
   "metadata": {
    "collapsed": true
   },
   "outputs": [],
   "source": [
    "# Paths\n",
    "pheno_path = '/data1/abide/Pheno/full_merged_pheno.csv' # ABIDE with ADOS_sev\n",
    "out_path = '/data1/abide/Pheno/psm_pheno.csv' # ABIDE with ADOS_sev"
   ]
  },
  {
   "cell_type": "code",
   "execution_count": 4,
   "metadata": {
    "collapsed": false
   },
   "outputs": [
    {
     "name": "stderr",
     "output_type": "stream",
     "text": [
      "/home/surchs/Venv/serv3/lib/python3.5/site-packages/pandas/core/generic.py:3443: SettingWithCopyWarning: \n",
      "A value is trying to be set on a copy of a slice from a DataFrame\n",
      "\n",
      "See the caveats in the documentation: http://pandas.pydata.org/pandas-docs/stable/indexing.html#indexing-view-versus-copy\n",
      "  self._update_inplace(new_data)\n"
     ]
    }
   ],
   "source": [
    "# Get the pheno\n",
    "pheno = pd.read_csv(pheno_path)\n",
    "# Kill whitespace\n",
    "pheno.columns = [x.strip(' ') for x in pheno.columns]\n",
    "# select the columns that need to go into the PSM\n",
    "cols = ['SITE_ID', 'SUB_ID', 'AGE_AT_SCAN', \n",
    "        'FD', 'FD_scrubbed', 'EYE_STATUS_AT_SCAN',\n",
    "        'FIQ', 'VIQ', 'PIQ', 'DX_GROUP']\n",
    "use_pheno = pheno[cols]\n",
    "use_pheno['DX_GROUP'].replace(to_replace=[2,1], value=[1,0], inplace=True)\n",
    "# Group the pheno information by site - so we can run PSM individually on each site\n",
    "group_site = use_pheno.groupby('SITE_ID')"
   ]
  },
  {
   "cell_type": "code",
   "execution_count": 5,
   "metadata": {
    "collapsed": false
   },
   "outputs": [],
   "source": [
    "# Set up the PSM function\n",
    "def run_psm(pheno):\n",
    "    '''\n",
    "    Function that calls the PSM script in R and returns a dataframe \n",
    "    that includes a column for matching and keeping\n",
    "    '''\n",
    "    categories = ['DX_GROUP']\n",
    "    # Declare Formula for Mahalanobis distance matching (using the names from CSV)\n",
    "    ## Format: Disease variable ~  What to Match by 1 + What to Match by 2 + ...\n",
    "    ## All variables matched by must be NUMERIC\n",
    "    Mah_formula = 'DX_GROUP ~ FD_scrubbed + AGE_AT_SCAN' \n",
    "    # Declare Caliper Width (as a fraction of the SD of the Propensity Scores)\n",
    "    cal_width = 20\n",
    "    # Declare Formula for PSM distance matching (using the names from CSV)\n",
    "    ## Format: Disease variable ~  What to Match by 1 + What to Match by 2 + ...\n",
    "    PSM_formula = 'DX_GROUP ~ FD_scrubbed + AGE_AT_SCAN'\n",
    "    \n",
    "    # Store data in R\n",
    "    robjects.globalenv[\"data\"] = pandas2ri.py2ri(pheno)\n",
    "    robjects.globalenv[\"categories\"] = robjects.StrVector(categories)\n",
    "    robjects.globalenv[\"Mah_formula\"] = Mah_formula\n",
    "    robjects.globalenv[\"cal_width\"] = cal_width\n",
    "    robjects.globalenv[\"PSM_formula\"] = PSM_formula\n",
    "    \n",
    "    # Run R script\n",
    "    tmp = robjects.r(\n",
    "    '''\n",
    "      # Load R Librarires\n",
    "      library(optmatch)\n",
    "\n",
    "      # Make all categories factors\n",
    "      for (ff in 1:length(categories)) {\n",
    "        data[[categories[ff]]] <- as.factor(data[[categories[ff]]])\n",
    "      }\n",
    "\n",
    "      # Performs Matching\n",
    "      Matching <- fullmatch(\n",
    "      match_on( as.formula(Mah_formula),\n",
    "               data = data ) + \n",
    "        caliper( match_on( as.formula(PSM_formula), \n",
    "                         data = data ),\n",
    "                width = cal_width ),\n",
    "      data = data )\n",
    "\n",
    "      # Make a data frame with a column with 1 to keep an observation and 0 to leave out\n",
    "      save_data <- cbind(data,match=Matching)\n",
    "      save_data$keep <- as.numeric(!is.na(save_data$match))\n",
    "      save_data$match = as.numeric(as.character(save_data$match))\n",
    "    ''')\n",
    "    \n",
    "    # Get the results back\n",
    "    data = pandas2ri.ri2py(robjects.r['save_data'])\n",
    "    \n",
    "    return data"
   ]
  },
  {
   "cell_type": "code",
   "execution_count": 6,
   "metadata": {
    "collapsed": false
   },
   "outputs": [
    {
     "name": "stderr",
     "output_type": "stream",
     "text": [
      "/home/surchs/Venv/serv3/lib/python3.5/site-packages/rpy2/rinterface/__init__.py:185: RRuntimeWarning: Loading required package: survival\n",
      "\n",
      "  warnings.warn(x, RRuntimeWarning)\n",
      "/home/surchs/Venv/serv3/lib/python3.5/site-packages/rpy2/rinterface/__init__.py:185: RRuntimeWarning: The optmatch package has an academic license. Enter relaxinfo() for more information.\n",
      "\n",
      "  warnings.warn(x, RRuntimeWarning)\n"
     ]
    }
   ],
   "source": [
    "grp_list = [run_psm(group) for name, group in group_site]"
   ]
  },
  {
   "cell_type": "code",
   "execution_count": 7,
   "metadata": {
    "collapsed": true
   },
   "outputs": [],
   "source": [
    "new_pheno = pd.concat(grp_list)"
   ]
  },
  {
   "cell_type": "code",
   "execution_count": 8,
   "metadata": {
    "collapsed": true
   },
   "outputs": [],
   "source": [
    "a = grp_list[5]"
   ]
  },
  {
   "cell_type": "code",
   "execution_count": 9,
   "metadata": {
    "collapsed": false
   },
   "outputs": [],
   "source": [
    "ctrl = a[a['DX_GROUP'].astype(float)==1]\n",
    "pati = a[a['DX_GROUP'].astype(float)==0]"
   ]
  },
  {
   "cell_type": "code",
   "execution_count": 10,
   "metadata": {
    "collapsed": false
   },
   "outputs": [
    {
     "data": {
      "text/plain": [
       "1    105\n",
       "0     79\n",
       "Name: DX_GROUP, dtype: int64"
      ]
     },
     "execution_count": 10,
     "metadata": {},
     "output_type": "execute_result"
    }
   ],
   "source": [
    "a.DX_GROUP.value_counts()"
   ]
  },
  {
   "cell_type": "code",
   "execution_count": 11,
   "metadata": {
    "collapsed": false
   },
   "outputs": [
    {
     "data": {
      "text/html": [
       "<div>\n",
       "<table border=\"1\" class=\"dataframe\">\n",
       "  <thead>\n",
       "    <tr style=\"text-align: right;\">\n",
       "      <th></th>\n",
       "      <th>SITE_ID</th>\n",
       "      <th>SUB_ID</th>\n",
       "      <th>AGE_AT_SCAN</th>\n",
       "      <th>FD</th>\n",
       "      <th>FD_scrubbed</th>\n",
       "      <th>EYE_STATUS_AT_SCAN</th>\n",
       "      <th>FIQ</th>\n",
       "      <th>VIQ</th>\n",
       "      <th>PIQ</th>\n",
       "      <th>DX_GROUP</th>\n",
       "      <th>match</th>\n",
       "      <th>keep</th>\n",
       "    </tr>\n",
       "  </thead>\n",
       "  <tbody>\n",
       "    <tr>\n",
       "      <th>291</th>\n",
       "      <td>NYU</td>\n",
       "      <td>51036</td>\n",
       "      <td>8.04</td>\n",
       "      <td>0.201879</td>\n",
       "      <td>0.170828</td>\n",
       "      <td>1</td>\n",
       "      <td>101.0</td>\n",
       "      <td>102.0</td>\n",
       "      <td>99.0</td>\n",
       "      <td>1</td>\n",
       "      <td>1.1</td>\n",
       "      <td>1.0</td>\n",
       "    </tr>\n",
       "    <tr>\n",
       "      <th>292</th>\n",
       "      <td>NYU</td>\n",
       "      <td>51038</td>\n",
       "      <td>8.26</td>\n",
       "      <td>0.139671</td>\n",
       "      <td>0.132804</td>\n",
       "      <td>1</td>\n",
       "      <td>134.0</td>\n",
       "      <td>143.0</td>\n",
       "      <td>117.0</td>\n",
       "      <td>1</td>\n",
       "      <td>1.2</td>\n",
       "      <td>1.0</td>\n",
       "    </tr>\n",
       "    <tr>\n",
       "      <th>293</th>\n",
       "      <td>NYU</td>\n",
       "      <td>51039</td>\n",
       "      <td>8.50</td>\n",
       "      <td>0.152128</td>\n",
       "      <td>0.145173</td>\n",
       "      <td>1</td>\n",
       "      <td>136.0</td>\n",
       "      <td>131.0</td>\n",
       "      <td>133.0</td>\n",
       "      <td>1</td>\n",
       "      <td>1.3</td>\n",
       "      <td>1.0</td>\n",
       "    </tr>\n",
       "    <tr>\n",
       "      <th>294</th>\n",
       "      <td>NYU</td>\n",
       "      <td>51040</td>\n",
       "      <td>8.52</td>\n",
       "      <td>0.186761</td>\n",
       "      <td>0.148467</td>\n",
       "      <td>1</td>\n",
       "      <td>129.0</td>\n",
       "      <td>132.0</td>\n",
       "      <td>120.0</td>\n",
       "      <td>1</td>\n",
       "      <td>1.4</td>\n",
       "      <td>1.0</td>\n",
       "    </tr>\n",
       "    <tr>\n",
       "      <th>295</th>\n",
       "      <td>NYU</td>\n",
       "      <td>51041</td>\n",
       "      <td>8.90</td>\n",
       "      <td>0.220701</td>\n",
       "      <td>0.213888</td>\n",
       "      <td>1</td>\n",
       "      <td>100.0</td>\n",
       "      <td>100.0</td>\n",
       "      <td>99.0</td>\n",
       "      <td>1</td>\n",
       "      <td>1.5</td>\n",
       "      <td>1.0</td>\n",
       "    </tr>\n",
       "  </tbody>\n",
       "</table>\n",
       "</div>"
      ],
      "text/plain": [
       "    SITE_ID  SUB_ID  AGE_AT_SCAN        FD  FD_scrubbed  EYE_STATUS_AT_SCAN  \\\n",
       "291     NYU   51036         8.04  0.201879     0.170828                   1   \n",
       "292     NYU   51038         8.26  0.139671     0.132804                   1   \n",
       "293     NYU   51039         8.50  0.152128     0.145173                   1   \n",
       "294     NYU   51040         8.52  0.186761     0.148467                   1   \n",
       "295     NYU   51041         8.90  0.220701     0.213888                   1   \n",
       "\n",
       "       FIQ    VIQ    PIQ DX_GROUP  match  keep  \n",
       "291  101.0  102.0   99.0        1    1.1   1.0  \n",
       "292  134.0  143.0  117.0        1    1.2   1.0  \n",
       "293  136.0  131.0  133.0        1    1.3   1.0  \n",
       "294  129.0  132.0  120.0        1    1.4   1.0  \n",
       "295  100.0  100.0   99.0        1    1.5   1.0  "
      ]
     },
     "execution_count": 11,
     "metadata": {},
     "output_type": "execute_result"
    }
   ],
   "source": [
    "ctrl.head()"
   ]
  },
  {
   "cell_type": "code",
   "execution_count": 15,
   "metadata": {
    "collapsed": false
   },
   "outputs": [],
   "source": [
    "cm = ctrl.match.values\n",
    "pm = pati.match.values"
   ]
  },
  {
   "cell_type": "code",
   "execution_count": 18,
   "metadata": {
    "collapsed": false
   },
   "outputs": [
    {
     "data": {
      "text/plain": [
       "48"
      ]
     },
     "execution_count": 18,
     "metadata": {},
     "output_type": "execute_result"
    }
   ],
   "source": [
    "np.argmin(np.abs(pm-cm[0]))"
   ]
  },
  {
   "cell_type": "code",
   "execution_count": 20,
   "metadata": {
    "collapsed": false
   },
   "outputs": [
    {
     "data": {
      "text/plain": [
       "array([ 1.48 ,  1.62 ,  1.73 ,  1.56 ,  1.58 ,  1.88 ,  1.56 ,  1.21 ,\n",
       "        1.102,  1.23 ,  1.25 ,  1.105,  1.3  ,  1.16 ,  1.6  ,  1.6  ,\n",
       "        1.5  ,  1.83 ,  1.82 ,  1.65 ,  1.29 ,  1.59 ,  1.54 ,  1.61 ,\n",
       "        1.27 ,  1.32 ,  1.28 ,  1.45 ,  1.6  ,  1.13 ,  1.52 ,  1.17 ,\n",
       "        1.64 ,  1.4  ,  1.46 ,  1.15 ,  1.2  ,  1.38 ,  1.55 ,  1.51 ,\n",
       "        1.57 ,  1.14 ,  1.74 ,  1.87 ,  1.4  ,  1.84 ,  1.71 ,  1.12 ,\n",
       "        1.1  ,  1.42 ,  1.1  ,  1.9  ,  1.35 ,  1.8  ,  1.54 ,  1.5  ,\n",
       "        1.48 ,  1.5  ,  1.41 ,  1.7  ,  1.24 ,  1.2  ,  1.75 ,  1.94 ,\n",
       "        1.22 ,  1.8  ,  1.76 ,  1.99 ,  1.31 ,  1.94 ,  1.19 ,  1.3  ,\n",
       "        1.79 ,  1.26 ,  1.5  ,  1.43 ,  1.5  ,  1.47 ,  1.11 ])"
      ]
     },
     "execution_count": 20,
     "metadata": {},
     "output_type": "execute_result"
    }
   ],
   "source": [
    "pm"
   ]
  },
  {
   "cell_type": "code",
   "execution_count": 19,
   "metadata": {
    "collapsed": false
   },
   "outputs": [
    {
     "data": {
      "text/plain": [
       "1.1000000000000001"
      ]
     },
     "execution_count": 19,
     "metadata": {},
     "output_type": "execute_result"
    }
   ],
   "source": [
    "pm[48]"
   ]
  },
  {
   "cell_type": "code",
   "execution_count": 50,
   "metadata": {
    "collapsed": false
   },
   "outputs": [
    {
     "data": {
      "text/plain": [
       "50952"
      ]
     },
     "execution_count": 50,
     "metadata": {},
     "output_type": "execute_result"
    }
   ],
   "source": [
    "pati.iloc[0].SUB_ID"
   ]
  },
  {
   "cell_type": "code",
   "execution_count": 54,
   "metadata": {
    "collapsed": false
   },
   "outputs": [
    {
     "data": {
      "text/plain": [
       "['212']"
      ]
     },
     "execution_count": 54,
     "metadata": {},
     "output_type": "execute_result"
    }
   ],
   "source": [
    "pati[pati.SUB_ID==50952].index.tolist()"
   ]
  },
  {
   "cell_type": "code",
   "execution_count": 56,
   "metadata": {
    "collapsed": false
   },
   "outputs": [
    {
     "data": {
      "text/plain": [
       "50952"
      ]
     },
     "execution_count": 56,
     "metadata": {},
     "output_type": "execute_result"
    }
   ],
   "source": [
    "pati.loc['212'].SUB_ID"
   ]
  },
  {
   "cell_type": "code",
   "execution_count": 37,
   "metadata": {
    "collapsed": false
   },
   "outputs": [
    {
     "data": {
      "text/html": [
       "<div>\n",
       "<table border=\"1\" class=\"dataframe\">\n",
       "  <thead>\n",
       "    <tr style=\"text-align: right;\">\n",
       "      <th></th>\n",
       "      <th>SITE_ID</th>\n",
       "      <th>SUB_ID</th>\n",
       "      <th>AGE_AT_SCAN</th>\n",
       "      <th>FD</th>\n",
       "      <th>FD_scrubbed</th>\n",
       "      <th>EYE_STATUS_AT_SCAN</th>\n",
       "      <th>FIQ</th>\n",
       "      <th>VIQ</th>\n",
       "      <th>PIQ</th>\n",
       "      <th>DX_GROUP</th>\n",
       "      <th>match</th>\n",
       "      <th>keep</th>\n",
       "    </tr>\n",
       "  </thead>\n",
       "  <tbody>\n",
       "    <tr>\n",
       "      <th>241</th>\n",
       "      <td>NYU</td>\n",
       "      <td>50982</td>\n",
       "      <td>9.46</td>\n",
       "      <td>0.11084</td>\n",
       "      <td>0.106204</td>\n",
       "      <td>1</td>\n",
       "      <td>119.0</td>\n",
       "      <td>121.0</td>\n",
       "      <td>106.0</td>\n",
       "      <td>0</td>\n",
       "      <td>1.13</td>\n",
       "      <td>1.0</td>\n",
       "    </tr>\n",
       "  </tbody>\n",
       "</table>\n",
       "</div>"
      ],
      "text/plain": [
       "    SITE_ID  SUB_ID  AGE_AT_SCAN       FD  FD_scrubbed  EYE_STATUS_AT_SCAN  \\\n",
       "241     NYU   50982         9.46  0.11084     0.106204                   1   \n",
       "\n",
       "       FIQ    VIQ    PIQ DX_GROUP  match  keep  \n",
       "241  119.0  121.0  106.0        0   1.13   1.0  "
      ]
     },
     "execution_count": 37,
     "metadata": {},
     "output_type": "execute_result"
    }
   ],
   "source": [
    "pati[pati['SUB_ID']==50982]"
   ]
  },
  {
   "cell_type": "code",
   "execution_count": 58,
   "metadata": {
    "collapsed": false
   },
   "outputs": [],
   "source": [
    "patIDs = pati.SUB_ID.tolist()\n",
    "ctrIDs = ctrl.SUB_ID.tolist()"
   ]
  },
  {
   "cell_type": "code",
   "execution_count": 59,
   "metadata": {
    "collapsed": true
   },
   "outputs": [],
   "source": [
    "pat_match = pati.match.tolist()\n",
    "ctr_match = ctrl.match.tolist()"
   ]
  },
  {
   "cell_type": "code",
   "execution_count": null,
   "metadata": {
    "collapsed": true
   },
   "outputs": [],
   "source": [
    "# Sort the IDs based on the match score\n"
   ]
  },
  {
   "cell_type": "code",
   "execution_count": 65,
   "metadata": {
    "collapsed": false
   },
   "outputs": [
    {
     "name": "stdout",
     "output_type": "stream",
     "text": [
      "1.1 and 51001\n",
      "1.1 and 51003\n",
      "1.102 and 50960\n",
      "1.105 and 50964\n",
      "1.11 and 51035\n",
      "1.12 and 51000\n",
      "1.13 and 50982\n",
      "1.14 and 50994\n",
      "1.15 and 50988\n",
      "1.16 and 50966\n",
      "1.17 and 50984\n",
      "1.19 and 51026\n",
      "1.2 and 50989\n",
      "1.2 and 51016\n",
      "1.21 and 50959\n",
      "1.22 and 51019\n",
      "1.23 and 50961\n",
      "1.24 and 51015\n",
      "1.25 and 50962\n",
      "1.26 and 51029\n",
      "1.27 and 50977\n",
      "1.28 and 50979\n",
      "1.29 and 50973\n",
      "1.3 and 50965\n",
      "1.3 and 51027\n",
      "1.31 and 51024\n",
      "1.32 and 50978\n",
      "1.35 and 51007\n",
      "1.38 and 50990\n",
      "1.4 and 50986\n",
      "1.4 and 50997\n",
      "1.41 and 51013\n",
      "1.42 and 51002\n",
      "1.43 and 51032\n",
      "1.45 and 50980\n",
      "1.46 and 50987\n",
      "1.47 and 51034\n",
      "1.48 and 50952\n",
      "1.48 and 51011\n",
      "1.5 and 50969\n",
      "1.5 and 51010\n",
      "1.5 and 51012\n",
      "1.5 and 51030\n",
      "1.5 and 51033\n",
      "1.51 and 50992\n",
      "1.52 and 50983\n",
      "1.54 and 50975\n",
      "1.54 and 51009\n",
      "1.55 and 50991\n",
      "1.56 and 50955\n",
      "1.56 and 50958\n",
      "1.57 and 50993\n",
      "1.58 and 50956\n",
      "1.59 and 50974\n",
      "1.6 and 50967\n",
      "1.6 and 50968\n",
      "1.6 and 50981\n",
      "1.61 and 50976\n",
      "1.62 and 50953\n",
      "1.64 and 50985\n",
      "1.65 and 50972\n",
      "1.7 and 51014\n",
      "1.71 and 50999\n",
      "1.73 and 50954\n",
      "1.74 and 50995\n",
      "1.75 and 51017\n",
      "1.76 and 51021\n",
      "1.79 and 51028\n",
      "1.8 and 51008\n",
      "1.8 and 51020\n",
      "1.82 and 50971\n",
      "1.83 and 50970\n",
      "1.84 and 50998\n",
      "1.87 and 50996\n",
      "1.88 and 50957\n",
      "1.9 and 51006\n",
      "1.94 and 51018\n",
      "1.94 and 51025\n",
      "1.99 and 51023\n"
     ]
    }
   ],
   "source": [
    "for (x,y) in sorted(zip(pat_match, patIDs)):\n",
    "    print('{} and {}'.format(x,y))"
   ]
  },
  {
   "cell_type": "code",
   "execution_count": 32,
   "metadata": {
    "collapsed": false
   },
   "outputs": [
    {
     "name": "stdout",
     "output_type": "stream",
     "text": [
      "best match for 51036 (1.1) is 51001 (1.1)\n",
      "best match for 51038 (1.2) is 50989 (1.2)\n",
      "best match for 51039 (1.3) is 50965 (1.3)\n",
      "best match for 51040 (1.4) is 50986 (1.4)\n",
      "best match for 51041 (1.5) is 50969 (1.5)\n",
      "best match for 51042 (1.6) is 50967 (1.6)\n",
      "best match for 51044 (1.7) is 51014 (1.7)\n",
      "best match for 51045 (1.8) is 51008 (1.8)\n",
      "best match for 51046 (1.9) is 51006 (1.9)\n",
      "best match for 51047 (1.1) is 51001 (1.1)\n",
      "best match for 51048 (1.11) is 51035 (1.11)\n",
      "best match for 51049 (1.12) is 51000 (1.12)\n",
      "best match for 51050 (1.13) is 50982 (1.13)\n",
      "best match for 51051 (1.14) is 50994 (1.14)\n",
      "best match for 51052 (1.15) is 50988 (1.15)\n",
      "best match for 51053 (1.16) is 50966 (1.16)\n",
      "best match for 51054 (1.17) is 50984 (1.17)\n",
      "best match for 51055 (1.16) is 50966 (1.16)\n",
      "best match for 51056 (1.19) is 51026 (1.19)\n",
      "best match for 51057 (1.2) is 50989 (1.2)\n",
      "best match for 51058 (1.21) is 50959 (1.21)\n",
      "best match for 51059 (1.22) is 51019 (1.22)\n",
      "best match for 51060 (1.23) is 50961 (1.23)\n",
      "best match for 51061 (1.24) is 51015 (1.24)\n",
      "best match for 51062 (1.25) is 50962 (1.25)\n",
      "best match for 51063 (1.26) is 51029 (1.26)\n",
      "best match for 51064 (1.27) is 50977 (1.27)\n",
      "best match for 51065 (1.28) is 50979 (1.28)\n",
      "best match for 51066 (1.29) is 50973 (1.29)\n",
      "best match for 51067 (1.3) is 50965 (1.3)\n",
      "best match for 51068 (1.31) is 51024 (1.31)\n",
      "best match for 51069 (1.32) is 50978 (1.32)\n",
      "best match for 51070 (1.27) is 50977 (1.27)\n",
      "best match for 51071 (1.32) is 50978 (1.32)\n",
      "best match for 51072 (1.35) is 51007 (1.35)\n",
      "best match for 51073 (1.35) is 51007 (1.35)\n",
      "best match for 51074 (1.15) is 50988 (1.15)\n",
      "best match for 51075 (1.38) is 50990 (1.38)\n",
      "best match for 51076 (1.16) is 50966 (1.16)\n",
      "best match for 51077 (1.4) is 50986 (1.4)\n",
      "best match for 51078 (1.41) is 51013 (1.41)\n",
      "best match for 51079 (1.42) is 51002 (1.42)\n",
      "best match for 51080 (1.43) is 51032 (1.43)\n",
      "best match for 51081 (1.43) is 51032 (1.43)\n",
      "best match for 51082 (1.45) is 50980 (1.45)\n",
      "best match for 51083 (1.46) is 50987 (1.46)\n",
      "best match for 51084 (1.47) is 51034 (1.47)\n",
      "best match for 51085 (1.48) is 50952 (1.48)\n",
      "best match for 51086 (1.7) is 51014 (1.7)\n",
      "best match for 51087 (1.5) is 50969 (1.5)\n",
      "best match for 51088 (1.51) is 50992 (1.51)\n",
      "best match for 51089 (1.52) is 50983 (1.52)\n",
      "best match for 51090 (1.7) is 51014 (1.7)\n",
      "best match for 51091 (1.54) is 50975 (1.54)\n",
      "best match for 51093 (1.55) is 50991 (1.55)\n",
      "best match for 51094 (1.56) is 50955 (1.56)\n",
      "best match for 51095 (1.57) is 50993 (1.57)\n",
      "best match for 51096 (1.58) is 50956 (1.58)\n",
      "best match for 51097 (1.59) is 50974 (1.59)\n",
      "best match for 51098 (1.6) is 50967 (1.6)\n",
      "best match for 51099 (1.61) is 50976 (1.61)\n",
      "best match for 51100 (1.62) is 50953 (1.62)\n",
      "best match for 51101 (1.6) is 50967 (1.6)\n",
      "best match for 51102 (1.64) is 50985 (1.64)\n",
      "best match for 51103 (1.65) is 50972 (1.65)\n",
      "best match for 51104 (1.65) is 50972 (1.65)\n",
      "best match for 51105 (1.16) is 50966 (1.16)\n",
      "best match for 51106 (1.65) is 50972 (1.65)\n",
      "best match for 51107 (1.16) is 50966 (1.16)\n",
      "best match for 51108 (1.65) is 50972 (1.65)\n",
      "best match for 51109 (1.71) is 50999 (1.71)\n",
      "best match for 51110 (1.16) is 50966 (1.16)\n",
      "best match for 51111 (1.73) is 50954 (1.73)\n",
      "best match for 51112 (1.74) is 50995 (1.74)\n",
      "best match for 51113 (1.75) is 51017 (1.75)\n",
      "best match for 51114 (1.76) is 51021 (1.76)\n",
      "best match for 51115 (1.76) is 51021 (1.76)\n",
      "best match for 51116 (1.3) is 50965 (1.3)\n",
      "best match for 51117 (1.79) is 51028 (1.79)\n",
      "best match for 51118 (1.8) is 51008 (1.8)\n",
      "best match for 51119 (1.24) is 51015 (1.24)\n",
      "best match for 51120 (1.82) is 50971 (1.82)\n",
      "best match for 51121 (1.83) is 50970 (1.83)\n",
      "best match for 51122 (1.84) is 50998 (1.84)\n",
      "best match for 51123 (1.35) is 51007 (1.35)\n",
      "best match for 51124 (1.32) is 50978 (1.32)\n",
      "best match for 51125 (1.87) is 50996 (1.87)\n",
      "best match for 51126 (1.88) is 50957 (1.88)\n",
      "best match for 51127 (1.14) is 50994 (1.14)\n",
      "best match for 51128 (1.87) is 50996 (1.87)\n",
      "best match for 51129 (1.29) is 50973 (1.29)\n",
      "best match for 51130 (1.29) is 50973 (1.29)\n",
      "best match for 51131 (1.29) is 50973 (1.29)\n",
      "best match for 51146 (1.94) is 51018 (1.94)\n",
      "best match for 51147 (1.29) is 50973 (1.29)\n",
      "best match for 51148 (1.4) is 50986 (1.4)\n",
      "best match for 51149 (1.23) is 50961 (1.23)\n",
      "best match for 51150 (1.4) is 50986 (1.4)\n",
      "best match for 51151 (1.99) is 51023 (1.99)\n",
      "best match for 51152 (1.21) is 50959 (1.21)\n",
      "best match for 51153 (1.79) is 51028 (1.79)\n",
      "best match for 51154 (1.102) is 50960 (1.102)\n",
      "best match for 51155 (1.79) is 51028 (1.79)\n",
      "best match for 51156 (1.75) is 51017 (1.75)\n",
      "best match for 51159 (1.105) is 50964 (1.105)\n"
     ]
    }
   ],
   "source": [
    "for index, row in ctrl.iterrows():\n",
    "    cmr = row.match\n",
    "    # Find match\n",
    "    match = np.argmin(np.abs(np.array(pat_match)-cmr))\n",
    "    \n",
    "    \n",
    "    \n",
    "    \n",
    "    print('best match for {} ({}) is {} ({})'.format(ctrl.loc[index].SUB_ID, \n",
    "                                                     cmr, pati.iloc[match].SUB_ID,\n",
    "                                                     pati.iloc[match].match))"
   ]
  },
  {
   "cell_type": "code",
   "execution_count": null,
   "metadata": {
    "collapsed": true
   },
   "outputs": [],
   "source": []
  },
  {
   "cell_type": "code",
   "execution_count": null,
   "metadata": {
    "collapsed": true
   },
   "outputs": [],
   "source": []
  },
  {
   "cell_type": "code",
   "execution_count": null,
   "metadata": {
    "collapsed": true
   },
   "outputs": [],
   "source": []
  },
  {
   "cell_type": "code",
   "execution_count": null,
   "metadata": {
    "collapsed": true
   },
   "outputs": [],
   "source": []
  },
  {
   "cell_type": "code",
   "execution_count": null,
   "metadata": {
    "collapsed": true
   },
   "outputs": [],
   "source": [
    "aaa"
   ]
  },
  {
   "cell_type": "code",
   "execution_count": null,
   "metadata": {
    "collapsed": true
   },
   "outputs": [],
   "source": []
  },
  {
   "cell_type": "code",
   "execution_count": 8,
   "metadata": {
    "collapsed": false
   },
   "outputs": [
    {
     "data": {
      "text/html": [
       "<div>\n",
       "<table border=\"1\" class=\"dataframe\">\n",
       "  <thead>\n",
       "    <tr style=\"text-align: right;\">\n",
       "      <th></th>\n",
       "      <th>SITE_ID</th>\n",
       "      <th>SUB_ID</th>\n",
       "      <th>AGE_AT_SCAN</th>\n",
       "      <th>FD</th>\n",
       "      <th>FD_scrubbed</th>\n",
       "      <th>EYE_STATUS_AT_SCAN</th>\n",
       "      <th>FIQ</th>\n",
       "      <th>VIQ</th>\n",
       "      <th>PIQ</th>\n",
       "      <th>DX_GROUP</th>\n",
       "      <th>match</th>\n",
       "      <th>keep</th>\n",
       "    </tr>\n",
       "  </thead>\n",
       "  <tbody>\n",
       "    <tr>\n",
       "      <th>0</th>\n",
       "      <td>CALTECH</td>\n",
       "      <td>51456</td>\n",
       "      <td>55.4000</td>\n",
       "      <td>0.434593</td>\n",
       "      <td>0.328121</td>\n",
       "      <td>2</td>\n",
       "      <td>126.0</td>\n",
       "      <td>118.0</td>\n",
       "      <td>128.0</td>\n",
       "      <td>0</td>\n",
       "      <td>1.10</td>\n",
       "      <td>1.0</td>\n",
       "    </tr>\n",
       "    <tr>\n",
       "      <th>1</th>\n",
       "      <td>CALTECH</td>\n",
       "      <td>51457</td>\n",
       "      <td>22.9000</td>\n",
       "      <td>0.207160</td>\n",
       "      <td>0.170893</td>\n",
       "      <td>2</td>\n",
       "      <td>107.0</td>\n",
       "      <td>119.0</td>\n",
       "      <td>93.0</td>\n",
       "      <td>0</td>\n",
       "      <td>1.10</td>\n",
       "      <td>1.0</td>\n",
       "    </tr>\n",
       "    <tr>\n",
       "      <th>2</th>\n",
       "      <td>CALTECH</td>\n",
       "      <td>51458</td>\n",
       "      <td>39.2000</td>\n",
       "      <td>0.322805</td>\n",
       "      <td>0.288872</td>\n",
       "      <td>2</td>\n",
       "      <td>93.0</td>\n",
       "      <td>80.0</td>\n",
       "      <td>108.0</td>\n",
       "      <td>0</td>\n",
       "      <td>1.10</td>\n",
       "      <td>1.0</td>\n",
       "    </tr>\n",
       "    <tr>\n",
       "      <th>3</th>\n",
       "      <td>CALTECH</td>\n",
       "      <td>51459</td>\n",
       "      <td>22.8000</td>\n",
       "      <td>0.152963</td>\n",
       "      <td>0.152963</td>\n",
       "      <td>2</td>\n",
       "      <td>106.0</td>\n",
       "      <td>94.0</td>\n",
       "      <td>118.0</td>\n",
       "      <td>0</td>\n",
       "      <td>1.12</td>\n",
       "      <td>1.0</td>\n",
       "    </tr>\n",
       "    <tr>\n",
       "      <th>4</th>\n",
       "      <td>CALTECH</td>\n",
       "      <td>51460</td>\n",
       "      <td>34.6000</td>\n",
       "      <td>0.207277</td>\n",
       "      <td>0.207277</td>\n",
       "      <td>2</td>\n",
       "      <td>133.0</td>\n",
       "      <td>135.0</td>\n",
       "      <td>122.0</td>\n",
       "      <td>0</td>\n",
       "      <td>1.20</td>\n",
       "      <td>1.0</td>\n",
       "    </tr>\n",
       "    <tr>\n",
       "      <th>5</th>\n",
       "      <td>CALTECH</td>\n",
       "      <td>51461</td>\n",
       "      <td>37.7000</td>\n",
       "      <td>0.391293</td>\n",
       "      <td>0.288861</td>\n",
       "      <td>2</td>\n",
       "      <td>99.0</td>\n",
       "      <td>111.0</td>\n",
       "      <td>84.0</td>\n",
       "      <td>0</td>\n",
       "      <td>1.15</td>\n",
       "      <td>1.0</td>\n",
       "    </tr>\n",
       "    <tr>\n",
       "      <th>6</th>\n",
       "      <td>CALTECH</td>\n",
       "      <td>51462</td>\n",
       "      <td>20.2000</td>\n",
       "      <td>0.289176</td>\n",
       "      <td>0.259051</td>\n",
       "      <td>2</td>\n",
       "      <td>107.0</td>\n",
       "      <td>102.0</td>\n",
       "      <td>110.0</td>\n",
       "      <td>0</td>\n",
       "      <td>1.14</td>\n",
       "      <td>1.0</td>\n",
       "    </tr>\n",
       "    <tr>\n",
       "      <th>7</th>\n",
       "      <td>CALTECH</td>\n",
       "      <td>51463</td>\n",
       "      <td>20.2000</td>\n",
       "      <td>0.150294</td>\n",
       "      <td>0.142741</td>\n",
       "      <td>2</td>\n",
       "      <td>102.0</td>\n",
       "      <td>101.0</td>\n",
       "      <td>103.0</td>\n",
       "      <td>0</td>\n",
       "      <td>1.60</td>\n",
       "      <td>1.0</td>\n",
       "    </tr>\n",
       "    <tr>\n",
       "      <th>8</th>\n",
       "      <td>CALTECH</td>\n",
       "      <td>51464</td>\n",
       "      <td>20.9000</td>\n",
       "      <td>0.149419</td>\n",
       "      <td>0.149419</td>\n",
       "      <td>2</td>\n",
       "      <td>101.0</td>\n",
       "      <td>118.0</td>\n",
       "      <td>109.0</td>\n",
       "      <td>0</td>\n",
       "      <td>1.80</td>\n",
       "      <td>1.0</td>\n",
       "    </tr>\n",
       "    <tr>\n",
       "      <th>9</th>\n",
       "      <td>CALTECH</td>\n",
       "      <td>51465</td>\n",
       "      <td>20.2000</td>\n",
       "      <td>0.171973</td>\n",
       "      <td>0.171973</td>\n",
       "      <td>2</td>\n",
       "      <td>96.0</td>\n",
       "      <td>99.0</td>\n",
       "      <td>93.0</td>\n",
       "      <td>0</td>\n",
       "      <td>1.90</td>\n",
       "      <td>1.0</td>\n",
       "    </tr>\n",
       "    <tr>\n",
       "      <th>10</th>\n",
       "      <td>CALTECH</td>\n",
       "      <td>51466</td>\n",
       "      <td>27.6000</td>\n",
       "      <td>0.309374</td>\n",
       "      <td>0.263233</td>\n",
       "      <td>2</td>\n",
       "      <td>106.0</td>\n",
       "      <td>111.0</td>\n",
       "      <td>99.0</td>\n",
       "      <td>0</td>\n",
       "      <td>1.70</td>\n",
       "      <td>1.0</td>\n",
       "    </tr>\n",
       "    <tr>\n",
       "      <th>11</th>\n",
       "      <td>CALTECH</td>\n",
       "      <td>51467</td>\n",
       "      <td>23.4000</td>\n",
       "      <td>0.221869</td>\n",
       "      <td>0.212079</td>\n",
       "      <td>2</td>\n",
       "      <td>93.0</td>\n",
       "      <td>89.0</td>\n",
       "      <td>99.0</td>\n",
       "      <td>0</td>\n",
       "      <td>1.11</td>\n",
       "      <td>1.0</td>\n",
       "    </tr>\n",
       "    <tr>\n",
       "      <th>12</th>\n",
       "      <td>CALTECH</td>\n",
       "      <td>51468</td>\n",
       "      <td>20.1000</td>\n",
       "      <td>0.227305</td>\n",
       "      <td>0.219689</td>\n",
       "      <td>2</td>\n",
       "      <td>100.0</td>\n",
       "      <td>89.0</td>\n",
       "      <td>109.0</td>\n",
       "      <td>0</td>\n",
       "      <td>1.40</td>\n",
       "      <td>1.0</td>\n",
       "    </tr>\n",
       "    <tr>\n",
       "      <th>13</th>\n",
       "      <td>CALTECH</td>\n",
       "      <td>51469</td>\n",
       "      <td>45.1000</td>\n",
       "      <td>0.365754</td>\n",
       "      <td>0.246290</td>\n",
       "      <td>2</td>\n",
       "      <td>104.0</td>\n",
       "      <td>109.0</td>\n",
       "      <td>96.0</td>\n",
       "      <td>0</td>\n",
       "      <td>1.30</td>\n",
       "      <td>1.0</td>\n",
       "    </tr>\n",
       "    <tr>\n",
       "      <th>14</th>\n",
       "      <td>CALTECH</td>\n",
       "      <td>51470</td>\n",
       "      <td>29.1000</td>\n",
       "      <td>0.145590</td>\n",
       "      <td>0.145590</td>\n",
       "      <td>2</td>\n",
       "      <td>124.0</td>\n",
       "      <td>127.0</td>\n",
       "      <td>115.0</td>\n",
       "      <td>0</td>\n",
       "      <td>1.16</td>\n",
       "      <td>1.0</td>\n",
       "    </tr>\n",
       "    <tr>\n",
       "      <th>15</th>\n",
       "      <td>CALTECH</td>\n",
       "      <td>51471</td>\n",
       "      <td>22.4000</td>\n",
       "      <td>0.286396</td>\n",
       "      <td>0.283261</td>\n",
       "      <td>2</td>\n",
       "      <td>125.0</td>\n",
       "      <td>123.0</td>\n",
       "      <td>119.0</td>\n",
       "      <td>0</td>\n",
       "      <td>1.15</td>\n",
       "      <td>1.0</td>\n",
       "    </tr>\n",
       "    <tr>\n",
       "      <th>16</th>\n",
       "      <td>CALTECH</td>\n",
       "      <td>51472</td>\n",
       "      <td>17.5000</td>\n",
       "      <td>0.165099</td>\n",
       "      <td>0.165099</td>\n",
       "      <td>2</td>\n",
       "      <td>125.0</td>\n",
       "      <td>123.0</td>\n",
       "      <td>119.0</td>\n",
       "      <td>0</td>\n",
       "      <td>1.13</td>\n",
       "      <td>1.0</td>\n",
       "    </tr>\n",
       "    <tr>\n",
       "      <th>17</th>\n",
       "      <td>CALTECH</td>\n",
       "      <td>51473</td>\n",
       "      <td>21.2000</td>\n",
       "      <td>0.243861</td>\n",
       "      <td>0.183305</td>\n",
       "      <td>2</td>\n",
       "      <td>NaN</td>\n",
       "      <td>NaN</td>\n",
       "      <td>NaN</td>\n",
       "      <td>0</td>\n",
       "      <td>1.50</td>\n",
       "      <td>1.0</td>\n",
       "    </tr>\n",
       "    <tr>\n",
       "      <th>18</th>\n",
       "      <td>CALTECH</td>\n",
       "      <td>51474</td>\n",
       "      <td>20.9000</td>\n",
       "      <td>0.247965</td>\n",
       "      <td>0.245324</td>\n",
       "      <td>2</td>\n",
       "      <td>100.0</td>\n",
       "      <td>90.0</td>\n",
       "      <td>109.0</td>\n",
       "      <td>0</td>\n",
       "      <td>1.14</td>\n",
       "      <td>1.0</td>\n",
       "    </tr>\n",
       "    <tr>\n",
       "      <th>19</th>\n",
       "      <td>CALTECH</td>\n",
       "      <td>51475</td>\n",
       "      <td>44.2000</td>\n",
       "      <td>0.321173</td>\n",
       "      <td>0.304023</td>\n",
       "      <td>2</td>\n",
       "      <td>104.0</td>\n",
       "      <td>113.0</td>\n",
       "      <td>94.0</td>\n",
       "      <td>1</td>\n",
       "      <td>1.10</td>\n",
       "      <td>1.0</td>\n",
       "    </tr>\n",
       "    <tr>\n",
       "      <th>20</th>\n",
       "      <td>CALTECH</td>\n",
       "      <td>51476</td>\n",
       "      <td>39.3000</td>\n",
       "      <td>0.190310</td>\n",
       "      <td>0.190310</td>\n",
       "      <td>2</td>\n",
       "      <td>123.0</td>\n",
       "      <td>127.0</td>\n",
       "      <td>112.0</td>\n",
       "      <td>1</td>\n",
       "      <td>1.20</td>\n",
       "      <td>1.0</td>\n",
       "    </tr>\n",
       "    <tr>\n",
       "      <th>21</th>\n",
       "      <td>CALTECH</td>\n",
       "      <td>51477</td>\n",
       "      <td>42.5000</td>\n",
       "      <td>0.247844</td>\n",
       "      <td>0.240969</td>\n",
       "      <td>2</td>\n",
       "      <td>97.0</td>\n",
       "      <td>85.0</td>\n",
       "      <td>109.0</td>\n",
       "      <td>1</td>\n",
       "      <td>1.30</td>\n",
       "      <td>1.0</td>\n",
       "    </tr>\n",
       "    <tr>\n",
       "      <th>22</th>\n",
       "      <td>CALTECH</td>\n",
       "      <td>51478</td>\n",
       "      <td>19.7000</td>\n",
       "      <td>0.203389</td>\n",
       "      <td>0.197699</td>\n",
       "      <td>2</td>\n",
       "      <td>116.0</td>\n",
       "      <td>117.0</td>\n",
       "      <td>116.0</td>\n",
       "      <td>1</td>\n",
       "      <td>1.40</td>\n",
       "      <td>1.0</td>\n",
       "    </tr>\n",
       "    <tr>\n",
       "      <th>23</th>\n",
       "      <td>CALTECH</td>\n",
       "      <td>51479</td>\n",
       "      <td>20.0000</td>\n",
       "      <td>0.177275</td>\n",
       "      <td>0.177275</td>\n",
       "      <td>2</td>\n",
       "      <td>111.0</td>\n",
       "      <td>110.0</td>\n",
       "      <td>109.0</td>\n",
       "      <td>1</td>\n",
       "      <td>1.50</td>\n",
       "      <td>1.0</td>\n",
       "    </tr>\n",
       "    <tr>\n",
       "      <th>24</th>\n",
       "      <td>CALTECH</td>\n",
       "      <td>51480</td>\n",
       "      <td>20.8000</td>\n",
       "      <td>0.124627</td>\n",
       "      <td>0.124627</td>\n",
       "      <td>2</td>\n",
       "      <td>112.0</td>\n",
       "      <td>109.0</td>\n",
       "      <td>110.0</td>\n",
       "      <td>1</td>\n",
       "      <td>1.60</td>\n",
       "      <td>1.0</td>\n",
       "    </tr>\n",
       "    <tr>\n",
       "      <th>25</th>\n",
       "      <td>CALTECH</td>\n",
       "      <td>51481</td>\n",
       "      <td>27.9000</td>\n",
       "      <td>0.327785</td>\n",
       "      <td>0.224584</td>\n",
       "      <td>2</td>\n",
       "      <td>117.0</td>\n",
       "      <td>133.0</td>\n",
       "      <td>99.0</td>\n",
       "      <td>1</td>\n",
       "      <td>1.70</td>\n",
       "      <td>1.0</td>\n",
       "    </tr>\n",
       "    <tr>\n",
       "      <th>26</th>\n",
       "      <td>CALTECH</td>\n",
       "      <td>51482</td>\n",
       "      <td>21.1000</td>\n",
       "      <td>0.158710</td>\n",
       "      <td>0.154896</td>\n",
       "      <td>2</td>\n",
       "      <td>103.0</td>\n",
       "      <td>108.0</td>\n",
       "      <td>96.0</td>\n",
       "      <td>1</td>\n",
       "      <td>1.80</td>\n",
       "      <td>1.0</td>\n",
       "    </tr>\n",
       "    <tr>\n",
       "      <th>27</th>\n",
       "      <td>CALTECH</td>\n",
       "      <td>51483</td>\n",
       "      <td>20.9000</td>\n",
       "      <td>0.168426</td>\n",
       "      <td>0.168426</td>\n",
       "      <td>2</td>\n",
       "      <td>124.0</td>\n",
       "      <td>127.0</td>\n",
       "      <td>115.0</td>\n",
       "      <td>1</td>\n",
       "      <td>1.90</td>\n",
       "      <td>1.0</td>\n",
       "    </tr>\n",
       "    <tr>\n",
       "      <th>28</th>\n",
       "      <td>CALTECH</td>\n",
       "      <td>51484</td>\n",
       "      <td>23.6000</td>\n",
       "      <td>0.204392</td>\n",
       "      <td>0.185471</td>\n",
       "      <td>2</td>\n",
       "      <td>128.0</td>\n",
       "      <td>135.0</td>\n",
       "      <td>115.0</td>\n",
       "      <td>1</td>\n",
       "      <td>1.10</td>\n",
       "      <td>1.0</td>\n",
       "    </tr>\n",
       "    <tr>\n",
       "      <th>29</th>\n",
       "      <td>CALTECH</td>\n",
       "      <td>51485</td>\n",
       "      <td>23.9000</td>\n",
       "      <td>0.237287</td>\n",
       "      <td>0.223647</td>\n",
       "      <td>2</td>\n",
       "      <td>123.0</td>\n",
       "      <td>113.0</td>\n",
       "      <td>127.0</td>\n",
       "      <td>1</td>\n",
       "      <td>1.11</td>\n",
       "      <td>1.0</td>\n",
       "    </tr>\n",
       "    <tr>\n",
       "      <th>...</th>\n",
       "      <td>...</td>\n",
       "      <td>...</td>\n",
       "      <td>...</td>\n",
       "      <td>...</td>\n",
       "      <td>...</td>\n",
       "      <td>...</td>\n",
       "      <td>...</td>\n",
       "      <td>...</td>\n",
       "      <td>...</td>\n",
       "      <td>...</td>\n",
       "      <td>...</td>\n",
       "      <td>...</td>\n",
       "    </tr>\n",
       "    <tr>\n",
       "      <th>793</th>\n",
       "      <td>USM</td>\n",
       "      <td>50503</td>\n",
       "      <td>28.6708</td>\n",
       "      <td>0.181403</td>\n",
       "      <td>0.140329</td>\n",
       "      <td>1</td>\n",
       "      <td>80.0</td>\n",
       "      <td>91.0</td>\n",
       "      <td>72.0</td>\n",
       "      <td>0</td>\n",
       "      <td>1.24</td>\n",
       "      <td>1.0</td>\n",
       "    </tr>\n",
       "    <tr>\n",
       "      <th>794</th>\n",
       "      <td>USM</td>\n",
       "      <td>50504</td>\n",
       "      <td>17.6454</td>\n",
       "      <td>0.289369</td>\n",
       "      <td>0.209700</td>\n",
       "      <td>1</td>\n",
       "      <td>87.0</td>\n",
       "      <td>86.0</td>\n",
       "      <td>92.0</td>\n",
       "      <td>0</td>\n",
       "      <td>1.36</td>\n",
       "      <td>1.0</td>\n",
       "    </tr>\n",
       "    <tr>\n",
       "      <th>795</th>\n",
       "      <td>USM</td>\n",
       "      <td>50505</td>\n",
       "      <td>33.1828</td>\n",
       "      <td>0.077581</td>\n",
       "      <td>0.077581</td>\n",
       "      <td>1</td>\n",
       "      <td>95.0</td>\n",
       "      <td>86.0</td>\n",
       "      <td>106.0</td>\n",
       "      <td>0</td>\n",
       "      <td>1.37</td>\n",
       "      <td>1.0</td>\n",
       "    </tr>\n",
       "    <tr>\n",
       "      <th>796</th>\n",
       "      <td>USM</td>\n",
       "      <td>50506</td>\n",
       "      <td>15.9343</td>\n",
       "      <td>0.209152</td>\n",
       "      <td>0.173922</td>\n",
       "      <td>1</td>\n",
       "      <td>73.0</td>\n",
       "      <td>77.0</td>\n",
       "      <td>74.0</td>\n",
       "      <td>0</td>\n",
       "      <td>1.16</td>\n",
       "      <td>1.0</td>\n",
       "    </tr>\n",
       "    <tr>\n",
       "      <th>797</th>\n",
       "      <td>USM</td>\n",
       "      <td>50507</td>\n",
       "      <td>28.1095</td>\n",
       "      <td>0.359798</td>\n",
       "      <td>0.232727</td>\n",
       "      <td>1</td>\n",
       "      <td>97.0</td>\n",
       "      <td>108.0</td>\n",
       "      <td>87.0</td>\n",
       "      <td>0</td>\n",
       "      <td>1.32</td>\n",
       "      <td>1.0</td>\n",
       "    </tr>\n",
       "    <tr>\n",
       "      <th>798</th>\n",
       "      <td>USM</td>\n",
       "      <td>50508</td>\n",
       "      <td>26.3792</td>\n",
       "      <td>0.554005</td>\n",
       "      <td>0.244424</td>\n",
       "      <td>1</td>\n",
       "      <td>107.0</td>\n",
       "      <td>96.0</td>\n",
       "      <td>118.0</td>\n",
       "      <td>0</td>\n",
       "      <td>1.13</td>\n",
       "      <td>1.0</td>\n",
       "    </tr>\n",
       "    <tr>\n",
       "      <th>799</th>\n",
       "      <td>USM</td>\n",
       "      <td>50509</td>\n",
       "      <td>16.7337</td>\n",
       "      <td>0.821325</td>\n",
       "      <td>0.170575</td>\n",
       "      <td>1</td>\n",
       "      <td>95.0</td>\n",
       "      <td>85.0</td>\n",
       "      <td>107.0</td>\n",
       "      <td>0</td>\n",
       "      <td>1.30</td>\n",
       "      <td>1.0</td>\n",
       "    </tr>\n",
       "    <tr>\n",
       "      <th>800</th>\n",
       "      <td>USM</td>\n",
       "      <td>50510</td>\n",
       "      <td>14.1437</td>\n",
       "      <td>0.662724</td>\n",
       "      <td>0.209664</td>\n",
       "      <td>1</td>\n",
       "      <td>102.0</td>\n",
       "      <td>104.0</td>\n",
       "      <td>99.0</td>\n",
       "      <td>0</td>\n",
       "      <td>1.22</td>\n",
       "      <td>1.0</td>\n",
       "    </tr>\n",
       "    <tr>\n",
       "      <th>801</th>\n",
       "      <td>USM</td>\n",
       "      <td>50511</td>\n",
       "      <td>16.3833</td>\n",
       "      <td>0.508208</td>\n",
       "      <td>0.225204</td>\n",
       "      <td>1</td>\n",
       "      <td>114.0</td>\n",
       "      <td>109.0</td>\n",
       "      <td>116.0</td>\n",
       "      <td>0</td>\n",
       "      <td>1.20</td>\n",
       "      <td>1.0</td>\n",
       "    </tr>\n",
       "    <tr>\n",
       "      <th>802</th>\n",
       "      <td>USM</td>\n",
       "      <td>50512</td>\n",
       "      <td>15.4908</td>\n",
       "      <td>0.234177</td>\n",
       "      <td>0.142249</td>\n",
       "      <td>1</td>\n",
       "      <td>121.0</td>\n",
       "      <td>108.0</td>\n",
       "      <td>131.0</td>\n",
       "      <td>0</td>\n",
       "      <td>1.29</td>\n",
       "      <td>1.0</td>\n",
       "    </tr>\n",
       "    <tr>\n",
       "      <th>803</th>\n",
       "      <td>USM</td>\n",
       "      <td>50513</td>\n",
       "      <td>18.4668</td>\n",
       "      <td>0.204962</td>\n",
       "      <td>0.196573</td>\n",
       "      <td>1</td>\n",
       "      <td>102.0</td>\n",
       "      <td>97.0</td>\n",
       "      <td>107.0</td>\n",
       "      <td>0</td>\n",
       "      <td>1.36</td>\n",
       "      <td>1.0</td>\n",
       "    </tr>\n",
       "    <tr>\n",
       "      <th>804</th>\n",
       "      <td>USM</td>\n",
       "      <td>50514</td>\n",
       "      <td>21.4018</td>\n",
       "      <td>0.149142</td>\n",
       "      <td>0.140293</td>\n",
       "      <td>1</td>\n",
       "      <td>109.0</td>\n",
       "      <td>99.0</td>\n",
       "      <td>119.0</td>\n",
       "      <td>0</td>\n",
       "      <td>1.41</td>\n",
       "      <td>1.0</td>\n",
       "    </tr>\n",
       "    <tr>\n",
       "      <th>805</th>\n",
       "      <td>USM</td>\n",
       "      <td>50515</td>\n",
       "      <td>15.8522</td>\n",
       "      <td>0.196372</td>\n",
       "      <td>0.164384</td>\n",
       "      <td>1</td>\n",
       "      <td>94.0</td>\n",
       "      <td>71.0</td>\n",
       "      <td>106.0</td>\n",
       "      <td>0</td>\n",
       "      <td>1.30</td>\n",
       "      <td>1.0</td>\n",
       "    </tr>\n",
       "    <tr>\n",
       "      <th>806</th>\n",
       "      <td>USM</td>\n",
       "      <td>50516</td>\n",
       "      <td>17.1143</td>\n",
       "      <td>0.107817</td>\n",
       "      <td>0.101632</td>\n",
       "      <td>1</td>\n",
       "      <td>107.0</td>\n",
       "      <td>108.0</td>\n",
       "      <td>104.0</td>\n",
       "      <td>0</td>\n",
       "      <td>1.30</td>\n",
       "      <td>1.0</td>\n",
       "    </tr>\n",
       "    <tr>\n",
       "      <th>807</th>\n",
       "      <td>USM</td>\n",
       "      <td>50517</td>\n",
       "      <td>16.5010</td>\n",
       "      <td>0.141323</td>\n",
       "      <td>0.141323</td>\n",
       "      <td>1</td>\n",
       "      <td>109.0</td>\n",
       "      <td>108.0</td>\n",
       "      <td>107.0</td>\n",
       "      <td>0</td>\n",
       "      <td>1.40</td>\n",
       "      <td>1.0</td>\n",
       "    </tr>\n",
       "    <tr>\n",
       "      <th>808</th>\n",
       "      <td>USM</td>\n",
       "      <td>50518</td>\n",
       "      <td>18.6585</td>\n",
       "      <td>0.148437</td>\n",
       "      <td>0.130028</td>\n",
       "      <td>1</td>\n",
       "      <td>77.0</td>\n",
       "      <td>83.0</td>\n",
       "      <td>75.0</td>\n",
       "      <td>0</td>\n",
       "      <td>1.20</td>\n",
       "      <td>1.0</td>\n",
       "    </tr>\n",
       "    <tr>\n",
       "      <th>809</th>\n",
       "      <td>USM</td>\n",
       "      <td>50519</td>\n",
       "      <td>16.3778</td>\n",
       "      <td>0.222435</td>\n",
       "      <td>0.163712</td>\n",
       "      <td>1</td>\n",
       "      <td>83.0</td>\n",
       "      <td>78.0</td>\n",
       "      <td>90.0</td>\n",
       "      <td>0</td>\n",
       "      <td>1.30</td>\n",
       "      <td>1.0</td>\n",
       "    </tr>\n",
       "    <tr>\n",
       "      <th>810</th>\n",
       "      <td>USM</td>\n",
       "      <td>50520</td>\n",
       "      <td>17.6728</td>\n",
       "      <td>0.285012</td>\n",
       "      <td>0.151722</td>\n",
       "      <td>1</td>\n",
       "      <td>76.0</td>\n",
       "      <td>55.0</td>\n",
       "      <td>101.0</td>\n",
       "      <td>0</td>\n",
       "      <td>1.18</td>\n",
       "      <td>1.0</td>\n",
       "    </tr>\n",
       "    <tr>\n",
       "      <th>811</th>\n",
       "      <td>USM</td>\n",
       "      <td>50521</td>\n",
       "      <td>18.4175</td>\n",
       "      <td>0.354154</td>\n",
       "      <td>0.257167</td>\n",
       "      <td>1</td>\n",
       "      <td>80.0</td>\n",
       "      <td>69.0</td>\n",
       "      <td>99.0</td>\n",
       "      <td>0</td>\n",
       "      <td>1.14</td>\n",
       "      <td>1.0</td>\n",
       "    </tr>\n",
       "    <tr>\n",
       "      <th>812</th>\n",
       "      <td>USM</td>\n",
       "      <td>50522</td>\n",
       "      <td>14.7515</td>\n",
       "      <td>0.937025</td>\n",
       "      <td>0.188871</td>\n",
       "      <td>1</td>\n",
       "      <td>100.0</td>\n",
       "      <td>93.0</td>\n",
       "      <td>108.0</td>\n",
       "      <td>0</td>\n",
       "      <td>1.50</td>\n",
       "      <td>1.0</td>\n",
       "    </tr>\n",
       "    <tr>\n",
       "      <th>813</th>\n",
       "      <td>USM</td>\n",
       "      <td>50523</td>\n",
       "      <td>17.3251</td>\n",
       "      <td>0.399454</td>\n",
       "      <td>0.179653</td>\n",
       "      <td>1</td>\n",
       "      <td>115.0</td>\n",
       "      <td>118.0</td>\n",
       "      <td>109.0</td>\n",
       "      <td>0</td>\n",
       "      <td>1.10</td>\n",
       "      <td>1.0</td>\n",
       "    </tr>\n",
       "    <tr>\n",
       "      <th>814</th>\n",
       "      <td>USM</td>\n",
       "      <td>50524</td>\n",
       "      <td>12.3340</td>\n",
       "      <td>0.260784</td>\n",
       "      <td>0.152247</td>\n",
       "      <td>1</td>\n",
       "      <td>83.0</td>\n",
       "      <td>76.0</td>\n",
       "      <td>93.0</td>\n",
       "      <td>0</td>\n",
       "      <td>1.39</td>\n",
       "      <td>1.0</td>\n",
       "    </tr>\n",
       "    <tr>\n",
       "      <th>815</th>\n",
       "      <td>USM</td>\n",
       "      <td>50525</td>\n",
       "      <td>32.8487</td>\n",
       "      <td>0.107678</td>\n",
       "      <td>0.102831</td>\n",
       "      <td>1</td>\n",
       "      <td>106.0</td>\n",
       "      <td>87.0</td>\n",
       "      <td>128.0</td>\n",
       "      <td>0</td>\n",
       "      <td>1.21</td>\n",
       "      <td>1.0</td>\n",
       "    </tr>\n",
       "    <tr>\n",
       "      <th>816</th>\n",
       "      <td>USM</td>\n",
       "      <td>50526</td>\n",
       "      <td>50.2231</td>\n",
       "      <td>0.142216</td>\n",
       "      <td>0.117475</td>\n",
       "      <td>1</td>\n",
       "      <td>123.0</td>\n",
       "      <td>118.0</td>\n",
       "      <td>121.0</td>\n",
       "      <td>0</td>\n",
       "      <td>1.37</td>\n",
       "      <td>1.0</td>\n",
       "    </tr>\n",
       "    <tr>\n",
       "      <th>817</th>\n",
       "      <td>USM</td>\n",
       "      <td>50527</td>\n",
       "      <td>18.4148</td>\n",
       "      <td>0.123320</td>\n",
       "      <td>0.123320</td>\n",
       "      <td>1</td>\n",
       "      <td>93.0</td>\n",
       "      <td>84.0</td>\n",
       "      <td>105.0</td>\n",
       "      <td>0</td>\n",
       "      <td>1.28</td>\n",
       "      <td>1.0</td>\n",
       "    </tr>\n",
       "    <tr>\n",
       "      <th>818</th>\n",
       "      <td>USM</td>\n",
       "      <td>50528</td>\n",
       "      <td>11.3539</td>\n",
       "      <td>0.143646</td>\n",
       "      <td>0.136730</td>\n",
       "      <td>1</td>\n",
       "      <td>100.0</td>\n",
       "      <td>90.0</td>\n",
       "      <td>109.0</td>\n",
       "      <td>0</td>\n",
       "      <td>1.33</td>\n",
       "      <td>1.0</td>\n",
       "    </tr>\n",
       "    <tr>\n",
       "      <th>819</th>\n",
       "      <td>USM</td>\n",
       "      <td>50529</td>\n",
       "      <td>42.3354</td>\n",
       "      <td>0.308688</td>\n",
       "      <td>0.247564</td>\n",
       "      <td>1</td>\n",
       "      <td>128.0</td>\n",
       "      <td>122.0</td>\n",
       "      <td>127.0</td>\n",
       "      <td>0</td>\n",
       "      <td>1.35</td>\n",
       "      <td>1.0</td>\n",
       "    </tr>\n",
       "    <tr>\n",
       "      <th>820</th>\n",
       "      <td>USM</td>\n",
       "      <td>50530</td>\n",
       "      <td>18.2450</td>\n",
       "      <td>0.301570</td>\n",
       "      <td>0.122532</td>\n",
       "      <td>1</td>\n",
       "      <td>106.0</td>\n",
       "      <td>120.0</td>\n",
       "      <td>91.0</td>\n",
       "      <td>0</td>\n",
       "      <td>1.12</td>\n",
       "      <td>1.0</td>\n",
       "    </tr>\n",
       "    <tr>\n",
       "      <th>821</th>\n",
       "      <td>USM</td>\n",
       "      <td>50531</td>\n",
       "      <td>28.0903</td>\n",
       "      <td>1.191415</td>\n",
       "      <td>0.242396</td>\n",
       "      <td>1</td>\n",
       "      <td>112.0</td>\n",
       "      <td>104.0</td>\n",
       "      <td>119.0</td>\n",
       "      <td>0</td>\n",
       "      <td>1.13</td>\n",
       "      <td>1.0</td>\n",
       "    </tr>\n",
       "    <tr>\n",
       "      <th>822</th>\n",
       "      <td>USM</td>\n",
       "      <td>50532</td>\n",
       "      <td>16.9199</td>\n",
       "      <td>0.242670</td>\n",
       "      <td>0.173587</td>\n",
       "      <td>1</td>\n",
       "      <td>84.0</td>\n",
       "      <td>87.0</td>\n",
       "      <td>81.0</td>\n",
       "      <td>0</td>\n",
       "      <td>1.30</td>\n",
       "      <td>1.0</td>\n",
       "    </tr>\n",
       "  </tbody>\n",
       "</table>\n",
       "<p>823 rows × 12 columns</p>\n",
       "</div>"
      ],
      "text/plain": [
       "     SITE_ID  SUB_ID  AGE_AT_SCAN        FD  FD_scrubbed  EYE_STATUS_AT_SCAN  \\\n",
       "0    CALTECH   51456      55.4000  0.434593     0.328121                   2   \n",
       "1    CALTECH   51457      22.9000  0.207160     0.170893                   2   \n",
       "2    CALTECH   51458      39.2000  0.322805     0.288872                   2   \n",
       "3    CALTECH   51459      22.8000  0.152963     0.152963                   2   \n",
       "4    CALTECH   51460      34.6000  0.207277     0.207277                   2   \n",
       "5    CALTECH   51461      37.7000  0.391293     0.288861                   2   \n",
       "6    CALTECH   51462      20.2000  0.289176     0.259051                   2   \n",
       "7    CALTECH   51463      20.2000  0.150294     0.142741                   2   \n",
       "8    CALTECH   51464      20.9000  0.149419     0.149419                   2   \n",
       "9    CALTECH   51465      20.2000  0.171973     0.171973                   2   \n",
       "10   CALTECH   51466      27.6000  0.309374     0.263233                   2   \n",
       "11   CALTECH   51467      23.4000  0.221869     0.212079                   2   \n",
       "12   CALTECH   51468      20.1000  0.227305     0.219689                   2   \n",
       "13   CALTECH   51469      45.1000  0.365754     0.246290                   2   \n",
       "14   CALTECH   51470      29.1000  0.145590     0.145590                   2   \n",
       "15   CALTECH   51471      22.4000  0.286396     0.283261                   2   \n",
       "16   CALTECH   51472      17.5000  0.165099     0.165099                   2   \n",
       "17   CALTECH   51473      21.2000  0.243861     0.183305                   2   \n",
       "18   CALTECH   51474      20.9000  0.247965     0.245324                   2   \n",
       "19   CALTECH   51475      44.2000  0.321173     0.304023                   2   \n",
       "20   CALTECH   51476      39.3000  0.190310     0.190310                   2   \n",
       "21   CALTECH   51477      42.5000  0.247844     0.240969                   2   \n",
       "22   CALTECH   51478      19.7000  0.203389     0.197699                   2   \n",
       "23   CALTECH   51479      20.0000  0.177275     0.177275                   2   \n",
       "24   CALTECH   51480      20.8000  0.124627     0.124627                   2   \n",
       "25   CALTECH   51481      27.9000  0.327785     0.224584                   2   \n",
       "26   CALTECH   51482      21.1000  0.158710     0.154896                   2   \n",
       "27   CALTECH   51483      20.9000  0.168426     0.168426                   2   \n",
       "28   CALTECH   51484      23.6000  0.204392     0.185471                   2   \n",
       "29   CALTECH   51485      23.9000  0.237287     0.223647                   2   \n",
       "..       ...     ...          ...       ...          ...                 ...   \n",
       "793      USM   50503      28.6708  0.181403     0.140329                   1   \n",
       "794      USM   50504      17.6454  0.289369     0.209700                   1   \n",
       "795      USM   50505      33.1828  0.077581     0.077581                   1   \n",
       "796      USM   50506      15.9343  0.209152     0.173922                   1   \n",
       "797      USM   50507      28.1095  0.359798     0.232727                   1   \n",
       "798      USM   50508      26.3792  0.554005     0.244424                   1   \n",
       "799      USM   50509      16.7337  0.821325     0.170575                   1   \n",
       "800      USM   50510      14.1437  0.662724     0.209664                   1   \n",
       "801      USM   50511      16.3833  0.508208     0.225204                   1   \n",
       "802      USM   50512      15.4908  0.234177     0.142249                   1   \n",
       "803      USM   50513      18.4668  0.204962     0.196573                   1   \n",
       "804      USM   50514      21.4018  0.149142     0.140293                   1   \n",
       "805      USM   50515      15.8522  0.196372     0.164384                   1   \n",
       "806      USM   50516      17.1143  0.107817     0.101632                   1   \n",
       "807      USM   50517      16.5010  0.141323     0.141323                   1   \n",
       "808      USM   50518      18.6585  0.148437     0.130028                   1   \n",
       "809      USM   50519      16.3778  0.222435     0.163712                   1   \n",
       "810      USM   50520      17.6728  0.285012     0.151722                   1   \n",
       "811      USM   50521      18.4175  0.354154     0.257167                   1   \n",
       "812      USM   50522      14.7515  0.937025     0.188871                   1   \n",
       "813      USM   50523      17.3251  0.399454     0.179653                   1   \n",
       "814      USM   50524      12.3340  0.260784     0.152247                   1   \n",
       "815      USM   50525      32.8487  0.107678     0.102831                   1   \n",
       "816      USM   50526      50.2231  0.142216     0.117475                   1   \n",
       "817      USM   50527      18.4148  0.123320     0.123320                   1   \n",
       "818      USM   50528      11.3539  0.143646     0.136730                   1   \n",
       "819      USM   50529      42.3354  0.308688     0.247564                   1   \n",
       "820      USM   50530      18.2450  0.301570     0.122532                   1   \n",
       "821      USM   50531      28.0903  1.191415     0.242396                   1   \n",
       "822      USM   50532      16.9199  0.242670     0.173587                   1   \n",
       "\n",
       "       FIQ    VIQ    PIQ DX_GROUP  match  keep  \n",
       "0    126.0  118.0  128.0        0   1.10   1.0  \n",
       "1    107.0  119.0   93.0        0   1.10   1.0  \n",
       "2     93.0   80.0  108.0        0   1.10   1.0  \n",
       "3    106.0   94.0  118.0        0   1.12   1.0  \n",
       "4    133.0  135.0  122.0        0   1.20   1.0  \n",
       "5     99.0  111.0   84.0        0   1.15   1.0  \n",
       "6    107.0  102.0  110.0        0   1.14   1.0  \n",
       "7    102.0  101.0  103.0        0   1.60   1.0  \n",
       "8    101.0  118.0  109.0        0   1.80   1.0  \n",
       "9     96.0   99.0   93.0        0   1.90   1.0  \n",
       "10   106.0  111.0   99.0        0   1.70   1.0  \n",
       "11    93.0   89.0   99.0        0   1.11   1.0  \n",
       "12   100.0   89.0  109.0        0   1.40   1.0  \n",
       "13   104.0  109.0   96.0        0   1.30   1.0  \n",
       "14   124.0  127.0  115.0        0   1.16   1.0  \n",
       "15   125.0  123.0  119.0        0   1.15   1.0  \n",
       "16   125.0  123.0  119.0        0   1.13   1.0  \n",
       "17     NaN    NaN    NaN        0   1.50   1.0  \n",
       "18   100.0   90.0  109.0        0   1.14   1.0  \n",
       "19   104.0  113.0   94.0        1   1.10   1.0  \n",
       "20   123.0  127.0  112.0        1   1.20   1.0  \n",
       "21    97.0   85.0  109.0        1   1.30   1.0  \n",
       "22   116.0  117.0  116.0        1   1.40   1.0  \n",
       "23   111.0  110.0  109.0        1   1.50   1.0  \n",
       "24   112.0  109.0  110.0        1   1.60   1.0  \n",
       "25   117.0  133.0   99.0        1   1.70   1.0  \n",
       "26   103.0  108.0   96.0        1   1.80   1.0  \n",
       "27   124.0  127.0  115.0        1   1.90   1.0  \n",
       "28   128.0  135.0  115.0        1   1.10   1.0  \n",
       "29   123.0  113.0  127.0        1   1.11   1.0  \n",
       "..     ...    ...    ...      ...    ...   ...  \n",
       "793   80.0   91.0   72.0        0   1.24   1.0  \n",
       "794   87.0   86.0   92.0        0   1.36   1.0  \n",
       "795   95.0   86.0  106.0        0   1.37   1.0  \n",
       "796   73.0   77.0   74.0        0   1.16   1.0  \n",
       "797   97.0  108.0   87.0        0   1.32   1.0  \n",
       "798  107.0   96.0  118.0        0   1.13   1.0  \n",
       "799   95.0   85.0  107.0        0   1.30   1.0  \n",
       "800  102.0  104.0   99.0        0   1.22   1.0  \n",
       "801  114.0  109.0  116.0        0   1.20   1.0  \n",
       "802  121.0  108.0  131.0        0   1.29   1.0  \n",
       "803  102.0   97.0  107.0        0   1.36   1.0  \n",
       "804  109.0   99.0  119.0        0   1.41   1.0  \n",
       "805   94.0   71.0  106.0        0   1.30   1.0  \n",
       "806  107.0  108.0  104.0        0   1.30   1.0  \n",
       "807  109.0  108.0  107.0        0   1.40   1.0  \n",
       "808   77.0   83.0   75.0        0   1.20   1.0  \n",
       "809   83.0   78.0   90.0        0   1.30   1.0  \n",
       "810   76.0   55.0  101.0        0   1.18   1.0  \n",
       "811   80.0   69.0   99.0        0   1.14   1.0  \n",
       "812  100.0   93.0  108.0        0   1.50   1.0  \n",
       "813  115.0  118.0  109.0        0   1.10   1.0  \n",
       "814   83.0   76.0   93.0        0   1.39   1.0  \n",
       "815  106.0   87.0  128.0        0   1.21   1.0  \n",
       "816  123.0  118.0  121.0        0   1.37   1.0  \n",
       "817   93.0   84.0  105.0        0   1.28   1.0  \n",
       "818  100.0   90.0  109.0        0   1.33   1.0  \n",
       "819  128.0  122.0  127.0        0   1.35   1.0  \n",
       "820  106.0  120.0   91.0        0   1.12   1.0  \n",
       "821  112.0  104.0  119.0        0   1.13   1.0  \n",
       "822   84.0   87.0   81.0        0   1.30   1.0  \n",
       "\n",
       "[823 rows x 12 columns]"
      ]
     },
     "execution_count": 8,
     "metadata": {},
     "output_type": "execute_result"
    }
   ],
   "source": [
    "new_pheno"
   ]
  },
  {
   "cell_type": "code",
   "execution_count": 11,
   "metadata": {
    "collapsed": false
   },
   "outputs": [],
   "source": [
    "psm_pheno = new_pheno[new_pheno['keep']==1]"
   ]
  },
  {
   "cell_type": "code",
   "execution_count": 12,
   "metadata": {
    "collapsed": true
   },
   "outputs": [],
   "source": [
    "grp_site = psm_pheno.groupby('SITE_ID')"
   ]
  },
  {
   "cell_type": "code",
   "execution_count": 23,
   "metadata": {
    "collapsed": false
   },
   "outputs": [
    {
     "data": {
      "text/plain": [
       "<matplotlib.axes._subplots.AxesSubplot at 0x7fa5d251cda0>"
      ]
     },
     "execution_count": 23,
     "metadata": {},
     "output_type": "execute_result"
    },
    {
     "data": {
      "image/png": "[encoded data removed]",
      "text/plain": [
       "<matplotlib.figure.Figure at 0x7fa5d251e390>"
      ]
     },
     "metadata": {},
     "output_type": "display_data"
    }
   ],
   "source": [
    "new_pheno.boxplot('FD_scrubbed', by='SITE_ID', rot=60)"
   ]
  },
  {
   "cell_type": "code",
   "execution_count": 15,
   "metadata": {
    "collapsed": true
   },
   "outputs": [],
   "source": [
    "old_list = [(name, group) for name, group in group_site]\n",
    "new_list = [(name, group) for name, group in grp_site]"
   ]
  },
  {
   "cell_type": "code",
   "execution_count": 21,
   "metadata": {
    "collapsed": true
   },
   "outputs": [
    {
     "data": {
      "image/png": "[encoded data removed]",
      "text/plain": [
       "<matplotlib.figure.Figure at 0x7fe48e651828>"
      ]
     },
     "metadata": {},
     "output_type": "display_data"
    },
    {
     "data": {
      "image/png": "[encoded data removed]",
      "text/plain": [
       "<matplotlib.figure.Figure at 0x7fe48e7839e8>"
      ]
     },
     "metadata": {},
     "output_type": "display_data"
    },
    {
     "data": {
      "image/png": "[encoded data removed]",
      "text/plain": [
       "<matplotlib.figure.Figure at 0x7fe48ed09668>"
      ]
     },
     "metadata": {},
     "output_type": "display_data"
    },
    {
     "data": {
      "image/png": "[encoded data removed]",
      "text/plain": [
       "<matplotlib.figure.Figure at 0x7fe48ee98198>"
      ]
     },
     "metadata": {},
     "output_type": "display_data"
    },
    {
     "data": {
      "image/png": "[encoded data removed]",
      "text/plain": [
       "<matplotlib.figure.Figure at 0x7fe493331390>"
      ]
     },
     "metadata": {},
     "output_type": "display_data"
    },
    {
     "data": {
      "image/png": "[encoded data removed]",
      "text/plain": [
       "<matplotlib.figure.Figure at 0x7fe48e842748>"
      ]
     },
     "metadata": {},
     "output_type": "display_data"
    },
    {
     "data": {
      "image/png": "[encoded data removed]",
      "text/plain": [
       "<matplotlib.figure.Figure at 0x7fe4bfe4fe48>"
      ]
     },
     "metadata": {},
     "output_type": "display_data"
    },
    {
     "data": {
      "image/png": "[encoded data removed]",
      "text/plain": [
       "<matplotlib.figure.Figure at 0x7fe48f564a58>"
      ]
     },
     "metadata": {},
     "output_type": "display_data"
    },
    {
     "data": {
      "image/png": "[encoded data removed]",
      "text/plain": [
       "<matplotlib.figure.Figure at 0x7fe48ef26e10>"
      ]
     },
     "metadata": {},
     "output_type": "display_data"
    },
    {
     "data": {
      "image/png": "[encoded data removed]",
      "text/plain": [
       "<matplotlib.figure.Figure at 0x7fe48e672748>"
      ]
     },
     "metadata": {},
     "output_type": "display_data"
    },
    {
     "data": {
      "image/png": "[encoded data removed]",
      "text/plain": [
       "<matplotlib.figure.Figure at 0x7fe4bfe45710>"
      ]
     },
     "metadata": {},
     "output_type": "display_data"
    },
    {
     "data": {
      "image/png": "[encoded data removed]",
      "text/plain": [
       "<matplotlib.figure.Figure at 0x7fe49305c400>"
      ]
     },
     "metadata": {},
     "output_type": "display_data"
    },
    {
     "data": {
      "image/png": "[encoded data removed]",
      "text/plain": [
       "<matplotlib.figure.Figure at 0x7fe48e821550>"
      ]
     },
     "metadata": {},
     "output_type": "display_data"
    },
    {
     "data": {
      "image/png": "[encoded data removed]",
      "text/plain": [
       "<matplotlib.figure.Figure at 0x7fe48ed86d68>"
      ]
     },
     "metadata": {},
     "output_type": "display_data"
    },
    {
     "data": {
      "image/png": "[encoded data removed]",
      "text/plain": [
       "<matplotlib.figure.Figure at 0x7fe48f294dd8>"
      ]
     },
     "metadata": {},
     "output_type": "display_data"
    }
   ],
   "source": [
    "for gid, olditem in enumerate(old_list):\n",
    "    newitem = new_list[gid]\n",
    "    f = plt.figure(figsize=(10,4))\n",
    "    ax1 = f.add_subplot(121)\n",
    "    ax2 = f.add_subplot(122)\n",
    "    olditem[1].boxplot('AGE_AT_SCAN', by='DX_GROUP', ax=ax1)\n",
    "    newitem[1].boxplot('AGE_AT_SCAN', by='DX_GROUP', ax=ax2)\n",
    "    f.suptitle(olditem[0])\n",
    "    ax1.set_title('before PSM')\n",
    "    ax2.set_title('after PSM')"
   ]
  },
  {
   "cell_type": "code",
   "execution_count": 26,
   "metadata": {
    "collapsed": false
   },
   "outputs": [],
   "source": [
    "a = olditem[1]"
   ]
  },
  {
   "cell_type": "code",
   "execution_count": 30,
   "metadata": {
    "collapsed": false
   },
   "outputs": [
    {
     "data": {
      "text/plain": [
       "<matplotlib.axes._subplots.AxesSubplot at 0x7fe492ee7470>"
      ]
     },
     "execution_count": 30,
     "metadata": {},
     "output_type": "execute_result"
    }
   ],
   "source": [
    "a.groupby('DX_GROUP')['DX_GROUP'].count().plot(kind='bar')"
   ]
  },
  {
   "cell_type": "code",
   "execution_count": 34,
   "metadata": {
    "collapsed": true
   },
   "outputs": [
    {
     "data": {
      "image/png": "[encoded data removed]",
      "text/plain": [
       "<matplotlib.figure.Figure at 0x7fe48f20bf28>"
      ]
     },
     "metadata": {},
     "output_type": "display_data"
    },
    {
     "data": {
      "image/png": "[encoded data removed]",
      "text/plain": [
       "<matplotlib.figure.Figure at 0x7fe4932fb390>"
      ]
     },
     "metadata": {},
     "output_type": "display_data"
    },
    {
     "data": {
      "image/png": "[encoded data removed]",
      "text/plain": [
       "<matplotlib.figure.Figure at 0x7fe49314ac18>"
      ]
     },
     "metadata": {},
     "output_type": "display_data"
    },
    {
     "data": {
      "image/png": "[encoded data removed]",
      "text/plain": [
       "<matplotlib.figure.Figure at 0x7fe48e6d9a58>"
      ]
     },
     "metadata": {},
     "output_type": "display_data"
    },
    {
     "data": {
      "image/png": "[encoded data removed]",
      "text/plain": [
       "<matplotlib.figure.Figure at 0x7fe4bfe64978>"
      ]
     },
     "metadata": {},
     "output_type": "display_data"
    },
    {
     "data": {
      "image/png": "[encoded data removed]",
      "text/plain": [
       "<matplotlib.figure.Figure at 0x7fe48f2d6b38>"
      ]
     },
     "metadata": {},
     "output_type": "display_data"
    },
    {
     "data": {
      "image/png": "[encoded data removed]",
      "text/plain": [
       "<matplotlib.figure.Figure at 0x7fe48f0deb38>"
      ]
     },
     "metadata": {},
     "output_type": "display_data"
    },
    {
     "data": {
      "image/png": "[encoded data removed]",
      "text/plain": [
       "<matplotlib.figure.Figure at 0x7fe48f4cc240>"
      ]
     },
     "metadata": {},
     "output_type": "display_data"
    },
    {
     "data": {
      "image/png": "[encoded data removed]",
      "text/plain": [
       "<matplotlib.figure.Figure at 0x7fe48f1f0cf8>"
      ]
     },
     "metadata": {},
     "output_type": "display_data"
    },
    {
     "data": {
      "image/png": "[encoded data removed]",
      "text/plain": [
       "<matplotlib.figure.Figure at 0x7fe48ed12898>"
      ]
     },
     "metadata": {},
     "output_type": "display_data"
    },
    {
     "data": {
      "image/png": "[encoded data removed]",
      "text/plain": [
       "<matplotlib.figure.Figure at 0x7fe48ed27320>"
      ]
     },
     "metadata": {},
     "output_type": "display_data"
    },
    {
     "data": {
      "image/png": "[encoded data removed]",
      "text/plain": [
       "<matplotlib.figure.Figure at 0x7fe4bfe38748>"
      ]
     },
     "metadata": {},
     "output_type": "display_data"
    },
    {
     "data": {
      "image/png": "[encoded data removed]",
      "text/plain": [
       "<matplotlib.figure.Figure at 0x7fe492efcc88>"
      ]
     },
     "metadata": {},
     "output_type": "display_data"
    },
    {
     "data": {
      "image/png": "[encoded data removed]",
      "text/plain": [
       "<matplotlib.figure.Figure at 0x7fe48f4f3be0>"
      ]
     },
     "metadata": {},
     "output_type": "display_data"
    },
    {
     "data": {
      "image/png": "[encoded data removed]",
      "text/plain": [
       "<matplotlib.figure.Figure at 0x7fe48f3f8b38>"
      ]
     },
     "metadata": {},
     "output_type": "display_data"
    }
   ],
   "source": [
    "for gid, olditem in enumerate(old_list):\n",
    "    newitem = new_list[gid]\n",
    "    f = plt.figure(figsize=(10,4))\n",
    "    \n",
    "    ax1 = f.add_subplot(121)\n",
    "    olditem[1].groupby('DX_GROUP')['DX_GROUP'].count().plot(kind='bar')\n",
    "    ax1.set_title('before PSM')\n",
    "    \n",
    "    ax2 = f.add_subplot(122)\n",
    "    newitem[1].groupby('DX_GROUP')['DX_GROUP'].count().plot(kind='bar')\n",
    "    ax2.set_title('after PSM')\n",
    "    \n",
    "    f.suptitle(olditem[0])"
   ]
  },
  {
   "cell_type": "code",
   "execution_count": 13,
   "metadata": {
    "collapsed": true
   },
   "outputs": [],
   "source": [
    "# Go by match score and see what happens\n",
    "nyu_match = psm_pheno[psm_pheno['SITE_ID']=='NYU']"
   ]
  },
  {
   "cell_type": "code",
   "execution_count": 25,
   "metadata": {
    "collapsed": false
   },
   "outputs": [
    {
     "data": {
      "text/plain": [
       "2    105\n",
       "1     79\n",
       "Name: DX_GROUP, dtype: int64"
      ]
     },
     "execution_count": 25,
     "metadata": {},
     "output_type": "execute_result"
    }
   ],
   "source": [
    "nyu_match['DX_GROUP'].value_counts()"
   ]
  },
  {
   "cell_type": "code",
   "execution_count": 40,
   "metadata": {
    "collapsed": false
   },
   "outputs": [],
   "source": [
    "# Get the patient and control IDs and their propensity scores\n",
    "control_list = [(row['SUBJECT_ID'], row['match']) for index, row in nyu_match[nyu_match['DX_GROUP']==True].iterrows()]"
   ]
  },
  {
   "cell_type": "code",
   "execution_count": 41,
   "metadata": {
    "collapsed": false
   },
   "outputs": [
    {
     "data": {
      "text/plain": [
       "[]"
      ]
     },
     "execution_count": 41,
     "metadata": {},
     "output_type": "execute_result"
    }
   ],
   "source": [
    "control_list"
   ]
  },
  {
   "cell_type": "code",
   "execution_count": null,
   "metadata": {
    "collapsed": true
   },
   "outputs": [],
   "source": []
  }
 ],
 "metadata": {
  "kernelspec": {
   "display_name": "Python 3",
   "language": "python",
   "name": "python3"
  },
  "language_info": {
   "codemirror_mode": {
    "name": "ipython",
    "version": 3
   },
   "file_extension": ".py",
   "mimetype": "text/x-python",
   "name": "python",
   "nbconvert_exporter": "python",
   "pygments_lexer": "ipython3",
   "version": "3.5.1+"
  }
 },
 "nbformat": 4,
 "nbformat_minor": 0
}
