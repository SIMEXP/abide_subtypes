{
 "cells": [
  {
   "cell_type": "markdown",
   "metadata": {},
   "source": [
    "# E1 Simple Matching\n",
    "Part of the sample study line. The goal of this experiment is to find matching controls for all the subjects with revised ADOS scores."
   ]
  },
  {
   "cell_type": "code",
   "execution_count": 1,
   "metadata": {
    "collapsed": true
   },
   "outputs": [],
   "source": [
    "import os\n",
    "import numpy as np\n",
    "import pandas as pd\n",
    "from collections import Counter\n",
    "from matplotlib import pyplot as plt"
   ]
  },
  {
   "cell_type": "code",
   "execution_count": 2,
   "metadata": {
    "collapsed": true
   },
   "outputs": [],
   "source": [
    "%matplotlib inline"
   ]
  },
  {
   "cell_type": "code",
   "execution_count": 3,
   "metadata": {
    "collapsed": true
   },
   "outputs": [],
   "source": [
    "# Set the paths\n",
    "full_pheno = '/data1/abide/Pheno/full_merged_pheno.csv'\n",
    "out_path = '/data1/abide/Pheno/'"
   ]
  },
  {
   "cell_type": "code",
   "execution_count": 4,
   "metadata": {
    "collapsed": false
   },
   "outputs": [],
   "source": [
    "pheno = pd.read_csv(full_pheno)\n",
    "# Create new variable from ratio of VIQ/PIQ\n",
    "pheno['VPR'] = pheno['VIQ'].values / pheno['PIQ'].values\n",
    "# get the mask of ados subjects with diagnosis\n",
    "mask_ados = ~np.isnan(pheno['ADOS_SOCOM_SEV'].values) * pheno['DX_GROUP'].values == 1\n",
    "# get the mask of ados subjects without diagnosis\n",
    "mask_ados_control = ~np.isnan(pheno['ADOS_SOCOM_SEV'].values) * pheno['DX_GROUP'].values == 2\n",
    "# get the mask of control subjects\n",
    "mask_control = pheno['DX_GROUP'].values == 2 * np.isnan(pheno['ADOS_SOCOM_SEV'].values)\n",
    "# get the indices of the subjects in the full sample\n",
    "ados_index = np.where(mask_ados)[0]\n",
    "control_ados_index = np.where(mask_ados_control)[0]\n",
    "control_index = np.where(mask_control)[0]\n",
    "# create the pheno slices\n",
    "ados = pheno[mask_ados]\n",
    "control = pheno[mask_control]"
   ]
  },
  {
   "cell_type": "markdown",
   "metadata": {},
   "source": [
    "## Find closest match\n",
    "Go through all ADOS subjects and find the closest match. What I am interested in is how often the same control is selected as the best match for an ADOS subject"
   ]
  },
  {
   "cell_type": "code",
   "execution_count": 5,
   "metadata": {
    "collapsed": true
   },
   "outputs": [],
   "source": [
    "def find_closest(array, value):\n",
    "    idx = (np.abs(array-value)).argmin()\n",
    "    return idx"
   ]
  },
  {
   "cell_type": "code",
   "execution_count": 6,
   "metadata": {
    "collapsed": false
   },
   "outputs": [],
   "source": [
    "# Find a match and then replace the matched subject\n",
    "ados_ids = list()\n",
    "control_ids = list()\n",
    "ages = pheno['AGE_AT_SCAN'].values\n",
    "\n",
    "for ados_idx in ados_index:\n",
    "    target_age = ages[ados_idx]\n",
    "    # try with the controls that have ADOS\n",
    "    goon = True\n",
    "    if control_ados_index.size:\n",
    "        ados_ages = ages[control_ados_index]\n",
    "        best_id = find_closest(ados_ages, target_age)\n",
    "        match_idx = control_ados_index[best_id]\n",
    "        match_age = ados_ages[best_id]\n",
    "        dist_age = target_age - match_age\n",
    "    \n",
    "        if dist_age < 1:\n",
    "            # Use this index\n",
    "            control_ids.append(match_idx)\n",
    "            control_ados_index = np.delete(control_ados_index, best_id)\n",
    "            ados_ids.append(ados_idx)\n",
    "            goon = False\n",
    "\n",
    "    if goon:\n",
    "        # Use the other control list\n",
    "        control_ages = ages[control_index]\n",
    "        best_id = find_closest(control_ages, target_age)\n",
    "        match_idx = control_index[best_id]\n",
    "        match_age = control_ages[best_id]\n",
    "        dist_age = target_age - match_age\n",
    "        \n",
    "        if dist_age < 1:\n",
    "            control_ids.append(match_idx)\n",
    "            control_index = np.delete(control_index, best_id)\n",
    "            ados_ids.append(ados_idx)"
   ]
  },
  {
   "cell_type": "code",
   "execution_count": 7,
   "metadata": {
    "collapsed": true
   },
   "outputs": [],
   "source": [
    "ctrl_idx = np.array(control_ids)\n",
    "ados_idx = np.array(ados_ids)"
   ]
  },
  {
   "cell_type": "code",
   "execution_count": 8,
   "metadata": {
    "collapsed": false
   },
   "outputs": [],
   "source": [
    "# Make a combined pheno of both of them\n",
    "comb_ind = np.append(ctrl_idx, ados_idx)\n",
    "combined = pheno.iloc[comb_ind]\n",
    "# And make separate phenos for each of them\n",
    "ados = pheno.iloc[ados_idx]\n",
    "ctrl = pheno.iloc[ctrl_idx]"
   ]
  },
  {
   "cell_type": "code",
   "execution_count": 9,
   "metadata": {
    "collapsed": false
   },
   "outputs": [],
   "source": [
    "def plot_sample(ados, ctrl):\n",
    "    ados_grouped = ados.groupby('SITE_ID')\n",
    "    ctrl_grouped = ctrl.groupby('SITE_ID')\n",
    "    site_names = ados_grouped.groups.keys()\n",
    "\n",
    "    ados_ages = [ados_grouped.get_group(st)['AGE_AT_SCAN'].values for st in site_names]\n",
    "    ados_dx = [ados_grouped.get_group(st)['DX_GROUP'].values for st in site_names]\n",
    "\n",
    "    ctrl_ages = [ctrl_grouped.get_group(st)['AGE_AT_SCAN'].values for st in site_names]\n",
    "    ctrl_dx = [ctrl_grouped.get_group(st)['DX_GROUP'].values for st in site_names]\n",
    "\n",
    "\n",
    "    f = plt.figure(figsize=(10,4))\n",
    "    ax = f.add_subplot(111)\n",
    "    y_ados = np.array([])\n",
    "    x_ados = np.array([])\n",
    "    y_ctrl = np.array([])\n",
    "    x_ctrl = np.array([])\n",
    "\n",
    "    for idx, ados_ag in enumerate(ados_ages):\n",
    "        # ados first\n",
    "        l_ages = len(ados_ag)\n",
    "        ind = np.ones((l_ages,))*idx+1\n",
    "        jitter = (np.random.random(l_ages,)*2-1)*0.2\n",
    "        ind += jitter\n",
    "\n",
    "        x_ados = np.append(x_ados, ind)\n",
    "        y_ados = np.append(y_ados, ados_ag)\n",
    "\n",
    "        # now ctrl\n",
    "        ctrl_ag = ctrl_ages[idx]\n",
    "        l_ages = len(ctrl_ag)\n",
    "        ind = np.ones((l_ages,))*idx+1\n",
    "        jitter = (np.random.random(l_ages,)*2-1)*0.2\n",
    "        ind += jitter\n",
    "\n",
    "        x_ctrl = np.append(x_ctrl, ind)\n",
    "        y_ctrl = np.append(y_ctrl, ctrl_ag)\n",
    "\n",
    "    ad = ax.scatter(x_ados, y_ados, c='r', alpha=0.5)\n",
    "    ct = ax.scatter(x_ctrl, y_ctrl, c='y', alpha=0.5)\n",
    "    ax.legend((ad, ct),\n",
    "               ('Patient', 'Control'),\n",
    "               scatterpoints=1,\n",
    "               loc='upper right',\n",
    "               ncol=1,\n",
    "               fontsize=10)\n",
    "    tmp = ax.set_xticks(np.arange(len(site_names))+1)\n",
    "    tmp = ax.set_xticklabels(site_names, rotation=70)\n",
    "    tmp = ax.set_ylabel('Age')\n",
    "    tmp = ax.set_title('Simple Matching ADOS sample')"
   ]
  },
  {
   "cell_type": "markdown",
   "metadata": {},
   "source": [
    "## Look at the sample"
   ]
  },
  {
   "cell_type": "code",
   "execution_count": 10,
   "metadata": {
    "collapsed": false
   },
   "outputs": [
    {
     "data": {
      "image/png": "[encoded data removed]",
      "text/plain": [
       "<matplotlib.figure.Figure at 0x7f29478d3150>"
      ]
     },
     "metadata": {},
     "output_type": "display_data"
    }
   ],
   "source": [
    "plot_sample(ados, ctrl)"
   ]
  },
  {
   "cell_type": "markdown",
   "metadata": {},
   "source": [
    "This is not ideal. There is a strong site bias regarding the ratio of patients/controls. Some sites also provide almost nothing to the sample. And then there is a wide age spread. So there are some constraints we can implement:\n",
    "\n",
    "- exclude all sites with < x number of subjects\n",
    "- fix the ratio of control / patient\n",
    "- limit the age range to something below 20/30 (UCLA has too few to otherwise be included)"
   ]
  },
  {
   "cell_type": "markdown",
   "metadata": {},
   "source": [
    "## Constrained sample"
   ]
  },
  {
   "cell_type": "code",
   "execution_count": 11,
   "metadata": {
    "collapsed": false
   },
   "outputs": [
    {
     "name": "stdout",
     "output_type": "stream",
     "text": [
      "27 subjects in CALTECH\n",
      "6 subjects in CMU\n",
      "14 subjects in KKI\n",
      "8 subjects in LEUVEN_2\n",
      "13 subjects in MAX_MUN\n",
      "130 subjects in NYU\n",
      "18 subjects in OHSU\n",
      "19 subjects in OLIN\n",
      "39 subjects in PITT\n",
      "6 subjects in SBL\n",
      "10 subjects in SDSU\n",
      "6 subjects in STANFORD\n",
      "26 subjects in UCLA_1\n",
      "8 subjects in UCLA_2\n",
      "76 subjects in USM\n"
     ]
    }
   ],
   "source": [
    "# Check the number of subjects\n",
    "all_grouped = combined.groupby('SITE_ID')\n",
    "\n",
    "for x in all_grouped:\n",
    "    print('{1} subjects in {0}'.format(x[0], len(x[1])))"
   ]
  },
  {
   "cell_type": "markdown",
   "metadata": {},
   "source": [
    "Ok, looks like we can go with these sites:\n",
    "- USM\n",
    "- PITT\n",
    "- NYU\n",
    "- UCLA combined"
   ]
  },
  {
   "cell_type": "code",
   "execution_count": 12,
   "metadata": {
    "collapsed": false
   },
   "outputs": [],
   "source": [
    "include = ['USM', 'PITT', 'NYU', 'UCLA_1', 'UCLA_2']\n",
    "site_constrained = combined[combined['SITE_ID'].isin(include)]"
   ]
  },
  {
   "cell_type": "code",
   "execution_count": 13,
   "metadata": {
    "collapsed": false
   },
   "outputs": [
    {
     "data": {
      "image/png": "[encoded data removed]",
      "text/plain": [
       "<matplotlib.figure.Figure at 0x7f2947762f90>"
      ]
     },
     "metadata": {},
     "output_type": "display_data"
    }
   ],
   "source": [
    "# Split it into control and patient to get a look\n",
    "site_patient = site_constrained[site_constrained['DX_GROUP'] == 1]\n",
    "site_control = site_constrained[site_constrained['DX_GROUP'] == 2]\n",
    "plot_sample(site_patient, site_control)"
   ]
  },
  {
   "cell_type": "markdown",
   "metadata": {},
   "source": [
    "Doesn't look so bad, but still a site * age interaction. If we cap at 20, what happens?"
   ]
  },
  {
   "cell_type": "code",
   "execution_count": 14,
   "metadata": {
    "collapsed": true
   },
   "outputs": [],
   "source": [
    "age_constrained = site_constrained[site_constrained['AGE_AT_SCAN'] < 20]"
   ]
  },
  {
   "cell_type": "code",
   "execution_count": 15,
   "metadata": {
    "collapsed": false
   },
   "outputs": [
    {
     "data": {
      "image/png": "[encoded data removed]",
      "text/plain": [
       "<matplotlib.figure.Figure at 0x7f29478c6950>"
      ]
     },
     "metadata": {},
     "output_type": "display_data"
    }
   ],
   "source": [
    "# Split it up and look at the sample\n",
    "age_patient = age_constrained[age_constrained['DX_GROUP'] == 1]\n",
    "age_control = age_constrained[age_constrained['DX_GROUP'] == 2]\n",
    "plot_sample(age_patient, age_control)"
   ]
  },
  {
   "cell_type": "markdown",
   "metadata": {},
   "source": [
    "Fair enough, I would say. Not ideal certainly but good enough. Let's look at the ratio of patient / control"
   ]
  },
  {
   "cell_type": "code",
   "execution_count": 16,
   "metadata": {
    "collapsed": false
   },
   "outputs": [
    {
     "data": {
      "text/plain": [
       "108"
      ]
     },
     "execution_count": 16,
     "metadata": {},
     "output_type": "execute_result"
    }
   ],
   "source": [
    "len(age_patient)"
   ]
  },
  {
   "cell_type": "code",
   "execution_count": 17,
   "metadata": {
    "collapsed": false
   },
   "outputs": [
    {
     "data": {
      "text/plain": [
       "86"
      ]
     },
     "execution_count": 17,
     "metadata": {},
     "output_type": "execute_result"
    }
   ],
   "source": [
    "len(age_control)"
   ]
  },
  {
   "cell_type": "markdown",
   "metadata": {},
   "source": [
    "Alright. I take this as the most constrained and cleanest sample. So now we have a number of samples, let's save them all"
   ]
  },
  {
   "cell_type": "code",
   "execution_count": 18,
   "metadata": {
    "collapsed": false
   },
   "outputs": [
    {
     "data": {
      "text/plain": [
       "406"
      ]
     },
     "execution_count": 18,
     "metadata": {},
     "output_type": "execute_result"
    }
   ],
   "source": [
    "len(combined)"
   ]
  },
  {
   "cell_type": "code",
   "execution_count": 19,
   "metadata": {
    "collapsed": false
   },
   "outputs": [
    {
     "data": {
      "text/plain": [
       "279"
      ]
     },
     "execution_count": 19,
     "metadata": {},
     "output_type": "execute_result"
    }
   ],
   "source": [
    "len(site_constrained)"
   ]
  },
  {
   "cell_type": "code",
   "execution_count": 20,
   "metadata": {
    "collapsed": false
   },
   "outputs": [
    {
     "data": {
      "text/plain": [
       "194"
      ]
     },
     "execution_count": 20,
     "metadata": {},
     "output_type": "execute_result"
    }
   ],
   "source": [
    "len(age_constrained)"
   ]
  },
  {
   "cell_type": "code",
   "execution_count": 21,
   "metadata": {
    "collapsed": true
   },
   "outputs": [],
   "source": [
    "# Save them to disk\n",
    "combined.to_csv(os.path.join(out_path, 'combined_406.csv'), index=False)\n",
    "site_constrained.to_csv(os.path.join(out_path, 'site_balanced_279.csv'), index=False)\n",
    "age_constrained.to_csv(os.path.join(out_path, 'site_and_age_balanced_194.csv'), index=False)"
   ]
  }
 ],
 "metadata": {
  "kernelspec": {
   "display_name": "Python 2",
   "language": "python",
   "name": "python2"
  },
  "language_info": {
   "codemirror_mode": {
    "name": "ipython",
    "version": 2
   },
   "file_extension": ".py",
   "mimetype": "text/x-python",
   "name": "python",
   "nbconvert_exporter": "python",
   "pygments_lexer": "ipython2",
   "version": "2.7.12+"
  }
 },
 "nbformat": 4,
 "nbformat_minor": 0
}
